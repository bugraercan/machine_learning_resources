{
 "cells": [
  {
   "cell_type": "code",
   "execution_count": 1,
   "id": "fff1885e-32a7-4352-b344-6dc198a165c5",
   "metadata": {},
   "outputs": [],
   "source": [
    "import numpy as np\n",
    "import pandas as pd\n",
    "from sklearn.model_selection import train_test_split, ShuffleSplit, GridSearchCV, cross_val_score\n",
    "from sklearn.metrics import mean_squared_error, r2_score\n",
    "import matplotlib.pyplot as plt\n",
    "from sklearn.preprocessing import scale\n",
    "from sklearn import model_selection\n",
    "from sklearn.tree import DecisionTreeRegressor, DecisionTreeClassifier\n",
    "from sklearn.neighbors import KNeighborsRegressor\n",
    "from sklearn.ensemble import BaggingRegressor\n",
    "\n",
    "from warnings import filterwarnings\n",
    "filterwarnings('ignore')"
   ]
  },
  {
   "cell_type": "markdown",
   "id": "92afd016-680e-40f9-8c90-8d68ecb81458",
   "metadata": {},
   "source": [
    "## KNN"
   ]
  },
  {
   "cell_type": "code",
   "execution_count": 2,
   "id": "33ea7d5f-0b99-42fc-871d-2213cf5bf33b",
   "metadata": {},
   "outputs": [],
   "source": [
    "hit = pd.read_csv(\"Hitters.csv\")\n",
    "df = hit.copy()\n",
    "df = df.dropna()\n",
    "dms = pd.get_dummies(df[['League', 'Division', 'NewLeague']])\n",
    "y = df[\"Salary\"]\n",
    "X_ = df.drop([\"Salary\", \"League\", \"Division\", \"NewLeague\"], axis = 1).astype(\"float\")\n",
    "X = pd.concat([X_, dms[[\"League_N\", \"Division_W\", \"NewLeague_N\"]]], axis=1)\n",
    "X_train, X_test, y_train, y_test = train_test_split(X,\n",
    "                                                    y,\n",
    "                                                   test_size=0.25,\n",
    "                                                   random_state=42)"
   ]
  },
  {
   "cell_type": "code",
   "execution_count": 3,
   "id": "1ca67155-50b0-4fd6-8662-d93bfd89137c",
   "metadata": {},
   "outputs": [],
   "source": [
    "knn_model = KNeighborsRegressor().fit(X_train, y_train)"
   ]
  },
  {
   "cell_type": "code",
   "execution_count": 4,
   "id": "3e18780a-28e0-489a-a9b6-6e6e489a98e9",
   "metadata": {},
   "outputs": [
    {
     "data": {
      "text/plain": [
       "KNeighborsRegressor()"
      ]
     },
     "execution_count": 4,
     "metadata": {},
     "output_type": "execute_result"
    }
   ],
   "source": [
    "knn_model"
   ]
  },
  {
   "cell_type": "code",
   "execution_count": 5,
   "id": "8dfb2df7-2d56-4d84-9340-40bc2edce670",
   "metadata": {},
   "outputs": [
    {
     "data": {
      "text/plain": [
       "5"
      ]
     },
     "execution_count": 5,
     "metadata": {},
     "output_type": "execute_result"
    }
   ],
   "source": [
    "knn_model.n_neighbors"
   ]
  },
  {
   "cell_type": "markdown",
   "id": "09ba2843-f29a-4a93-b2a0-381488f82c90",
   "metadata": {},
   "source": [
    "## Tahmin"
   ]
  },
  {
   "cell_type": "code",
   "execution_count": 9,
   "id": "534f26c1-9a15-4bba-8f49-8a4bb0979889",
   "metadata": {},
   "outputs": [],
   "source": [
    "y_pred = knn_model.predict(X_test)"
   ]
  },
  {
   "cell_type": "code",
   "execution_count": 10,
   "id": "d8e5e59a-9989-4b89-ac94-aa668c7308d4",
   "metadata": {},
   "outputs": [
    {
     "data": {
      "text/plain": [
       "426.6570764525201"
      ]
     },
     "execution_count": 10,
     "metadata": {},
     "output_type": "execute_result"
    }
   ],
   "source": [
    "np.sqrt(mean_squared_error(y_test, y_pred))  #test hatası"
   ]
  },
  {
   "cell_type": "code",
   "execution_count": 6,
   "id": "1b12e448-d60d-4721-8cdf-a67be5e2331f",
   "metadata": {},
   "outputs": [
    {
     "name": "stdout",
     "output_type": "stream",
     "text": [
      "k = 1 için RMSE değeri:  0.0\n",
      "k = 2 için RMSE değeri:  179.52761335480352\n",
      "k = 3 için RMSE değeri:  205.20157172291863\n",
      "k = 4 için RMSE değeri:  220.5139794876305\n",
      "k = 5 için RMSE değeri:  239.6467132541376\n",
      "k = 6 için RMSE değeri:  243.5904190007242\n",
      "k = 7 için RMSE değeri:  258.1478781634636\n",
      "k = 8 için RMSE değeri:  266.05374203349805\n",
      "k = 9 için RMSE değeri:  269.73782093553376\n",
      "k = 10 için RMSE değeri:  271.2798300436963\n"
     ]
    }
   ],
   "source": [
    "RMSE = []\n",
    "\n",
    "for k in range(10):\n",
    "    k = k+1\n",
    "    knn_model = KNeighborsRegressor(n_neighbors = k).fit(X_train, y_train)\n",
    "    y_pred = knn_model.predict(X_train)\n",
    "    rmse = np.sqrt(mean_squared_error(y_train, y_pred))\n",
    "    RMSE.append(rmse)\n",
    "    print(\"k =\", k, \"için RMSE değeri: \", rmse)"
   ]
  },
  {
   "cell_type": "markdown",
   "id": "518ac1be-4d22-4e79-b10d-e964790ad53b",
   "metadata": {},
   "source": [
    "## Model Tuning"
   ]
  },
  {
   "cell_type": "code",
   "execution_count": 13,
   "id": "2ca3903f-00dc-4ffb-8418-6d290d4ca61b",
   "metadata": {},
   "outputs": [],
   "source": [
    "#GridSearchCV metoduyla optimum k saysını belirleyeceğiz"
   ]
  },
  {
   "cell_type": "code",
   "execution_count": 4,
   "id": "679eb1b5-a8f1-4316-abf0-b2d5e281729f",
   "metadata": {},
   "outputs": [],
   "source": [
    "from sklearn.model_selection import GridSearchCV"
   ]
  },
  {
   "cell_type": "code",
   "execution_count": 16,
   "id": "8f540226-1b26-4c4b-a56c-d3ca3a89e358",
   "metadata": {},
   "outputs": [],
   "source": [
    "knn_params = {'n_neighbors': np.arange(1,30,1)}"
   ]
  },
  {
   "cell_type": "code",
   "execution_count": 17,
   "id": "2d8051b5-8cd0-4d89-9f0c-2382a81e8659",
   "metadata": {},
   "outputs": [],
   "source": [
    "knn = KNeighborsRegressor()"
   ]
  },
  {
   "cell_type": "code",
   "execution_count": 18,
   "id": "1d914360-43d0-4d09-936c-1d4b7ee6dc42",
   "metadata": {},
   "outputs": [],
   "source": [
    "knn_cv_model = GridSearchCV(knn, knn_params, cv=10)"
   ]
  },
  {
   "cell_type": "code",
   "execution_count": 19,
   "id": "6edf8a60-ffe0-4e92-96c9-37ca83a1c3ce",
   "metadata": {},
   "outputs": [
    {
     "data": {
      "text/plain": [
       "GridSearchCV(cv=10, estimator=KNeighborsRegressor(),\n",
       "             param_grid={'n_neighbors': array([ 1,  2,  3,  4,  5,  6,  7,  8,  9, 10, 11, 12, 13, 14, 15, 16, 17,\n",
       "       18, 19, 20, 21, 22, 23, 24, 25, 26, 27, 28, 29])})"
      ]
     },
     "execution_count": 19,
     "metadata": {},
     "output_type": "execute_result"
    }
   ],
   "source": [
    "knn_cv_model.fit(X_train, y_train)"
   ]
  },
  {
   "cell_type": "code",
   "execution_count": 20,
   "id": "7e511a20-e40d-4775-a824-59940e38cf25",
   "metadata": {},
   "outputs": [
    {
     "data": {
      "text/plain": [
       "8"
      ]
     },
     "execution_count": 20,
     "metadata": {},
     "output_type": "execute_result"
    }
   ],
   "source": [
    "knn_cv_model.best_params_[\"n_neighbors\"] #en uygun parametre değeri"
   ]
  },
  {
   "cell_type": "code",
   "execution_count": 13,
   "id": "ae1683eb-87ea-4188-8d88-628631b0fb70",
   "metadata": {},
   "outputs": [
    {
     "name": "stdout",
     "output_type": "stream",
     "text": [
      "k = 1 için RMSE değeri:  0.0 RMSE_CV değeri:  325.3947514706382\n",
      "k = 2 için RMSE değeri:  179.52761335480352 RMSE_CV değeri:  293.24000183333817\n",
      "k = 3 için RMSE değeri:  205.20157172291863 RMSE_CV değeri:  283.7486667487823\n",
      "k = 4 için RMSE değeri:  220.5139794876305 RMSE_CV değeri:  286.3240222024089\n",
      "k = 5 için RMSE değeri:  239.6467132541376 RMSE_CV değeri:  290.0705466132226\n",
      "k = 6 için RMSE değeri:  243.5904190007242 RMSE_CV değeri:  298.1263115575851\n",
      "k = 7 için RMSE değeri:  258.1478781634636 RMSE_CV değeri:  294.77070479194987\n",
      "k = 8 için RMSE değeri:  266.05374203349805 RMSE_CV değeri:  291.98672028891235\n",
      "k = 9 için RMSE değeri:  269.73782093553376 RMSE_CV değeri:  295.7162739573105\n",
      "k = 10 için RMSE değeri:  271.2798300436963 RMSE_CV değeri:  301.31047022701154\n"
     ]
    }
   ],
   "source": [
    "RMSE = []\n",
    "RMSE_CV = []\n",
    "\n",
    "for k in range(10):\n",
    "    k = k+1\n",
    "    knn_model = KNeighborsRegressor(n_neighbors = k).fit(X_train, y_train)\n",
    "    y_pred = knn_model.predict(X_train)\n",
    "    rmse = np.sqrt(mean_squared_error(y_train, y_pred))\n",
    "    rmse_cv = np.sqrt(-1*cross_val_score(knn_model, X_train, y_train, cv=10,\n",
    "                                        scoring = \"neg_mean_squared_error\").mean())\n",
    "    RMSE.append(rmse)\n",
    "    RMSE_CV.append(rmse_cv)\n",
    "    print(\"k =\", k, \"için RMSE değeri: \", rmse, \"RMSE_CV değeri: \", rmse_cv)"
   ]
  },
  {
   "cell_type": "code",
   "execution_count": 21,
   "id": "a3759f6d-90e7-42e5-a394-b8955c19b0a9",
   "metadata": {},
   "outputs": [],
   "source": [
    "#final modeli"
   ]
  },
  {
   "cell_type": "code",
   "execution_count": 22,
   "id": "bd1ec2df-c5c1-4df0-bbce-9183d647153c",
   "metadata": {},
   "outputs": [],
   "source": [
    "knn_tuned = KNeighborsRegressor(n_neighbors = knn_cv_model.best_params_[\"n_neighbors\"])"
   ]
  },
  {
   "cell_type": "code",
   "execution_count": 23,
   "id": "a7ac26df-5f09-42af-b9d3-03edbc0a4763",
   "metadata": {},
   "outputs": [
    {
     "data": {
      "text/plain": [
       "KNeighborsRegressor(n_neighbors=8)"
      ]
     },
     "execution_count": 23,
     "metadata": {},
     "output_type": "execute_result"
    }
   ],
   "source": [
    "knn_tuned.fit(X_train, y_train)"
   ]
  },
  {
   "cell_type": "code",
   "execution_count": 24,
   "id": "aa36a872-158a-4136-9a98-800f2f4f072e",
   "metadata": {},
   "outputs": [
    {
     "data": {
      "text/plain": [
       "413.7094731463598"
      ]
     },
     "execution_count": 24,
     "metadata": {},
     "output_type": "execute_result"
    }
   ],
   "source": [
    "np.sqrt(mean_squared_error(y_test, knn_tuned.predict(X_test)))"
   ]
  },
  {
   "cell_type": "markdown",
   "id": "4446bcea-4119-4f34-8d9f-3d6f407cd0d4",
   "metadata": {},
   "source": [
    "## SVR (Destek Vektör Regresyonu)"
   ]
  },
  {
   "cell_type": "code",
   "execution_count": 17,
   "id": "2745f46e-f3fe-4de4-892d-9f0ba2a7cc50",
   "metadata": {},
   "outputs": [],
   "source": [
    "hit = pd.read_csv(\"Hitters.csv\")\n",
    "df = hit.copy()\n",
    "df = df.dropna()\n",
    "dms = pd.get_dummies(df[['League', 'Division', 'NewLeague']])\n",
    "y = df[\"Salary\"]\n",
    "X_ = df.drop([\"Salary\", \"League\", \"Division\", \"NewLeague\"], axis = 1).astype(\"float\")\n",
    "X = pd.concat([X_, dms[[\"League_N\", \"Division_W\", \"NewLeague_N\"]]], axis=1)\n",
    "X_train, X_test, y_train, y_test = train_test_split(X,\n",
    "                                                    y,\n",
    "                                                   test_size=0.25,\n",
    "                                                   random_state=42)"
   ]
  },
  {
   "cell_type": "code",
   "execution_count": 11,
   "id": "f2a6b2f4-8622-42b4-ae07-a66a81291345",
   "metadata": {},
   "outputs": [],
   "source": [
    "X_train = pd.DataFrame(X_train[\"Hits\"])\n",
    "X_test = pd.DataFrame(X_test[\"Hits\"])"
   ]
  },
  {
   "cell_type": "code",
   "execution_count": 12,
   "id": "0529834a-f29a-41a0-9f07-344578945e0b",
   "metadata": {},
   "outputs": [],
   "source": [
    "from sklearn.svm import SVR"
   ]
  },
  {
   "cell_type": "code",
   "execution_count": 13,
   "id": "d0f0b476-fbaa-4be4-9b03-0d5fcc5b16bd",
   "metadata": {},
   "outputs": [],
   "source": [
    "svr_model = SVR(\"linear\").fit(X_train, y_train)"
   ]
  },
  {
   "cell_type": "code",
   "execution_count": 14,
   "id": "9dacebeb-5bc6-45a8-ba45-8f6d020ad3b9",
   "metadata": {},
   "outputs": [
    {
     "data": {
      "text/plain": [
       "array([403.52804878, 666.91219512, 706.66829268, 194.80853659,\n",
       "       423.40609756])"
      ]
     },
     "execution_count": 14,
     "metadata": {},
     "output_type": "execute_result"
    }
   ],
   "source": [
    "svr_model.predict(X_train)[0:5]"
   ]
  },
  {
   "cell_type": "code",
   "execution_count": 15,
   "id": "102c73d7-3514-4bdc-9341-3c2661219783",
   "metadata": {},
   "outputs": [],
   "source": [
    "#svr'ın model denklemi aşağıdaki gibidir"
   ]
  },
  {
   "cell_type": "code",
   "execution_count": 16,
   "id": "173c011f-14ca-48da-ab58-7a036799a7ce",
   "metadata": {},
   "outputs": [
    {
     "name": "stdout",
     "output_type": "stream",
     "text": [
      "y = -48.69756097561513 + 4.969512195122093 x\n"
     ]
    }
   ],
   "source": [
    "print(\"y = {0} + {1} x\".format(svr_model.intercept_[0],\n",
    "                              svr_model.coef_[0][0]))"
   ]
  },
  {
   "cell_type": "code",
   "execution_count": 17,
   "id": "050fe41f-6834-4fa6-b4a6-5dd12d8cada9",
   "metadata": {},
   "outputs": [
    {
     "data": {
      "text/plain": [
       "183    91.0\n",
       "Name: Hits, dtype: float64"
      ]
     },
     "execution_count": 17,
     "metadata": {},
     "output_type": "execute_result"
    }
   ],
   "source": [
    "X_train[\"Hits\"][0:1]"
   ]
  },
  {
   "cell_type": "code",
   "execution_count": 18,
   "id": "b6fbea7e-c66e-4e94-b5e1-dd6ec3200693",
   "metadata": {},
   "outputs": [
    {
     "data": {
      "text/plain": [
       "403.5280487804953"
      ]
     },
     "execution_count": 18,
     "metadata": {},
     "output_type": "execute_result"
    }
   ],
   "source": [
    "-48.69756097561513 + 4.969512195122093*91"
   ]
  },
  {
   "cell_type": "code",
   "execution_count": 19,
   "id": "594c11ef-8936-4b30-ab4c-489fa49900cd",
   "metadata": {},
   "outputs": [],
   "source": [
    "y_pred = svr_model.predict(X_train)"
   ]
  },
  {
   "cell_type": "code",
   "execution_count": 20,
   "id": "fbf19f7a-c4e0-4920-a42b-d9510af592a4",
   "metadata": {
    "tags": []
   },
   "outputs": [
    {
     "data": {
      "text/plain": [
       "[<matplotlib.lines.Line2D at 0x2b789fff8e0>]"
      ]
     },
     "execution_count": 20,
     "metadata": {},
     "output_type": "execute_result"
    },
    {
     "data": {
      "image/png": "[encoded data removed]",
      "text/plain": [
       "<Figure size 432x288 with 1 Axes>"
      ]
     },
     "metadata": {
      "needs_background": "light"
     },
     "output_type": "display_data"
    }
   ],
   "source": [
    "plt.scatter(X_train, y_train)\n",
    "plt.plot(X_train, y_pred, color =\"r\")"
   ]
  },
  {
   "cell_type": "code",
   "execution_count": 21,
   "id": "89618d76-9eef-4c6d-b681-f1dcb419a2d1",
   "metadata": {},
   "outputs": [
    {
     "name": "stdout",
     "output_type": "stream",
     "text": [
      "y = -8.814095480334572 + 5.1724561354706875 x\n"
     ]
    }
   ],
   "source": [
    "from sklearn.linear_model import LinearRegression\n",
    "lm_model = LinearRegression().fit(X_train, y_train)\n",
    "lm_pred = lm_model.predict(X_train)\n",
    "print(\"y = {0} + {1} x\".format(lm_model.intercept_, lm_model.coef_[0]))"
   ]
  },
  {
   "cell_type": "code",
   "execution_count": 22,
   "id": "0a90e163-b91f-46fe-9338-48764e18498b",
   "metadata": {},
   "outputs": [
    {
     "data": {
      "text/plain": [
       "461.879412847498"
      ]
     },
     "execution_count": 22,
     "metadata": {},
     "output_type": "execute_result"
    }
   ],
   "source": [
    "-8.814095480334572 + 5.1724561354706875*91"
   ]
  },
  {
   "cell_type": "code",
   "execution_count": 23,
   "id": "11eca298-6671-4d14-95c4-14a039b10a9c",
   "metadata": {
    "tags": []
   },
   "outputs": [
    {
     "data": {
      "text/plain": [
       "Text(0, 0.5, 'Maaş(Salary)')"
      ]
     },
     "execution_count": 23,
     "metadata": {},
     "output_type": "execute_result"
    },
    {
     "data": {
      "image/png": "[encoded data removed]",
      "text/plain": [
       "<Figure size 432x288 with 1 Axes>"
      ]
     },
     "metadata": {
      "needs_background": "light"
     },
     "output_type": "display_data"
    }
   ],
   "source": [
    "plt.scatter(X_train, y_train, alpha=0.5, s=23)\n",
    "plt.plot(X_train, lm_pred, 'g')\n",
    "plt.plot(X_train, y_pred, color='r')\n",
    "\n",
    "plt.xlabel(\"Atış Sayısı(Hits)\")\n",
    "plt.ylabel(\"Maaş(Salary)\")"
   ]
  },
  {
   "cell_type": "code",
   "execution_count": 68,
   "id": "b0863874-c06c-4d8c-ba85-d1063af5db39",
   "metadata": {},
   "outputs": [],
   "source": [
    "#linear model daha yukarıda tahmin vermişti. O yüzden yeşil olan linear kırmızı olan svr'dır"
   ]
  },
  {
   "cell_type": "markdown",
   "id": "cce89b79-0624-4ae5-bb39-87708bffa30f",
   "metadata": {},
   "source": [
    "## Tahmin"
   ]
  },
  {
   "cell_type": "code",
   "execution_count": 31,
   "id": "067fc09a-8d12-4977-a6d8-3ca48a79d8df",
   "metadata": {},
   "outputs": [
    {
     "name": "stdout",
     "output_type": "stream",
     "text": [
      "y = -48.69756097561513 + 4.969512195122093 x\n"
     ]
    }
   ],
   "source": [
    "print(\"y = {0} + {1} x\".format(svr_model.intercept_[0],\n",
    "                              svr_model.coef_[0][0]))"
   ]
  },
  {
   "cell_type": "code",
   "execution_count": 32,
   "id": "007ad806-8867-48a2-80b6-8d09e025af6b",
   "metadata": {},
   "outputs": [
    {
     "data": {
      "text/plain": [
       "array([403.52804878])"
      ]
     },
     "execution_count": 32,
     "metadata": {},
     "output_type": "execute_result"
    }
   ],
   "source": [
    "svr_model.predict([[91]])"
   ]
  },
  {
   "cell_type": "code",
   "execution_count": 33,
   "id": "d8bcee05-bd3e-4abe-9473-b5cf32866aea",
   "metadata": {},
   "outputs": [],
   "source": [
    "y_pred = svr_model.predict(X_test)"
   ]
  },
  {
   "cell_type": "code",
   "execution_count": 34,
   "id": "0962ba30-37f9-4624-bf71-30e109cb114f",
   "metadata": {},
   "outputs": [
    {
     "data": {
      "text/plain": [
       "459.0187960365147"
      ]
     },
     "execution_count": 34,
     "metadata": {},
     "output_type": "execute_result"
    }
   ],
   "source": [
    "np.sqrt(mean_squared_error(y_test, y_pred))"
   ]
  },
  {
   "cell_type": "code",
   "execution_count": 35,
   "id": "75b5a015-a41e-4d2c-a0e4-4e22571d5a91",
   "metadata": {},
   "outputs": [
    {
     "data": {
      "text/plain": [
       "SVR(kernel='linear')"
      ]
     },
     "execution_count": 35,
     "metadata": {},
     "output_type": "execute_result"
    }
   ],
   "source": [
    "svr_model"
   ]
  },
  {
   "cell_type": "markdown",
   "id": "d4cc8cfb-9251-4746-b2ab-d5c2ab012156",
   "metadata": {},
   "source": [
    "## Model Tuning"
   ]
  },
  {
   "cell_type": "code",
   "execution_count": 24,
   "id": "7cf27f19-433e-484f-8724-47ac6bab9f09",
   "metadata": {},
   "outputs": [],
   "source": [
    "svr_params = {\"C\": np.arange(0.1,2,0.1)}\n",
    "svr_cv_model = GridSearchCV(svr_model, svr_params, cv = 10).fit(X_train, y_train)"
   ]
  },
  {
   "cell_type": "code",
   "execution_count": 25,
   "id": "9fcf7ce7-4659-438b-ba6d-5920bd6f7080",
   "metadata": {},
   "outputs": [
    {
     "data": {
      "text/plain": [
       "0.1"
      ]
     },
     "execution_count": 25,
     "metadata": {},
     "output_type": "execute_result"
    }
   ],
   "source": [
    "pd.Series(svr_cv_model.best_params_)[0]"
   ]
  },
  {
   "cell_type": "code",
   "execution_count": 38,
   "id": "ebef53f4-a3f8-4535-8825-b4d53df1c0b6",
   "metadata": {},
   "outputs": [],
   "source": [
    "#final modelimizi oluşturalım"
   ]
  },
  {
   "cell_type": "code",
   "execution_count": 39,
   "id": "74d542a8-7c27-4e8a-8739-dce8600e44f1",
   "metadata": {},
   "outputs": [],
   "source": [
    "svr_tuned = SVR(\"linear\",\n",
    "                C = pd.Series(svr_cv_model.best_params_)[0]).fit(X_train, y_train)"
   ]
  },
  {
   "cell_type": "code",
   "execution_count": 40,
   "id": "230e38f5-6db5-46ca-a7db-c98ebcd62c56",
   "metadata": {},
   "outputs": [],
   "source": [
    "y_pred = svr_tuned.predict(X_test)"
   ]
  },
  {
   "cell_type": "code",
   "execution_count": 41,
   "id": "7a415983-1b90-419c-8429-dbda4d568ebe",
   "metadata": {},
   "outputs": [
    {
     "data": {
      "text/plain": [
       "458.198966781116"
      ]
     },
     "execution_count": 41,
     "metadata": {},
     "output_type": "execute_result"
    }
   ],
   "source": [
    "np.sqrt(mean_squared_error(y_test, y_pred))"
   ]
  },
  {
   "cell_type": "code",
   "execution_count": 50,
   "id": "9fa9656a-6a6e-4bf5-a511-9077277ca188",
   "metadata": {},
   "outputs": [
    {
     "data": {
      "text/plain": [
       "458.198966781116"
      ]
     },
     "execution_count": 50,
     "metadata": {},
     "output_type": "execute_result"
    }
   ],
   "source": [
    "np.sqrt(mean_squared_error(y_test, y_pred))"
   ]
  },
  {
   "cell_type": "markdown",
   "id": "34aa8ef9-38c1-45cd-bbcd-f7ab89558d6a",
   "metadata": {},
   "source": [
    "## Doğrusal Olmayan SVR"
   ]
  },
  {
   "cell_type": "code",
   "execution_count": 26,
   "id": "0f670f08-5505-4b19-a3cb-dfc0b44ebac7",
   "metadata": {},
   "outputs": [],
   "source": [
    "np.random.seed(3)\n",
    "\n",
    "x_sim = np.random.uniform(2, 10, 145)\n",
    "y_sim = np.sin(x_sim) + np.random.normal(0, 0.4, 145)\n",
    "\n",
    "x_outliers = np.arange(2.5, 5, 0.5)\n",
    "y_outliers = -5*np.ones(5)\n",
    "\n",
    "x_sim_idx = np.argsort(np.concatenate([x_sim, x_outliers]))\n",
    "x_sim = np.concatenate([x_sim, x_outliers])[x_sim_idx]\n",
    "y_sim = np.concatenate([y_sim, y_outliers])[x_sim_idx]"
   ]
  },
  {
   "cell_type": "code",
   "execution_count": 27,
   "id": "f5cc9dc8-3b82-49ed-8667-429ce40f76f5",
   "metadata": {},
   "outputs": [],
   "source": [
    "from sklearn.linear_model import LinearRegression\n",
    "ols = LinearRegression()\n",
    "ols.fit(np.sin(x_sim[:, np.newaxis]), y_sim)\n",
    "ols_pred = ols.predict(np.sin(x_sim[:, np.newaxis]))\n",
    "\n",
    "from sklearn.svm import SVR\n",
    "eps = 0.1\n",
    "svr = SVR('rbf', epsilon = eps)\n",
    "svr.fit(x_sim[:, np.newaxis], y_sim)\n",
    "svr_pred = svr.predict(x_sim[:, np.newaxis])"
   ]
  },
  {
   "cell_type": "code",
   "execution_count": 28,
   "id": "ee375795-4a62-46b5-b13f-e8a0d2cef87e",
   "metadata": {},
   "outputs": [
    {
     "data": {
      "text/plain": [
       "<matplotlib.legend.Legend at 0x2b78a0efe20>"
      ]
     },
     "execution_count": 28,
     "metadata": {},
     "output_type": "execute_result"
    },
    {
     "data": {
      "image/png": "[encoded data removed]",
      "text/plain": [
       "<Figure size 432x288 with 1 Axes>"
      ]
     },
     "metadata": {
      "needs_background": "light"
     },
     "output_type": "display_data"
    }
   ],
   "source": [
    "plt.scatter(x_sim, y_sim, alpha=0.5, s=26)\n",
    "plt_ols, = plt.plot(x_sim, ols_pred, 'g')\n",
    "plt_svr, = plt.plot(x_sim, svr_pred, color='r')\n",
    "plt.xlabel(\"Bağımsız Değişken\")\n",
    "plt.ylabel(\"Bağımlı Değişken\")\n",
    "plt.ylim(-5.2, 2.2)\n",
    "plt.legend([plt_ols, plt_svr], ['EKK', 'SVR'], loc = 4)"
   ]
  },
  {
   "cell_type": "code",
   "execution_count": 10,
   "id": "948cf992-bf53-4f01-9ebc-073d3f1c70c1",
   "metadata": {},
   "outputs": [],
   "source": [
    "hit = pd.read_csv(\"Hitters.csv\")\n",
    "df = hit.copy()\n",
    "df = df.dropna()\n",
    "dms = pd.get_dummies(df[['League', 'Division', 'NewLeague']])\n",
    "y = df[\"Salary\"]\n",
    "X_ = df.drop([\"Salary\", \"League\", \"Division\", \"NewLeague\"], axis = 1).astype(\"float\")\n",
    "X = pd.concat([X_, dms[[\"League_N\", \"Division_W\", \"NewLeague_N\"]]], axis=1)\n",
    "X_train, X_test, y_train, y_test = train_test_split(X,\n",
    "                                                    y,\n",
    "                                                   test_size=0.25,\n",
    "                                                   random_state=42)"
   ]
  },
  {
   "cell_type": "code",
   "execution_count": 46,
   "id": "15211411-2036-4505-b97a-4bc13a60b148",
   "metadata": {},
   "outputs": [],
   "source": [
    "svr_rbf = SVR(\"rbf\").fit(X_train, y_train)"
   ]
  },
  {
   "cell_type": "markdown",
   "id": "65c14b66-d9e8-450f-923b-7244a489adcf",
   "metadata": {},
   "source": [
    "## Tahmin"
   ]
  },
  {
   "cell_type": "code",
   "execution_count": 47,
   "id": "489c7283-4760-45c3-a86a-ec5eeb826054",
   "metadata": {},
   "outputs": [],
   "source": [
    "y_pred = svr_rbf.predict(X_test)"
   ]
  },
  {
   "cell_type": "code",
   "execution_count": 48,
   "id": "5da37ec5-6e1a-4276-83eb-7095ce618f64",
   "metadata": {},
   "outputs": [
    {
     "data": {
      "text/plain": [
       "460.0032657244849"
      ]
     },
     "execution_count": 48,
     "metadata": {},
     "output_type": "execute_result"
    }
   ],
   "source": [
    "np.sqrt(mean_squared_error(y_test, y_pred))"
   ]
  },
  {
   "cell_type": "markdown",
   "id": "a4e7cad3-2483-4dba-b2c5-9542e5e2dc0c",
   "metadata": {},
   "source": [
    "## Model Tuning"
   ]
  },
  {
   "cell_type": "code",
   "execution_count": 49,
   "id": "25db4456-0cb4-40e7-b4a3-976a21bdcf0c",
   "metadata": {},
   "outputs": [
    {
     "data": {
      "text/plain": [
       "GridSearchCV(cv=10, estimator=SVR(),\n",
       "             param_grid={'C': [0.1, 0.4, 5, 10, 20, 30, 40, 50]})"
      ]
     },
     "execution_count": 49,
     "metadata": {},
     "output_type": "execute_result"
    }
   ],
   "source": [
    "svr_params = {\"C\": [0.1,0.4,5,10,20,30,40,50]}\n",
    "svr_cv_model = GridSearchCV(svr_rbf, svr_params, cv = 10)\n",
    "svr_cv_model.fit(X_train, y_train)"
   ]
  },
  {
   "cell_type": "code",
   "execution_count": 50,
   "id": "a81f7509-0b39-4881-92a3-d9bea33b137a",
   "metadata": {},
   "outputs": [
    {
     "data": {
      "text/plain": [
       "50"
      ]
     },
     "execution_count": 50,
     "metadata": {},
     "output_type": "execute_result"
    }
   ],
   "source": [
    "pd.Series(svr_cv_model.best_params_)[0]"
   ]
  },
  {
   "cell_type": "code",
   "execution_count": 60,
   "id": "b55c1663-28ba-4c34-ad6a-75fe29caee22",
   "metadata": {},
   "outputs": [],
   "source": [
    "svr_tuned = SVR(\"rbf\", C = pd.Series(svr_cv_model.best_params_)[0]).fit(X_train, y_train)"
   ]
  },
  {
   "cell_type": "code",
   "execution_count": 61,
   "id": "eea1765b-9b49-454d-a152-d262e96301b6",
   "metadata": {},
   "outputs": [
    {
     "data": {
      "text/plain": [
       "428.00406888095694"
      ]
     },
     "execution_count": 61,
     "metadata": {},
     "output_type": "execute_result"
    }
   ],
   "source": [
    "y_pred = svr_tuned.predict(X_test)\n",
    "np.sqrt(mean_squared_error(y_test, y_pred))"
   ]
  },
  {
   "cell_type": "markdown",
   "id": "1be0ceb8-b566-4d5c-8013-16d5a3e2e09a",
   "metadata": {},
   "source": [
    "## Yapay Sinir Ağları"
   ]
  },
  {
   "cell_type": "markdown",
   "id": "bcd0bedd-6b25-47d3-babb-36a99c9d21b3",
   "metadata": {},
   "source": [
    "## Çok Katmanlı Algılayıcı"
   ]
  },
  {
   "cell_type": "code",
   "execution_count": 29,
   "id": "40003ed5-92d3-4cee-a861-ca72fdc98621",
   "metadata": {},
   "outputs": [],
   "source": [
    "import pandas as pd"
   ]
  },
  {
   "cell_type": "code",
   "execution_count": 12,
   "id": "83deec82-72d0-46bc-91f5-80aa36263acc",
   "metadata": {
    "tags": []
   },
   "outputs": [],
   "source": [
    "hit = pd.read_csv(\"Hitters.csv\")\n",
    "df = hit.copy()\n",
    "df = df.dropna()\n",
    "dms = pd.get_dummies(df[['League', 'Division', 'NewLeague']])\n",
    "y = df[\"Salary\"]\n",
    "X_ = df.drop([\"Salary\", \"League\", \"Division\", \"NewLeague\"], axis = 1).astype(\"float\")\n",
    "X = pd.concat([X_, dms[[\"League_N\", \"Division_W\", \"NewLeague_N\"]]], axis=1)\n",
    "X_train, X_test, y_train, y_test = train_test_split(X,\n",
    "                                                    y,\n",
    "                                                   test_size=0.25,\n",
    "                                                   random_state=42)"
   ]
  },
  {
   "cell_type": "code",
   "execution_count": 30,
   "id": "02a27cdf-f9fb-4867-8e2c-693c96e86106",
   "metadata": {},
   "outputs": [],
   "source": [
    "from sklearn.preprocessing import StandardScaler"
   ]
  },
  {
   "cell_type": "code",
   "execution_count": 54,
   "id": "37570651-3600-47b2-8db4-cc22b9326b28",
   "metadata": {},
   "outputs": [
    {
     "data": {
      "text/plain": [
       "StandardScaler()"
      ]
     },
     "execution_count": 54,
     "metadata": {},
     "output_type": "execute_result"
    }
   ],
   "source": [
    "scaler = StandardScaler()\n",
    "scaler.fit(X_train)"
   ]
  },
  {
   "cell_type": "code",
   "execution_count": 48,
   "id": "4bc7bdfd-8aaa-418a-9659-bdbf238ce395",
   "metadata": {},
   "outputs": [],
   "source": [
    "X_train_scaled = scaler.transform(X_train)"
   ]
  },
  {
   "cell_type": "code",
   "execution_count": 49,
   "id": "a3caf28d-1347-4aae-8ada-d1203fb37f66",
   "metadata": {},
   "outputs": [],
   "source": [
    "X_test_scaled = scaler.transform(X_test)"
   ]
  },
  {
   "cell_type": "code",
   "execution_count": 31,
   "id": "446772dd-96e4-4257-a3e8-0fc5aa09c437",
   "metadata": {},
   "outputs": [],
   "source": [
    "from sklearn.neural_network import MLPRegressor"
   ]
  },
  {
   "cell_type": "code",
   "execution_count": 51,
   "id": "7bd7fb69-ad36-419f-b7a4-c18df6bb1f2b",
   "metadata": {},
   "outputs": [],
   "source": [
    "mlp_model = MLPRegressor(hidden_layer_sizes = (100,20)).fit(X_train_scaled, y_train)"
   ]
  },
  {
   "cell_type": "code",
   "execution_count": 52,
   "id": "a4445dac-2dac-4376-95dc-757bbbdee1e8",
   "metadata": {},
   "outputs": [
    {
     "data": {
      "text/plain": [
       "MLPRegressor(hidden_layer_sizes=(100, 20))"
      ]
     },
     "execution_count": 52,
     "metadata": {},
     "output_type": "execute_result"
    }
   ],
   "source": [
    "mlp_model"
   ]
  },
  {
   "cell_type": "code",
   "execution_count": 82,
   "id": "af64ffab-dbfc-4d84-959e-50e640928aec",
   "metadata": {},
   "outputs": [
    {
     "data": {
      "text/plain": [
       "4"
      ]
     },
     "execution_count": 82,
     "metadata": {},
     "output_type": "execute_result"
    }
   ],
   "source": [
    "mlp_model.n_layers_  # katman sayısı"
   ]
  },
  {
   "cell_type": "code",
   "execution_count": 80,
   "id": "c59a973f-abaa-415e-bc01-74f19fdb1c25",
   "metadata": {},
   "outputs": [
    {
     "data": {
      "text/plain": [
       "(100, 20)"
      ]
     },
     "execution_count": 80,
     "metadata": {},
     "output_type": "execute_result"
    }
   ],
   "source": [
    "mlp_model.hidden_layer_sizes #gizli katman sayısı"
   ]
  },
  {
   "cell_type": "markdown",
   "id": "9d535d5b-2307-4bc1-8432-79ff20d2a482",
   "metadata": {},
   "source": [
    "### Tahmin"
   ]
  },
  {
   "cell_type": "code",
   "execution_count": 84,
   "id": "e31d12eb-c62f-4504-9d8f-28a5a3bd9a5c",
   "metadata": {},
   "outputs": [
    {
     "data": {
      "text/plain": [
       "array([ 77.21648928, 374.06051879, 253.99415017,  54.07991102,\n",
       "        51.06248493])"
      ]
     },
     "execution_count": 84,
     "metadata": {},
     "output_type": "execute_result"
    }
   ],
   "source": [
    "mlp_model.predict(X_train_scaled)[0:5]"
   ]
  },
  {
   "cell_type": "code",
   "execution_count": 85,
   "id": "fdd78183-74b0-494d-bb98-c4ea73b21a20",
   "metadata": {},
   "outputs": [],
   "source": [
    "#şimdi test hatamızı hesaplayalım"
   ]
  },
  {
   "cell_type": "code",
   "execution_count": 86,
   "id": "13c80c12-8245-4e79-be09-1ceffd5668db",
   "metadata": {},
   "outputs": [],
   "source": [
    "y_pred = mlp_model.predict(X_test_scaled)"
   ]
  },
  {
   "cell_type": "code",
   "execution_count": 87,
   "id": "b9de8a68-6c25-4005-aadc-308de2cd7512",
   "metadata": {},
   "outputs": [
    {
     "data": {
      "text/plain": [
       "459.6546128468002"
      ]
     },
     "execution_count": 87,
     "metadata": {},
     "output_type": "execute_result"
    }
   ],
   "source": [
    "np.sqrt(mean_squared_error(y_test, y_pred))"
   ]
  },
  {
   "cell_type": "markdown",
   "id": "f8dc7b40-65de-47bf-a07f-b8241ed18671",
   "metadata": {},
   "source": [
    "## Model Tuning"
   ]
  },
  {
   "cell_type": "code",
   "execution_count": 88,
   "id": "3fa531cb-eff0-4db7-bfe7-cae0fcf620b0",
   "metadata": {},
   "outputs": [],
   "source": [
    "# yapay sinir ağı modeli kurmak istediğimizde gizli katman sayısını ifade etmenin yolu\n",
    "# 'hidden_layer_sizes' argümanına katmanların eleman sayısını girmektir."
   ]
  },
  {
   "cell_type": "code",
   "execution_count": 89,
   "id": "a5fb9ba0-12b9-4e56-8dbb-b85382065526",
   "metadata": {},
   "outputs": [],
   "source": [
    "mlp_params = {'alpha': [0.1, 0.01, 0.02, 0.005],\n",
    "             'hidden_layer_sizes': [(20,20), (100,50,150), (300,200,150)],\n",
    "             'activation': ['relu', 'logistic']}"
   ]
  },
  {
   "cell_type": "code",
   "execution_count": 94,
   "id": "e26570f4-ed48-42ea-9ea9-f56fdc08ae47",
   "metadata": {},
   "outputs": [],
   "source": [
    "mlp_cv_model = GridSearchCV(mlp_model, mlp_params, cv = 10)"
   ]
  },
  {
   "cell_type": "code",
   "execution_count": 95,
   "id": "1eb4857e-fd98-44b8-aa5c-7f0cda2ecfd7",
   "metadata": {},
   "outputs": [
    {
     "data": {
      "text/plain": [
       "GridSearchCV(cv=10, estimator=MLPRegressor(hidden_layer_sizes=(100, 20)),\n",
       "             param_grid={'activation': ['relu', 'logistic'],\n",
       "                         'alpha': [0.1, 0.01, 0.02, 0.005],\n",
       "                         'hidden_layer_sizes': [(20, 20), (100, 50, 150),\n",
       "                                                (300, 200, 150)]})"
      ]
     },
     "execution_count": 95,
     "metadata": {},
     "output_type": "execute_result"
    }
   ],
   "source": [
    "mlp_cv_model.fit(X_train_scaled, y_train)"
   ]
  },
  {
   "cell_type": "code",
   "execution_count": 96,
   "id": "0eb0a314-b443-4bde-8b25-407ef9b4beb6",
   "metadata": {},
   "outputs": [
    {
     "data": {
      "text/plain": [
       "{'activation': 'relu', 'alpha': 0.01, 'hidden_layer_sizes': (100, 50, 150)}"
      ]
     },
     "execution_count": 96,
     "metadata": {},
     "output_type": "execute_result"
    }
   ],
   "source": [
    "mlp_cv_model.best_params_"
   ]
  },
  {
   "cell_type": "code",
   "execution_count": 97,
   "id": "5658f64d-3e82-4ad1-b364-42805380df55",
   "metadata": {},
   "outputs": [],
   "source": [
    "mlp_tuned = MLPRegressor(alpha = 0.01, hidden_layer_sizes = (100, 50, 150))"
   ]
  },
  {
   "cell_type": "code",
   "execution_count": 98,
   "id": "33ffdee6-1d6a-4735-b390-bcdb450dea54",
   "metadata": {},
   "outputs": [
    {
     "data": {
      "text/plain": [
       "MLPRegressor(alpha=0.01, hidden_layer_sizes=(100, 50, 150))"
      ]
     },
     "execution_count": 98,
     "metadata": {},
     "output_type": "execute_result"
    }
   ],
   "source": [
    "mlp_tuned.fit(X_train_scaled, y_train)"
   ]
  },
  {
   "cell_type": "code",
   "execution_count": 99,
   "id": "d0d8122b-0624-4aa0-a9b4-ca1254cf5b32",
   "metadata": {},
   "outputs": [],
   "source": [
    "y_pred = mlp_tuned.predict(X_test_scaled)"
   ]
  },
  {
   "cell_type": "code",
   "execution_count": 100,
   "id": "6fca0d52-1c14-4755-aba7-82e48a62a60d",
   "metadata": {},
   "outputs": [
    {
     "data": {
      "text/plain": [
       "358.7004858415965"
      ]
     },
     "execution_count": 100,
     "metadata": {},
     "output_type": "execute_result"
    }
   ],
   "source": [
    "np.sqrt(mean_squared_error(y_test, y_pred))"
   ]
  },
  {
   "cell_type": "markdown",
   "id": "7cb2d4d8-7717-473a-b2e9-1522b11f7a51",
   "metadata": {},
   "source": [
    "## CART"
   ]
  },
  {
   "cell_type": "code",
   "execution_count": 186,
   "id": "b7bb64bb-c706-42b6-8f84-4f459018ea7b",
   "metadata": {},
   "outputs": [],
   "source": [
    "hit = pd.read_csv(\"Hitters.csv\")\n",
    "df = hit.copy()\n",
    "df = df.dropna()\n",
    "dms = pd.get_dummies(df[['League', 'Division', 'NewLeague']])\n",
    "y = df[\"Salary\"]\n",
    "X_ = df.drop([\"Salary\", \"League\", \"Division\", \"NewLeague\"], axis = 1).astype(\"float\")\n",
    "X = pd.concat([X_, dms[[\"League_N\", \"Division_W\", \"NewLeague_N\"]]], axis=1)\n",
    "X_train, X_test, y_train, y_test = train_test_split(X,\n",
    "                                                    y,\n",
    "                                                   test_size=0.25,\n",
    "                                                   random_state=42)"
   ]
  },
  {
   "cell_type": "code",
   "execution_count": 102,
   "id": "3334cc71-77c2-4b27-b265-2fbad47ce99f",
   "metadata": {},
   "outputs": [],
   "source": [
    "X_train = pd.DataFrame(X_train[\"Hits\"])\n",
    "X_test = pd.DataFrame(X_test[\"Hits\"])"
   ]
  },
  {
   "cell_type": "code",
   "execution_count": 112,
   "id": "a23de4da-272d-4078-891f-2751ddda8e10",
   "metadata": {},
   "outputs": [],
   "source": [
    "cart_model = DecisionTreeRegressor(max_leaf_nodes = 10)"
   ]
  },
  {
   "cell_type": "code",
   "execution_count": 113,
   "id": "09e8a900-400a-4112-8d94-ad14dee2aa53",
   "metadata": {},
   "outputs": [
    {
     "data": {
      "text/plain": [
       "DecisionTreeRegressor(max_leaf_nodes=10)"
      ]
     },
     "execution_count": 113,
     "metadata": {},
     "output_type": "execute_result"
    }
   ],
   "source": [
    "cart_model"
   ]
  },
  {
   "cell_type": "code",
   "execution_count": 114,
   "id": "06d9c23a-c729-4708-9d5d-a9ba9b87baa1",
   "metadata": {},
   "outputs": [
    {
     "data": {
      "text/plain": [
       "DecisionTreeRegressor(max_leaf_nodes=10)"
      ]
     },
     "execution_count": 114,
     "metadata": {},
     "output_type": "execute_result"
    }
   ],
   "source": [
    "cart_model.fit(X_train, y_train)"
   ]
  },
  {
   "cell_type": "code",
   "execution_count": 115,
   "id": "fded4818-f400-4260-ad75-47fd9bbc634e",
   "metadata": {},
   "outputs": [
    {
     "data": {
      "image/png": "[encoded data removed]",
      "text/plain": [
       "<Figure size 432x288 with 1 Axes>"
      ]
     },
     "metadata": {
      "needs_background": "light"
     },
     "output_type": "display_data"
    }
   ],
   "source": [
    "X_grid = np.arange(min(np.array(X_train)), max(np.array(X_train)), 0.01)\n",
    "X_grid = X_grid.reshape((len(X_grid), 1))\n",
    "plt.scatter(X_train, y_train, color = \"red\")\n",
    "plt.plot(X_grid, cart_model.predict(X_grid), color = \"blue\")\n",
    "plt.title('CART REGRESYON AĞACI')\n",
    "plt.xlabel('Atış Sayısı(Hits)')\n",
    "plt.ylabel('Maaş(Salary)') ;"
   ]
  },
  {
   "cell_type": "code",
   "execution_count": 116,
   "id": "0f342e3c-d3de-4218-b9e5-dae5090e42bc",
   "metadata": {},
   "outputs": [],
   "source": [
    "#yukarıdaki grafik eksen üzerindeki gösterimiydi. Ağaç yapısı olarak görmek istersek eğer yani kural setini vermek istersek ;"
   ]
  },
  {
   "cell_type": "markdown",
   "id": "368c69d0-76e3-4eff-8772-320c69118266",
   "metadata": {},
   "source": [
    " şirketin bizden kural seti istediğini düşünelim \n",
    "ama bu kural seti python derlenmesi anlamında pythona uyarlı bir kural seti olsun ki\n",
    " bazı argümanları girdiğimizde tahmin değeri üretsin denmiş olduğunda şunları yapıyoruz"
   ]
  },
  {
   "cell_type": "code",
   "execution_count": 124,
   "id": "12ead8e6-f700-4bfc-9ec9-351f964615b1",
   "metadata": {},
   "outputs": [
    {
     "name": "stdout",
     "output_type": "stream",
     "text": [
      "Collecting astor\n",
      "  Downloading astor-0.8.1-py2.py3-none-any.whl (27 kB)\n",
      "Installing collected packages: astor\n",
      "Successfully installed astor-0.8.1\n"
     ]
    }
   ],
   "source": [
    "!pip install astor"
   ]
  },
  {
   "cell_type": "code",
   "execution_count": 118,
   "id": "a5e2aa9e-cf84-4ccd-90cc-d0e63e1c0150",
   "metadata": {
    "collapsed": true,
    "jupyter": {
     "outputs_hidden": true
    },
    "tags": []
   },
   "outputs": [
    {
     "name": "stdout",
     "output_type": "stream",
     "text": [
      "Collecting skompiler\n",
      "  Downloading SKompiler-0.6.tar.gz (45 kB)\n",
      "Requirement already satisfied: scikit-learn>=0.22 in c:\\users\\lenovo\\anaconda3\\lib\\site-packages (from skompiler) (0.24.1)\n",
      "Requirement already satisfied: scipy>=0.19.1 in c:\\users\\lenovo\\anaconda3\\lib\\site-packages (from scikit-learn>=0.22->skompiler) (1.6.2)\n",
      "Requirement already satisfied: numpy>=1.13.3 in c:\\users\\lenovo\\anaconda3\\lib\\site-packages (from scikit-learn>=0.22->skompiler) (1.20.1)\n",
      "Requirement already satisfied: joblib>=0.11 in c:\\users\\lenovo\\anaconda3\\lib\\site-packages (from scikit-learn>=0.22->skompiler) (1.0.1)\n",
      "Requirement already satisfied: threadpoolctl>=2.0.0 in c:\\users\\lenovo\\anaconda3\\lib\\site-packages (from scikit-learn>=0.22->skompiler) (2.1.0)\n",
      "Building wheels for collected packages: skompiler\n",
      "  Building wheel for skompiler (setup.py): started\n",
      "  Building wheel for skompiler (setup.py): finished with status 'done'\n",
      "  Created wheel for skompiler: filename=SKompiler-0.6-py3-none-any.whl size=54265 sha256=6eb8016892089e9c0267893e8d3f1ab970f76da7e5ebb5ae8beebcfc30d73fd4\n",
      "  Stored in directory: c:\\users\\lenovo\\appdata\\local\\pip\\cache\\wheels\\2c\\b1\\69\\4b5b50d4d429c350df3e1d2e8b35fdf5584448738d6cd3f540\n",
      "Successfully built skompiler\n",
      "Installing collected packages: skompiler\n",
      "Successfully installed skompiler-0.6\n"
     ]
    }
   ],
   "source": [
    "!pip install skompiler"
   ]
  },
  {
   "cell_type": "code",
   "execution_count": 32,
   "id": "44196a42-d9b2-4814-ba47-9787c860a877",
   "metadata": {},
   "outputs": [],
   "source": [
    "from skompiler import skompile"
   ]
  },
  {
   "cell_type": "code",
   "execution_count": 120,
   "id": "534a8743-8801-4062-8aae-0cf35aab657c",
   "metadata": {},
   "outputs": [],
   "source": [
    "#şimdi kural setini oluşturacağız"
   ]
  },
  {
   "cell_type": "code",
   "execution_count": 126,
   "id": "35a2ca86-846b-43c0-9c6f-7147e33ad4a2",
   "metadata": {},
   "outputs": [
    {
     "name": "stdout",
     "output_type": "stream",
     "text": [
      "(345.2011551724138 if x[0] <= 117.5 else ((((1300.0 if x[0] <= 118.5 else \n",
      "    641.0) if x[0] <= 122.5 else 1468.5236666666667) if x[0] <= 125.5 else \n",
      "    621.9679230769232) if x[0] <= 143.0 else (958.6111111111111 if x[0] <= \n",
      "    150.5 else 2460.0) if x[0] <= 151.5 else 499.1666666666667 if x[0] <= \n",
      "    157.5 else 892.5402413793104) if x[0] <= 225.5 else 1975.0)\n",
      "\n"
     ]
    }
   ],
   "source": [
    "print(skompile(cart_model.predict).to('python/code'))"
   ]
  },
  {
   "cell_type": "code",
   "execution_count": 128,
   "id": "4a17114d-516d-4a41-a792-91df3f30a92c",
   "metadata": {},
   "outputs": [],
   "source": [
    "#yukarıdaki karar ağacının karar modelidir"
   ]
  },
  {
   "cell_type": "markdown",
   "id": "5972dcab-6116-424a-8c09-76ae25cb8a36",
   "metadata": {},
   "source": [
    "## Tahmin"
   ]
  },
  {
   "cell_type": "code",
   "execution_count": 129,
   "id": "dfb695a7-a136-4b64-92b3-b534674cfc94",
   "metadata": {},
   "outputs": [],
   "source": [
    "x = [91]"
   ]
  },
  {
   "cell_type": "code",
   "execution_count": 130,
   "id": "82566d90-fb5e-4360-96d3-9b9a6bd8e528",
   "metadata": {
    "tags": []
   },
   "outputs": [
    {
     "data": {
      "text/plain": [
       "345.2011551724138"
      ]
     },
     "execution_count": 130,
     "metadata": {},
     "output_type": "execute_result"
    }
   ],
   "source": [
    "(345.2011551724138 if x[0] <= 117.5 else ((((1300.0 if x[0] <= 118.5 else \n",
    "    641.0) if x[0] <= 122.5 else 1468.5236666666667) if x[0] <= 125.5 else \n",
    "    621.9679230769232) if x[0] <= 143.0 else (958.6111111111111 if x[0] <= \n",
    "    150.5 else 2460.0) if x[0] <= 151.5 else 499.1666666666667 if x[0] <= \n",
    "    157.5 else 892.5402413793104) if x[0] <= 225.5 else 1975.0)"
   ]
  },
  {
   "cell_type": "code",
   "execution_count": 134,
   "id": "e6412f74-aad5-44e2-9b0d-fd373f180fc2",
   "metadata": {},
   "outputs": [
    {
     "data": {
      "text/plain": [
       "array([621.96792308, 958.61111111, 621.96792308, 345.20115517,\n",
       "       345.20115517])"
      ]
     },
     "execution_count": 134,
     "metadata": {},
     "output_type": "execute_result"
    }
   ],
   "source": [
    "cart_model.predict(X_test)[0:5]"
   ]
  },
  {
   "cell_type": "code",
   "execution_count": 132,
   "id": "4c325dad-3b4e-46a0-8e65-60afec55023b",
   "metadata": {},
   "outputs": [
    {
     "data": {
      "text/plain": [
       "array([345.20115517])"
      ]
     },
     "execution_count": 132,
     "metadata": {},
     "output_type": "execute_result"
    }
   ],
   "source": [
    "cart_model.predict([[91]])"
   ]
  },
  {
   "cell_type": "code",
   "execution_count": 135,
   "id": "210abee4-6168-4c1d-93bc-a1d1180fa69d",
   "metadata": {},
   "outputs": [],
   "source": [
    "y_pred = cart_model.predict(X_test)"
   ]
  },
  {
   "cell_type": "code",
   "execution_count": 136,
   "id": "b33d866d-1119-44a9-8b26-8db083b02e9a",
   "metadata": {},
   "outputs": [
    {
     "data": {
      "text/plain": [
       "486.34593105235456"
      ]
     },
     "execution_count": 136,
     "metadata": {},
     "output_type": "execute_result"
    }
   ],
   "source": [
    "np.sqrt(mean_squared_error(y_test, y_pred))"
   ]
  },
  {
   "cell_type": "markdown",
   "id": "5f91affb-bad8-427e-a7ee-5481c54ecd83",
   "metadata": {},
   "source": [
    "## Model Tuning"
   ]
  },
  {
   "cell_type": "code",
   "execution_count": 199,
   "id": "cb6fe8bd-569c-4e6c-801c-587f2aee71b1",
   "metadata": {},
   "outputs": [],
   "source": [
    "cart_model = DecisionTreeRegressor()\n",
    "cart_model.fit(X_train, y_train)\n",
    "y_pred = cart_model.predict(X_test)"
   ]
  },
  {
   "cell_type": "code",
   "execution_count": 200,
   "id": "bc1f76b8-51e4-409b-8ac8-8e3b449c6af4",
   "metadata": {},
   "outputs": [
    {
     "data": {
      "text/plain": [
       "483.9689910316695"
      ]
     },
     "execution_count": 200,
     "metadata": {},
     "output_type": "execute_result"
    }
   ],
   "source": [
    "np.sqrt(mean_squared_error(y_test, y_pred))"
   ]
  },
  {
   "cell_type": "code",
   "execution_count": 193,
   "id": "140a99fb-afb4-49a5-bfd3-67b748a39a7f",
   "metadata": {},
   "outputs": [],
   "source": [
    "cart_params = {\"min_samples_split\": range(2,100),\n",
    "          \"max_leaf_nodes\": range(2,10)}"
   ]
  },
  {
   "cell_type": "code",
   "execution_count": 191,
   "id": "93f0518f-9df1-4593-bb8b-b91042e6ac28",
   "metadata": {},
   "outputs": [],
   "source": [
    "cart_cv_model = GridSearchCV(cart_model, cart_params, cv = 10)"
   ]
  },
  {
   "cell_type": "code",
   "execution_count": 192,
   "id": "517e78da-60ef-4690-b450-ba59da0e7c4a",
   "metadata": {},
   "outputs": [
    {
     "data": {
      "text/plain": [
       "GridSearchCV(cv=10, estimator=DecisionTreeRegressor(),\n",
       "             param_grid={'max_leaf_nodes': range(2, 10),\n",
       "                         'min_samples_split': range(2, 100)})"
      ]
     },
     "execution_count": 192,
     "metadata": {},
     "output_type": "execute_result"
    }
   ],
   "source": [
    "cart_cv_model.fit(X_train, y_train)"
   ]
  },
  {
   "cell_type": "code",
   "execution_count": 194,
   "id": "592944b7-2ef3-473e-bcf5-796fc37246c7",
   "metadata": {},
   "outputs": [
    {
     "data": {
      "text/plain": [
       "{'max_leaf_nodes': 9, 'min_samples_split': 37}"
      ]
     },
     "execution_count": 194,
     "metadata": {},
     "output_type": "execute_result"
    }
   ],
   "source": [
    "cart_cv_model.best_params_"
   ]
  },
  {
   "cell_type": "code",
   "execution_count": 195,
   "id": "5e0be336-cc1f-42ce-83c6-23fb8a80aa69",
   "metadata": {},
   "outputs": [],
   "source": [
    "cart_tuned = DecisionTreeRegressor(max_leaf_nodes = 9, min_samples_split = 37)"
   ]
  },
  {
   "cell_type": "code",
   "execution_count": 196,
   "id": "90321da0-1977-4dc3-9cff-0b61325c75d2",
   "metadata": {},
   "outputs": [
    {
     "data": {
      "text/plain": [
       "DecisionTreeRegressor(max_leaf_nodes=9, min_samples_split=37)"
      ]
     },
     "execution_count": 196,
     "metadata": {},
     "output_type": "execute_result"
    }
   ],
   "source": [
    "cart_tuned.fit(X_train, y_train)"
   ]
  },
  {
   "cell_type": "code",
   "execution_count": 197,
   "id": "a825dfef-a5f9-428c-8046-e0fcb0bf2990",
   "metadata": {},
   "outputs": [],
   "source": [
    "y_pred = cart_tuned.predict(X_test)"
   ]
  },
  {
   "cell_type": "code",
   "execution_count": 198,
   "id": "6f4ee1ea-16fe-4abb-91e8-47a2e0a5dfa2",
   "metadata": {},
   "outputs": [
    {
     "data": {
      "text/plain": [
       "376.39788207109865"
      ]
     },
     "execution_count": 198,
     "metadata": {},
     "output_type": "execute_result"
    }
   ],
   "source": [
    "np.sqrt(mean_squared_error(y_test, y_pred))"
   ]
  },
  {
   "cell_type": "markdown",
   "id": "b55ad66e-fd87-4d71-931c-37ecd8fdfe76",
   "metadata": {},
   "source": [
    "## Bagged Trees Regresyon"
   ]
  },
  {
   "cell_type": "code",
   "execution_count": 2,
   "id": "db87b1a8-d239-46d8-8963-8fc13820f70c",
   "metadata": {},
   "outputs": [],
   "source": [
    "import pandas as pd"
   ]
  },
  {
   "cell_type": "code",
   "execution_count": 54,
   "id": "596ad99e-1081-4892-8549-d1067d3f6a7a",
   "metadata": {},
   "outputs": [],
   "source": [
    "hit = pd.read_csv(\"Hitters.csv\")\n",
    "df = hit.copy()\n",
    "df = df.dropna()\n",
    "dms = pd.get_dummies(df[['League', 'Division', 'NewLeague']])\n",
    "y = df[\"Salary\"]\n",
    "X_ = df.drop([\"Salary\", \"League\", \"Division\", \"NewLeague\"], axis = 1).astype(\"float\")\n",
    "X = pd.concat([X_, dms[[\"League_N\", \"Division_W\", \"NewLeague_N\"]]], axis=1)\n",
    "X_train, X_test, y_train, y_test = train_test_split(X,\n",
    "                                                    y,\n",
    "                                                   test_size=0.25,\n",
    "                                                   random_state=42)"
   ]
  },
  {
   "cell_type": "code",
   "execution_count": 55,
   "id": "0918a465-fb47-4408-ac89-6b1a6eedab69",
   "metadata": {},
   "outputs": [
    {
     "data": {
      "text/plain": [
       "BaggingRegressor(bootstrap_features=True)"
      ]
     },
     "execution_count": 55,
     "metadata": {},
     "output_type": "execute_result"
    }
   ],
   "source": [
    "bag_model = BaggingRegressor(bootstrap_features = True)\n",
    "bag_model.fit(X_train, y_train)"
   ]
  },
  {
   "cell_type": "code",
   "execution_count": 57,
   "id": "9800a870-e297-4828-a4bb-ecdd06af5ea7",
   "metadata": {},
   "outputs": [
    {
     "data": {
      "text/plain": [
       "10"
      ]
     },
     "execution_count": 57,
     "metadata": {},
     "output_type": "execute_result"
    }
   ],
   "source": [
    "bag_model.n_estimators #n_estimators kaç tane ağaç oluşturulacağını gösterir"
   ]
  },
  {
   "cell_type": "code",
   "execution_count": 58,
   "id": "6668ce04-53d7-43e8-b0b3-902b5d6de7aa",
   "metadata": {},
   "outputs": [
    {
     "data": {
      "text/plain": [
       "[DecisionTreeRegressor(random_state=931364903),\n",
       " DecisionTreeRegressor(random_state=944211666),\n",
       " DecisionTreeRegressor(random_state=1603573788),\n",
       " DecisionTreeRegressor(random_state=1246597820),\n",
       " DecisionTreeRegressor(random_state=732231566),\n",
       " DecisionTreeRegressor(random_state=2009097803),\n",
       " DecisionTreeRegressor(random_state=483123232),\n",
       " DecisionTreeRegressor(random_state=1544029129),\n",
       " DecisionTreeRegressor(random_state=1703875551),\n",
       " DecisionTreeRegressor(random_state=1731910844)]"
      ]
     },
     "execution_count": 58,
     "metadata": {},
     "output_type": "execute_result"
    }
   ],
   "source": [
    "bag_model.estimators_"
   ]
  },
  {
   "cell_type": "code",
   "execution_count": 60,
   "id": "2182987f-8bac-4893-85d9-480ea635f03d",
   "metadata": {},
   "outputs": [],
   "source": [
    "#her bir ağaçta örneğin kaç tane örnek olduğu bilgisine erişmek istiyorsak;"
   ]
  },
  {
   "cell_type": "code",
   "execution_count": 62,
   "id": "91efe289-d0b6-4614-b39f-1f6b054e3865",
   "metadata": {
    "collapsed": true,
    "jupyter": {
     "outputs_hidden": true
    },
    "tags": []
   },
   "outputs": [
    {
     "data": {
      "text/plain": [
       "[array([ 42, 183,  77,  88, 131,  41,  58, 109, 135,  18, 106, 147, 113,\n",
       "         26,  12, 170,  90,  75,  89,  61, 172,  11, 147, 158,  74,  93,\n",
       "        154,   5, 184, 195, 156, 177,  73,  42, 123,  99, 103,  54, 163,\n",
       "         16,  36,  75,  20,  42, 118,  21, 190,  84,   4, 151,  30, 185,\n",
       "         17, 196,  83,  72,  90,  99, 105,  24, 118,  57,  32, 110, 124,\n",
       "         87, 167,  88,  94, 193, 137,  48, 149,  24,  75, 145, 185,  76,\n",
       "        166, 177,   1,   7,  53, 181,  32,   3,  89, 135, 158, 120, 134,\n",
       "         16, 106, 161, 159, 146,  59,  28,  78,   8,   3, 168,  34,  66,\n",
       "         65, 105, 136, 134,  26,  10, 163, 168, 136, 107,  99, 168, 119,\n",
       "          8,  59, 196, 111,  58,   8,  56, 179,  57,  83, 101,  73,   6,\n",
       "        190, 131,   2,   5,  23, 135,  61,  77,   6, 173,  99,  71,  85,\n",
       "        123,  26,   1, 128,  10, 182,  81, 195,  57,  87, 113, 155, 115,\n",
       "        163, 160, 135, 128, 104, 194, 169,  94, 175,  66, 159, 106, 116,\n",
       "        118,  73, 150,   6, 178, 146, 102,  57, 120, 105,  99,  35,   3,\n",
       "          6,  66, 129, 170, 181,  48, 121,  47, 136,  62,  96, 194,  26,\n",
       "         65,  73]),\n",
       " array([189,  19, 118, 124, 171,  36,  62,   2,   6, 148, 147,  16, 116,\n",
       "        109, 189, 186,   1, 115, 120,  51, 133,  72,  17, 130, 161, 191,\n",
       "        128, 175,  38,  17,  29,  43, 132, 173, 139, 166,  70, 147,  95,\n",
       "         33, 114, 112, 180,  49,  64,  14,  10,  73, 162,  40, 112,  16,\n",
       "         20,  62, 157, 164, 179,  35, 134, 108, 129,  91, 175, 150, 185,\n",
       "         10, 147, 150,  91,  86, 151, 145,  66,  44,  32, 188, 189, 138,\n",
       "        133,  14,  45,  89, 182, 124, 105,  24, 117,  38, 114,  11, 193,\n",
       "        189,  89,  24, 185,   1,  83, 147,  52,  37,  82, 148, 195, 182,\n",
       "          0,   2,   6, 118, 178, 172,  18,  80, 109,  42,  48, 164,  44,\n",
       "         75,  52,  25,  21,  47,  21, 191,  56,  87, 185, 116,  52, 183,\n",
       "         76,  41,   4,  54, 109,  80, 177, 196, 163,   6,  99,  82, 161,\n",
       "        106, 189, 186,  24,  19,  26, 102,  13,   4, 136,  65, 176,  87,\n",
       "        175,   4,  46,  82, 113,  19,  44,  25,  19, 183,  73,   0, 142,\n",
       "         47, 192,   8, 123, 112,  55, 119,  45,  38,  95,  70,  78,  30,\n",
       "         73, 143,  68,  38, 175, 183,  23,  87,  86, 153, 190, 143,  74,\n",
       "        157,  16]),\n",
       " array([ 80, 175, 130, 178,  35, 159, 186,  28, 125, 165,  24, 106, 147,\n",
       "         42, 159, 148, 109,   0,   5,  60, 117, 143, 171,  24, 170,  23,\n",
       "        146, 116,  29,  21, 144, 115, 122,  54, 155, 136,  71,  65,  56,\n",
       "        161,  86, 191,  14,  83,  77,  93,  27, 111,  23,  14,  25, 187,\n",
       "        155, 183,  61, 161, 105, 187, 127, 123,  34,  25,  12,  95,  96,\n",
       "        184, 117,  38, 125,  50,  38, 166,  61, 142, 184,  83, 172, 179,\n",
       "        192,  61, 107,  86,  45,   1,  54, 149,  77,  22, 145, 179,  44,\n",
       "         97, 124,  45,  80,  55, 164,  25,  56,  46, 120,  15, 189, 140,\n",
       "        159, 195,  28, 167, 140,  76, 157,  37, 120,  99,   8, 163, 184,\n",
       "        163,  51, 107, 120, 111,  71, 112, 165, 175,  24,  79, 135, 196,\n",
       "        183,  81, 138,  15,  97, 120, 115,  45,  53, 152, 191, 138,   1,\n",
       "         59, 194,  56, 133,  15, 128,  55,  48,  30,  88,  24,  16, 140,\n",
       "        122,  89,  89, 170,  28,   1, 164,  93, 170, 167,  97, 165,   0,\n",
       "         47,  95, 183, 137,  74, 182,  98,  62, 104, 117, 179,  46, 160,\n",
       "        169, 105, 142,  82,  50,  35, 184,  81,  91,  79,  33,  51,   4,\n",
       "        167, 162]),\n",
       " array([126, 134, 111, 173,   5, 151,  95,   0,  75,  88, 108, 134, 161,\n",
       "        187,  59, 154, 137, 101,   3,  27,  99, 124, 188, 196,  95, 184,\n",
       "        101,  66,  23, 119,  46, 146, 185,  52, 149,  75,  88, 137, 164,\n",
       "        145,  89,  55,  77,  72,  90,  52, 192, 191,  91,  25,  91, 103,\n",
       "         99,  94, 167, 146,  43, 181, 136, 116, 138, 115,  85,  77,  20,\n",
       "        128,  76,  76, 107, 149,  23, 178,  59, 114, 188, 126,  24,  26,\n",
       "          2, 121,  30,  51, 173,  84, 102, 168,  43, 188, 164,  21,  99,\n",
       "         23, 158,  55,  69, 105,  59, 137, 115, 134, 162, 145,  94,  44,\n",
       "         25,  29,   2,  74,  68,  66, 122, 190, 183, 123, 125, 154, 121,\n",
       "        109, 140,  87, 103, 136,  38, 191, 184, 160,  66, 133, 178,  81,\n",
       "         47,  33, 148, 121, 193, 137, 143, 154,  72,   5, 178,  88, 167,\n",
       "        103,  10, 118,  45,  49, 184,  13,  97,  68, 153, 140,  81, 159,\n",
       "        162,  40, 187, 117,   9,  26,  82, 124, 161,  62,  99,  37,  53,\n",
       "        178, 172, 155, 165,   4,  48,  90,  81, 190, 150, 194,  71,  62,\n",
       "         19, 130, 196, 103, 165,  51,  90,  34, 188,  23, 181, 150,  69,\n",
       "        178,  38]),\n",
       " array([160,  93, 182, 185,  31,  44,  30,  94,  88,  31, 187, 123, 123,\n",
       "         67, 111,   3,  39, 159, 115,  54, 180, 159,  87,  85,  51, 111,\n",
       "         63, 124, 110,  90,  27,  20, 176,  54, 179, 104, 153,  54,  38,\n",
       "         67,  34,  12,  25, 132,  75,  82,  91,  61,  75,  11,  89, 142,\n",
       "         67, 169,  34, 136,  41, 114, 139, 196,  27,  28,  65, 138, 145,\n",
       "        111,  66,  65, 154, 101,  58,  87,  56,  94, 192, 153,  96, 109,\n",
       "          2, 117, 111, 173, 139,   0,  29,  44, 177, 189, 115,  75, 181,\n",
       "        132, 115, 143,  35,  24, 131, 174,  21, 161, 126, 135,   6,  90,\n",
       "        196, 124,   8,  76,  86,  14,  87, 116, 106, 111,  72, 182,  78,\n",
       "        100, 140,  17,  70,  86, 147,  63,  33,  26,  42, 109,  52,  99,\n",
       "         76,  65,  99, 103,  93, 186,  49, 140, 146,  28,  79,  14, 130,\n",
       "        180, 185, 117,  62,  99,  94, 174,  98,   2,  22,  38,  50, 170,\n",
       "        171, 124, 170, 120,  12, 175, 118,  96, 120, 194,  31,  46, 191,\n",
       "         39, 103,  92, 131, 151,  20, 163,  23,   8, 119, 164,  17,  12,\n",
       "         12, 128, 105, 196, 181, 184, 163,  78,  86,  61, 125,  61,  70,\n",
       "         28,  81]),\n",
       " array([ 97, 174, 166, 104,  56, 103, 184, 110, 181,   8, 176, 121, 193,\n",
       "         18, 168,  79,  12,  32,  36,  78, 157,  52,  16,  89,  95, 130,\n",
       "         87, 132,  38,  59, 139,  82,  87,   3,  57, 152,   6, 130,  24,\n",
       "         82,  97, 143,  67, 144, 156, 194, 139,   3, 120,  47, 148,  66,\n",
       "        186, 121,  76,  59,  80,   0,  69,  52,  26, 146, 195, 146,  60,\n",
       "        139,  70, 110,  84,  86,  87,  25, 142, 135, 171,  53, 160,  32,\n",
       "         44,  43,  53,  91,   2, 186, 153, 117,  91,   3, 127,  40,   9,\n",
       "        129, 106,  65,  92,  75, 106,  80, 149, 193, 147,  53, 165,  81,\n",
       "          9,   8, 109,  60,  71, 120,  74, 187,  21, 104, 163,  96, 137,\n",
       "        131,  88,  29,  82,  94,  88,  60, 173,  36,   7, 163,  87, 193,\n",
       "          2,  73,  16,  29,  31,  75,  39, 156,  52,  84,  93,  83, 144,\n",
       "        112,  55,  44,  12,  24, 114, 195,   1, 114, 112, 181,  29,  28,\n",
       "         94,  76,  97, 122,   6, 172,  24, 111, 147, 150, 105,  18,  60,\n",
       "        122, 183, 185, 108, 177,  93,  69, 136,  77,  85,   2, 133,  43,\n",
       "         71,  25, 156, 111, 157, 123, 190,  89,  95, 121, 101, 164, 156,\n",
       "        110, 143]),\n",
       " array([ 14,  27, 165, 119,  12,  22,  36,  38, 171,  64,  67, 164, 173,\n",
       "        180, 105, 138, 101,  56,  93,  28,  17,   3,  41, 172, 109,  40,\n",
       "        139,  64,  60, 178, 174, 188, 107,  42,  92, 127, 195, 162, 104,\n",
       "         17,  36,  81, 134,  68, 130, 155,  65, 132, 156, 131,   4,  79,\n",
       "         74, 102, 107,  41,  64, 128, 164, 115,   5,  34,  92, 196, 178,\n",
       "        160, 125, 161, 143, 157,  13,   1,  36,  67, 172,  78, 190,  68,\n",
       "         26,  60, 180, 121, 167, 173,  92, 120,  38,  95, 132,  89,  31,\n",
       "        143, 188, 118,  46, 122,  19,  82,  84, 104,  98, 140, 129,  21,\n",
       "         90, 146, 166,  44, 126, 177, 115,  17,  16, 116, 193, 180, 139,\n",
       "        162, 182, 168, 145,  67,  80, 172, 132, 150, 144,  83, 138,  36,\n",
       "        194,  41, 192, 186, 183, 150,   6,  14, 102, 173, 160,   6,  71,\n",
       "        115, 174, 100,  13,  29,   7, 126, 115, 100, 176, 129, 151,  14,\n",
       "         74, 131,  80, 165, 141,  39,   7, 128,  88,  41,  39,  11,  53,\n",
       "         34,  71,  20,  71,  60,  61,  80, 189, 178, 195,  60, 186,  33,\n",
       "        173, 106,  90, 146, 154,  11,  20, 125, 135,  93, 192, 128,   1,\n",
       "         19, 168]),\n",
       " array([  5,  87,  14, 142,  13, 178,  37, 120,  54,  51,  74, 132, 135,\n",
       "        140, 137,  55, 177,  81,  70, 155,  57,  18, 138,   5, 119, 155,\n",
       "         73, 157, 100,  94, 129,  80,  74, 171, 188, 116,  31, 107, 100,\n",
       "        153, 101,  60,  82,  79,  15, 121, 149,  72,   7, 144,  94,  28,\n",
       "         93, 141, 191, 176,  96,  77, 134, 163,  15, 121,  96, 166,  15,\n",
       "         97,  55, 112,  75,  39, 146,  17,  59, 123, 166,  60, 155, 104,\n",
       "        131,  68, 188, 196, 111,  81,  54, 107, 136,  26, 188, 101, 116,\n",
       "         84,  75, 173, 166,  10,  56, 134, 120,  37,  32, 159, 142,  23,\n",
       "        149,  20, 139,  56, 143,  44,  86, 187,  39,  27,  81,  14,  39,\n",
       "         15,  16, 168,  34,  63,  76, 169, 191, 183, 193,  22, 141,  92,\n",
       "        118,   1, 141, 181, 110,  43, 101,  83,  64, 161, 140, 159, 133,\n",
       "         46, 145,  90,  11,   1, 121, 104, 192,  48,  65,  26, 152,  87,\n",
       "         15,  89, 194,  64,  14, 146,  18,  70, 113,  42, 189,  33,   3,\n",
       "         85,  21, 145, 129,  52, 117,  93, 164, 143,  15, 119, 174,   3,\n",
       "        162,  97,  43,   4,  35, 143,  53, 114, 119, 134, 109, 146,  26,\n",
       "        120, 134]),\n",
       " array([105, 189,  69, 131,  59, 191, 108, 159,  48,  33,  91,  96,   3,\n",
       "        144,  95,  34,  60,  39, 183,  52,  96,  54,  27,  48, 144, 158,\n",
       "        116,  37,  39, 103,  38,  89, 107, 152,   5,  46, 181, 162, 144,\n",
       "        108, 162, 181, 116, 136,  59,   9, 191,  28,  77, 119, 108,  99,\n",
       "         73,   3,  77, 109,  97, 156, 119,  15,  68, 106, 142,  89,  59,\n",
       "        182,  76,  26,  70, 192, 111, 179, 173,  28, 147,  19, 148,  63,\n",
       "         34, 138, 118,  56,  35, 114,  44, 195,  59, 100,  34,  14, 151,\n",
       "        104, 170,  49, 195, 194,  19, 184, 188, 143,  80,  31,  30,  51,\n",
       "        162, 165,  21, 195,  50, 169,  37,  96, 127,  83, 114, 166, 180,\n",
       "        163,  60, 125, 171,   5, 106,  71,  45, 155,  91,  38, 162, 118,\n",
       "         67,  74,  66, 175,  11,  44,  82, 115,  83, 119, 104,  24, 191,\n",
       "        118, 139,  37,  39, 168,  41, 196, 114,  49, 118,  91,  83,  94,\n",
       "        152, 102,  93,  16,  83, 177,  25,  57, 174,  21,  74,  75,  46,\n",
       "         37, 152,  68,  33, 174,  71, 151, 105,  82,  94,  91, 142,  93,\n",
       "         21, 104,  12,  84, 156,  65, 121,  98,  79,   8,  68,  62, 135,\n",
       "        195, 151]),\n",
       " array([ 50,  47,  37, 124,  95, 169,  29, 103,  75,   5, 117,  78,  23,\n",
       "         48,  63, 170, 144,  67, 140,  85,  67, 181,  85, 172,  35,  17,\n",
       "         31,  47, 186, 160, 131,  99, 108, 116, 169,   1,  96,  13,  21,\n",
       "        179,  48,   2, 172, 174,  68,  29, 121, 132, 166, 155,  65, 156,\n",
       "        166, 162, 116, 188,  57, 132, 134, 167, 136,  77,  35, 128, 179,\n",
       "         22,   4,  41, 194,  32, 128, 103, 189,  24,  77, 176, 138,  59,\n",
       "         19,  43,   8, 159, 133,  69, 112, 175, 126, 108, 164,  32, 122,\n",
       "        151,  62, 134,  57, 193, 180, 151, 134,  98,  12,  12, 114, 153,\n",
       "         93, 111,  95, 119,  22,  64,   0,  90, 163,  11, 135,  64,  90,\n",
       "         97, 181, 149, 182, 164, 171,  92, 138,  64, 129,  88, 157,  44,\n",
       "        158,  91, 172,  31, 158, 190,  47, 131, 107, 138, 178,  97,  71,\n",
       "        102, 188, 166,  34,  33, 180, 132, 151, 160,  55, 182,  43, 108,\n",
       "        192,  66, 154,  87,  30, 186, 128,   1, 149,  82,  29, 180, 196,\n",
       "         69, 196,  75,  61,  56,  72,  13,   7, 129,  77, 189,  38, 162,\n",
       "         68, 154,  64, 170, 131, 180, 165, 136,   3, 119, 170,  63, 109,\n",
       "          0,  84])]"
      ]
     },
     "execution_count": 62,
     "metadata": {},
     "output_type": "execute_result"
    }
   ],
   "source": [
    "bag_model.estimators_samples_"
   ]
  },
  {
   "cell_type": "code",
   "execution_count": 63,
   "id": "c044987a-80c1-4ceb-b6af-7917302d5c63",
   "metadata": {},
   "outputs": [],
   "source": [
    "#her bir ağacın bağımsız değişkenlerine ulaşmak istersek"
   ]
  },
  {
   "cell_type": "code",
   "execution_count": 64,
   "id": "4187cdb5-386e-4a3a-b513-07fc7dcf8753",
   "metadata": {},
   "outputs": [
    {
     "data": {
      "text/plain": [
       "[array([ 7,  3,  0,  6, 14, 10,  6, 10,  0,  1,  3,  3,  6, 17,  5, 14,  5,\n",
       "         9,  7]),\n",
       " array([18, 11, 10, 18,  4,  3, 10,  4, 12,  1,  2,  4,  4, 14,  7,  1, 14,\n",
       "        17, 16]),\n",
       " array([13, 17, 15,  9,  8, 16,  7, 15,  3,  1, 11,  5,  2, 13,  6,  4, 13,\n",
       "        16,  4]),\n",
       " array([ 3,  4, 10, 11, 11, 11, 14,  1,  7,  6, 12, 18,  5, 13, 18, 10,  6,\n",
       "         9, 16]),\n",
       " array([14,  2, 14,  9,  7,  1,  7,  7,  5, 15, 18, 11, 16,  3, 16, 12, 11,\n",
       "         4,  4]),\n",
       " array([11,  9, 17, 15,  2, 12, 11,  6,  7,  3,  0,  2, 15, 10,  8,  8, 10,\n",
       "         3, 12]),\n",
       " array([ 0, 12,  6,  1, 15,  6,  0, 16, 13,  0, 11,  2,  2,  9,  3, 10,  3,\n",
       "        14, 18]),\n",
       " array([ 9,  8,  3,  2,  5,  8, 16, 13,  2,  7, 18, 13, 13, 14, 10, 13, 16,\n",
       "        18,  8]),\n",
       " array([ 9, 14,  2,  5, 16,  4,  2, 10,  4,  0,  4, 13, 11, 16,  1,  3, 14,\n",
       "         1, 11]),\n",
       " array([ 7,  6,  1, 16, 11, 11,  4, 18, 16, 18,  9, 17,  9,  1,  0, 13, 17,\n",
       "        13,  9])]"
      ]
     },
     "execution_count": 64,
     "metadata": {},
     "output_type": "execute_result"
    }
   ],
   "source": [
    "bag_model.estimators_features_"
   ]
  },
  {
   "cell_type": "code",
   "execution_count": 65,
   "id": "54ff949e-611d-408d-ae75-596429ab9d58",
   "metadata": {},
   "outputs": [],
   "source": [
    "#incelememizi ilerletip her bir modele özel değerlere ulaşmaya çalışalım"
   ]
  },
  {
   "cell_type": "code",
   "execution_count": 67,
   "id": "66effaeb-e5c3-467a-a3a4-9b847a8ed457",
   "metadata": {},
   "outputs": [
    {
     "data": {
      "text/plain": [
       "DecisionTreeRegressor(random_state=944211666)"
      ]
     },
     "execution_count": 67,
     "metadata": {},
     "output_type": "execute_result"
    }
   ],
   "source": [
    "bag_model.estimators_[1]"
   ]
  },
  {
   "cell_type": "markdown",
   "id": "2c0140f7-a524-4032-a88d-3cb41fdc308c",
   "metadata": {},
   "source": [
    "## Tahmin"
   ]
  },
  {
   "cell_type": "code",
   "execution_count": 68,
   "id": "dd70de5f-e021-49b4-96af-2b786a131cfb",
   "metadata": {},
   "outputs": [],
   "source": [
    "y_pred = bag_model.predict(X_test)"
   ]
  },
  {
   "cell_type": "code",
   "execution_count": 69,
   "id": "729b6093-d9d8-4255-accf-05506d37b6e2",
   "metadata": {},
   "outputs": [
    {
     "data": {
      "text/plain": [
       "348.4154548364795"
      ]
     },
     "execution_count": 69,
     "metadata": {},
     "output_type": "execute_result"
    }
   ],
   "source": [
    "np.sqrt(mean_squared_error(y_test, y_pred))"
   ]
  },
  {
   "cell_type": "code",
   "execution_count": 72,
   "id": "96ff9879-2c52-4868-9da3-8cad4d19ea68",
   "metadata": {},
   "outputs": [],
   "source": [
    "#şimdi her bir ağaca gidip fikrini almayı deneyelim\n",
    "#örneğin ikinci ağaca gidelim"
   ]
  },
  {
   "cell_type": "code",
   "execution_count": 73,
   "id": "de28b6d9-e415-4244-b1f8-57426ac75a9c",
   "metadata": {},
   "outputs": [],
   "source": [
    "iki_y_pred = bag_model.estimators_[1].fit(X_train, y_train).predict(X_test)"
   ]
  },
  {
   "cell_type": "code",
   "execution_count": 74,
   "id": "c6a89715-ad99-4852-81f8-06feb1ad735d",
   "metadata": {},
   "outputs": [
    {
     "data": {
      "text/plain": [
       "513.9699275099575"
      ]
     },
     "execution_count": 74,
     "metadata": {},
     "output_type": "execute_result"
    }
   ],
   "source": [
    "np.sqrt(mean_squared_error(y_test, iki_y_pred))"
   ]
  },
  {
   "cell_type": "code",
   "execution_count": 75,
   "id": "4a4a43dc-3d7e-4322-a5ec-8ae294b3a032",
   "metadata": {},
   "outputs": [],
   "source": [
    "yedi_y_pred = bag_model.estimators_[6].fit(X_train, y_train).predict(X_test)"
   ]
  },
  {
   "cell_type": "code",
   "execution_count": 76,
   "id": "35df5c7d-2ed8-49f2-b2f9-24a03a102993",
   "metadata": {},
   "outputs": [
    {
     "data": {
      "text/plain": [
       "473.5090613543385"
      ]
     },
     "execution_count": 76,
     "metadata": {},
     "output_type": "execute_result"
    }
   ],
   "source": [
    "np.sqrt(mean_squared_error(y_test, yedi_y_pred))"
   ]
  },
  {
   "cell_type": "markdown",
   "id": "8850cbc9-9242-4957-84cb-cf71fec1ea95",
   "metadata": {},
   "source": [
    "## Model Tuning"
   ]
  },
  {
   "cell_type": "code",
   "execution_count": 77,
   "id": "d0b82507-14eb-41c2-89cb-80065f4c8c27",
   "metadata": {},
   "outputs": [
    {
     "data": {
      "text/plain": [
       "BaggingRegressor(bootstrap_features=True)"
      ]
     },
     "execution_count": 77,
     "metadata": {},
     "output_type": "execute_result"
    }
   ],
   "source": [
    "bag_model = BaggingRegressor(bootstrap_features = True)\n",
    "bag_model.fit(X_train, y_train)"
   ]
  },
  {
   "cell_type": "code",
   "execution_count": 78,
   "id": "a4e656b4-e2ae-451d-b83c-4303ffa5e4ff",
   "metadata": {},
   "outputs": [],
   "source": [
    "bag_params = {'n_estimators': range(2,20)}"
   ]
  },
  {
   "cell_type": "code",
   "execution_count": 80,
   "id": "6930450c-b451-4ed1-b61d-370b1ff40d2f",
   "metadata": {},
   "outputs": [],
   "source": [
    "bag_cv_model = GridSearchCV(bag_model, bag_params, cv = 10)"
   ]
  },
  {
   "cell_type": "code",
   "execution_count": 82,
   "id": "04567710-dc65-42e7-b5ad-36acf0574897",
   "metadata": {},
   "outputs": [
    {
     "data": {
      "text/plain": [
       "GridSearchCV(cv=10, estimator=BaggingRegressor(bootstrap_features=True),\n",
       "             param_grid={'n_estimators': range(2, 20)})"
      ]
     },
     "execution_count": 82,
     "metadata": {},
     "output_type": "execute_result"
    }
   ],
   "source": [
    "bag_cv_model.fit(X_train, y_train)"
   ]
  },
  {
   "cell_type": "code",
   "execution_count": 83,
   "id": "03f502ba-285f-4986-8c4c-bc007ddca04e",
   "metadata": {},
   "outputs": [
    {
     "data": {
      "text/plain": [
       "{'n_estimators': 15}"
      ]
     },
     "execution_count": 83,
     "metadata": {},
     "output_type": "execute_result"
    }
   ],
   "source": [
    "bag_cv_model.best_params_"
   ]
  },
  {
   "cell_type": "code",
   "execution_count": 84,
   "id": "00d32fcc-38b4-4f72-a131-90ae41c49478",
   "metadata": {},
   "outputs": [],
   "source": [
    "# bunun üzerinden final modelimizi olusturalım"
   ]
  },
  {
   "cell_type": "code",
   "execution_count": 86,
   "id": "cc18a3e0-3786-4368-9288-c70c670cd8f9",
   "metadata": {},
   "outputs": [],
   "source": [
    "bag_tuned = BaggingRegressor(n_estimators = 15, random_state = 45)"
   ]
  },
  {
   "cell_type": "code",
   "execution_count": 87,
   "id": "77080675-412b-4304-ae06-5028ccff7a55",
   "metadata": {},
   "outputs": [
    {
     "data": {
      "text/plain": [
       "BaggingRegressor(n_estimators=15, random_state=45)"
      ]
     },
     "execution_count": 87,
     "metadata": {},
     "output_type": "execute_result"
    }
   ],
   "source": [
    "bag_tuned.fit(X_train, y_train)"
   ]
  },
  {
   "cell_type": "code",
   "execution_count": 88,
   "id": "5dcb8c4b-0f95-4b5f-9266-19d5ae4af620",
   "metadata": {},
   "outputs": [],
   "source": [
    "y_pred = bag_tuned.predict(X_test)"
   ]
  },
  {
   "cell_type": "code",
   "execution_count": 90,
   "id": "95dcdab8-54ab-4c22-85e0-bd40693b6d6e",
   "metadata": {
    "tags": []
   },
   "outputs": [
    {
     "data": {
      "text/plain": [
       "342.0826200646889"
      ]
     },
     "execution_count": 90,
     "metadata": {},
     "output_type": "execute_result"
    }
   ],
   "source": [
    "np.sqrt(mean_squared_error(y_test, y_pred))"
   ]
  },
  {
   "cell_type": "markdown",
   "id": "89abedd3-b826-4065-b151-4930dc3a7251",
   "metadata": {},
   "source": [
    "## Random Forests"
   ]
  },
  {
   "cell_type": "code",
   "execution_count": 91,
   "id": "012971b8-099f-49cb-8f1c-c15ab76f8978",
   "metadata": {},
   "outputs": [],
   "source": [
    "hit = pd.read_csv(\"Hitters.csv\")\n",
    "df = hit.copy()\n",
    "df = df.dropna()\n",
    "dms = pd.get_dummies(df[['League', 'Division', 'NewLeague']])\n",
    "y = df[\"Salary\"]\n",
    "X_ = df.drop([\"Salary\", \"League\", \"Division\", \"NewLeague\"], axis = 1).astype(\"float\")\n",
    "X = pd.concat([X_, dms[[\"League_N\", \"Division_W\", \"NewLeague_N\"]]], axis=1)\n",
    "X_train, X_test, y_train, y_test = train_test_split(X,\n",
    "                                                    y,\n",
    "                                                   test_size=0.25,\n",
    "                                                   random_state=42)"
   ]
  },
  {
   "cell_type": "code",
   "execution_count": 33,
   "id": "84d0646b-6605-4e68-9b13-77fe29117686",
   "metadata": {},
   "outputs": [],
   "source": [
    "from sklearn.ensemble import RandomForestRegressor"
   ]
  },
  {
   "cell_type": "code",
   "execution_count": 93,
   "id": "da7a5cf8-807d-44d1-b4a1-091c77e5ee46",
   "metadata": {},
   "outputs": [],
   "source": [
    "rf_model = RandomForestRegressor(random_state = 42)"
   ]
  },
  {
   "cell_type": "code",
   "execution_count": 94,
   "id": "41037bc7-c6ff-44a1-8a74-600df2711bd1",
   "metadata": {},
   "outputs": [
    {
     "data": {
      "text/plain": [
       "RandomForestRegressor(random_state=42)"
      ]
     },
     "execution_count": 94,
     "metadata": {},
     "output_type": "execute_result"
    }
   ],
   "source": [
    "rf_model.fit(X_train, y_train)"
   ]
  },
  {
   "cell_type": "code",
   "execution_count": 100,
   "id": "4f7b5b51-ebc0-47e3-84a9-53760166ab30",
   "metadata": {},
   "outputs": [],
   "source": [
    "# Random forests'ta önemli olan 2 parametre var.\n",
    "# fit edilecek ağaç sayısı ve bölünmelerde kullanılacak olan değişken sayısı"
   ]
  },
  {
   "cell_type": "markdown",
   "id": "b31ed938-a36e-4ec9-aea8-c82be7e05196",
   "metadata": {},
   "source": [
    "## Tahmin"
   ]
  },
  {
   "cell_type": "code",
   "execution_count": 97,
   "id": "54829447-740b-4dfb-850d-a48d8e4a77ad",
   "metadata": {},
   "outputs": [
    {
     "data": {
      "text/plain": [
       "array([ 738.69167,  913.51164, 1181.145  ,  139.65167,  634.60833])"
      ]
     },
     "execution_count": 97,
     "metadata": {},
     "output_type": "execute_result"
    }
   ],
   "source": [
    "rf_model.predict(X_test)[0:5]"
   ]
  },
  {
   "cell_type": "code",
   "execution_count": 98,
   "id": "3801144e-69e5-4a95-be56-1d531abe3694",
   "metadata": {},
   "outputs": [],
   "source": [
    "y_pred = rf_model.predict(X_test)"
   ]
  },
  {
   "cell_type": "code",
   "execution_count": 99,
   "id": "785e4d4d-d212-410d-9e7e-042362eb6067",
   "metadata": {},
   "outputs": [
    {
     "data": {
      "text/plain": [
       "344.8191624908484"
      ]
     },
     "execution_count": 99,
     "metadata": {},
     "output_type": "execute_result"
    }
   ],
   "source": [
    "np.sqrt(mean_squared_error(y_test, y_pred))"
   ]
  },
  {
   "cell_type": "markdown",
   "id": "a1557817-3a7b-4848-af8c-aefae47e7d72",
   "metadata": {},
   "source": [
    "## Model Tuning"
   ]
  },
  {
   "cell_type": "code",
   "execution_count": 103,
   "id": "e1f8aa8e-7e73-4594-9485-e502fd1b7751",
   "metadata": {},
   "outputs": [],
   "source": [
    "rf_params = {'max_depth': list(range(1,10)),\n",
    "            'max_features': [3,5,10,15],\n",
    "            'n_estimators': [100, 200, 500, 1000, 2000]}"
   ]
  },
  {
   "cell_type": "code",
   "execution_count": 105,
   "id": "89908cae-ae4f-4985-a61e-e8f2b76664ad",
   "metadata": {},
   "outputs": [],
   "source": [
    "rf_model = RandomForestRegressor(random_state = 42)"
   ]
  },
  {
   "cell_type": "code",
   "execution_count": 106,
   "id": "d8bfc7be-cb07-4cec-aaa6-03511e5b7b5a",
   "metadata": {},
   "outputs": [],
   "source": [
    "rf_cv_model = GridSearchCV(rf_model,\n",
    "                           rf_params,\n",
    "                           cv = 10,\n",
    "                          n_jobs = -1)"
   ]
  },
  {
   "cell_type": "code",
   "execution_count": 107,
   "id": "2bb8059c-68bc-43fc-9d2f-1892ff2ac0e8",
   "metadata": {},
   "outputs": [
    {
     "data": {
      "text/plain": [
       "GridSearchCV(cv=10, estimator=RandomForestRegressor(random_state=42), n_jobs=-1,\n",
       "             param_grid={'max_depth': [1, 2, 3, 4, 5, 6, 7, 8, 9],\n",
       "                         'max_features': [3, 5, 10, 15],\n",
       "                         'n_estimators': [100, 200, 500, 1000, 2000]})"
      ]
     },
     "execution_count": 107,
     "metadata": {},
     "output_type": "execute_result"
    }
   ],
   "source": [
    "rf_cv_model.fit(X_train, y_train)"
   ]
  },
  {
   "cell_type": "code",
   "execution_count": 108,
   "id": "b08f6ef5-8d01-4705-a503-8ffbef7477ec",
   "metadata": {},
   "outputs": [
    {
     "data": {
      "text/plain": [
       "{'max_depth': 8, 'max_features': 3, 'n_estimators': 200}"
      ]
     },
     "execution_count": 108,
     "metadata": {},
     "output_type": "execute_result"
    }
   ],
   "source": [
    "rf_cv_model.best_params_"
   ]
  },
  {
   "cell_type": "code",
   "execution_count": 111,
   "id": "19bd8896-faed-408c-9c84-97883b268454",
   "metadata": {},
   "outputs": [],
   "source": [
    "rf_tuned = RandomForestRegressor(max_depth = 8,\n",
    "                                 max_features = 3,\n",
    "                                 n_estimators = 200)"
   ]
  },
  {
   "cell_type": "code",
   "execution_count": 112,
   "id": "b6590cee-44d5-491b-a52c-2aa59acc893c",
   "metadata": {},
   "outputs": [
    {
     "data": {
      "text/plain": [
       "RandomForestRegressor(max_depth=8, max_features=3, n_estimators=200)"
      ]
     },
     "execution_count": 112,
     "metadata": {},
     "output_type": "execute_result"
    }
   ],
   "source": [
    "rf_tuned.fit(X_train, y_train)"
   ]
  },
  {
   "cell_type": "code",
   "execution_count": 113,
   "id": "76a049ff-5b3b-4b6e-8654-aae166d0d6ad",
   "metadata": {},
   "outputs": [],
   "source": [
    "y_pred = rf_tuned.predict(X_test)"
   ]
  },
  {
   "cell_type": "code",
   "execution_count": 114,
   "id": "849f6736-83fa-4900-bf61-4f32f9c42b7c",
   "metadata": {},
   "outputs": [
    {
     "data": {
      "text/plain": [
       "342.4952531862"
      ]
     },
     "execution_count": 114,
     "metadata": {},
     "output_type": "execute_result"
    }
   ],
   "source": [
    "np.sqrt(mean_squared_error(y_test, y_pred))"
   ]
  },
  {
   "cell_type": "code",
   "execution_count": 115,
   "id": "a2e71e99-ece0-4381-8ea3-d0fb2bc7859f",
   "metadata": {},
   "outputs": [],
   "source": [
    "#değişkenlerin önem düzeylerine erişmek istersek"
   ]
  },
  {
   "cell_type": "code",
   "execution_count": 116,
   "id": "b0dfdbca-5c03-43ae-8a40-20ef86a4a4f1",
   "metadata": {},
   "outputs": [],
   "source": [
    "Importance = pd.DataFrame({\"Importance\": rf_tuned.feature_importances_*100},\n",
    "                         index = X_train.columns)"
   ]
  },
  {
   "cell_type": "code",
   "execution_count": 117,
   "id": "967da141-6823-4981-a5a9-12e90c58a3d2",
   "metadata": {},
   "outputs": [
    {
     "data": {
      "text/plain": [
       "Text(0.5, 0, 'Değişken Önem Düzeyleri')"
      ]
     },
     "execution_count": 117,
     "metadata": {},
     "output_type": "execute_result"
    },
    {
     "data": {
      "image/png": "[encoded data removed]",
      "text/plain": [
       "<Figure size 432x288 with 1 Axes>"
      ]
     },
     "metadata": {
      "needs_background": "light"
     },
     "output_type": "display_data"
    }
   ],
   "source": [
    "Importance.sort_values(by = \"Importance\",\n",
    "                       axis = 0, ascending = True).plot(kind=\"barh\", color = \"r\")\n",
    "\n",
    "plt.xlabel(\"Değişken Önem Düzeyleri\")"
   ]
  },
  {
   "cell_type": "markdown",
   "id": "5c9d68b9-579e-4908-9c95-8702cdfa4211",
   "metadata": {},
   "source": [
    "## Gradient Boosting Machines"
   ]
  },
  {
   "cell_type": "code",
   "execution_count": 34,
   "id": "767cd182-355a-44a6-b186-fc1935b1b19f",
   "metadata": {},
   "outputs": [],
   "source": [
    "from sklearn.ensemble import GradientBoostingRegressor"
   ]
  },
  {
   "cell_type": "code",
   "execution_count": 55,
   "id": "9557526c-b05e-49b3-8e6e-a971959ad37e",
   "metadata": {},
   "outputs": [
    {
     "data": {
      "text/plain": [
       "GradientBoostingRegressor()"
      ]
     },
     "execution_count": 55,
     "metadata": {},
     "output_type": "execute_result"
    }
   ],
   "source": [
    "gbm_model = GradientBoostingRegressor()\n",
    "gbm_model.fit(X_train, y_train)"
   ]
  },
  {
   "cell_type": "markdown",
   "id": "600a9e37-5ac9-46b1-b283-a6ec010d2bc9",
   "metadata": {},
   "source": [
    "## Tahmin"
   ]
  },
  {
   "cell_type": "code",
   "execution_count": 57,
   "id": "657b88f3-d094-428a-ab79-edd78a26f7e4",
   "metadata": {},
   "outputs": [],
   "source": [
    "y_pred = gbm_model.predict(X_test)"
   ]
  },
  {
   "cell_type": "code",
   "execution_count": 58,
   "id": "e2096fcd-1e07-4f85-bc39-68254f96f2a8",
   "metadata": {},
   "outputs": [
    {
     "data": {
      "text/plain": [
       "348.52194271402385"
      ]
     },
     "execution_count": 58,
     "metadata": {},
     "output_type": "execute_result"
    }
   ],
   "source": [
    "np.sqrt(mean_squared_error(y_test, y_pred))"
   ]
  },
  {
   "cell_type": "markdown",
   "id": "3b27b321-ca61-4d3c-a5fc-7ba2e83f232c",
   "metadata": {},
   "source": [
    "## Model Tuning"
   ]
  },
  {
   "cell_type": "code",
   "execution_count": 59,
   "id": "dfd524a9-02c1-49c8-a0f5-cc87b5986510",
   "metadata": {},
   "outputs": [],
   "source": [
    "gbm_params = {\n",
    "    'learning_rate': [0.001, 0.01, 0.1, 0.2],\n",
    "    'max_depth': [3, 5, 8, 50, 100],\n",
    "    'n_estimators': [200, 500, 1000, 2000],\n",
    "    'subsample': [1, 0.5, 0.75]\n",
    "}"
   ]
  },
  {
   "cell_type": "code",
   "execution_count": 60,
   "id": "576f09db-4528-40fc-b0dd-ace091ab6ec4",
   "metadata": {},
   "outputs": [],
   "source": [
    "#verbose: iterasyonları gözlemlemeyle ilgilidir."
   ]
  },
  {
   "cell_type": "code",
   "execution_count": 62,
   "id": "6a3683d4-f3b5-43e7-85af-50df06d4ff08",
   "metadata": {},
   "outputs": [
    {
     "name": "stdout",
     "output_type": "stream",
     "text": [
      "Fitting 10 folds for each of 240 candidates, totalling 2400 fits\n"
     ]
    },
    {
     "data": {
      "text/plain": [
       "GridSearchCV(cv=10, estimator=GradientBoostingRegressor(), n_jobs=-1,\n",
       "             param_grid={'learning_rate': [0.001, 0.01, 0.1, 0.2],\n",
       "                         'max_depth': [3, 5, 8, 50, 100],\n",
       "                         'n_estimators': [200, 500, 1000, 2000],\n",
       "                         'subsample': [1, 0.5, 0.75]},\n",
       "             verbose=2)"
      ]
     },
     "execution_count": 62,
     "metadata": {},
     "output_type": "execute_result"
    }
   ],
   "source": [
    "gbm = GradientBoostingRegressor()\n",
    "gbm_cv_model = GridSearchCV(gbm, gbm_params, cv=10, n_jobs = -1, verbose = 2)\n",
    "gbm_cv_model.fit(X_train, y_train)"
   ]
  },
  {
   "cell_type": "code",
   "execution_count": 63,
   "id": "93a84380-d2e0-4a31-8ea8-4807f00c61d0",
   "metadata": {},
   "outputs": [
    {
     "data": {
      "text/plain": [
       "{'learning_rate': 0.1, 'max_depth': 3, 'n_estimators': 1000, 'subsample': 0.75}"
      ]
     },
     "execution_count": 63,
     "metadata": {},
     "output_type": "execute_result"
    }
   ],
   "source": [
    "gbm_cv_model.best_params_"
   ]
  },
  {
   "cell_type": "code",
   "execution_count": 68,
   "id": "13c123f9-db57-4522-a651-cdc0622d5bd2",
   "metadata": {},
   "outputs": [],
   "source": [
    "gbm_tuned = GradientBoostingRegressor(learning_rate = 0.1,\n",
    "                                     max_depth = 3,\n",
    "                                     n_estimators = 1000,\n",
    "                                     subsample = 0.75)\n",
    "\n",
    "gbm_tuned = gbm_tuned.fit(X_train, y_train)"
   ]
  },
  {
   "cell_type": "code",
   "execution_count": 71,
   "id": "994a9d8d-4fef-4193-b307-923e150d70c9",
   "metadata": {},
   "outputs": [
    {
     "data": {
      "text/plain": [
       "349.2049136280873"
      ]
     },
     "execution_count": 71,
     "metadata": {},
     "output_type": "execute_result"
    }
   ],
   "source": [
    "y_pred = gbm_tuned.predict(X_test)\n",
    "np.sqrt(mean_squared_error(y_test, y_pred))"
   ]
  },
  {
   "cell_type": "code",
   "execution_count": 70,
   "id": "d58f08c6-0fbe-41d8-ac33-69fec1e4507f",
   "metadata": {},
   "outputs": [],
   "source": [
    "#değişken önem düzeyi kısmına geçelim"
   ]
  },
  {
   "cell_type": "code",
   "execution_count": 72,
   "id": "5cb5e6d4-bafb-4bf7-a45f-8578ee06bbcf",
   "metadata": {},
   "outputs": [],
   "source": [
    "Importance = pd.DataFrame({\"Importance\": gbm_tuned.feature_importances_*100},\n",
    "                         index = X_train.columns)"
   ]
  },
  {
   "cell_type": "code",
   "execution_count": 73,
   "id": "d0b2275b-3194-4214-89f4-ac20e7983d54",
   "metadata": {},
   "outputs": [
    {
     "data": {
      "text/plain": [
       "Text(0.5, 0, 'Değişken Önem Düzeyleri')"
      ]
     },
     "execution_count": 73,
     "metadata": {},
     "output_type": "execute_result"
    },
    {
     "data": {
      "image/png": "[encoded data removed]",
      "text/plain": [
       "<Figure size 432x288 with 1 Axes>"
      ]
     },
     "metadata": {
      "needs_background": "light"
     },
     "output_type": "display_data"
    }
   ],
   "source": [
    "Importance.sort_values(by = \"Importance\",\n",
    "                       axis = 0, ascending = True).plot(kind=\"barh\", color = \"r\")\n",
    "\n",
    "plt.xlabel(\"Değişken Önem Düzeyleri\")"
   ]
  },
  {
   "cell_type": "markdown",
   "id": "73b504e9-2de6-4976-b4e3-6e5fee7da3d9",
   "metadata": {},
   "source": [
    "## XGBoost"
   ]
  },
  {
   "cell_type": "code",
   "execution_count": 13,
   "id": "84d61e0f-554e-409d-9edd-057f08a4b29e",
   "metadata": {},
   "outputs": [],
   "source": [
    "hit = pd.read_csv(\"Hitters.csv\")\n",
    "df = hit.copy()\n",
    "df = df.dropna()\n",
    "dms = pd.get_dummies(df[['League', 'Division', 'NewLeague']])\n",
    "y = df[\"Salary\"]\n",
    "X_ = df.drop([\"Salary\", \"League\", \"Division\", \"NewLeague\"], axis = 1).astype(\"float\")\n",
    "X = pd.concat([X_, dms[[\"League_N\", \"Division_W\", \"NewLeague_N\"]]], axis=1)\n",
    "X_train, X_test, y_train, y_test = train_test_split(X,\n",
    "                                                    y,\n",
    "                                                   test_size=0.25,\n",
    "                                                   random_state=42)"
   ]
  },
  {
   "cell_type": "code",
   "execution_count": 14,
   "id": "76a0fe71-f32a-41f8-bce8-c378be86ec2f",
   "metadata": {
    "collapsed": true,
    "jupyter": {
     "outputs_hidden": true
    },
    "tags": []
   },
   "outputs": [
    {
     "name": "stdout",
     "output_type": "stream",
     "text": [
      "Collecting xgboost\n",
      "  Downloading xgboost-1.5.2-py3-none-win_amd64.whl (106.6 MB)\n",
      "Requirement already satisfied: numpy in c:\\users\\lenovo\\anaconda3\\lib\\site-packages (from xgboost) (1.20.1)\n",
      "Requirement already satisfied: scipy in c:\\users\\lenovo\\anaconda3\\lib\\site-packages (from xgboost) (1.6.2)\n",
      "Installing collected packages: xgboost\n",
      "Successfully installed xgboost-1.5.2\n"
     ]
    }
   ],
   "source": [
    "!pip install xgboost"
   ]
  },
  {
   "cell_type": "code",
   "execution_count": 35,
   "id": "1ee0ffa9-36b7-4bd3-9897-50907280945a",
   "metadata": {},
   "outputs": [],
   "source": [
    "import xgboost as xgb"
   ]
  },
  {
   "cell_type": "code",
   "execution_count": 16,
   "id": "13ba82d5-81b8-45a7-afe5-b28fca31ae3c",
   "metadata": {},
   "outputs": [],
   "source": [
    "DM_train = xgb.DMatrix(data = X_train, label = y_train)\n",
    "DM_test = xgb.DMatrix(data = X_test, label = y_test)"
   ]
  },
  {
   "cell_type": "code",
   "execution_count": 36,
   "id": "789fb386-d6d4-4822-803d-80c96ea7e4b4",
   "metadata": {},
   "outputs": [],
   "source": [
    "from xgboost import XGBRegressor"
   ]
  },
  {
   "cell_type": "code",
   "execution_count": 19,
   "id": "e7eff8a9-5dcf-47d8-999d-fb7e96dabff0",
   "metadata": {},
   "outputs": [],
   "source": [
    "xgb_model = XGBRegressor().fit(X_train, y_train)"
   ]
  },
  {
   "cell_type": "markdown",
   "id": "ec6e243a-c46c-44e3-86d1-4ac1c82ec0a4",
   "metadata": {},
   "source": [
    "## Tahmin"
   ]
  },
  {
   "cell_type": "code",
   "execution_count": 21,
   "id": "dccd5427-5c22-4bc7-811e-8b81142ea93b",
   "metadata": {},
   "outputs": [
    {
     "data": {
      "text/plain": [
       "355.46515176059927"
      ]
     },
     "execution_count": 21,
     "metadata": {},
     "output_type": "execute_result"
    }
   ],
   "source": [
    "y_pred = xgb_model.predict(X_test)\n",
    "np.sqrt(mean_squared_error(y_test, y_pred))"
   ]
  },
  {
   "cell_type": "code",
   "execution_count": 22,
   "id": "03936416-94a9-4dbc-ab28-ec9d76811e7c",
   "metadata": {},
   "outputs": [],
   "source": [
    "# Model Tuning"
   ]
  },
  {
   "cell_type": "code",
   "execution_count": 23,
   "id": "ec5b5b6c-4f6c-40e6-898a-5120627e1c5a",
   "metadata": {},
   "outputs": [
    {
     "data": {
      "text/plain": [
       "XGBRegressor(base_score=0.5, booster='gbtree', colsample_bylevel=1,\n",
       "             colsample_bynode=1, colsample_bytree=1, enable_categorical=False,\n",
       "             gamma=0, gpu_id=-1, importance_type=None,\n",
       "             interaction_constraints='', learning_rate=0.300000012,\n",
       "             max_delta_step=0, max_depth=6, min_child_weight=1, missing=nan,\n",
       "             monotone_constraints='()', n_estimators=100, n_jobs=4,\n",
       "             num_parallel_tree=1, predictor='auto', random_state=0, reg_alpha=0,\n",
       "             reg_lambda=1, scale_pos_weight=1, subsample=1, tree_method='exact',\n",
       "             validate_parameters=1, verbosity=None)"
      ]
     },
     "execution_count": 23,
     "metadata": {},
     "output_type": "execute_result"
    }
   ],
   "source": [
    "xgb_model"
   ]
  },
  {
   "cell_type": "code",
   "execution_count": 24,
   "id": "8291c8c1-e73f-4379-8f79-afad7247aadd",
   "metadata": {},
   "outputs": [],
   "source": [
    "#colsample_bytree: ağaç başına değişkenlerden alınacak olan örnek oranı\n",
    "#learning_rate: overfittingi engellemek için kullanılır 0 ile 1 arasında değer almasını bekleriz"
   ]
  },
  {
   "cell_type": "code",
   "execution_count": 25,
   "id": "843aa793-6467-409b-bbb1-8d7106a803fe",
   "metadata": {
    "tags": []
   },
   "outputs": [],
   "source": [
    "xgb_grid = {\n",
    "    'colsample_bytree': [0.4, 0.5, 0.6,0.9,1],\n",
    "    'n_estimators': [100, 200, 500, 1000],\n",
    "    'max_depth': [2,3,4,5,6],\n",
    "    'learning_rate': [0.1, 0.01, 0.05]\n",
    "}"
   ]
  },
  {
   "cell_type": "code",
   "execution_count": 27,
   "id": "25931ebc-2563-4bf6-b4c0-7e90aacce8e6",
   "metadata": {},
   "outputs": [
    {
     "name": "stdout",
     "output_type": "stream",
     "text": [
      "Fitting 10 folds for each of 300 candidates, totalling 3000 fits\n"
     ]
    },
    {
     "data": {
      "text/plain": [
       "GridSearchCV(cv=10,\n",
       "             estimator=XGBRegressor(base_score=None, booster=None,\n",
       "                                    colsample_bylevel=None,\n",
       "                                    colsample_bynode=None,\n",
       "                                    colsample_bytree=None,\n",
       "                                    enable_categorical=False, gamma=None,\n",
       "                                    gpu_id=None, importance_type=None,\n",
       "                                    interaction_constraints=None,\n",
       "                                    learning_rate=None, max_delta_step=None,\n",
       "                                    max_depth=None, min_child_weight=None,\n",
       "                                    missing=nan, monotone_constraints=None,\n",
       "                                    n_estimators=100, n_jobs=None,\n",
       "                                    num_parallel_tree=None, predictor=None,\n",
       "                                    random_state=None, reg_alpha=None,\n",
       "                                    reg_lambda=None, scale_pos_weight=None,\n",
       "                                    subsample=None, tree_method=None,\n",
       "                                    validate_parameters=None, verbosity=None),\n",
       "             n_jobs=-1,\n",
       "             param_grid={'colsample_bytree': [0.4, 0.5, 0.6, 0.9, 1],\n",
       "                         'learning_rate': [0.1, 0.01, 0.05],\n",
       "                         'max_depth': [2, 3, 4, 5, 6],\n",
       "                         'n_estimators': [100, 200, 500, 1000]},\n",
       "             verbose=2)"
      ]
     },
     "execution_count": 27,
     "metadata": {},
     "output_type": "execute_result"
    }
   ],
   "source": [
    "xgb = XGBRegressor()\n",
    "\n",
    "xgb_cv = GridSearchCV(xgb,\n",
    "                      param_grid = xgb_grid,\n",
    "                      cv = 10,\n",
    "                      n_jobs = -1,\n",
    "                      verbose = 2)\n",
    "\n",
    "xgb_cv.fit(X_train, y_train)"
   ]
  },
  {
   "cell_type": "code",
   "execution_count": 28,
   "id": "dc13c893-a20b-4e09-8023-7c1170332392",
   "metadata": {},
   "outputs": [
    {
     "data": {
      "text/plain": [
       "{'colsample_bytree': 0.5,\n",
       " 'learning_rate': 0.1,\n",
       " 'max_depth': 2,\n",
       " 'n_estimators': 500}"
      ]
     },
     "execution_count": 28,
     "metadata": {},
     "output_type": "execute_result"
    }
   ],
   "source": [
    "xgb_cv.best_params_"
   ]
  },
  {
   "cell_type": "code",
   "execution_count": 29,
   "id": "1fed7f43-af9b-43e7-bb74-78db1a9e392d",
   "metadata": {},
   "outputs": [],
   "source": [
    "xgb_tuned = XGBRegressor(colsample_bytree = 0.5,\n",
    "                        learning_rate = 0.1,\n",
    "                        max_depth = 2,\n",
    "                        n_estimators = 500)\n",
    "\n",
    "xgb_tuned = xgb_tuned.fit(X_train, y_train) "
   ]
  },
  {
   "cell_type": "code",
   "execution_count": 30,
   "id": "50658bcb-cf93-4029-8262-6ae286026698",
   "metadata": {},
   "outputs": [
    {
     "data": {
      "text/plain": [
       "346.0275204366939"
      ]
     },
     "execution_count": 30,
     "metadata": {},
     "output_type": "execute_result"
    }
   ],
   "source": [
    "y_pred = xgb_tuned.predict(X_test)\n",
    "np.sqrt(mean_squared_error(y_test, y_pred))"
   ]
  },
  {
   "cell_type": "markdown",
   "id": "243a895b-d06a-4e8d-a388-79e0ac561fc0",
   "metadata": {},
   "source": [
    "## Light GBM "
   ]
  },
  {
   "cell_type": "code",
   "execution_count": 37,
   "id": "bb18288f-0c80-40c6-8553-12d0a4848a3a",
   "metadata": {},
   "outputs": [],
   "source": [
    "hit = pd.read_csv(\"Hitters.csv\")\n",
    "df = hit.copy()\n",
    "df = df.dropna()\n",
    "dms = pd.get_dummies(df[['League', 'Division', 'NewLeague']])\n",
    "y = df[\"Salary\"]\n",
    "X_ = df.drop([\"Salary\", \"League\", \"Division\", \"NewLeague\"], axis = 1).astype(\"float\")\n",
    "X = pd.concat([X_, dms[[\"League_N\", \"Division_W\", \"NewLeague_N\"]]], axis=1)\n",
    "X_train, X_test, y_train, y_test = train_test_split(X,\n",
    "                                                    y,\n",
    "                                                   test_size=0.25,\n",
    "                                                   random_state=42)"
   ]
  },
  {
   "cell_type": "code",
   "execution_count": 38,
   "id": "45bfc5a9-65ab-4147-963e-e70f1536e395",
   "metadata": {
    "collapsed": true,
    "jupyter": {
     "outputs_hidden": true
    },
    "tags": []
   },
   "outputs": [
    {
     "name": "stdout",
     "output_type": "stream",
     "text": [
      "Collecting lightgbm\n",
      "  Downloading lightgbm-3.3.2-py3-none-win_amd64.whl (1.0 MB)\n",
      "Requirement already satisfied: wheel in c:\\users\\lenovo\\anaconda3\\lib\\site-packages (from lightgbm) (0.36.2)\n",
      "Requirement already satisfied: scikit-learn!=0.22.0 in c:\\users\\lenovo\\anaconda3\\lib\\site-packages (from lightgbm) (0.24.1)\n",
      "Requirement already satisfied: scipy in c:\\users\\lenovo\\anaconda3\\lib\\site-packages (from lightgbm) (1.6.2)\n",
      "Requirement already satisfied: numpy in c:\\users\\lenovo\\anaconda3\\lib\\site-packages (from lightgbm) (1.20.1)\n",
      "Requirement already satisfied: joblib>=0.11 in c:\\users\\lenovo\\anaconda3\\lib\\site-packages (from scikit-learn!=0.22.0->lightgbm) (1.0.1)\n",
      "Requirement already satisfied: threadpoolctl>=2.0.0 in c:\\users\\lenovo\\anaconda3\\lib\\site-packages (from scikit-learn!=0.22.0->lightgbm) (2.1.0)\n",
      "Installing collected packages: lightgbm\n",
      "Successfully installed lightgbm-3.3.2\n"
     ]
    }
   ],
   "source": [
    "!pip install lightgbm"
   ]
  },
  {
   "cell_type": "code",
   "execution_count": 40,
   "id": "63fbf508-4e19-4932-a5ef-19732c79dfc1",
   "metadata": {},
   "outputs": [],
   "source": [
    "from lightgbm import LGBMRegressor"
   ]
  },
  {
   "cell_type": "code",
   "execution_count": 41,
   "id": "b833c8be-c7a6-45cc-91b0-de15efdada69",
   "metadata": {},
   "outputs": [],
   "source": [
    "lgbm = LGBMRegressor()\n",
    "lgbm_model = lgbm.fit(X_train, y_train)"
   ]
  },
  {
   "cell_type": "markdown",
   "id": "3d5b25de-8a5e-4597-b3dc-2d9be6e50db9",
   "metadata": {},
   "source": [
    "## Tahmin"
   ]
  },
  {
   "cell_type": "code",
   "execution_count": 43,
   "id": "2c72b8e9-89db-4de7-98d1-c42b81e10b0a",
   "metadata": {},
   "outputs": [],
   "source": [
    "y_pred = lgbm_model.predict(X_test, num_iteration = lgbm_model.best_iteration_)"
   ]
  },
  {
   "cell_type": "code",
   "execution_count": 44,
   "id": "97032bad-fe2e-49eb-8326-1bf482c81212",
   "metadata": {},
   "outputs": [
    {
     "data": {
      "text/plain": [
       "363.8712087611089"
      ]
     },
     "execution_count": 44,
     "metadata": {},
     "output_type": "execute_result"
    }
   ],
   "source": [
    "np.sqrt(mean_squared_error(y_test, y_pred))"
   ]
  },
  {
   "cell_type": "markdown",
   "id": "06b77cc4-5af9-4e46-bcac-05e3a2ad46ba",
   "metadata": {},
   "source": [
    "## Model Tuning"
   ]
  },
  {
   "cell_type": "code",
   "execution_count": 45,
   "id": "1e7a44e7-7a04-4f93-9cf2-c2feeeef3721",
   "metadata": {},
   "outputs": [
    {
     "data": {
      "text/plain": [
       "LGBMRegressor()"
      ]
     },
     "execution_count": 45,
     "metadata": {},
     "output_type": "execute_result"
    }
   ],
   "source": [
    "lgbm_model"
   ]
  },
  {
   "cell_type": "code",
   "execution_count": 48,
   "id": "bc73b0b7-62bc-419d-8d41-340342447d34",
   "metadata": {},
   "outputs": [],
   "source": [
    "lgbm_grid = {\n",
    "    'colsample_bytree': [0.4, 0.5, 0.6, 0.9, 1],\n",
    "    'learning_rate': [0.01, 0.1, 0.5, 1],\n",
    "    'n_estimators': [20, 40, 100, 200, 500, 1000],\n",
    "    'max_depth': [1,2,3,4,5,6,7,8]\n",
    "}\n",
    "\n",
    "lgbm = LGBMRegressor()\n",
    "lgbm_cv_model = GridSearchCV(lgbm, lgbm_grid, cv=10, n_jobs=-1, verbose = 2)"
   ]
  },
  {
   "cell_type": "code",
   "execution_count": 49,
   "id": "932c2e14-9dc6-4bee-bbf0-e38e3fb748f1",
   "metadata": {},
   "outputs": [
    {
     "name": "stdout",
     "output_type": "stream",
     "text": [
      "Fitting 10 folds for each of 960 candidates, totalling 9600 fits\n"
     ]
    },
    {
     "data": {
      "text/plain": [
       "GridSearchCV(cv=10, estimator=LGBMRegressor(), n_jobs=-1,\n",
       "             param_grid={'colsample_bytree': [0.4, 0.5, 0.6, 0.9, 1],\n",
       "                         'learning_rate': [0.01, 0.1, 0.5, 1],\n",
       "                         'max_depth': [1, 2, 3, 4, 5, 6, 7, 8],\n",
       "                         'n_estimators': [20, 40, 100, 200, 500, 1000]},\n",
       "             verbose=2)"
      ]
     },
     "execution_count": 49,
     "metadata": {},
     "output_type": "execute_result"
    }
   ],
   "source": [
    "lgbm_cv_model.fit(X_train, y_train)"
   ]
  },
  {
   "cell_type": "code",
   "execution_count": 50,
   "id": "8d89870b-c702-4605-bafa-4e3bc0e8cf7f",
   "metadata": {},
   "outputs": [
    {
     "data": {
      "text/plain": [
       "{'colsample_bytree': 0.5,\n",
       " 'learning_rate': 0.1,\n",
       " 'max_depth': 6,\n",
       " 'n_estimators': 20}"
      ]
     },
     "execution_count": 50,
     "metadata": {},
     "output_type": "execute_result"
    }
   ],
   "source": [
    "lgbm_cv_model.best_params_"
   ]
  },
  {
   "cell_type": "code",
   "execution_count": 51,
   "id": "e59dc49a-ca63-4c7a-888c-7af14c31e331",
   "metadata": {},
   "outputs": [],
   "source": [
    "lgbm_tuned = LGBMRegressor(learning_rate = 0.1,\n",
    "                          max_depth = 6,\n",
    "                          n_estimators = 20,\n",
    "                          colsample_bytree = 0.5)\n",
    "lgbm_tuned = lgbm_tuned.fit(X_train, y_train)"
   ]
  },
  {
   "cell_type": "code",
   "execution_count": 52,
   "id": "87af9d77-7b2c-4509-972d-ee43661e35d9",
   "metadata": {},
   "outputs": [],
   "source": [
    "y_pred = lgbm_tuned.predict(X_test)"
   ]
  },
  {
   "cell_type": "code",
   "execution_count": 53,
   "id": "bd2d568d-d2f3-4276-8e12-286109c54b01",
   "metadata": {},
   "outputs": [
    {
     "data": {
      "text/plain": [
       "375.6085209015434"
      ]
     },
     "execution_count": 53,
     "metadata": {},
     "output_type": "execute_result"
    }
   ],
   "source": [
    "np.sqrt(mean_squared_error(y_test, y_pred))"
   ]
  },
  {
   "cell_type": "markdown",
   "id": "57aa2ba2-eb16-44e7-abc8-3837bb493c0c",
   "metadata": {},
   "source": [
    "## CatBoost"
   ]
  },
  {
   "cell_type": "code",
   "execution_count": 54,
   "id": "07b5dae0-ec71-4fe4-af23-2ef1421abc1a",
   "metadata": {},
   "outputs": [],
   "source": [
    "hit = pd.read_csv(\"Hitters.csv\")\n",
    "df = hit.copy()\n",
    "df = df.dropna()\n",
    "dms = pd.get_dummies(df[['League', 'Division', 'NewLeague']])\n",
    "y = df[\"Salary\"]\n",
    "X_ = df.drop([\"Salary\", \"League\", \"Division\", \"NewLeague\"], axis = 1).astype(\"float\")\n",
    "X = pd.concat([X_, dms[[\"League_N\", \"Division_W\", \"NewLeague_N\"]]], axis=1)\n",
    "X_train, X_test, y_train, y_test = train_test_split(X,\n",
    "                                                    y,\n",
    "                                                   test_size=0.25,\n",
    "                                                   random_state=42)"
   ]
  },
  {
   "cell_type": "code",
   "execution_count": 55,
   "id": "6ca9e9d8-7c2a-4016-846c-b41dea82d0e4",
   "metadata": {
    "collapsed": true,
    "jupyter": {
     "outputs_hidden": true
    },
    "tags": []
   },
   "outputs": [
    {
     "name": "stdout",
     "output_type": "stream",
     "text": [
      "Collecting catboost\n",
      "  Downloading catboost-1.0.4-cp38-none-win_amd64.whl (73.5 MB)\n",
      "Requirement already satisfied: matplotlib in c:\\users\\lenovo\\anaconda3\\lib\\site-packages (from catboost) (3.3.4)\n",
      "Requirement already satisfied: numpy>=1.16.0 in c:\\users\\lenovo\\anaconda3\\lib\\site-packages (from catboost) (1.20.1)\n",
      "Requirement already satisfied: pandas>=0.24.0 in c:\\users\\lenovo\\anaconda3\\lib\\site-packages (from catboost) (1.2.4)\n",
      "Collecting graphviz\n",
      "  Downloading graphviz-0.19.1-py3-none-any.whl (46 kB)\n",
      "Requirement already satisfied: six in c:\\users\\lenovo\\anaconda3\\lib\\site-packages (from catboost) (1.15.0)\n",
      "Collecting plotly\n",
      "  Downloading plotly-5.6.0-py2.py3-none-any.whl (27.7 MB)\n",
      "Requirement already satisfied: scipy in c:\\users\\lenovo\\anaconda3\\lib\\site-packages (from catboost) (1.6.2)\n",
      "Requirement already satisfied: python-dateutil>=2.7.3 in c:\\users\\lenovo\\anaconda3\\lib\\site-packages (from pandas>=0.24.0->catboost) (2.8.1)\n",
      "Requirement already satisfied: pytz>=2017.3 in c:\\users\\lenovo\\anaconda3\\lib\\site-packages (from pandas>=0.24.0->catboost) (2021.1)\n",
      "Requirement already satisfied: kiwisolver>=1.0.1 in c:\\users\\lenovo\\anaconda3\\lib\\site-packages (from matplotlib->catboost) (1.3.1)\n",
      "Requirement already satisfied: pyparsing!=2.0.4,!=2.1.2,!=2.1.6,>=2.0.3 in c:\\users\\lenovo\\anaconda3\\lib\\site-packages (from matplotlib->catboost) (2.4.7)\n",
      "Requirement already satisfied: pillow>=6.2.0 in c:\\users\\lenovo\\anaconda3\\lib\\site-packages (from matplotlib->catboost) (8.2.0)\n",
      "Requirement already satisfied: cycler>=0.10 in c:\\users\\lenovo\\anaconda3\\lib\\site-packages (from matplotlib->catboost) (0.10.0)\n",
      "Collecting tenacity>=6.2.0\n",
      "  Downloading tenacity-8.0.1-py3-none-any.whl (24 kB)\n",
      "Installing collected packages: tenacity, plotly, graphviz, catboost\n",
      "Successfully installed catboost-1.0.4 graphviz-0.19.1 plotly-5.6.0 tenacity-8.0.1\n"
     ]
    }
   ],
   "source": [
    "!pip install catboost"
   ]
  },
  {
   "cell_type": "code",
   "execution_count": 56,
   "id": "ae43767c-31e8-4c45-aa61-d8311c94a4e1",
   "metadata": {},
   "outputs": [],
   "source": [
    "from catboost import CatBoostRegressor"
   ]
  },
  {
   "cell_type": "code",
   "execution_count": 57,
   "id": "905b8e35-f8c7-4b39-8b0a-11e6ea184cbd",
   "metadata": {
    "collapsed": true,
    "jupyter": {
     "outputs_hidden": true
    },
    "tags": []
   },
   "outputs": [
    {
     "name": "stdout",
     "output_type": "stream",
     "text": [
      "Learning rate set to 0.031674\n",
      "0:\tlearn: 437.6430699\ttotal: 145ms\tremaining: 2m 24s\n",
      "1:\tlearn: 431.3923642\ttotal: 148ms\tremaining: 1m 13s\n",
      "2:\tlearn: 424.8820360\ttotal: 150ms\tremaining: 50s\n",
      "3:\tlearn: 418.2514904\ttotal: 153ms\tremaining: 38.1s\n",
      "4:\tlearn: 412.6394021\ttotal: 156ms\tremaining: 31s\n",
      "5:\tlearn: 406.6247020\ttotal: 158ms\tremaining: 26.2s\n",
      "6:\tlearn: 400.5321206\ttotal: 161ms\tremaining: 22.8s\n",
      "7:\tlearn: 394.6683437\ttotal: 163ms\tremaining: 20.3s\n",
      "8:\tlearn: 388.2496484\ttotal: 166ms\tremaining: 18.2s\n",
      "9:\tlearn: 382.9448842\ttotal: 171ms\tremaining: 16.9s\n",
      "10:\tlearn: 377.2600080\ttotal: 174ms\tremaining: 15.6s\n",
      "11:\tlearn: 372.4829606\ttotal: 179ms\tremaining: 14.7s\n",
      "12:\tlearn: 366.6823437\ttotal: 182ms\tremaining: 13.8s\n",
      "13:\tlearn: 362.6076230\ttotal: 185ms\tremaining: 13s\n",
      "14:\tlearn: 358.0107745\ttotal: 188ms\tremaining: 12.4s\n",
      "15:\tlearn: 353.2802665\ttotal: 192ms\tremaining: 11.8s\n",
      "16:\tlearn: 348.5646265\ttotal: 197ms\tremaining: 11.4s\n",
      "17:\tlearn: 343.6407912\ttotal: 201ms\tremaining: 11s\n",
      "18:\tlearn: 339.2363847\ttotal: 205ms\tremaining: 10.6s\n",
      "19:\tlearn: 334.3431252\ttotal: 208ms\tremaining: 10.2s\n",
      "20:\tlearn: 330.3247028\ttotal: 211ms\tremaining: 9.83s\n",
      "21:\tlearn: 326.6118334\ttotal: 215ms\tremaining: 9.57s\n",
      "22:\tlearn: 322.7759981\ttotal: 218ms\tremaining: 9.26s\n",
      "23:\tlearn: 318.9511822\ttotal: 221ms\tremaining: 8.97s\n",
      "24:\tlearn: 315.4216253\ttotal: 223ms\tremaining: 8.7s\n",
      "25:\tlearn: 311.3551377\ttotal: 227ms\tremaining: 8.49s\n",
      "26:\tlearn: 308.1492371\ttotal: 230ms\tremaining: 8.28s\n",
      "27:\tlearn: 304.7284729\ttotal: 233ms\tremaining: 8.08s\n",
      "28:\tlearn: 301.3893204\ttotal: 235ms\tremaining: 7.88s\n",
      "29:\tlearn: 298.2080758\ttotal: 238ms\tremaining: 7.69s\n",
      "30:\tlearn: 295.6878398\ttotal: 241ms\tremaining: 7.53s\n",
      "31:\tlearn: 292.3912243\ttotal: 243ms\tremaining: 7.36s\n",
      "32:\tlearn: 289.6345744\ttotal: 246ms\tremaining: 7.21s\n",
      "33:\tlearn: 287.2158711\ttotal: 249ms\tremaining: 7.09s\n",
      "34:\tlearn: 284.3879081\ttotal: 252ms\tremaining: 6.94s\n",
      "35:\tlearn: 281.7994818\ttotal: 255ms\tremaining: 6.82s\n",
      "36:\tlearn: 279.2028261\ttotal: 257ms\tremaining: 6.69s\n",
      "37:\tlearn: 276.5821160\ttotal: 260ms\tremaining: 6.59s\n",
      "38:\tlearn: 273.8890894\ttotal: 263ms\tremaining: 6.48s\n",
      "39:\tlearn: 271.1681677\ttotal: 266ms\tremaining: 6.37s\n",
      "40:\tlearn: 269.0159531\ttotal: 268ms\tremaining: 6.28s\n",
      "41:\tlearn: 266.3601804\ttotal: 271ms\tremaining: 6.17s\n",
      "42:\tlearn: 263.8608958\ttotal: 274ms\tremaining: 6.09s\n",
      "43:\tlearn: 261.1405566\ttotal: 276ms\tremaining: 6s\n",
      "44:\tlearn: 258.9314736\ttotal: 279ms\tremaining: 5.91s\n",
      "45:\tlearn: 256.3885577\ttotal: 281ms\tremaining: 5.83s\n",
      "46:\tlearn: 254.2857349\ttotal: 284ms\tremaining: 5.75s\n",
      "47:\tlearn: 252.2347121\ttotal: 286ms\tremaining: 5.68s\n",
      "48:\tlearn: 250.1779367\ttotal: 289ms\tremaining: 5.6s\n",
      "49:\tlearn: 248.2687430\ttotal: 292ms\tremaining: 5.54s\n",
      "50:\tlearn: 246.3685582\ttotal: 294ms\tremaining: 5.47s\n",
      "51:\tlearn: 244.8719988\ttotal: 297ms\tremaining: 5.41s\n",
      "52:\tlearn: 242.7348892\ttotal: 300ms\tremaining: 5.36s\n",
      "53:\tlearn: 241.1611112\ttotal: 303ms\tremaining: 5.31s\n",
      "54:\tlearn: 239.4819462\ttotal: 306ms\tremaining: 5.26s\n",
      "55:\tlearn: 237.3877895\ttotal: 310ms\tremaining: 5.22s\n",
      "56:\tlearn: 235.7619262\ttotal: 313ms\tremaining: 5.17s\n",
      "57:\tlearn: 233.9604804\ttotal: 316ms\tremaining: 5.14s\n",
      "58:\tlearn: 232.4948011\ttotal: 319ms\tremaining: 5.09s\n",
      "59:\tlearn: 230.6283304\ttotal: 322ms\tremaining: 5.05s\n",
      "60:\tlearn: 228.9920307\ttotal: 325ms\tremaining: 5s\n",
      "61:\tlearn: 227.5197637\ttotal: 328ms\tremaining: 4.96s\n",
      "62:\tlearn: 226.0561213\ttotal: 330ms\tremaining: 4.91s\n",
      "63:\tlearn: 224.3484762\ttotal: 333ms\tremaining: 4.88s\n",
      "64:\tlearn: 223.0652023\ttotal: 338ms\tremaining: 4.87s\n",
      "65:\tlearn: 221.6608069\ttotal: 342ms\tremaining: 4.83s\n",
      "66:\tlearn: 220.2445284\ttotal: 345ms\tremaining: 4.8s\n",
      "67:\tlearn: 219.0044262\ttotal: 349ms\tremaining: 4.78s\n",
      "68:\tlearn: 217.4624313\ttotal: 352ms\tremaining: 4.75s\n",
      "69:\tlearn: 216.0502248\ttotal: 355ms\tremaining: 4.71s\n",
      "70:\tlearn: 214.5361705\ttotal: 358ms\tremaining: 4.68s\n",
      "71:\tlearn: 213.1812509\ttotal: 360ms\tremaining: 4.64s\n",
      "72:\tlearn: 211.7399390\ttotal: 364ms\tremaining: 4.62s\n",
      "73:\tlearn: 210.5557639\ttotal: 367ms\tremaining: 4.6s\n",
      "74:\tlearn: 209.4242283\ttotal: 372ms\tremaining: 4.59s\n",
      "75:\tlearn: 208.4366109\ttotal: 375ms\tremaining: 4.56s\n",
      "76:\tlearn: 207.4514860\ttotal: 378ms\tremaining: 4.53s\n",
      "77:\tlearn: 206.1912213\ttotal: 383ms\tremaining: 4.52s\n",
      "78:\tlearn: 205.2585316\ttotal: 385ms\tremaining: 4.49s\n",
      "79:\tlearn: 203.8747879\ttotal: 388ms\tremaining: 4.46s\n",
      "80:\tlearn: 202.5993031\ttotal: 390ms\tremaining: 4.43s\n",
      "81:\tlearn: 201.4719061\ttotal: 393ms\tremaining: 4.4s\n",
      "82:\tlearn: 200.2871874\ttotal: 396ms\tremaining: 4.37s\n",
      "83:\tlearn: 199.1074683\ttotal: 398ms\tremaining: 4.34s\n",
      "84:\tlearn: 197.8511342\ttotal: 402ms\tremaining: 4.32s\n",
      "85:\tlearn: 196.8788042\ttotal: 404ms\tremaining: 4.29s\n",
      "86:\tlearn: 195.9815130\ttotal: 407ms\tremaining: 4.27s\n",
      "87:\tlearn: 195.0807956\ttotal: 410ms\tremaining: 4.24s\n",
      "88:\tlearn: 193.9775466\ttotal: 412ms\tremaining: 4.22s\n",
      "89:\tlearn: 192.8810426\ttotal: 416ms\tremaining: 4.21s\n",
      "90:\tlearn: 192.5363626\ttotal: 419ms\tremaining: 4.19s\n",
      "91:\tlearn: 191.3259849\ttotal: 422ms\tremaining: 4.17s\n",
      "92:\tlearn: 190.3650025\ttotal: 426ms\tremaining: 4.16s\n",
      "93:\tlearn: 189.3255643\ttotal: 429ms\tremaining: 4.13s\n",
      "94:\tlearn: 188.2433480\ttotal: 431ms\tremaining: 4.11s\n",
      "95:\tlearn: 187.2786096\ttotal: 434ms\tremaining: 4.08s\n",
      "96:\tlearn: 186.1284681\ttotal: 437ms\tremaining: 4.07s\n",
      "97:\tlearn: 185.0190872\ttotal: 439ms\tremaining: 4.04s\n",
      "98:\tlearn: 184.2888024\ttotal: 443ms\tremaining: 4.03s\n",
      "99:\tlearn: 183.3111217\ttotal: 445ms\tremaining: 4s\n",
      "100:\tlearn: 182.2519940\ttotal: 447ms\tremaining: 3.98s\n",
      "101:\tlearn: 181.0186200\ttotal: 451ms\tremaining: 3.97s\n",
      "102:\tlearn: 179.9672344\ttotal: 453ms\tremaining: 3.94s\n",
      "103:\tlearn: 178.9776753\ttotal: 456ms\tremaining: 3.93s\n",
      "104:\tlearn: 178.2445101\ttotal: 458ms\tremaining: 3.91s\n",
      "105:\tlearn: 177.4055906\ttotal: 461ms\tremaining: 3.89s\n",
      "106:\tlearn: 176.2405445\ttotal: 464ms\tremaining: 3.87s\n",
      "107:\tlearn: 175.1813091\ttotal: 466ms\tremaining: 3.85s\n",
      "108:\tlearn: 174.5537682\ttotal: 469ms\tremaining: 3.83s\n",
      "109:\tlearn: 173.8231890\ttotal: 471ms\tremaining: 3.81s\n",
      "110:\tlearn: 172.9324461\ttotal: 474ms\tremaining: 3.79s\n",
      "111:\tlearn: 172.0019421\ttotal: 476ms\tremaining: 3.78s\n",
      "112:\tlearn: 171.2945678\ttotal: 479ms\tremaining: 3.76s\n",
      "113:\tlearn: 170.4815313\ttotal: 481ms\tremaining: 3.74s\n",
      "114:\tlearn: 169.9491294\ttotal: 484ms\tremaining: 3.72s\n",
      "115:\tlearn: 169.2483859\ttotal: 487ms\tremaining: 3.71s\n",
      "116:\tlearn: 168.7342383\ttotal: 489ms\tremaining: 3.69s\n",
      "117:\tlearn: 168.1837140\ttotal: 492ms\tremaining: 3.68s\n",
      "118:\tlearn: 167.1222358\ttotal: 495ms\tremaining: 3.66s\n",
      "119:\tlearn: 166.3472734\ttotal: 497ms\tremaining: 3.65s\n",
      "120:\tlearn: 165.5330342\ttotal: 500ms\tremaining: 3.63s\n",
      "121:\tlearn: 164.8476246\ttotal: 503ms\tremaining: 3.62s\n",
      "122:\tlearn: 164.2399797\ttotal: 507ms\tremaining: 3.62s\n",
      "123:\tlearn: 164.0121571\ttotal: 510ms\tremaining: 3.6s\n",
      "124:\tlearn: 162.9794212\ttotal: 514ms\tremaining: 3.59s\n",
      "125:\tlearn: 162.2095741\ttotal: 517ms\tremaining: 3.58s\n",
      "126:\tlearn: 161.1695920\ttotal: 522ms\tremaining: 3.58s\n",
      "127:\tlearn: 160.3516612\ttotal: 525ms\tremaining: 3.58s\n",
      "128:\tlearn: 159.1596356\ttotal: 528ms\tremaining: 3.57s\n",
      "129:\tlearn: 158.5354394\ttotal: 532ms\tremaining: 3.56s\n",
      "130:\tlearn: 157.5922383\ttotal: 535ms\tremaining: 3.55s\n",
      "131:\tlearn: 156.9689796\ttotal: 539ms\tremaining: 3.54s\n",
      "132:\tlearn: 156.4170623\ttotal: 543ms\tremaining: 3.54s\n",
      "133:\tlearn: 156.1222595\ttotal: 546ms\tremaining: 3.53s\n",
      "134:\tlearn: 155.5996569\ttotal: 550ms\tremaining: 3.53s\n",
      "135:\tlearn: 154.8990155\ttotal: 553ms\tremaining: 3.51s\n",
      "136:\tlearn: 154.3704896\ttotal: 555ms\tremaining: 3.5s\n",
      "137:\tlearn: 153.8560012\ttotal: 558ms\tremaining: 3.48s\n",
      "138:\tlearn: 153.2399938\ttotal: 561ms\tremaining: 3.47s\n",
      "139:\tlearn: 152.2142414\ttotal: 564ms\tremaining: 3.46s\n",
      "140:\tlearn: 151.5976950\ttotal: 567ms\tremaining: 3.45s\n",
      "141:\tlearn: 151.4426506\ttotal: 569ms\tremaining: 3.44s\n",
      "142:\tlearn: 150.8467135\ttotal: 572ms\tremaining: 3.43s\n",
      "143:\tlearn: 150.0175883\ttotal: 574ms\tremaining: 3.41s\n",
      "144:\tlearn: 149.6327647\ttotal: 577ms\tremaining: 3.4s\n",
      "145:\tlearn: 148.9265718\ttotal: 580ms\tremaining: 3.39s\n",
      "146:\tlearn: 148.4460764\ttotal: 583ms\tremaining: 3.38s\n",
      "147:\tlearn: 147.8108318\ttotal: 585ms\tremaining: 3.37s\n",
      "148:\tlearn: 147.2766525\ttotal: 588ms\tremaining: 3.36s\n",
      "149:\tlearn: 146.8537279\ttotal: 590ms\tremaining: 3.35s\n",
      "150:\tlearn: 146.0227438\ttotal: 593ms\tremaining: 3.34s\n",
      "151:\tlearn: 145.5603059\ttotal: 596ms\tremaining: 3.33s\n",
      "152:\tlearn: 145.0318400\ttotal: 599ms\tremaining: 3.31s\n",
      "153:\tlearn: 144.6082188\ttotal: 602ms\tremaining: 3.31s\n",
      "154:\tlearn: 144.2070501\ttotal: 604ms\tremaining: 3.29s\n",
      "155:\tlearn: 143.8060676\ttotal: 607ms\tremaining: 3.29s\n",
      "156:\tlearn: 143.3819707\ttotal: 610ms\tremaining: 3.28s\n",
      "157:\tlearn: 143.0764402\ttotal: 613ms\tremaining: 3.27s\n",
      "158:\tlearn: 142.4609449\ttotal: 616ms\tremaining: 3.26s\n",
      "159:\tlearn: 142.3321970\ttotal: 619ms\tremaining: 3.25s\n",
      "160:\tlearn: 141.9044208\ttotal: 622ms\tremaining: 3.24s\n",
      "161:\tlearn: 141.4544471\ttotal: 624ms\tremaining: 3.23s\n",
      "162:\tlearn: 140.9391569\ttotal: 627ms\tremaining: 3.22s\n",
      "163:\tlearn: 140.3413557\ttotal: 629ms\tremaining: 3.21s\n",
      "164:\tlearn: 139.7992277\ttotal: 632ms\tremaining: 3.2s\n",
      "165:\tlearn: 139.3139418\ttotal: 635ms\tremaining: 3.19s\n",
      "166:\tlearn: 139.1617594\ttotal: 637ms\tremaining: 3.18s\n",
      "167:\tlearn: 138.8837397\ttotal: 639ms\tremaining: 3.17s\n",
      "168:\tlearn: 138.6951410\ttotal: 641ms\tremaining: 3.15s\n",
      "169:\tlearn: 138.0167618\ttotal: 643ms\tremaining: 3.14s\n",
      "170:\tlearn: 137.7020324\ttotal: 645ms\tremaining: 3.13s\n",
      "171:\tlearn: 137.1976478\ttotal: 647ms\tremaining: 3.12s\n",
      "172:\tlearn: 136.6670434\ttotal: 650ms\tremaining: 3.1s\n",
      "173:\tlearn: 136.4670074\ttotal: 652ms\tremaining: 3.1s\n",
      "174:\tlearn: 136.0663779\ttotal: 655ms\tremaining: 3.08s\n",
      "175:\tlearn: 135.9542221\ttotal: 657ms\tremaining: 3.07s\n",
      "176:\tlearn: 135.6178437\ttotal: 659ms\tremaining: 3.06s\n",
      "177:\tlearn: 134.6062854\ttotal: 661ms\tremaining: 3.05s\n",
      "178:\tlearn: 134.5063344\ttotal: 661ms\tremaining: 3.03s\n",
      "179:\tlearn: 133.9371247\ttotal: 664ms\tremaining: 3.02s\n",
      "180:\tlearn: 133.8431589\ttotal: 664ms\tremaining: 3s\n",
      "181:\tlearn: 133.4293648\ttotal: 666ms\tremaining: 2.99s\n",
      "182:\tlearn: 133.2065999\ttotal: 668ms\tremaining: 2.98s\n",
      "183:\tlearn: 132.9235113\ttotal: 670ms\tremaining: 2.97s\n",
      "184:\tlearn: 132.6695944\ttotal: 672ms\tremaining: 2.96s\n",
      "185:\tlearn: 132.3135234\ttotal: 674ms\tremaining: 2.95s\n",
      "186:\tlearn: 132.2233433\ttotal: 676ms\tremaining: 2.94s\n",
      "187:\tlearn: 132.0628764\ttotal: 680ms\tremaining: 2.94s\n",
      "188:\tlearn: 131.8624217\ttotal: 683ms\tremaining: 2.93s\n",
      "189:\tlearn: 131.3846390\ttotal: 686ms\tremaining: 2.92s\n",
      "190:\tlearn: 131.0638781\ttotal: 688ms\tremaining: 2.91s\n",
      "191:\tlearn: 130.4721276\ttotal: 691ms\tremaining: 2.91s\n",
      "192:\tlearn: 129.9910319\ttotal: 696ms\tremaining: 2.91s\n",
      "193:\tlearn: 129.7074214\ttotal: 699ms\tremaining: 2.9s\n",
      "194:\tlearn: 129.0491404\ttotal: 702ms\tremaining: 2.9s\n",
      "195:\tlearn: 128.6928621\ttotal: 705ms\tremaining: 2.89s\n",
      "196:\tlearn: 128.5117514\ttotal: 708ms\tremaining: 2.88s\n",
      "197:\tlearn: 128.4035709\ttotal: 710ms\tremaining: 2.88s\n",
      "198:\tlearn: 127.9924182\ttotal: 712ms\tremaining: 2.87s\n",
      "199:\tlearn: 127.7690317\ttotal: 716ms\tremaining: 2.86s\n",
      "200:\tlearn: 127.6252249\ttotal: 718ms\tremaining: 2.85s\n",
      "201:\tlearn: 127.4951417\ttotal: 720ms\tremaining: 2.84s\n",
      "202:\tlearn: 127.0315349\ttotal: 722ms\tremaining: 2.83s\n",
      "203:\tlearn: 126.7791475\ttotal: 724ms\tremaining: 2.83s\n",
      "204:\tlearn: 126.4903107\ttotal: 726ms\tremaining: 2.82s\n",
      "205:\tlearn: 126.0664803\ttotal: 730ms\tremaining: 2.81s\n",
      "206:\tlearn: 125.3934071\ttotal: 732ms\tremaining: 2.81s\n",
      "207:\tlearn: 125.0899622\ttotal: 734ms\tremaining: 2.8s\n",
      "208:\tlearn: 124.7757310\ttotal: 736ms\tremaining: 2.79s\n",
      "209:\tlearn: 124.5475960\ttotal: 739ms\tremaining: 2.78s\n",
      "210:\tlearn: 124.1962887\ttotal: 741ms\tremaining: 2.77s\n",
      "211:\tlearn: 123.9686937\ttotal: 743ms\tremaining: 2.76s\n",
      "212:\tlearn: 123.0280048\ttotal: 745ms\tremaining: 2.75s\n",
      "213:\tlearn: 122.5447141\ttotal: 747ms\tremaining: 2.74s\n",
      "214:\tlearn: 122.1785305\ttotal: 749ms\tremaining: 2.73s\n",
      "215:\tlearn: 121.4403560\ttotal: 751ms\tremaining: 2.73s\n",
      "216:\tlearn: 120.8269584\ttotal: 753ms\tremaining: 2.72s\n",
      "217:\tlearn: 120.2399329\ttotal: 755ms\tremaining: 2.71s\n",
      "218:\tlearn: 119.4852557\ttotal: 757ms\tremaining: 2.7s\n",
      "219:\tlearn: 119.2094151\ttotal: 760ms\tremaining: 2.69s\n",
      "220:\tlearn: 119.0417229\ttotal: 761ms\tremaining: 2.68s\n",
      "221:\tlearn: 118.9557915\ttotal: 764ms\tremaining: 2.67s\n",
      "222:\tlearn: 118.3082421\ttotal: 766ms\tremaining: 2.67s\n",
      "223:\tlearn: 117.7364211\ttotal: 768ms\tremaining: 2.66s\n",
      "224:\tlearn: 117.6324235\ttotal: 769ms\tremaining: 2.65s\n",
      "225:\tlearn: 117.2879743\ttotal: 771ms\tremaining: 2.64s\n",
      "226:\tlearn: 117.0422612\ttotal: 774ms\tremaining: 2.63s\n",
      "227:\tlearn: 116.8001379\ttotal: 776ms\tremaining: 2.63s\n",
      "228:\tlearn: 116.4854978\ttotal: 778ms\tremaining: 2.62s\n",
      "229:\tlearn: 115.7559740\ttotal: 780ms\tremaining: 2.61s\n",
      "230:\tlearn: 115.1896271\ttotal: 782ms\tremaining: 2.6s\n",
      "231:\tlearn: 114.9666291\ttotal: 784ms\tremaining: 2.59s\n",
      "232:\tlearn: 114.1239318\ttotal: 786ms\tremaining: 2.59s\n",
      "233:\tlearn: 113.9964466\ttotal: 788ms\tremaining: 2.58s\n",
      "234:\tlearn: 113.8912592\ttotal: 791ms\tremaining: 2.57s\n",
      "235:\tlearn: 113.4606970\ttotal: 793ms\tremaining: 2.56s\n",
      "236:\tlearn: 113.0958922\ttotal: 795ms\tremaining: 2.56s\n",
      "237:\tlearn: 113.0091361\ttotal: 797ms\tremaining: 2.55s\n",
      "238:\tlearn: 112.7657197\ttotal: 799ms\tremaining: 2.54s\n",
      "239:\tlearn: 112.2315070\ttotal: 801ms\tremaining: 2.54s\n",
      "240:\tlearn: 111.9507125\ttotal: 803ms\tremaining: 2.53s\n",
      "241:\tlearn: 111.7384492\ttotal: 805ms\tremaining: 2.52s\n",
      "242:\tlearn: 111.0693763\ttotal: 807ms\tremaining: 2.51s\n",
      "243:\tlearn: 110.3499926\ttotal: 809ms\tremaining: 2.51s\n",
      "244:\tlearn: 110.2316231\ttotal: 811ms\tremaining: 2.5s\n",
      "245:\tlearn: 109.6985998\ttotal: 813ms\tremaining: 2.49s\n",
      "246:\tlearn: 109.4279824\ttotal: 815ms\tremaining: 2.48s\n",
      "247:\tlearn: 109.1466762\ttotal: 818ms\tremaining: 2.48s\n",
      "248:\tlearn: 108.9628542\ttotal: 820ms\tremaining: 2.47s\n",
      "249:\tlearn: 108.7268676\ttotal: 822ms\tremaining: 2.46s\n",
      "250:\tlearn: 108.0921190\ttotal: 824ms\tremaining: 2.46s\n",
      "251:\tlearn: 107.6167844\ttotal: 826ms\tremaining: 2.45s\n",
      "252:\tlearn: 106.9716563\ttotal: 828ms\tremaining: 2.44s\n",
      "253:\tlearn: 106.4272485\ttotal: 830ms\tremaining: 2.44s\n",
      "254:\tlearn: 106.2032614\ttotal: 832ms\tremaining: 2.43s\n",
      "255:\tlearn: 105.5756794\ttotal: 834ms\tremaining: 2.42s\n",
      "256:\tlearn: 105.4918649\ttotal: 836ms\tremaining: 2.42s\n",
      "257:\tlearn: 105.2466976\ttotal: 838ms\tremaining: 2.41s\n",
      "258:\tlearn: 105.0461428\ttotal: 840ms\tremaining: 2.4s\n",
      "259:\tlearn: 104.5887628\ttotal: 842ms\tremaining: 2.4s\n",
      "260:\tlearn: 104.1305873\ttotal: 846ms\tremaining: 2.4s\n",
      "261:\tlearn: 103.5527158\ttotal: 849ms\tremaining: 2.39s\n",
      "262:\tlearn: 103.0334823\ttotal: 852ms\tremaining: 2.39s\n",
      "263:\tlearn: 102.6732388\ttotal: 854ms\tremaining: 2.38s\n",
      "264:\tlearn: 102.4678728\ttotal: 856ms\tremaining: 2.38s\n",
      "265:\tlearn: 101.9608852\ttotal: 859ms\tremaining: 2.37s\n",
      "266:\tlearn: 101.4449668\ttotal: 862ms\tremaining: 2.37s\n",
      "267:\tlearn: 100.9647899\ttotal: 865ms\tremaining: 2.36s\n",
      "268:\tlearn: 100.4376357\ttotal: 867ms\tremaining: 2.36s\n",
      "269:\tlearn: 100.1038322\ttotal: 870ms\tremaining: 2.35s\n",
      "270:\tlearn: 99.8991183\ttotal: 872ms\tremaining: 2.35s\n",
      "271:\tlearn: 99.4016031\ttotal: 875ms\tremaining: 2.34s\n",
      "272:\tlearn: 98.9231252\ttotal: 878ms\tremaining: 2.34s\n",
      "273:\tlearn: 98.5734863\ttotal: 880ms\tremaining: 2.33s\n",
      "274:\tlearn: 98.3333355\ttotal: 883ms\tremaining: 2.33s\n",
      "275:\tlearn: 97.9164082\ttotal: 885ms\tremaining: 2.32s\n",
      "276:\tlearn: 97.3911203\ttotal: 889ms\tremaining: 2.32s\n",
      "277:\tlearn: 96.9317789\ttotal: 891ms\tremaining: 2.31s\n",
      "278:\tlearn: 96.6243997\ttotal: 896ms\tremaining: 2.31s\n",
      "279:\tlearn: 96.3288821\ttotal: 898ms\tremaining: 2.31s\n",
      "280:\tlearn: 95.8579534\ttotal: 901ms\tremaining: 2.3s\n",
      "281:\tlearn: 95.4136026\ttotal: 903ms\tremaining: 2.3s\n",
      "282:\tlearn: 95.3442077\ttotal: 906ms\tremaining: 2.29s\n",
      "283:\tlearn: 95.1166584\ttotal: 908ms\tremaining: 2.29s\n",
      "284:\tlearn: 94.8017360\ttotal: 910ms\tremaining: 2.28s\n",
      "285:\tlearn: 94.5863908\ttotal: 912ms\tremaining: 2.28s\n",
      "286:\tlearn: 94.4111694\ttotal: 915ms\tremaining: 2.27s\n",
      "287:\tlearn: 94.2678024\ttotal: 917ms\tremaining: 2.27s\n",
      "288:\tlearn: 93.7753419\ttotal: 919ms\tremaining: 2.26s\n",
      "289:\tlearn: 93.3772710\ttotal: 921ms\tremaining: 2.25s\n",
      "290:\tlearn: 92.8750904\ttotal: 923ms\tremaining: 2.25s\n",
      "291:\tlearn: 92.6654794\ttotal: 925ms\tremaining: 2.24s\n",
      "292:\tlearn: 92.2659876\ttotal: 927ms\tremaining: 2.24s\n",
      "293:\tlearn: 92.0282495\ttotal: 929ms\tremaining: 2.23s\n",
      "294:\tlearn: 91.8288855\ttotal: 931ms\tremaining: 2.22s\n",
      "295:\tlearn: 91.6752612\ttotal: 933ms\tremaining: 2.22s\n",
      "296:\tlearn: 91.2561883\ttotal: 935ms\tremaining: 2.21s\n",
      "297:\tlearn: 91.0227123\ttotal: 937ms\tremaining: 2.21s\n",
      "298:\tlearn: 90.8392142\ttotal: 939ms\tremaining: 2.2s\n",
      "299:\tlearn: 90.6853014\ttotal: 941ms\tremaining: 2.19s\n",
      "300:\tlearn: 90.5986761\ttotal: 943ms\tremaining: 2.19s\n",
      "301:\tlearn: 90.2180036\ttotal: 945ms\tremaining: 2.18s\n",
      "302:\tlearn: 89.8313622\ttotal: 947ms\tremaining: 2.18s\n",
      "303:\tlearn: 89.6872837\ttotal: 949ms\tremaining: 2.17s\n",
      "304:\tlearn: 89.3853276\ttotal: 951ms\tremaining: 2.17s\n",
      "305:\tlearn: 88.9459206\ttotal: 953ms\tremaining: 2.16s\n",
      "306:\tlearn: 88.7258770\ttotal: 955ms\tremaining: 2.15s\n",
      "307:\tlearn: 88.5374358\ttotal: 957ms\tremaining: 2.15s\n",
      "308:\tlearn: 88.0624447\ttotal: 960ms\tremaining: 2.15s\n",
      "309:\tlearn: 87.7942692\ttotal: 962ms\tremaining: 2.14s\n",
      "310:\tlearn: 87.6354184\ttotal: 964ms\tremaining: 2.13s\n",
      "311:\tlearn: 87.4879486\ttotal: 966ms\tremaining: 2.13s\n",
      "312:\tlearn: 87.0294739\ttotal: 968ms\tremaining: 2.12s\n",
      "313:\tlearn: 86.6746221\ttotal: 970ms\tremaining: 2.12s\n",
      "314:\tlearn: 86.2792146\ttotal: 972ms\tremaining: 2.11s\n",
      "315:\tlearn: 86.2127070\ttotal: 974ms\tremaining: 2.11s\n",
      "316:\tlearn: 86.1507368\ttotal: 976ms\tremaining: 2.1s\n",
      "317:\tlearn: 85.7089141\ttotal: 978ms\tremaining: 2.1s\n",
      "318:\tlearn: 85.6035137\ttotal: 980ms\tremaining: 2.09s\n",
      "319:\tlearn: 85.3587988\ttotal: 982ms\tremaining: 2.09s\n",
      "320:\tlearn: 84.9660906\ttotal: 984ms\tremaining: 2.08s\n",
      "321:\tlearn: 84.5474713\ttotal: 986ms\tremaining: 2.08s\n",
      "322:\tlearn: 84.1996852\ttotal: 988ms\tremaining: 2.07s\n",
      "323:\tlearn: 84.0654282\ttotal: 990ms\tremaining: 2.07s\n",
      "324:\tlearn: 83.7937327\ttotal: 992ms\tremaining: 2.06s\n",
      "325:\tlearn: 83.5064288\ttotal: 994ms\tremaining: 2.06s\n",
      "326:\tlearn: 83.3997655\ttotal: 996ms\tremaining: 2.05s\n",
      "327:\tlearn: 83.2958622\ttotal: 999ms\tremaining: 2.04s\n",
      "328:\tlearn: 82.9877578\ttotal: 1s\tremaining: 2.04s\n",
      "329:\tlearn: 82.6286638\ttotal: 1s\tremaining: 2.04s\n",
      "330:\tlearn: 82.2827132\ttotal: 1s\tremaining: 2.03s\n",
      "331:\tlearn: 82.0895251\ttotal: 1.01s\tremaining: 2.03s\n",
      "332:\tlearn: 82.0130649\ttotal: 1.01s\tremaining: 2.02s\n",
      "333:\tlearn: 81.6771734\ttotal: 1.01s\tremaining: 2.02s\n",
      "334:\tlearn: 81.3519124\ttotal: 1.02s\tremaining: 2.02s\n",
      "335:\tlearn: 81.0170326\ttotal: 1.02s\tremaining: 2.02s\n",
      "336:\tlearn: 80.6917886\ttotal: 1.02s\tremaining: 2.01s\n",
      "337:\tlearn: 80.3455177\ttotal: 1.03s\tremaining: 2.01s\n",
      "338:\tlearn: 80.0260727\ttotal: 1.03s\tremaining: 2.01s\n",
      "339:\tlearn: 79.9154748\ttotal: 1.03s\tremaining: 2.01s\n",
      "340:\tlearn: 79.7813079\ttotal: 1.04s\tremaining: 2s\n",
      "341:\tlearn: 79.3513293\ttotal: 1.04s\tremaining: 2s\n",
      "342:\tlearn: 78.8666019\ttotal: 1.04s\tremaining: 2s\n",
      "343:\tlearn: 78.7959013\ttotal: 1.05s\tremaining: 2s\n",
      "344:\tlearn: 78.7081334\ttotal: 1.05s\tremaining: 1.99s\n",
      "345:\tlearn: 78.3354931\ttotal: 1.05s\tremaining: 1.99s\n",
      "346:\tlearn: 77.9475067\ttotal: 1.06s\tremaining: 1.99s\n",
      "347:\tlearn: 77.8910420\ttotal: 1.06s\tremaining: 1.99s\n",
      "348:\tlearn: 77.5461672\ttotal: 1.06s\tremaining: 1.98s\n",
      "349:\tlearn: 77.3717101\ttotal: 1.07s\tremaining: 1.98s\n",
      "350:\tlearn: 77.0729657\ttotal: 1.07s\tremaining: 1.98s\n",
      "351:\tlearn: 76.7699287\ttotal: 1.07s\tremaining: 1.97s\n",
      "352:\tlearn: 76.6029759\ttotal: 1.08s\tremaining: 1.97s\n",
      "353:\tlearn: 76.1642615\ttotal: 1.08s\tremaining: 1.97s\n",
      "354:\tlearn: 76.1202523\ttotal: 1.08s\tremaining: 1.96s\n",
      "355:\tlearn: 75.9487132\ttotal: 1.08s\tremaining: 1.96s\n",
      "356:\tlearn: 75.6748479\ttotal: 1.09s\tremaining: 1.96s\n",
      "357:\tlearn: 75.4290864\ttotal: 1.09s\tremaining: 1.95s\n",
      "358:\tlearn: 75.0463849\ttotal: 1.09s\tremaining: 1.95s\n",
      "359:\tlearn: 74.9902381\ttotal: 1.09s\tremaining: 1.95s\n",
      "360:\tlearn: 74.5243875\ttotal: 1.1s\tremaining: 1.94s\n",
      "361:\tlearn: 74.1913065\ttotal: 1.1s\tremaining: 1.94s\n",
      "362:\tlearn: 73.8413359\ttotal: 1.1s\tremaining: 1.94s\n",
      "363:\tlearn: 73.7602119\ttotal: 1.11s\tremaining: 1.93s\n",
      "364:\tlearn: 73.3278135\ttotal: 1.11s\tremaining: 1.93s\n",
      "365:\tlearn: 72.9524336\ttotal: 1.11s\tremaining: 1.93s\n",
      "366:\tlearn: 72.6791856\ttotal: 1.11s\tremaining: 1.92s\n",
      "367:\tlearn: 72.4333577\ttotal: 1.12s\tremaining: 1.92s\n",
      "368:\tlearn: 72.1672937\ttotal: 1.12s\tremaining: 1.92s\n",
      "369:\tlearn: 71.9070276\ttotal: 1.12s\tremaining: 1.91s\n",
      "370:\tlearn: 71.5496196\ttotal: 1.13s\tremaining: 1.91s\n",
      "371:\tlearn: 71.3161902\ttotal: 1.13s\tremaining: 1.91s\n",
      "372:\tlearn: 71.1259191\ttotal: 1.13s\tremaining: 1.9s\n",
      "373:\tlearn: 70.9889962\ttotal: 1.14s\tremaining: 1.9s\n",
      "374:\tlearn: 70.7417966\ttotal: 1.14s\tremaining: 1.9s\n",
      "375:\tlearn: 70.4931174\ttotal: 1.14s\tremaining: 1.89s\n",
      "376:\tlearn: 70.3300576\ttotal: 1.14s\tremaining: 1.89s\n",
      "377:\tlearn: 69.9233248\ttotal: 1.15s\tremaining: 1.89s\n",
      "378:\tlearn: 69.6261005\ttotal: 1.15s\tremaining: 1.88s\n",
      "379:\tlearn: 69.3989708\ttotal: 1.15s\tremaining: 1.88s\n",
      "380:\tlearn: 69.0085387\ttotal: 1.15s\tremaining: 1.88s\n",
      "381:\tlearn: 68.7604153\ttotal: 1.16s\tremaining: 1.87s\n",
      "382:\tlearn: 68.4602767\ttotal: 1.16s\tremaining: 1.87s\n",
      "383:\tlearn: 68.1005452\ttotal: 1.16s\tremaining: 1.86s\n",
      "384:\tlearn: 68.0540467\ttotal: 1.17s\tremaining: 1.86s\n",
      "385:\tlearn: 67.8972753\ttotal: 1.17s\tremaining: 1.86s\n",
      "386:\tlearn: 67.5389629\ttotal: 1.17s\tremaining: 1.85s\n",
      "387:\tlearn: 67.2390178\ttotal: 1.17s\tremaining: 1.85s\n",
      "388:\tlearn: 67.0279888\ttotal: 1.18s\tremaining: 1.85s\n",
      "389:\tlearn: 66.8375919\ttotal: 1.18s\tremaining: 1.84s\n",
      "390:\tlearn: 66.4118315\ttotal: 1.18s\tremaining: 1.84s\n",
      "391:\tlearn: 66.3642690\ttotal: 1.18s\tremaining: 1.84s\n",
      "392:\tlearn: 66.1673138\ttotal: 1.19s\tremaining: 1.83s\n",
      "393:\tlearn: 66.0177482\ttotal: 1.19s\tremaining: 1.83s\n",
      "394:\tlearn: 65.8018038\ttotal: 1.19s\tremaining: 1.83s\n",
      "395:\tlearn: 65.6886505\ttotal: 1.2s\tremaining: 1.83s\n",
      "396:\tlearn: 65.6120185\ttotal: 1.2s\tremaining: 1.82s\n",
      "397:\tlearn: 65.5746662\ttotal: 1.2s\tremaining: 1.82s\n",
      "398:\tlearn: 65.2974851\ttotal: 1.21s\tremaining: 1.82s\n",
      "399:\tlearn: 65.2464764\ttotal: 1.21s\tremaining: 1.82s\n",
      "400:\tlearn: 65.1241314\ttotal: 1.21s\tremaining: 1.81s\n",
      "401:\tlearn: 65.0515740\ttotal: 1.22s\tremaining: 1.81s\n",
      "402:\tlearn: 64.8089636\ttotal: 1.22s\tremaining: 1.81s\n",
      "403:\tlearn: 64.5992230\ttotal: 1.22s\tremaining: 1.8s\n",
      "404:\tlearn: 64.2907010\ttotal: 1.23s\tremaining: 1.8s\n",
      "405:\tlearn: 64.1568642\ttotal: 1.23s\tremaining: 1.8s\n",
      "406:\tlearn: 63.8279106\ttotal: 1.23s\tremaining: 1.8s\n",
      "407:\tlearn: 63.5558565\ttotal: 1.24s\tremaining: 1.8s\n",
      "408:\tlearn: 63.3865445\ttotal: 1.24s\tremaining: 1.79s\n",
      "409:\tlearn: 63.2752408\ttotal: 1.25s\tremaining: 1.79s\n",
      "410:\tlearn: 63.1070190\ttotal: 1.25s\tremaining: 1.79s\n",
      "411:\tlearn: 62.7868376\ttotal: 1.25s\tremaining: 1.78s\n",
      "412:\tlearn: 62.5345803\ttotal: 1.25s\tremaining: 1.78s\n",
      "413:\tlearn: 62.2729058\ttotal: 1.26s\tremaining: 1.78s\n",
      "414:\tlearn: 61.9850985\ttotal: 1.26s\tremaining: 1.77s\n",
      "415:\tlearn: 61.7784164\ttotal: 1.26s\tremaining: 1.77s\n",
      "416:\tlearn: 61.7431976\ttotal: 1.26s\tremaining: 1.77s\n",
      "417:\tlearn: 61.4309964\ttotal: 1.27s\tremaining: 1.76s\n",
      "418:\tlearn: 61.3513660\ttotal: 1.27s\tremaining: 1.76s\n",
      "419:\tlearn: 61.1253739\ttotal: 1.27s\tremaining: 1.76s\n",
      "420:\tlearn: 61.0742571\ttotal: 1.27s\tremaining: 1.75s\n",
      "421:\tlearn: 61.0390980\ttotal: 1.28s\tremaining: 1.75s\n",
      "422:\tlearn: 61.0095757\ttotal: 1.28s\tremaining: 1.75s\n",
      "423:\tlearn: 60.6843255\ttotal: 1.28s\tremaining: 1.74s\n",
      "424:\tlearn: 60.4045551\ttotal: 1.28s\tremaining: 1.74s\n",
      "425:\tlearn: 60.3649587\ttotal: 1.29s\tremaining: 1.74s\n",
      "426:\tlearn: 60.3315828\ttotal: 1.29s\tremaining: 1.73s\n",
      "427:\tlearn: 60.1047027\ttotal: 1.29s\tremaining: 1.73s\n",
      "428:\tlearn: 59.9170736\ttotal: 1.29s\tremaining: 1.72s\n",
      "429:\tlearn: 59.6875648\ttotal: 1.3s\tremaining: 1.72s\n",
      "430:\tlearn: 59.6662150\ttotal: 1.3s\tremaining: 1.72s\n",
      "431:\tlearn: 59.4208112\ttotal: 1.3s\tremaining: 1.71s\n",
      "432:\tlearn: 59.2358034\ttotal: 1.31s\tremaining: 1.71s\n",
      "433:\tlearn: 58.9818868\ttotal: 1.31s\tremaining: 1.71s\n",
      "434:\tlearn: 58.7089433\ttotal: 1.31s\tremaining: 1.7s\n",
      "435:\tlearn: 58.5898817\ttotal: 1.31s\tremaining: 1.7s\n",
      "436:\tlearn: 58.5425342\ttotal: 1.32s\tremaining: 1.7s\n",
      "437:\tlearn: 58.2884605\ttotal: 1.32s\tremaining: 1.69s\n",
      "438:\tlearn: 58.2643873\ttotal: 1.32s\tremaining: 1.69s\n",
      "439:\tlearn: 58.2330868\ttotal: 1.32s\tremaining: 1.69s\n",
      "440:\tlearn: 57.9676592\ttotal: 1.33s\tremaining: 1.68s\n",
      "441:\tlearn: 57.7670212\ttotal: 1.33s\tremaining: 1.68s\n",
      "442:\tlearn: 57.5322464\ttotal: 1.33s\tremaining: 1.68s\n",
      "443:\tlearn: 57.2771620\ttotal: 1.33s\tremaining: 1.67s\n",
      "444:\tlearn: 57.0227885\ttotal: 1.34s\tremaining: 1.67s\n",
      "445:\tlearn: 56.7616770\ttotal: 1.34s\tremaining: 1.67s\n",
      "446:\tlearn: 56.7367450\ttotal: 1.34s\tremaining: 1.66s\n",
      "447:\tlearn: 56.6715001\ttotal: 1.35s\tremaining: 1.66s\n",
      "448:\tlearn: 56.4881346\ttotal: 1.35s\tremaining: 1.66s\n",
      "449:\tlearn: 56.3749776\ttotal: 1.35s\tremaining: 1.65s\n",
      "450:\tlearn: 56.2172319\ttotal: 1.36s\tremaining: 1.65s\n",
      "451:\tlearn: 55.9461925\ttotal: 1.36s\tremaining: 1.65s\n",
      "452:\tlearn: 55.8884270\ttotal: 1.36s\tremaining: 1.65s\n",
      "453:\tlearn: 55.7987432\ttotal: 1.36s\tremaining: 1.64s\n",
      "454:\tlearn: 55.7376337\ttotal: 1.37s\tremaining: 1.64s\n",
      "455:\tlearn: 55.5150595\ttotal: 1.37s\tremaining: 1.64s\n",
      "456:\tlearn: 55.4819680\ttotal: 1.38s\tremaining: 1.64s\n",
      "457:\tlearn: 55.1719919\ttotal: 1.38s\tremaining: 1.63s\n",
      "458:\tlearn: 55.1295759\ttotal: 1.38s\tremaining: 1.63s\n",
      "459:\tlearn: 55.0856302\ttotal: 1.39s\tremaining: 1.63s\n",
      "460:\tlearn: 54.8056235\ttotal: 1.39s\tremaining: 1.62s\n",
      "461:\tlearn: 54.4030407\ttotal: 1.4s\tremaining: 1.62s\n",
      "462:\tlearn: 54.3308204\ttotal: 1.4s\tremaining: 1.62s\n",
      "463:\tlearn: 54.0283724\ttotal: 1.4s\tremaining: 1.62s\n",
      "464:\tlearn: 53.9962714\ttotal: 1.4s\tremaining: 1.62s\n",
      "465:\tlearn: 53.8149476\ttotal: 1.41s\tremaining: 1.61s\n",
      "466:\tlearn: 53.7806209\ttotal: 1.41s\tremaining: 1.61s\n",
      "467:\tlearn: 53.7585727\ttotal: 1.42s\tremaining: 1.61s\n",
      "468:\tlearn: 53.5042777\ttotal: 1.42s\tremaining: 1.6s\n",
      "469:\tlearn: 53.3257034\ttotal: 1.42s\tremaining: 1.6s\n",
      "470:\tlearn: 53.0801119\ttotal: 1.43s\tremaining: 1.6s\n",
      "471:\tlearn: 53.0136550\ttotal: 1.43s\tremaining: 1.6s\n",
      "472:\tlearn: 52.9408930\ttotal: 1.43s\tremaining: 1.59s\n",
      "473:\tlearn: 52.7089062\ttotal: 1.43s\tremaining: 1.59s\n",
      "474:\tlearn: 52.6819781\ttotal: 1.44s\tremaining: 1.59s\n",
      "475:\tlearn: 52.5065568\ttotal: 1.44s\tremaining: 1.59s\n",
      "476:\tlearn: 52.3688770\ttotal: 1.45s\tremaining: 1.58s\n",
      "477:\tlearn: 52.2402473\ttotal: 1.45s\tremaining: 1.58s\n",
      "478:\tlearn: 52.1406517\ttotal: 1.45s\tremaining: 1.58s\n",
      "479:\tlearn: 52.1107144\ttotal: 1.45s\tremaining: 1.57s\n",
      "480:\tlearn: 51.9239449\ttotal: 1.46s\tremaining: 1.57s\n",
      "481:\tlearn: 51.7096820\ttotal: 1.46s\tremaining: 1.57s\n",
      "482:\tlearn: 51.6266918\ttotal: 1.46s\tremaining: 1.57s\n",
      "483:\tlearn: 51.5969797\ttotal: 1.47s\tremaining: 1.56s\n",
      "484:\tlearn: 51.4480162\ttotal: 1.47s\tremaining: 1.56s\n",
      "485:\tlearn: 51.2269261\ttotal: 1.47s\tremaining: 1.56s\n",
      "486:\tlearn: 50.9904632\ttotal: 1.48s\tremaining: 1.55s\n",
      "487:\tlearn: 50.9342043\ttotal: 1.48s\tremaining: 1.55s\n",
      "488:\tlearn: 50.8423680\ttotal: 1.48s\tremaining: 1.55s\n",
      "489:\tlearn: 50.7269788\ttotal: 1.49s\tremaining: 1.55s\n",
      "490:\tlearn: 50.5384699\ttotal: 1.49s\tremaining: 1.54s\n",
      "491:\tlearn: 50.5047793\ttotal: 1.49s\tremaining: 1.54s\n",
      "492:\tlearn: 50.3234448\ttotal: 1.5s\tremaining: 1.54s\n",
      "493:\tlearn: 50.1653421\ttotal: 1.5s\tremaining: 1.53s\n",
      "494:\tlearn: 49.9835558\ttotal: 1.5s\tremaining: 1.53s\n",
      "495:\tlearn: 49.8884283\ttotal: 1.5s\tremaining: 1.53s\n",
      "496:\tlearn: 49.6217364\ttotal: 1.51s\tremaining: 1.53s\n",
      "497:\tlearn: 49.5268562\ttotal: 1.51s\tremaining: 1.52s\n",
      "498:\tlearn: 49.3078402\ttotal: 1.52s\tremaining: 1.52s\n",
      "499:\tlearn: 49.2571676\ttotal: 1.52s\tremaining: 1.52s\n",
      "500:\tlearn: 49.2173141\ttotal: 1.52s\tremaining: 1.52s\n",
      "501:\tlearn: 48.9813103\ttotal: 1.53s\tremaining: 1.52s\n",
      "502:\tlearn: 48.8304542\ttotal: 1.53s\tremaining: 1.52s\n",
      "503:\tlearn: 48.7430936\ttotal: 1.54s\tremaining: 1.51s\n",
      "504:\tlearn: 48.5493989\ttotal: 1.54s\tremaining: 1.51s\n",
      "505:\tlearn: 48.5134839\ttotal: 1.54s\tremaining: 1.51s\n",
      "506:\tlearn: 48.3516141\ttotal: 1.55s\tremaining: 1.5s\n",
      "507:\tlearn: 48.0631542\ttotal: 1.55s\tremaining: 1.5s\n",
      "508:\tlearn: 47.8591880\ttotal: 1.55s\tremaining: 1.5s\n",
      "509:\tlearn: 47.7182444\ttotal: 1.56s\tremaining: 1.5s\n",
      "510:\tlearn: 47.6301870\ttotal: 1.56s\tremaining: 1.49s\n",
      "511:\tlearn: 47.4767324\ttotal: 1.57s\tremaining: 1.49s\n",
      "512:\tlearn: 47.2822625\ttotal: 1.57s\tremaining: 1.49s\n",
      "513:\tlearn: 47.1022658\ttotal: 1.57s\tremaining: 1.49s\n",
      "514:\tlearn: 47.0536181\ttotal: 1.58s\tremaining: 1.49s\n",
      "515:\tlearn: 47.0249559\ttotal: 1.58s\tremaining: 1.48s\n",
      "516:\tlearn: 46.8789720\ttotal: 1.58s\tremaining: 1.48s\n",
      "517:\tlearn: 46.7133769\ttotal: 1.59s\tremaining: 1.48s\n",
      "518:\tlearn: 46.5157986\ttotal: 1.59s\tremaining: 1.47s\n",
      "519:\tlearn: 46.3630405\ttotal: 1.59s\tremaining: 1.47s\n",
      "520:\tlearn: 46.1730188\ttotal: 1.6s\tremaining: 1.47s\n",
      "521:\tlearn: 46.1360908\ttotal: 1.6s\tremaining: 1.47s\n",
      "522:\tlearn: 45.9652487\ttotal: 1.6s\tremaining: 1.46s\n",
      "523:\tlearn: 45.8122703\ttotal: 1.61s\tremaining: 1.46s\n",
      "524:\tlearn: 45.4984451\ttotal: 1.61s\tremaining: 1.46s\n",
      "525:\tlearn: 45.3161076\ttotal: 1.61s\tremaining: 1.46s\n",
      "526:\tlearn: 45.2802854\ttotal: 1.62s\tremaining: 1.45s\n",
      "527:\tlearn: 45.2448275\ttotal: 1.62s\tremaining: 1.45s\n",
      "528:\tlearn: 45.0816321\ttotal: 1.63s\tremaining: 1.45s\n",
      "529:\tlearn: 44.9794319\ttotal: 1.63s\tremaining: 1.44s\n",
      "530:\tlearn: 44.6832140\ttotal: 1.63s\tremaining: 1.44s\n",
      "531:\tlearn: 44.4460046\ttotal: 1.63s\tremaining: 1.44s\n",
      "532:\tlearn: 44.2118287\ttotal: 1.64s\tremaining: 1.43s\n",
      "533:\tlearn: 44.0693524\ttotal: 1.64s\tremaining: 1.43s\n",
      "534:\tlearn: 43.7781614\ttotal: 1.64s\tremaining: 1.43s\n",
      "535:\tlearn: 43.5541731\ttotal: 1.65s\tremaining: 1.43s\n",
      "536:\tlearn: 43.5134866\ttotal: 1.65s\tremaining: 1.42s\n",
      "537:\tlearn: 43.3609810\ttotal: 1.65s\tremaining: 1.42s\n",
      "538:\tlearn: 43.1828364\ttotal: 1.66s\tremaining: 1.42s\n",
      "539:\tlearn: 43.1681810\ttotal: 1.66s\tremaining: 1.41s\n",
      "540:\tlearn: 43.0597548\ttotal: 1.66s\tremaining: 1.41s\n",
      "541:\tlearn: 43.0399237\ttotal: 1.66s\tremaining: 1.41s\n",
      "542:\tlearn: 42.7955247\ttotal: 1.67s\tremaining: 1.4s\n",
      "543:\tlearn: 42.5339065\ttotal: 1.67s\tremaining: 1.4s\n",
      "544:\tlearn: 42.4295635\ttotal: 1.67s\tremaining: 1.4s\n",
      "545:\tlearn: 42.2338376\ttotal: 1.68s\tremaining: 1.39s\n",
      "546:\tlearn: 42.0124060\ttotal: 1.68s\tremaining: 1.39s\n",
      "547:\tlearn: 41.8255183\ttotal: 1.68s\tremaining: 1.39s\n",
      "548:\tlearn: 41.6388681\ttotal: 1.69s\tremaining: 1.39s\n",
      "549:\tlearn: 41.4001270\ttotal: 1.69s\tremaining: 1.38s\n",
      "550:\tlearn: 41.1013528\ttotal: 1.69s\tremaining: 1.38s\n",
      "551:\tlearn: 41.0100295\ttotal: 1.7s\tremaining: 1.38s\n",
      "552:\tlearn: 40.9906076\ttotal: 1.7s\tremaining: 1.37s\n",
      "553:\tlearn: 40.8809109\ttotal: 1.7s\tremaining: 1.37s\n",
      "554:\tlearn: 40.7831302\ttotal: 1.71s\tremaining: 1.37s\n",
      "555:\tlearn: 40.7317763\ttotal: 1.71s\tremaining: 1.36s\n",
      "556:\tlearn: 40.6321710\ttotal: 1.71s\tremaining: 1.36s\n",
      "557:\tlearn: 40.4475073\ttotal: 1.72s\tremaining: 1.36s\n",
      "558:\tlearn: 40.2859957\ttotal: 1.72s\tremaining: 1.36s\n",
      "559:\tlearn: 40.0262057\ttotal: 1.72s\tremaining: 1.35s\n",
      "560:\tlearn: 39.9326350\ttotal: 1.73s\tremaining: 1.35s\n",
      "561:\tlearn: 39.8735956\ttotal: 1.73s\tremaining: 1.35s\n",
      "562:\tlearn: 39.7083019\ttotal: 1.73s\tremaining: 1.35s\n",
      "563:\tlearn: 39.5379855\ttotal: 1.74s\tremaining: 1.34s\n",
      "564:\tlearn: 39.3451301\ttotal: 1.74s\tremaining: 1.34s\n",
      "565:\tlearn: 39.2041273\ttotal: 1.75s\tremaining: 1.34s\n",
      "566:\tlearn: 38.9870162\ttotal: 1.75s\tremaining: 1.34s\n",
      "567:\tlearn: 38.8638040\ttotal: 1.76s\tremaining: 1.34s\n",
      "568:\tlearn: 38.7752116\ttotal: 1.77s\tremaining: 1.34s\n",
      "569:\tlearn: 38.6530297\ttotal: 1.77s\tremaining: 1.34s\n",
      "570:\tlearn: 38.5505372\ttotal: 1.78s\tremaining: 1.33s\n",
      "571:\tlearn: 38.5134486\ttotal: 1.78s\tremaining: 1.33s\n",
      "572:\tlearn: 38.3680902\ttotal: 1.78s\tremaining: 1.33s\n",
      "573:\tlearn: 38.1897295\ttotal: 1.79s\tremaining: 1.33s\n",
      "574:\tlearn: 38.1083536\ttotal: 1.79s\tremaining: 1.33s\n",
      "575:\tlearn: 37.9229216\ttotal: 1.8s\tremaining: 1.32s\n",
      "576:\tlearn: 37.8377087\ttotal: 1.8s\tremaining: 1.32s\n",
      "577:\tlearn: 37.7966900\ttotal: 1.81s\tremaining: 1.32s\n",
      "578:\tlearn: 37.6700761\ttotal: 1.81s\tremaining: 1.32s\n",
      "579:\tlearn: 37.6355177\ttotal: 1.81s\tremaining: 1.31s\n",
      "580:\tlearn: 37.4648199\ttotal: 1.82s\tremaining: 1.31s\n",
      "581:\tlearn: 37.2959505\ttotal: 1.82s\tremaining: 1.31s\n",
      "582:\tlearn: 37.1423961\ttotal: 1.82s\tremaining: 1.3s\n",
      "583:\tlearn: 36.9297315\ttotal: 1.83s\tremaining: 1.3s\n",
      "584:\tlearn: 36.8850382\ttotal: 1.83s\tremaining: 1.3s\n",
      "585:\tlearn: 36.7546519\ttotal: 1.84s\tremaining: 1.3s\n",
      "586:\tlearn: 36.7377554\ttotal: 1.84s\tremaining: 1.29s\n",
      "587:\tlearn: 36.6899102\ttotal: 1.84s\tremaining: 1.29s\n",
      "588:\tlearn: 36.5617094\ttotal: 1.85s\tremaining: 1.29s\n",
      "589:\tlearn: 36.4272921\ttotal: 1.85s\tremaining: 1.28s\n",
      "590:\tlearn: 36.2657889\ttotal: 1.85s\tremaining: 1.28s\n",
      "591:\tlearn: 36.2539345\ttotal: 1.85s\tremaining: 1.28s\n",
      "592:\tlearn: 36.2314399\ttotal: 1.86s\tremaining: 1.27s\n",
      "593:\tlearn: 36.0683824\ttotal: 1.86s\tremaining: 1.27s\n",
      "594:\tlearn: 35.9283095\ttotal: 1.87s\tremaining: 1.27s\n",
      "595:\tlearn: 35.7968288\ttotal: 1.87s\tremaining: 1.27s\n",
      "596:\tlearn: 35.7223423\ttotal: 1.88s\tremaining: 1.27s\n",
      "597:\tlearn: 35.5848854\ttotal: 1.89s\tremaining: 1.27s\n",
      "598:\tlearn: 35.4754344\ttotal: 1.89s\tremaining: 1.27s\n",
      "599:\tlearn: 35.3533890\ttotal: 1.9s\tremaining: 1.26s\n",
      "600:\tlearn: 35.2201505\ttotal: 1.9s\tremaining: 1.26s\n",
      "601:\tlearn: 35.0873272\ttotal: 1.91s\tremaining: 1.26s\n",
      "602:\tlearn: 35.0461873\ttotal: 1.92s\tremaining: 1.26s\n",
      "603:\tlearn: 34.9273071\ttotal: 1.93s\tremaining: 1.26s\n",
      "604:\tlearn: 34.8162855\ttotal: 1.93s\tremaining: 1.26s\n",
      "605:\tlearn: 34.7130059\ttotal: 1.94s\tremaining: 1.26s\n",
      "606:\tlearn: 34.5585617\ttotal: 1.95s\tremaining: 1.26s\n",
      "607:\tlearn: 34.4611907\ttotal: 1.97s\tremaining: 1.27s\n",
      "608:\tlearn: 34.4326546\ttotal: 1.97s\tremaining: 1.26s\n",
      "609:\tlearn: 34.2846979\ttotal: 1.97s\tremaining: 1.26s\n",
      "610:\tlearn: 34.1734501\ttotal: 1.98s\tremaining: 1.26s\n",
      "611:\tlearn: 34.0230965\ttotal: 1.98s\tremaining: 1.25s\n",
      "612:\tlearn: 33.8282501\ttotal: 1.98s\tremaining: 1.25s\n",
      "613:\tlearn: 33.7746747\ttotal: 1.99s\tremaining: 1.25s\n",
      "614:\tlearn: 33.7068386\ttotal: 1.99s\tremaining: 1.25s\n",
      "615:\tlearn: 33.5780800\ttotal: 2s\tremaining: 1.24s\n",
      "616:\tlearn: 33.4695325\ttotal: 2s\tremaining: 1.24s\n",
      "617:\tlearn: 33.3463443\ttotal: 2s\tremaining: 1.24s\n",
      "618:\tlearn: 33.2877395\ttotal: 2.01s\tremaining: 1.24s\n",
      "619:\tlearn: 33.2418826\ttotal: 2.01s\tremaining: 1.23s\n",
      "620:\tlearn: 33.1045465\ttotal: 2.02s\tremaining: 1.23s\n",
      "621:\tlearn: 32.9400639\ttotal: 2.02s\tremaining: 1.23s\n",
      "622:\tlearn: 32.8996970\ttotal: 2.02s\tremaining: 1.22s\n",
      "623:\tlearn: 32.7429487\ttotal: 2.03s\tremaining: 1.22s\n",
      "624:\tlearn: 32.6132355\ttotal: 2.03s\tremaining: 1.22s\n",
      "625:\tlearn: 32.4714976\ttotal: 2.04s\tremaining: 1.22s\n",
      "626:\tlearn: 32.4320448\ttotal: 2.04s\tremaining: 1.21s\n",
      "627:\tlearn: 32.2628258\ttotal: 2.04s\tremaining: 1.21s\n",
      "628:\tlearn: 32.2038569\ttotal: 2.05s\tremaining: 1.21s\n",
      "629:\tlearn: 32.0940738\ttotal: 2.05s\tremaining: 1.21s\n",
      "630:\tlearn: 32.0068495\ttotal: 2.06s\tremaining: 1.2s\n",
      "631:\tlearn: 31.9053748\ttotal: 2.06s\tremaining: 1.2s\n",
      "632:\tlearn: 31.7715772\ttotal: 2.06s\tremaining: 1.2s\n",
      "633:\tlearn: 31.6687835\ttotal: 2.07s\tremaining: 1.19s\n",
      "634:\tlearn: 31.6368050\ttotal: 2.07s\tremaining: 1.19s\n",
      "635:\tlearn: 31.5709628\ttotal: 2.08s\tremaining: 1.19s\n",
      "636:\tlearn: 31.4052213\ttotal: 2.08s\tremaining: 1.18s\n",
      "637:\tlearn: 31.2452229\ttotal: 2.08s\tremaining: 1.18s\n",
      "638:\tlearn: 31.1221828\ttotal: 2.09s\tremaining: 1.18s\n",
      "639:\tlearn: 31.0853500\ttotal: 2.09s\tremaining: 1.18s\n",
      "640:\tlearn: 30.9167355\ttotal: 2.09s\tremaining: 1.17s\n",
      "641:\tlearn: 30.8667253\ttotal: 2.1s\tremaining: 1.17s\n",
      "642:\tlearn: 30.7427129\ttotal: 2.1s\tremaining: 1.17s\n",
      "643:\tlearn: 30.5748228\ttotal: 2.1s\tremaining: 1.16s\n",
      "644:\tlearn: 30.5080592\ttotal: 2.11s\tremaining: 1.16s\n",
      "645:\tlearn: 30.3444228\ttotal: 2.11s\tremaining: 1.16s\n",
      "646:\tlearn: 30.1858385\ttotal: 2.12s\tremaining: 1.15s\n",
      "647:\tlearn: 30.1481951\ttotal: 2.12s\tremaining: 1.15s\n",
      "648:\tlearn: 30.1139150\ttotal: 2.12s\tremaining: 1.15s\n",
      "649:\tlearn: 30.0147177\ttotal: 2.13s\tremaining: 1.14s\n",
      "650:\tlearn: 29.8610501\ttotal: 2.13s\tremaining: 1.14s\n",
      "651:\tlearn: 29.7793561\ttotal: 2.13s\tremaining: 1.14s\n",
      "652:\tlearn: 29.6870188\ttotal: 2.14s\tremaining: 1.14s\n",
      "653:\tlearn: 29.6229921\ttotal: 2.14s\tremaining: 1.13s\n",
      "654:\tlearn: 29.5806823\ttotal: 2.15s\tremaining: 1.13s\n",
      "655:\tlearn: 29.4903496\ttotal: 2.15s\tremaining: 1.13s\n",
      "656:\tlearn: 29.4011642\ttotal: 2.15s\tremaining: 1.12s\n",
      "657:\tlearn: 29.3880977\ttotal: 2.16s\tremaining: 1.12s\n",
      "658:\tlearn: 29.2615919\ttotal: 2.16s\tremaining: 1.12s\n",
      "659:\tlearn: 29.1004727\ttotal: 2.17s\tremaining: 1.12s\n",
      "660:\tlearn: 29.0530692\ttotal: 2.17s\tremaining: 1.11s\n",
      "661:\tlearn: 28.9863628\ttotal: 2.17s\tremaining: 1.11s\n",
      "662:\tlearn: 28.8714304\ttotal: 2.18s\tremaining: 1.11s\n",
      "663:\tlearn: 28.7331979\ttotal: 2.18s\tremaining: 1.1s\n",
      "664:\tlearn: 28.6366801\ttotal: 2.19s\tremaining: 1.1s\n",
      "665:\tlearn: 28.5716341\ttotal: 2.19s\tremaining: 1.1s\n",
      "666:\tlearn: 28.4974876\ttotal: 2.19s\tremaining: 1.09s\n",
      "667:\tlearn: 28.4112710\ttotal: 2.2s\tremaining: 1.09s\n",
      "668:\tlearn: 28.2984651\ttotal: 2.2s\tremaining: 1.09s\n",
      "669:\tlearn: 28.1339510\ttotal: 2.21s\tremaining: 1.09s\n",
      "670:\tlearn: 28.1075789\ttotal: 2.21s\tremaining: 1.08s\n",
      "671:\tlearn: 28.0922293\ttotal: 2.21s\tremaining: 1.08s\n",
      "672:\tlearn: 27.9723760\ttotal: 2.22s\tremaining: 1.08s\n",
      "673:\tlearn: 27.9055283\ttotal: 2.22s\tremaining: 1.07s\n",
      "674:\tlearn: 27.8205243\ttotal: 2.23s\tremaining: 1.07s\n",
      "675:\tlearn: 27.8084834\ttotal: 2.23s\tremaining: 1.07s\n",
      "676:\tlearn: 27.7891840\ttotal: 2.23s\tremaining: 1.07s\n",
      "677:\tlearn: 27.6730952\ttotal: 2.24s\tremaining: 1.06s\n",
      "678:\tlearn: 27.6094279\ttotal: 2.24s\tremaining: 1.06s\n",
      "679:\tlearn: 27.5709406\ttotal: 2.25s\tremaining: 1.06s\n",
      "680:\tlearn: 27.5062932\ttotal: 2.25s\tremaining: 1.05s\n",
      "681:\tlearn: 27.4149358\ttotal: 2.25s\tremaining: 1.05s\n",
      "682:\tlearn: 27.3480578\ttotal: 2.25s\tremaining: 1.05s\n",
      "683:\tlearn: 27.2546632\ttotal: 2.26s\tremaining: 1.04s\n",
      "684:\tlearn: 27.1581242\ttotal: 2.26s\tremaining: 1.04s\n",
      "685:\tlearn: 27.1291330\ttotal: 2.27s\tremaining: 1.04s\n",
      "686:\tlearn: 27.0589760\ttotal: 2.27s\tremaining: 1.03s\n",
      "687:\tlearn: 26.9207571\ttotal: 2.27s\tremaining: 1.03s\n",
      "688:\tlearn: 26.8046340\ttotal: 2.28s\tremaining: 1.03s\n",
      "689:\tlearn: 26.7346039\ttotal: 2.28s\tremaining: 1.02s\n",
      "690:\tlearn: 26.6359238\ttotal: 2.29s\tremaining: 1.02s\n",
      "691:\tlearn: 26.5458163\ttotal: 2.29s\tremaining: 1.02s\n",
      "692:\tlearn: 26.5287024\ttotal: 2.3s\tremaining: 1.02s\n",
      "693:\tlearn: 26.4436127\ttotal: 2.3s\tremaining: 1.01s\n",
      "694:\tlearn: 26.3860996\ttotal: 2.3s\tremaining: 1.01s\n",
      "695:\tlearn: 26.3271824\ttotal: 2.31s\tremaining: 1.01s\n",
      "696:\tlearn: 26.1929180\ttotal: 2.31s\tremaining: 1s\n",
      "697:\tlearn: 26.0989501\ttotal: 2.32s\tremaining: 1s\n",
      "698:\tlearn: 26.0348052\ttotal: 2.32s\tremaining: 999ms\n",
      "699:\tlearn: 25.9715846\ttotal: 2.32s\tremaining: 996ms\n",
      "700:\tlearn: 25.8624783\ttotal: 2.33s\tremaining: 994ms\n",
      "701:\tlearn: 25.8020332\ttotal: 2.34s\tremaining: 993ms\n",
      "702:\tlearn: 25.7940141\ttotal: 2.34s\tremaining: 990ms\n",
      "703:\tlearn: 25.6937173\ttotal: 2.35s\tremaining: 988ms\n",
      "704:\tlearn: 25.6133995\ttotal: 2.35s\tremaining: 985ms\n",
      "705:\tlearn: 25.5272559\ttotal: 2.36s\tremaining: 982ms\n",
      "706:\tlearn: 25.5087600\ttotal: 2.36s\tremaining: 980ms\n",
      "707:\tlearn: 25.3506858\ttotal: 2.37s\tremaining: 976ms\n",
      "708:\tlearn: 25.3314352\ttotal: 2.37s\tremaining: 973ms\n",
      "709:\tlearn: 25.3263712\ttotal: 2.37s\tremaining: 969ms\n",
      "710:\tlearn: 25.2377772\ttotal: 2.38s\tremaining: 965ms\n",
      "711:\tlearn: 25.1296003\ttotal: 2.38s\tremaining: 963ms\n",
      "712:\tlearn: 25.1138661\ttotal: 2.38s\tremaining: 959ms\n",
      "713:\tlearn: 25.0606164\ttotal: 2.39s\tremaining: 956ms\n",
      "714:\tlearn: 24.9701122\ttotal: 2.39s\tremaining: 953ms\n",
      "715:\tlearn: 24.9266980\ttotal: 2.4s\tremaining: 951ms\n",
      "716:\tlearn: 24.8355245\ttotal: 2.4s\tremaining: 947ms\n",
      "717:\tlearn: 24.7892595\ttotal: 2.4s\tremaining: 944ms\n",
      "718:\tlearn: 24.7784156\ttotal: 2.41s\tremaining: 941ms\n",
      "719:\tlearn: 24.7204068\ttotal: 2.41s\tremaining: 938ms\n",
      "720:\tlearn: 24.6868946\ttotal: 2.42s\tremaining: 935ms\n",
      "721:\tlearn: 24.5835248\ttotal: 2.42s\tremaining: 932ms\n",
      "722:\tlearn: 24.4605667\ttotal: 2.43s\tremaining: 930ms\n",
      "723:\tlearn: 24.3780491\ttotal: 2.43s\tremaining: 927ms\n",
      "724:\tlearn: 24.3695387\ttotal: 2.44s\tremaining: 924ms\n",
      "725:\tlearn: 24.2713928\ttotal: 2.44s\tremaining: 921ms\n",
      "726:\tlearn: 24.2564573\ttotal: 2.44s\tremaining: 918ms\n",
      "727:\tlearn: 24.1259045\ttotal: 2.45s\tremaining: 915ms\n",
      "728:\tlearn: 24.0410925\ttotal: 2.45s\tremaining: 911ms\n",
      "729:\tlearn: 23.9454740\ttotal: 2.46s\tremaining: 908ms\n",
      "730:\tlearn: 23.9293944\ttotal: 2.46s\tremaining: 905ms\n",
      "731:\tlearn: 23.8408373\ttotal: 2.46s\tremaining: 902ms\n",
      "732:\tlearn: 23.7301307\ttotal: 2.47s\tremaining: 899ms\n",
      "733:\tlearn: 23.6751178\ttotal: 2.47s\tremaining: 895ms\n",
      "734:\tlearn: 23.5518474\ttotal: 2.47s\tremaining: 892ms\n",
      "735:\tlearn: 23.5054838\ttotal: 2.48s\tremaining: 889ms\n",
      "736:\tlearn: 23.4781040\ttotal: 2.48s\tremaining: 885ms\n",
      "737:\tlearn: 23.3774725\ttotal: 2.48s\tremaining: 882ms\n",
      "738:\tlearn: 23.3081022\ttotal: 2.49s\tremaining: 879ms\n",
      "739:\tlearn: 23.2915892\ttotal: 2.49s\tremaining: 875ms\n",
      "740:\tlearn: 23.2095735\ttotal: 2.49s\tremaining: 872ms\n",
      "741:\tlearn: 23.1588315\ttotal: 2.5s\tremaining: 869ms\n",
      "742:\tlearn: 23.1197993\ttotal: 2.5s\tremaining: 865ms\n",
      "743:\tlearn: 23.0327780\ttotal: 2.51s\tremaining: 862ms\n",
      "744:\tlearn: 22.9759480\ttotal: 2.51s\tremaining: 859ms\n",
      "745:\tlearn: 22.8751423\ttotal: 2.51s\tremaining: 856ms\n",
      "746:\tlearn: 22.7768127\ttotal: 2.52s\tremaining: 852ms\n",
      "747:\tlearn: 22.6474970\ttotal: 2.52s\tremaining: 849ms\n",
      "748:\tlearn: 22.5780525\ttotal: 2.53s\tremaining: 847ms\n",
      "749:\tlearn: 22.5338308\ttotal: 2.53s\tremaining: 844ms\n",
      "750:\tlearn: 22.4330276\ttotal: 2.54s\tremaining: 841ms\n",
      "751:\tlearn: 22.4193891\ttotal: 2.54s\tremaining: 838ms\n",
      "752:\tlearn: 22.4093040\ttotal: 2.55s\tremaining: 835ms\n",
      "753:\tlearn: 22.3758979\ttotal: 2.56s\tremaining: 834ms\n",
      "754:\tlearn: 22.3560173\ttotal: 2.56s\tremaining: 831ms\n",
      "755:\tlearn: 22.3264261\ttotal: 2.56s\tremaining: 827ms\n",
      "756:\tlearn: 22.2796605\ttotal: 2.57s\tremaining: 824ms\n",
      "757:\tlearn: 22.2253439\ttotal: 2.57s\tremaining: 821ms\n",
      "758:\tlearn: 22.1636409\ttotal: 2.58s\tremaining: 818ms\n",
      "759:\tlearn: 22.1078491\ttotal: 2.58s\tremaining: 815ms\n",
      "760:\tlearn: 22.0275756\ttotal: 2.58s\tremaining: 812ms\n",
      "761:\tlearn: 22.0174143\ttotal: 2.59s\tremaining: 808ms\n",
      "762:\tlearn: 21.9887391\ttotal: 2.59s\tremaining: 805ms\n",
      "763:\tlearn: 21.9746733\ttotal: 2.6s\tremaining: 802ms\n",
      "764:\tlearn: 21.9529216\ttotal: 2.6s\tremaining: 798ms\n",
      "765:\tlearn: 21.8767644\ttotal: 2.6s\tremaining: 795ms\n",
      "766:\tlearn: 21.8668039\ttotal: 2.61s\tremaining: 792ms\n",
      "767:\tlearn: 21.8008688\ttotal: 2.61s\tremaining: 789ms\n",
      "768:\tlearn: 21.7612208\ttotal: 2.61s\tremaining: 785ms\n",
      "769:\tlearn: 21.6977978\ttotal: 2.62s\tremaining: 782ms\n",
      "770:\tlearn: 21.6870461\ttotal: 2.62s\tremaining: 779ms\n",
      "771:\tlearn: 21.6599780\ttotal: 2.63s\tremaining: 776ms\n",
      "772:\tlearn: 21.5522064\ttotal: 2.63s\tremaining: 772ms\n",
      "773:\tlearn: 21.5426327\ttotal: 2.63s\tremaining: 769ms\n",
      "774:\tlearn: 21.4391089\ttotal: 2.64s\tremaining: 766ms\n",
      "775:\tlearn: 21.4042993\ttotal: 2.64s\tremaining: 763ms\n",
      "776:\tlearn: 21.3284836\ttotal: 2.66s\tremaining: 763ms\n",
      "777:\tlearn: 21.3163774\ttotal: 2.66s\tremaining: 760ms\n",
      "778:\tlearn: 21.2708416\ttotal: 2.67s\tremaining: 757ms\n",
      "779:\tlearn: 21.2056943\ttotal: 2.67s\tremaining: 754ms\n",
      "780:\tlearn: 21.1434774\ttotal: 2.67s\tremaining: 750ms\n",
      "781:\tlearn: 21.0672473\ttotal: 2.68s\tremaining: 747ms\n",
      "782:\tlearn: 20.9629645\ttotal: 2.68s\tremaining: 744ms\n",
      "783:\tlearn: 20.9522537\ttotal: 2.69s\tremaining: 740ms\n",
      "784:\tlearn: 20.9252425\ttotal: 2.69s\tremaining: 737ms\n",
      "785:\tlearn: 20.8576799\ttotal: 2.69s\tremaining: 733ms\n",
      "786:\tlearn: 20.7922970\ttotal: 2.7s\tremaining: 730ms\n",
      "787:\tlearn: 20.7802134\ttotal: 2.7s\tremaining: 727ms\n",
      "788:\tlearn: 20.7125213\ttotal: 2.7s\tremaining: 723ms\n",
      "789:\tlearn: 20.7000005\ttotal: 2.71s\tremaining: 720ms\n",
      "790:\tlearn: 20.6366378\ttotal: 2.71s\tremaining: 716ms\n",
      "791:\tlearn: 20.6170923\ttotal: 2.72s\tremaining: 713ms\n",
      "792:\tlearn: 20.5485950\ttotal: 2.72s\tremaining: 710ms\n",
      "793:\tlearn: 20.5212323\ttotal: 2.72s\tremaining: 706ms\n",
      "794:\tlearn: 20.5004347\ttotal: 2.73s\tremaining: 703ms\n",
      "795:\tlearn: 20.4884649\ttotal: 2.73s\tremaining: 700ms\n",
      "796:\tlearn: 20.3727007\ttotal: 2.73s\tremaining: 696ms\n",
      "797:\tlearn: 20.2776166\ttotal: 2.74s\tremaining: 693ms\n",
      "798:\tlearn: 20.2690965\ttotal: 2.74s\tremaining: 690ms\n",
      "799:\tlearn: 20.2166634\ttotal: 2.75s\tremaining: 688ms\n",
      "800:\tlearn: 20.1160179\ttotal: 2.75s\tremaining: 684ms\n",
      "801:\tlearn: 20.0642268\ttotal: 2.76s\tremaining: 681ms\n",
      "802:\tlearn: 20.0323601\ttotal: 2.76s\tremaining: 677ms\n",
      "803:\tlearn: 19.9485334\ttotal: 2.77s\tremaining: 674ms\n",
      "804:\tlearn: 19.9071725\ttotal: 2.77s\tremaining: 671ms\n",
      "805:\tlearn: 19.8943564\ttotal: 2.77s\tremaining: 667ms\n",
      "806:\tlearn: 19.7804687\ttotal: 2.77s\tremaining: 664ms\n",
      "807:\tlearn: 19.7343406\ttotal: 2.78s\tremaining: 660ms\n",
      "808:\tlearn: 19.6963930\ttotal: 2.78s\tremaining: 657ms\n",
      "809:\tlearn: 19.6705675\ttotal: 2.79s\tremaining: 654ms\n",
      "810:\tlearn: 19.6382933\ttotal: 2.79s\tremaining: 650ms\n",
      "811:\tlearn: 19.5889191\ttotal: 2.79s\tremaining: 647ms\n",
      "812:\tlearn: 19.5638487\ttotal: 2.79s\tremaining: 643ms\n",
      "813:\tlearn: 19.4926424\ttotal: 2.8s\tremaining: 640ms\n",
      "814:\tlearn: 19.3961396\ttotal: 2.8s\tremaining: 637ms\n",
      "815:\tlearn: 19.3880242\ttotal: 2.81s\tremaining: 633ms\n",
      "816:\tlearn: 19.2808372\ttotal: 2.81s\tremaining: 630ms\n",
      "817:\tlearn: 19.1712815\ttotal: 2.81s\tremaining: 626ms\n",
      "818:\tlearn: 19.0909823\ttotal: 2.82s\tremaining: 623ms\n",
      "819:\tlearn: 18.9993504\ttotal: 2.82s\tremaining: 619ms\n",
      "820:\tlearn: 18.9773399\ttotal: 2.82s\tremaining: 616ms\n",
      "821:\tlearn: 18.8989735\ttotal: 2.83s\tremaining: 612ms\n",
      "822:\tlearn: 18.8275176\ttotal: 2.83s\tremaining: 609ms\n",
      "823:\tlearn: 18.8092278\ttotal: 2.84s\tremaining: 606ms\n",
      "824:\tlearn: 18.7938447\ttotal: 2.84s\tremaining: 602ms\n",
      "825:\tlearn: 18.7871267\ttotal: 2.85s\tremaining: 600ms\n",
      "826:\tlearn: 18.7299674\ttotal: 2.85s\tremaining: 596ms\n",
      "827:\tlearn: 18.6808264\ttotal: 2.85s\tremaining: 593ms\n",
      "828:\tlearn: 18.5984875\ttotal: 2.86s\tremaining: 589ms\n",
      "829:\tlearn: 18.5170088\ttotal: 2.86s\tremaining: 586ms\n",
      "830:\tlearn: 18.4707382\ttotal: 2.86s\tremaining: 582ms\n",
      "831:\tlearn: 18.4368619\ttotal: 2.87s\tremaining: 579ms\n",
      "832:\tlearn: 18.3683191\ttotal: 2.87s\tremaining: 575ms\n",
      "833:\tlearn: 18.3295058\ttotal: 2.87s\tremaining: 572ms\n",
      "834:\tlearn: 18.2587263\ttotal: 2.88s\tremaining: 568ms\n",
      "835:\tlearn: 18.2103679\ttotal: 2.88s\tremaining: 565ms\n",
      "836:\tlearn: 18.1781032\ttotal: 2.88s\tremaining: 561ms\n",
      "837:\tlearn: 18.0746921\ttotal: 2.88s\tremaining: 558ms\n",
      "838:\tlearn: 18.0131984\ttotal: 2.89s\tremaining: 555ms\n",
      "839:\tlearn: 17.9510877\ttotal: 2.89s\tremaining: 551ms\n",
      "840:\tlearn: 17.8893536\ttotal: 2.9s\tremaining: 548ms\n",
      "841:\tlearn: 17.8813583\ttotal: 2.9s\tremaining: 544ms\n",
      "842:\tlearn: 17.8129857\ttotal: 2.9s\tremaining: 540ms\n",
      "843:\tlearn: 17.7981202\ttotal: 2.9s\tremaining: 537ms\n",
      "844:\tlearn: 17.7414627\ttotal: 2.91s\tremaining: 533ms\n",
      "845:\tlearn: 17.7255534\ttotal: 2.91s\tremaining: 530ms\n",
      "846:\tlearn: 17.6965545\ttotal: 2.91s\tremaining: 526ms\n",
      "847:\tlearn: 17.6499397\ttotal: 2.92s\tremaining: 523ms\n",
      "848:\tlearn: 17.6133852\ttotal: 2.92s\tremaining: 520ms\n",
      "849:\tlearn: 17.5621620\ttotal: 2.92s\tremaining: 516ms\n",
      "850:\tlearn: 17.5064049\ttotal: 2.93s\tremaining: 513ms\n",
      "851:\tlearn: 17.4643467\ttotal: 2.93s\tremaining: 509ms\n",
      "852:\tlearn: 17.4569544\ttotal: 2.93s\tremaining: 506ms\n",
      "853:\tlearn: 17.3731897\ttotal: 2.94s\tremaining: 502ms\n",
      "854:\tlearn: 17.3313609\ttotal: 2.94s\tremaining: 499ms\n",
      "855:\tlearn: 17.2781582\ttotal: 2.94s\tremaining: 495ms\n",
      "856:\tlearn: 17.2283433\ttotal: 2.95s\tremaining: 492ms\n",
      "857:\tlearn: 17.1944614\ttotal: 2.95s\tremaining: 489ms\n",
      "858:\tlearn: 17.1573393\ttotal: 2.95s\tremaining: 485ms\n",
      "859:\tlearn: 17.0975067\ttotal: 2.96s\tremaining: 482ms\n",
      "860:\tlearn: 17.0462043\ttotal: 2.96s\tremaining: 478ms\n",
      "861:\tlearn: 17.0118805\ttotal: 2.96s\tremaining: 475ms\n",
      "862:\tlearn: 17.0045195\ttotal: 2.97s\tremaining: 471ms\n",
      "863:\tlearn: 16.9528999\ttotal: 2.97s\tremaining: 468ms\n",
      "864:\tlearn: 16.9270632\ttotal: 2.98s\tremaining: 464ms\n",
      "865:\tlearn: 16.8915252\ttotal: 2.98s\tremaining: 461ms\n",
      "866:\tlearn: 16.7946576\ttotal: 2.98s\tremaining: 458ms\n",
      "867:\tlearn: 16.7737222\ttotal: 2.99s\tremaining: 454ms\n",
      "868:\tlearn: 16.7192509\ttotal: 2.99s\tremaining: 451ms\n",
      "869:\tlearn: 16.7138388\ttotal: 2.99s\tremaining: 447ms\n",
      "870:\tlearn: 16.6877768\ttotal: 3s\tremaining: 444ms\n",
      "871:\tlearn: 16.6265748\ttotal: 3s\tremaining: 441ms\n",
      "872:\tlearn: 16.5641199\ttotal: 3s\tremaining: 437ms\n",
      "873:\tlearn: 16.4935111\ttotal: 3.01s\tremaining: 434ms\n",
      "874:\tlearn: 16.4250863\ttotal: 3.01s\tremaining: 431ms\n",
      "875:\tlearn: 16.3566947\ttotal: 3.02s\tremaining: 427ms\n",
      "876:\tlearn: 16.2731185\ttotal: 3.02s\tremaining: 424ms\n",
      "877:\tlearn: 16.2207923\ttotal: 3.02s\tremaining: 420ms\n",
      "878:\tlearn: 16.2073108\ttotal: 3.03s\tremaining: 417ms\n",
      "879:\tlearn: 16.1336576\ttotal: 3.03s\tremaining: 413ms\n",
      "880:\tlearn: 16.0994139\ttotal: 3.03s\tremaining: 410ms\n",
      "881:\tlearn: 16.0720217\ttotal: 3.04s\tremaining: 406ms\n",
      "882:\tlearn: 16.0192163\ttotal: 3.04s\tremaining: 403ms\n",
      "883:\tlearn: 16.0021989\ttotal: 3.04s\tremaining: 399ms\n",
      "884:\tlearn: 15.9003005\ttotal: 3.04s\tremaining: 396ms\n",
      "885:\tlearn: 15.8685768\ttotal: 3.05s\tremaining: 392ms\n",
      "886:\tlearn: 15.7757199\ttotal: 3.05s\tremaining: 389ms\n",
      "887:\tlearn: 15.7280015\ttotal: 3.05s\tremaining: 385ms\n",
      "888:\tlearn: 15.7037867\ttotal: 3.06s\tremaining: 382ms\n",
      "889:\tlearn: 15.6876254\ttotal: 3.06s\tremaining: 378ms\n",
      "890:\tlearn: 15.6002589\ttotal: 3.06s\tremaining: 375ms\n",
      "891:\tlearn: 15.5663914\ttotal: 3.07s\tremaining: 371ms\n",
      "892:\tlearn: 15.4827503\ttotal: 3.07s\tremaining: 368ms\n",
      "893:\tlearn: 15.4422647\ttotal: 3.07s\tremaining: 364ms\n",
      "894:\tlearn: 15.4230904\ttotal: 3.08s\tremaining: 361ms\n",
      "895:\tlearn: 15.3907978\ttotal: 3.08s\tremaining: 357ms\n",
      "896:\tlearn: 15.3022423\ttotal: 3.08s\tremaining: 354ms\n",
      "897:\tlearn: 15.2770800\ttotal: 3.08s\tremaining: 350ms\n",
      "898:\tlearn: 15.2708396\ttotal: 3.09s\tremaining: 347ms\n",
      "899:\tlearn: 15.2217814\ttotal: 3.09s\tremaining: 344ms\n",
      "900:\tlearn: 15.2150872\ttotal: 3.1s\tremaining: 340ms\n",
      "901:\tlearn: 15.1938758\ttotal: 3.1s\tremaining: 337ms\n",
      "902:\tlearn: 15.1087389\ttotal: 3.1s\tremaining: 333ms\n",
      "903:\tlearn: 15.0270836\ttotal: 3.11s\tremaining: 330ms\n",
      "904:\tlearn: 14.9579009\ttotal: 3.11s\tremaining: 327ms\n",
      "905:\tlearn: 14.9321713\ttotal: 3.11s\tremaining: 323ms\n",
      "906:\tlearn: 14.9254894\ttotal: 3.12s\tremaining: 320ms\n",
      "907:\tlearn: 14.8662999\ttotal: 3.12s\tremaining: 316ms\n",
      "908:\tlearn: 14.7969088\ttotal: 3.12s\tremaining: 313ms\n",
      "909:\tlearn: 14.7187437\ttotal: 3.13s\tremaining: 309ms\n",
      "910:\tlearn: 14.6594229\ttotal: 3.13s\tremaining: 306ms\n",
      "911:\tlearn: 14.6109629\ttotal: 3.13s\tremaining: 302ms\n",
      "912:\tlearn: 14.5833869\ttotal: 3.14s\tremaining: 299ms\n",
      "913:\tlearn: 14.5677206\ttotal: 3.14s\tremaining: 296ms\n",
      "914:\tlearn: 14.5260964\ttotal: 3.15s\tremaining: 292ms\n",
      "915:\tlearn: 14.4838792\ttotal: 3.15s\tremaining: 289ms\n",
      "916:\tlearn: 14.4614097\ttotal: 3.15s\tremaining: 285ms\n",
      "917:\tlearn: 14.4432212\ttotal: 3.16s\tremaining: 282ms\n",
      "918:\tlearn: 14.4363977\ttotal: 3.16s\tremaining: 279ms\n",
      "919:\tlearn: 14.3740822\ttotal: 3.16s\tremaining: 275ms\n",
      "920:\tlearn: 14.3363459\ttotal: 3.17s\tremaining: 272ms\n",
      "921:\tlearn: 14.2862425\ttotal: 3.17s\tremaining: 268ms\n",
      "922:\tlearn: 14.2195191\ttotal: 3.17s\tremaining: 265ms\n",
      "923:\tlearn: 14.1752422\ttotal: 3.18s\tremaining: 262ms\n",
      "924:\tlearn: 14.1582897\ttotal: 3.18s\tremaining: 258ms\n",
      "925:\tlearn: 14.0892518\ttotal: 3.19s\tremaining: 255ms\n",
      "926:\tlearn: 14.0163904\ttotal: 3.19s\tremaining: 251ms\n",
      "927:\tlearn: 13.9674906\ttotal: 3.19s\tremaining: 248ms\n",
      "928:\tlearn: 13.9421041\ttotal: 3.19s\tremaining: 244ms\n",
      "929:\tlearn: 13.9264108\ttotal: 3.19s\tremaining: 241ms\n",
      "930:\tlearn: 13.8953443\ttotal: 3.2s\tremaining: 237ms\n",
      "931:\tlearn: 13.8514821\ttotal: 3.2s\tremaining: 234ms\n",
      "932:\tlearn: 13.8317730\ttotal: 3.2s\tremaining: 230ms\n",
      "933:\tlearn: 13.7980615\ttotal: 3.21s\tremaining: 227ms\n",
      "934:\tlearn: 13.7252551\ttotal: 3.21s\tremaining: 223ms\n",
      "935:\tlearn: 13.6867475\ttotal: 3.21s\tremaining: 220ms\n",
      "936:\tlearn: 13.6663164\ttotal: 3.21s\tremaining: 216ms\n",
      "937:\tlearn: 13.6108173\ttotal: 3.22s\tremaining: 213ms\n",
      "938:\tlearn: 13.5827380\ttotal: 3.22s\tremaining: 209ms\n",
      "939:\tlearn: 13.5211246\ttotal: 3.22s\tremaining: 206ms\n",
      "940:\tlearn: 13.4752089\ttotal: 3.23s\tremaining: 202ms\n",
      "941:\tlearn: 13.4283115\ttotal: 3.23s\tremaining: 199ms\n",
      "942:\tlearn: 13.3912327\ttotal: 3.23s\tremaining: 195ms\n",
      "943:\tlearn: 13.3593766\ttotal: 3.23s\tremaining: 192ms\n",
      "944:\tlearn: 13.3015250\ttotal: 3.23s\tremaining: 188ms\n",
      "945:\tlearn: 13.2587480\ttotal: 3.24s\tremaining: 185ms\n",
      "946:\tlearn: 13.1949436\ttotal: 3.24s\tremaining: 181ms\n",
      "947:\tlearn: 13.1552441\ttotal: 3.24s\tremaining: 178ms\n",
      "948:\tlearn: 13.0700947\ttotal: 3.25s\tremaining: 174ms\n",
      "949:\tlearn: 13.0460884\ttotal: 3.25s\tremaining: 171ms\n",
      "950:\tlearn: 13.0315972\ttotal: 3.25s\tremaining: 167ms\n",
      "951:\tlearn: 12.9964111\ttotal: 3.25s\tremaining: 164ms\n",
      "952:\tlearn: 12.9757139\ttotal: 3.25s\tremaining: 161ms\n",
      "953:\tlearn: 12.9120533\ttotal: 3.26s\tremaining: 157ms\n",
      "954:\tlearn: 12.8776679\ttotal: 3.26s\tremaining: 154ms\n",
      "955:\tlearn: 12.8703243\ttotal: 3.27s\tremaining: 150ms\n",
      "956:\tlearn: 12.8058615\ttotal: 3.27s\tremaining: 147ms\n",
      "957:\tlearn: 12.7637381\ttotal: 3.27s\tremaining: 143ms\n",
      "958:\tlearn: 12.7517063\ttotal: 3.27s\tremaining: 140ms\n",
      "959:\tlearn: 12.7382108\ttotal: 3.28s\tremaining: 137ms\n",
      "960:\tlearn: 12.6881713\ttotal: 3.28s\tremaining: 133ms\n",
      "961:\tlearn: 12.6728317\ttotal: 3.28s\tremaining: 130ms\n",
      "962:\tlearn: 12.6386609\ttotal: 3.29s\tremaining: 126ms\n",
      "963:\tlearn: 12.5837642\ttotal: 3.29s\tremaining: 123ms\n",
      "964:\tlearn: 12.5689789\ttotal: 3.29s\tremaining: 119ms\n",
      "965:\tlearn: 12.5362136\ttotal: 3.29s\tremaining: 116ms\n",
      "966:\tlearn: 12.5186020\ttotal: 3.3s\tremaining: 113ms\n",
      "967:\tlearn: 12.4787889\ttotal: 3.3s\tremaining: 109ms\n",
      "968:\tlearn: 12.4463866\ttotal: 3.3s\tremaining: 106ms\n",
      "969:\tlearn: 12.3919484\ttotal: 3.31s\tremaining: 102ms\n",
      "970:\tlearn: 12.3583173\ttotal: 3.31s\tremaining: 98.9ms\n",
      "971:\tlearn: 12.3430204\ttotal: 3.31s\tremaining: 95.5ms\n",
      "972:\tlearn: 12.3036135\ttotal: 3.32s\tremaining: 92ms\n",
      "973:\tlearn: 12.2785886\ttotal: 3.32s\tremaining: 88.6ms\n",
      "974:\tlearn: 12.2424148\ttotal: 3.32s\tremaining: 85.2ms\n",
      "975:\tlearn: 12.2287225\ttotal: 3.33s\tremaining: 81.8ms\n",
      "976:\tlearn: 12.1894056\ttotal: 3.33s\tremaining: 78.4ms\n",
      "977:\tlearn: 12.1399699\ttotal: 3.33s\tremaining: 75ms\n",
      "978:\tlearn: 12.1165698\ttotal: 3.34s\tremaining: 71.6ms\n",
      "979:\tlearn: 12.1084930\ttotal: 3.34s\tremaining: 68.1ms\n",
      "980:\tlearn: 12.1041455\ttotal: 3.34s\tremaining: 64.7ms\n",
      "981:\tlearn: 12.0749440\ttotal: 3.35s\tremaining: 61.3ms\n",
      "982:\tlearn: 12.0676323\ttotal: 3.35s\tremaining: 58ms\n",
      "983:\tlearn: 12.0253491\ttotal: 3.35s\tremaining: 54.5ms\n",
      "984:\tlearn: 11.9725269\ttotal: 3.36s\tremaining: 51.1ms\n",
      "985:\tlearn: 11.9344239\ttotal: 3.36s\tremaining: 47.7ms\n",
      "986:\tlearn: 11.8870660\ttotal: 3.36s\tremaining: 44.3ms\n",
      "987:\tlearn: 11.8411099\ttotal: 3.37s\tremaining: 40.9ms\n",
      "988:\tlearn: 11.7973602\ttotal: 3.37s\tremaining: 37.5ms\n",
      "989:\tlearn: 11.7514376\ttotal: 3.37s\tremaining: 34ms\n",
      "990:\tlearn: 11.7232746\ttotal: 3.37s\tremaining: 30.6ms\n",
      "991:\tlearn: 11.6852796\ttotal: 3.37s\tremaining: 27.2ms\n",
      "992:\tlearn: 11.6463794\ttotal: 3.38s\tremaining: 23.8ms\n",
      "993:\tlearn: 11.6106308\ttotal: 3.38s\tremaining: 20.4ms\n",
      "994:\tlearn: 11.5731961\ttotal: 3.38s\tremaining: 17ms\n",
      "995:\tlearn: 11.5417359\ttotal: 3.38s\tremaining: 13.6ms\n",
      "996:\tlearn: 11.5167117\ttotal: 3.38s\tremaining: 10.2ms\n",
      "997:\tlearn: 11.4745232\ttotal: 3.39s\tremaining: 6.79ms\n",
      "998:\tlearn: 11.4604481\ttotal: 3.39s\tremaining: 3.39ms\n",
      "999:\tlearn: 11.4510502\ttotal: 3.39s\tremaining: 0us\n"
     ]
    }
   ],
   "source": [
    "catb = CatBoostRegressor()\n",
    "catb_model = catb.fit(X_train, y_train)"
   ]
  },
  {
   "cell_type": "markdown",
   "id": "d62d0ec3-a8f0-4dd9-a811-fd4bc5d561f3",
   "metadata": {},
   "source": [
    "## Tahmin"
   ]
  },
  {
   "cell_type": "code",
   "execution_count": 58,
   "id": "a2c6a215-ec83-4f31-ac8d-28dcb0af2631",
   "metadata": {},
   "outputs": [
    {
     "data": {
      "text/plain": [
       "351.194631344607"
      ]
     },
     "execution_count": 58,
     "metadata": {},
     "output_type": "execute_result"
    }
   ],
   "source": [
    "y_pred = catb_model.predict(X_test)\n",
    "np.sqrt(mean_squared_error(y_test, y_pred))"
   ]
  },
  {
   "cell_type": "markdown",
   "id": "27701715-62ec-434c-be66-cb12d834ea90",
   "metadata": {},
   "source": [
    "## Model Tuning"
   ]
  },
  {
   "cell_type": "code",
   "execution_count": 62,
   "id": "7b2c3cfd-c2a5-4a55-bda1-e1fb9d269e98",
   "metadata": {},
   "outputs": [],
   "source": [
    "catb_grid = {\n",
    "    'iterations': [200,500,1000,2000],\n",
    "    'learning_rate': [0.01, 0.03, 0.05, 0.1],\n",
    "    'depth': [3,4,5,6,7,8]\n",
    "}"
   ]
  },
  {
   "cell_type": "code",
   "execution_count": 63,
   "id": "3c5d44f2-aefa-4a95-8d1f-fd7782d77ef7",
   "metadata": {},
   "outputs": [],
   "source": [
    "catb = CatBoostRegressor()\n",
    "catb_cv_model = GridSearchCV(catb, catb_grid, cv = 5, n_jobs = -1, verbose = 2)"
   ]
  },
  {
   "cell_type": "code",
   "execution_count": 64,
   "id": "8e99b9d6-3d5c-4d66-bff3-8f57d6f701e8",
   "metadata": {
    "collapsed": true,
    "jupyter": {
     "outputs_hidden": true
    },
    "tags": []
   },
   "outputs": [
    {
     "name": "stdout",
     "output_type": "stream",
     "text": [
      "Fitting 5 folds for each of 96 candidates, totalling 480 fits\n",
      "0:\tlearn: 422.4143448\ttotal: 2.39ms\tremaining: 2.39s\n",
      "1:\tlearn: 404.1864276\ttotal: 4.06ms\tremaining: 2.03s\n",
      "2:\tlearn: 386.3231718\ttotal: 5.6ms\tremaining: 1.86s\n",
      "3:\tlearn: 370.5548032\ttotal: 7.16ms\tremaining: 1.78s\n",
      "4:\tlearn: 354.9242038\ttotal: 9.06ms\tremaining: 1.8s\n",
      "5:\tlearn: 342.3403984\ttotal: 10.6ms\tremaining: 1.76s\n",
      "6:\tlearn: 328.2370070\ttotal: 12.2ms\tremaining: 1.73s\n",
      "7:\tlearn: 317.5056526\ttotal: 13.7ms\tremaining: 1.7s\n",
      "8:\tlearn: 306.6243511\ttotal: 15.3ms\tremaining: 1.68s\n",
      "9:\tlearn: 297.3147023\ttotal: 16.9ms\tremaining: 1.67s\n",
      "10:\tlearn: 288.3685892\ttotal: 18.4ms\tremaining: 1.66s\n",
      "11:\tlearn: 281.0996220\ttotal: 19.9ms\tremaining: 1.64s\n",
      "12:\tlearn: 273.2254898\ttotal: 21.4ms\tremaining: 1.63s\n",
      "13:\tlearn: 266.9003385\ttotal: 23.2ms\tremaining: 1.63s\n",
      "14:\tlearn: 261.9092500\ttotal: 25.1ms\tremaining: 1.65s\n",
      "15:\tlearn: 256.2637350\ttotal: 26.7ms\tremaining: 1.64s\n",
      "16:\tlearn: 250.3667935\ttotal: 28.3ms\tremaining: 1.63s\n",
      "17:\tlearn: 244.8631098\ttotal: 29.8ms\tremaining: 1.63s\n",
      "18:\tlearn: 240.1540669\ttotal: 31.3ms\tremaining: 1.62s\n",
      "19:\tlearn: 235.6057263\ttotal: 32.9ms\tremaining: 1.61s\n",
      "20:\tlearn: 231.2431102\ttotal: 34.5ms\tremaining: 1.61s\n",
      "21:\tlearn: 226.4912464\ttotal: 36ms\tremaining: 1.6s\n",
      "22:\tlearn: 223.5591707\ttotal: 37ms\tremaining: 1.57s\n",
      "23:\tlearn: 219.6098928\ttotal: 38.5ms\tremaining: 1.57s\n",
      "24:\tlearn: 215.3653069\ttotal: 40.1ms\tremaining: 1.56s\n",
      "25:\tlearn: 212.0589058\ttotal: 41.6ms\tremaining: 1.56s\n",
      "26:\tlearn: 209.7717728\ttotal: 43.1ms\tremaining: 1.55s\n",
      "27:\tlearn: 206.4800180\ttotal: 44.7ms\tremaining: 1.55s\n",
      "28:\tlearn: 204.4998286\ttotal: 46.2ms\tremaining: 1.54s\n",
      "29:\tlearn: 202.5999376\ttotal: 47.7ms\tremaining: 1.54s\n",
      "30:\tlearn: 199.5099986\ttotal: 49.2ms\tremaining: 1.54s\n",
      "31:\tlearn: 196.9435690\ttotal: 51ms\tremaining: 1.54s\n",
      "32:\tlearn: 194.9855023\ttotal: 52.6ms\tremaining: 1.54s\n",
      "33:\tlearn: 193.0037094\ttotal: 54.2ms\tremaining: 1.54s\n",
      "34:\tlearn: 191.6771224\ttotal: 55.7ms\tremaining: 1.53s\n",
      "35:\tlearn: 188.6440989\ttotal: 57.2ms\tremaining: 1.53s\n",
      "36:\tlearn: 186.7575822\ttotal: 58.8ms\tremaining: 1.53s\n",
      "37:\tlearn: 183.5070965\ttotal: 60.3ms\tremaining: 1.53s\n",
      "38:\tlearn: 181.9932704\ttotal: 61.9ms\tremaining: 1.52s\n",
      "39:\tlearn: 180.4612043\ttotal: 63.4ms\tremaining: 1.52s\n",
      "40:\tlearn: 178.9727236\ttotal: 65.2ms\tremaining: 1.52s\n",
      "41:\tlearn: 176.9704782\ttotal: 66.8ms\tremaining: 1.52s\n",
      "42:\tlearn: 172.9583917\ttotal: 68.3ms\tremaining: 1.52s\n",
      "43:\tlearn: 172.0259404\ttotal: 69.8ms\tremaining: 1.52s\n",
      "44:\tlearn: 169.6703908\ttotal: 71.3ms\tremaining: 1.51s\n",
      "45:\tlearn: 167.0349788\ttotal: 72.8ms\tremaining: 1.51s\n",
      "46:\tlearn: 166.0151540\ttotal: 74.4ms\tremaining: 1.51s\n",
      "47:\tlearn: 164.3432866\ttotal: 75.9ms\tremaining: 1.5s\n",
      "48:\tlearn: 163.7139546\ttotal: 77.4ms\tremaining: 1.5s\n",
      "49:\tlearn: 162.0231882\ttotal: 79.1ms\tremaining: 1.5s\n",
      "50:\tlearn: 159.4806540\ttotal: 80.8ms\tremaining: 1.5s\n",
      "51:\tlearn: 156.5835618\ttotal: 82.4ms\tremaining: 1.5s\n",
      "52:\tlearn: 155.1124833\ttotal: 84ms\tremaining: 1.5s\n",
      "53:\tlearn: 154.3849650\ttotal: 85.5ms\tremaining: 1.5s\n",
      "54:\tlearn: 153.2243534\ttotal: 87ms\tremaining: 1.49s\n",
      "55:\tlearn: 152.3205510\ttotal: 88.6ms\tremaining: 1.49s\n",
      "56:\tlearn: 151.0666069\ttotal: 90.1ms\tremaining: 1.49s\n",
      "57:\tlearn: 150.0992693\ttotal: 91.7ms\tremaining: 1.49s\n",
      "58:\tlearn: 149.7214223\ttotal: 93.4ms\tremaining: 1.49s\n",
      "59:\tlearn: 149.3420563\ttotal: 94.9ms\tremaining: 1.49s\n",
      "60:\tlearn: 147.1527638\ttotal: 96.4ms\tremaining: 1.48s\n",
      "61:\tlearn: 146.0849045\ttotal: 97.9ms\tremaining: 1.48s\n",
      "62:\tlearn: 145.2592821\ttotal: 99.4ms\tremaining: 1.48s\n",
      "63:\tlearn: 143.9723823\ttotal: 101ms\tremaining: 1.48s\n",
      "64:\tlearn: 142.9337890\ttotal: 102ms\tremaining: 1.47s\n",
      "65:\tlearn: 141.2456060\ttotal: 104ms\tremaining: 1.47s\n",
      "66:\tlearn: 140.0933886\ttotal: 105ms\tremaining: 1.47s\n",
      "67:\tlearn: 139.0122411\ttotal: 107ms\tremaining: 1.47s\n",
      "68:\tlearn: 137.0658535\ttotal: 109ms\tremaining: 1.47s\n",
      "69:\tlearn: 136.5187600\ttotal: 110ms\tremaining: 1.47s\n",
      "70:\tlearn: 135.3177866\ttotal: 112ms\tremaining: 1.46s\n",
      "71:\tlearn: 134.4397288\ttotal: 113ms\tremaining: 1.46s\n",
      "72:\tlearn: 133.9689054\ttotal: 115ms\tremaining: 1.46s\n",
      "73:\tlearn: 132.9503812\ttotal: 117ms\tremaining: 1.46s\n",
      "74:\tlearn: 132.4790284\ttotal: 118ms\tremaining: 1.46s\n",
      "75:\tlearn: 130.0079846\ttotal: 120ms\tremaining: 1.45s\n",
      "76:\tlearn: 128.6536311\ttotal: 122ms\tremaining: 1.46s\n",
      "77:\tlearn: 126.4149435\ttotal: 123ms\tremaining: 1.45s\n",
      "78:\tlearn: 124.7339610\ttotal: 125ms\tremaining: 1.45s\n",
      "79:\tlearn: 123.6799098\ttotal: 126ms\tremaining: 1.45s\n",
      "80:\tlearn: 122.0132818\ttotal: 128ms\tremaining: 1.45s\n",
      "81:\tlearn: 121.7718402\ttotal: 129ms\tremaining: 1.45s\n",
      "82:\tlearn: 121.0226763\ttotal: 131ms\tremaining: 1.44s\n",
      "83:\tlearn: 119.0352412\ttotal: 132ms\tremaining: 1.44s\n",
      "84:\tlearn: 118.1578472\ttotal: 134ms\tremaining: 1.44s\n",
      "85:\tlearn: 117.3963152\ttotal: 135ms\tremaining: 1.44s\n",
      "86:\tlearn: 116.8601830\ttotal: 137ms\tremaining: 1.44s\n",
      "87:\tlearn: 115.1485488\ttotal: 139ms\tremaining: 1.44s\n",
      "88:\tlearn: 113.3802066\ttotal: 140ms\tremaining: 1.43s\n",
      "89:\tlearn: 111.8047507\ttotal: 142ms\tremaining: 1.43s\n",
      "90:\tlearn: 111.2173889\ttotal: 143ms\tremaining: 1.43s\n",
      "91:\tlearn: 109.7797673\ttotal: 145ms\tremaining: 1.43s\n",
      "92:\tlearn: 108.5968886\ttotal: 146ms\tremaining: 1.43s\n",
      "93:\tlearn: 107.3902106\ttotal: 148ms\tremaining: 1.43s\n",
      "94:\tlearn: 106.5920119\ttotal: 150ms\tremaining: 1.43s\n",
      "95:\tlearn: 105.9400132\ttotal: 151ms\tremaining: 1.42s\n",
      "96:\tlearn: 104.5018068\ttotal: 153ms\tremaining: 1.42s\n",
      "97:\tlearn: 104.2449785\ttotal: 154ms\tremaining: 1.42s\n",
      "98:\tlearn: 102.4745810\ttotal: 156ms\tremaining: 1.42s\n",
      "99:\tlearn: 101.5007722\ttotal: 157ms\tremaining: 1.42s\n",
      "100:\tlearn: 101.0929742\ttotal: 159ms\tremaining: 1.41s\n",
      "101:\tlearn: 100.8864538\ttotal: 160ms\tremaining: 1.41s\n",
      "102:\tlearn: 99.5007076\ttotal: 163ms\tremaining: 1.42s\n",
      "103:\tlearn: 98.1646778\ttotal: 165ms\tremaining: 1.42s\n",
      "104:\tlearn: 97.1950961\ttotal: 167ms\tremaining: 1.42s\n",
      "105:\tlearn: 96.0991462\ttotal: 169ms\tremaining: 1.42s\n",
      "106:\tlearn: 95.4337941\ttotal: 171ms\tremaining: 1.43s\n",
      "107:\tlearn: 94.9099345\ttotal: 173ms\tremaining: 1.43s\n",
      "108:\tlearn: 94.3889362\ttotal: 175ms\tremaining: 1.43s\n",
      "109:\tlearn: 94.2091744\ttotal: 176ms\tremaining: 1.43s\n",
      "110:\tlearn: 92.8508793\ttotal: 178ms\tremaining: 1.42s\n",
      "111:\tlearn: 92.1784338\ttotal: 179ms\tremaining: 1.42s\n",
      "112:\tlearn: 91.6689944\ttotal: 181ms\tremaining: 1.42s\n",
      "113:\tlearn: 90.6644520\ttotal: 182ms\tremaining: 1.42s\n",
      "114:\tlearn: 90.5375287\ttotal: 184ms\tremaining: 1.42s\n",
      "115:\tlearn: 90.3442623\ttotal: 185ms\tremaining: 1.41s\n",
      "116:\tlearn: 89.3637881\ttotal: 187ms\tremaining: 1.41s\n",
      "117:\tlearn: 88.5340073\ttotal: 188ms\tremaining: 1.41s\n",
      "118:\tlearn: 88.3598014\ttotal: 190ms\tremaining: 1.41s\n",
      "119:\tlearn: 87.1290719\ttotal: 192ms\tremaining: 1.4s\n",
      "120:\tlearn: 87.0034893\ttotal: 193ms\tremaining: 1.4s\n",
      "121:\tlearn: 85.9581724\ttotal: 194ms\tremaining: 1.4s\n",
      "122:\tlearn: 84.7062226\ttotal: 197ms\tremaining: 1.41s\n",
      "123:\tlearn: 84.6114296\ttotal: 199ms\tremaining: 1.41s\n",
      "124:\tlearn: 83.3769126\ttotal: 201ms\tremaining: 1.41s\n",
      "125:\tlearn: 82.2866094\ttotal: 203ms\tremaining: 1.41s\n",
      "126:\tlearn: 81.7817112\ttotal: 205ms\tremaining: 1.41s\n",
      "127:\tlearn: 80.3710545\ttotal: 207ms\tremaining: 1.41s\n",
      "128:\tlearn: 79.3458239\ttotal: 209ms\tremaining: 1.41s\n",
      "129:\tlearn: 78.8966509\ttotal: 211ms\tremaining: 1.41s\n",
      "130:\tlearn: 78.7683699\ttotal: 213ms\tremaining: 1.41s\n",
      "131:\tlearn: 78.0116712\ttotal: 215ms\tremaining: 1.41s\n",
      "132:\tlearn: 77.5728582\ttotal: 217ms\tremaining: 1.41s\n",
      "133:\tlearn: 76.4635356\ttotal: 219ms\tremaining: 1.41s\n",
      "134:\tlearn: 75.6109482\ttotal: 221ms\tremaining: 1.41s\n",
      "135:\tlearn: 74.8287886\ttotal: 222ms\tremaining: 1.41s\n",
      "136:\tlearn: 74.2493825\ttotal: 224ms\tremaining: 1.41s\n",
      "137:\tlearn: 73.3192822\ttotal: 226ms\tremaining: 1.41s\n",
      "138:\tlearn: 72.9755066\ttotal: 228ms\tremaining: 1.41s\n",
      "139:\tlearn: 72.8423874\ttotal: 230ms\tremaining: 1.41s\n",
      "140:\tlearn: 71.5949506\ttotal: 232ms\tremaining: 1.41s\n",
      "141:\tlearn: 70.9408732\ttotal: 234ms\tremaining: 1.41s\n",
      "142:\tlearn: 70.1699642\ttotal: 236ms\tremaining: 1.41s\n",
      "143:\tlearn: 69.8737644\ttotal: 238ms\tremaining: 1.41s\n",
      "144:\tlearn: 69.0963759\ttotal: 240ms\tremaining: 1.41s\n",
      "145:\tlearn: 68.9702397\ttotal: 242ms\tremaining: 1.41s\n",
      "146:\tlearn: 67.8950397\ttotal: 244ms\tremaining: 1.41s\n",
      "147:\tlearn: 67.1501269\ttotal: 245ms\tremaining: 1.41s\n",
      "148:\tlearn: 66.4028868\ttotal: 248ms\tremaining: 1.42s\n",
      "149:\tlearn: 65.3349813\ttotal: 250ms\tremaining: 1.42s\n",
      "150:\tlearn: 64.6766190\ttotal: 252ms\tremaining: 1.42s\n",
      "151:\tlearn: 63.7390417\ttotal: 254ms\tremaining: 1.42s\n",
      "152:\tlearn: 62.9043101\ttotal: 256ms\tremaining: 1.42s\n",
      "153:\tlearn: 62.5922794\ttotal: 258ms\tremaining: 1.42s\n",
      "154:\tlearn: 62.1160450\ttotal: 260ms\tremaining: 1.42s\n",
      "155:\tlearn: 61.7702532\ttotal: 262ms\tremaining: 1.42s\n",
      "156:\tlearn: 61.2433354\ttotal: 264ms\tremaining: 1.42s\n",
      "157:\tlearn: 60.8455422\ttotal: 266ms\tremaining: 1.42s\n",
      "158:\tlearn: 60.6755303\ttotal: 268ms\tremaining: 1.41s\n",
      "159:\tlearn: 59.9631043\ttotal: 269ms\tremaining: 1.41s\n",
      "160:\tlearn: 59.2211911\ttotal: 272ms\tremaining: 1.42s\n",
      "161:\tlearn: 59.1400932\ttotal: 274ms\tremaining: 1.42s\n",
      "162:\tlearn: 58.9164262\ttotal: 277ms\tremaining: 1.42s\n",
      "163:\tlearn: 58.2084420\ttotal: 279ms\tremaining: 1.42s\n",
      "164:\tlearn: 57.9934649\ttotal: 282ms\tremaining: 1.43s\n",
      "165:\tlearn: 57.3736694\ttotal: 284ms\tremaining: 1.43s\n",
      "166:\tlearn: 56.8338370\ttotal: 287ms\tremaining: 1.43s\n",
      "167:\tlearn: 56.5518049\ttotal: 290ms\tremaining: 1.44s\n",
      "168:\tlearn: 55.9777349\ttotal: 293ms\tremaining: 1.44s\n",
      "169:\tlearn: 55.4485860\ttotal: 295ms\tremaining: 1.44s\n",
      "170:\tlearn: 55.0892542\ttotal: 297ms\tremaining: 1.44s\n",
      "171:\tlearn: 54.9915464\ttotal: 300ms\tremaining: 1.44s\n",
      "172:\tlearn: 54.3968112\ttotal: 302ms\tremaining: 1.45s\n",
      "173:\tlearn: 53.7708163\ttotal: 305ms\tremaining: 1.45s\n",
      "174:\tlearn: 53.1993023\ttotal: 307ms\tremaining: 1.45s\n",
      "175:\tlearn: 52.7773821\ttotal: 309ms\tremaining: 1.45s\n",
      "176:\tlearn: 52.5186612\ttotal: 312ms\tremaining: 1.45s\n",
      "177:\tlearn: 52.0038075\ttotal: 315ms\tremaining: 1.45s\n",
      "178:\tlearn: 51.7971195\ttotal: 317ms\tremaining: 1.45s\n",
      "179:\tlearn: 51.4334863\ttotal: 319ms\tremaining: 1.45s\n",
      "180:\tlearn: 50.9151359\ttotal: 321ms\tremaining: 1.45s\n",
      "181:\tlearn: 50.8252320\ttotal: 323ms\tremaining: 1.45s\n",
      "182:\tlearn: 50.4143487\ttotal: 326ms\tremaining: 1.45s\n",
      "183:\tlearn: 50.0253432\ttotal: 329ms\tremaining: 1.46s\n",
      "184:\tlearn: 49.6769233\ttotal: 331ms\tremaining: 1.46s\n",
      "185:\tlearn: 49.5689505\ttotal: 334ms\tremaining: 1.46s\n",
      "186:\tlearn: 49.0813531\ttotal: 336ms\tremaining: 1.46s\n",
      "187:\tlearn: 48.9396335\ttotal: 338ms\tremaining: 1.46s\n",
      "188:\tlearn: 48.5040716\ttotal: 339ms\tremaining: 1.46s\n",
      "189:\tlearn: 47.9644995\ttotal: 341ms\tremaining: 1.46s\n",
      "190:\tlearn: 47.8292554\ttotal: 343ms\tremaining: 1.45s\n",
      "191:\tlearn: 47.4433025\ttotal: 345ms\tremaining: 1.45s\n",
      "192:\tlearn: 46.9286959\ttotal: 347ms\tremaining: 1.45s\n",
      "193:\tlearn: 46.3092347\ttotal: 349ms\tremaining: 1.45s\n",
      "194:\tlearn: 45.7431428\ttotal: 351ms\tremaining: 1.45s\n",
      "195:\tlearn: 45.6714261\ttotal: 353ms\tremaining: 1.45s\n",
      "196:\tlearn: 45.5088158\ttotal: 355ms\tremaining: 1.45s\n",
      "197:\tlearn: 45.4713460\ttotal: 357ms\tremaining: 1.45s\n",
      "198:\tlearn: 45.0942536\ttotal: 359ms\tremaining: 1.45s\n",
      "199:\tlearn: 44.7625600\ttotal: 361ms\tremaining: 1.44s\n",
      "200:\tlearn: 44.3247006\ttotal: 363ms\tremaining: 1.44s\n",
      "201:\tlearn: 43.8054974\ttotal: 365ms\tremaining: 1.44s\n",
      "202:\tlearn: 43.3359785\ttotal: 367ms\tremaining: 1.44s\n",
      "203:\tlearn: 42.8698272\ttotal: 369ms\tremaining: 1.44s\n",
      "204:\tlearn: 42.4275364\ttotal: 370ms\tremaining: 1.44s\n",
      "205:\tlearn: 41.9463597\ttotal: 372ms\tremaining: 1.44s\n",
      "206:\tlearn: 41.7547985\ttotal: 374ms\tremaining: 1.43s\n",
      "207:\tlearn: 41.6019714\ttotal: 376ms\tremaining: 1.43s\n",
      "208:\tlearn: 41.4342896\ttotal: 378ms\tremaining: 1.43s\n",
      "209:\tlearn: 41.0764993\ttotal: 380ms\tremaining: 1.43s\n",
      "210:\tlearn: 40.7895715\ttotal: 382ms\tremaining: 1.43s\n",
      "211:\tlearn: 40.4428042\ttotal: 384ms\tremaining: 1.43s\n",
      "212:\tlearn: 39.9370849\ttotal: 386ms\tremaining: 1.43s\n",
      "213:\tlearn: 39.4885257\ttotal: 388ms\tremaining: 1.43s\n",
      "214:\tlearn: 39.1268375\ttotal: 390ms\tremaining: 1.42s\n",
      "215:\tlearn: 38.9591271\ttotal: 392ms\tremaining: 1.42s\n",
      "216:\tlearn: 38.8008893\ttotal: 394ms\tremaining: 1.42s\n",
      "217:\tlearn: 38.4956003\ttotal: 396ms\tremaining: 1.42s\n",
      "218:\tlearn: 38.3528545\ttotal: 397ms\tremaining: 1.42s\n",
      "219:\tlearn: 38.1794276\ttotal: 399ms\tremaining: 1.42s\n",
      "220:\tlearn: 38.1135196\ttotal: 401ms\tremaining: 1.41s\n",
      "221:\tlearn: 37.9126665\ttotal: 403ms\tremaining: 1.41s\n",
      "222:\tlearn: 37.5375523\ttotal: 405ms\tremaining: 1.41s\n",
      "223:\tlearn: 37.3774479\ttotal: 407ms\tremaining: 1.41s\n",
      "224:\tlearn: 36.8965396\ttotal: 409ms\tremaining: 1.41s\n",
      "225:\tlearn: 36.4012999\ttotal: 411ms\tremaining: 1.41s\n",
      "226:\tlearn: 35.9300616\ttotal: 413ms\tremaining: 1.41s\n",
      "227:\tlearn: 35.6148029\ttotal: 415ms\tremaining: 1.4s\n",
      "228:\tlearn: 35.2741594\ttotal: 417ms\tremaining: 1.4s\n",
      "229:\tlearn: 35.0196015\ttotal: 418ms\tremaining: 1.4s\n",
      "230:\tlearn: 34.5877862\ttotal: 420ms\tremaining: 1.4s\n",
      "231:\tlearn: 34.4128370\ttotal: 422ms\tremaining: 1.4s\n",
      "232:\tlearn: 34.2685016\ttotal: 424ms\tremaining: 1.4s\n",
      "233:\tlearn: 34.2021290\ttotal: 426ms\tremaining: 1.4s\n",
      "234:\tlearn: 34.1117548\ttotal: 428ms\tremaining: 1.39s\n",
      "235:\tlearn: 33.7038307\ttotal: 430ms\tremaining: 1.39s\n",
      "236:\tlearn: 33.6591145\ttotal: 432ms\tremaining: 1.39s\n",
      "237:\tlearn: 33.6134076\ttotal: 434ms\tremaining: 1.39s\n",
      "238:\tlearn: 33.3091022\ttotal: 436ms\tremaining: 1.39s\n",
      "239:\tlearn: 33.2050988\ttotal: 438ms\tremaining: 1.39s\n",
      "240:\tlearn: 32.7984087\ttotal: 440ms\tremaining: 1.38s\n",
      "241:\tlearn: 32.4886567\ttotal: 442ms\tremaining: 1.38s\n",
      "242:\tlearn: 32.3354906\ttotal: 444ms\tremaining: 1.38s\n",
      "243:\tlearn: 32.1610609\ttotal: 446ms\tremaining: 1.38s\n",
      "244:\tlearn: 31.9242693\ttotal: 448ms\tremaining: 1.38s\n",
      "245:\tlearn: 31.4693550\ttotal: 450ms\tremaining: 1.38s\n",
      "246:\tlearn: 31.1071532\ttotal: 452ms\tremaining: 1.38s\n",
      "247:\tlearn: 30.7311162\ttotal: 454ms\tremaining: 1.38s\n",
      "248:\tlearn: 30.4892550\ttotal: 456ms\tremaining: 1.37s\n",
      "249:\tlearn: 30.3680212\ttotal: 458ms\tremaining: 1.37s\n",
      "250:\tlearn: 30.1346007\ttotal: 460ms\tremaining: 1.37s\n",
      "251:\tlearn: 29.8046285\ttotal: 462ms\tremaining: 1.37s\n",
      "252:\tlearn: 29.6637514\ttotal: 464ms\tremaining: 1.37s\n",
      "253:\tlearn: 29.5176095\ttotal: 466ms\tremaining: 1.37s\n",
      "254:\tlearn: 29.3723319\ttotal: 469ms\tremaining: 1.37s\n",
      "255:\tlearn: 29.1301438\ttotal: 471ms\tremaining: 1.37s\n",
      "256:\tlearn: 29.1025017\ttotal: 473ms\tremaining: 1.37s\n",
      "257:\tlearn: 28.8276340\ttotal: 475ms\tremaining: 1.36s\n",
      "258:\tlearn: 28.6313979\ttotal: 477ms\tremaining: 1.36s\n",
      "259:\tlearn: 28.3904787\ttotal: 480ms\tremaining: 1.36s\n",
      "260:\tlearn: 27.9496011\ttotal: 482ms\tremaining: 1.36s\n",
      "261:\tlearn: 27.6744647\ttotal: 484ms\tremaining: 1.36s\n",
      "262:\tlearn: 27.5631687\ttotal: 487ms\tremaining: 1.36s\n",
      "263:\tlearn: 27.2940171\ttotal: 490ms\tremaining: 1.37s\n",
      "264:\tlearn: 27.0524989\ttotal: 493ms\tremaining: 1.37s\n",
      "265:\tlearn: 26.9019408\ttotal: 495ms\tremaining: 1.36s\n",
      "266:\tlearn: 26.7539234\ttotal: 497ms\tremaining: 1.36s\n",
      "267:\tlearn: 26.5906135\ttotal: 499ms\tremaining: 1.36s\n",
      "268:\tlearn: 26.3413069\ttotal: 501ms\tremaining: 1.36s\n",
      "269:\tlearn: 26.2300985\ttotal: 503ms\tremaining: 1.36s\n",
      "270:\tlearn: 25.7633750\ttotal: 505ms\tremaining: 1.36s\n",
      "271:\tlearn: 25.5999298\ttotal: 507ms\tremaining: 1.35s\n",
      "272:\tlearn: 25.4034221\ttotal: 509ms\tremaining: 1.35s\n",
      "273:\tlearn: 25.3449361\ttotal: 511ms\tremaining: 1.35s\n",
      "274:\tlearn: 25.1308675\ttotal: 513ms\tremaining: 1.35s\n",
      "275:\tlearn: 24.8170605\ttotal: 514ms\tremaining: 1.35s\n",
      "276:\tlearn: 24.5265387\ttotal: 516ms\tremaining: 1.35s\n",
      "277:\tlearn: 24.3891773\ttotal: 518ms\tremaining: 1.34s\n",
      "278:\tlearn: 24.1691955\ttotal: 520ms\tremaining: 1.34s\n",
      "279:\tlearn: 23.9780841\ttotal: 523ms\tremaining: 1.34s\n",
      "280:\tlearn: 23.7459991\ttotal: 525ms\tremaining: 1.34s\n",
      "281:\tlearn: 23.5762098\ttotal: 526ms\tremaining: 1.34s\n",
      "282:\tlearn: 23.4130148\ttotal: 529ms\tremaining: 1.34s\n",
      "283:\tlearn: 23.1365659\ttotal: 530ms\tremaining: 1.34s\n",
      "284:\tlearn: 22.9605139\ttotal: 532ms\tremaining: 1.33s\n",
      "285:\tlearn: 22.8198952\ttotal: 534ms\tremaining: 1.33s\n",
      "286:\tlearn: 22.7220776\ttotal: 536ms\tremaining: 1.33s\n",
      "287:\tlearn: 22.6349162\ttotal: 538ms\tremaining: 1.33s\n",
      "288:\tlearn: 22.5037731\ttotal: 540ms\tremaining: 1.33s\n",
      "289:\tlearn: 22.4280658\ttotal: 542ms\tremaining: 1.33s\n",
      "290:\tlearn: 22.4111078\ttotal: 544ms\tremaining: 1.32s\n",
      "291:\tlearn: 22.2582825\ttotal: 546ms\tremaining: 1.32s\n",
      "292:\tlearn: 22.0361847\ttotal: 548ms\tremaining: 1.32s\n",
      "293:\tlearn: 21.9197616\ttotal: 550ms\tremaining: 1.32s\n",
      "294:\tlearn: 21.8934931\ttotal: 552ms\tremaining: 1.32s\n",
      "295:\tlearn: 21.8385467\ttotal: 554ms\tremaining: 1.32s\n",
      "296:\tlearn: 21.6056469\ttotal: 556ms\tremaining: 1.31s\n",
      "297:\tlearn: 21.3638471\ttotal: 558ms\tremaining: 1.31s\n",
      "298:\tlearn: 21.2403020\ttotal: 560ms\tremaining: 1.31s\n",
      "299:\tlearn: 20.9940588\ttotal: 562ms\tremaining: 1.31s\n",
      "300:\tlearn: 20.8606002\ttotal: 564ms\tremaining: 1.31s\n",
      "301:\tlearn: 20.7521062\ttotal: 566ms\tremaining: 1.31s\n",
      "302:\tlearn: 20.4914061\ttotal: 568ms\tremaining: 1.31s\n",
      "303:\tlearn: 20.4390781\ttotal: 570ms\tremaining: 1.3s\n",
      "304:\tlearn: 20.4261039\ttotal: 572ms\tremaining: 1.3s\n",
      "305:\tlearn: 20.3429361\ttotal: 573ms\tremaining: 1.3s\n",
      "306:\tlearn: 20.3186699\ttotal: 575ms\tremaining: 1.3s\n",
      "307:\tlearn: 20.2200547\ttotal: 577ms\tremaining: 1.3s\n",
      "308:\tlearn: 20.0363798\ttotal: 579ms\tremaining: 1.29s\n",
      "309:\tlearn: 19.9375964\ttotal: 581ms\tremaining: 1.29s\n",
      "310:\tlearn: 19.8562475\ttotal: 583ms\tremaining: 1.29s\n",
      "311:\tlearn: 19.7207383\ttotal: 585ms\tremaining: 1.29s\n",
      "312:\tlearn: 19.5840205\ttotal: 587ms\tremaining: 1.29s\n",
      "313:\tlearn: 19.4498604\ttotal: 589ms\tremaining: 1.29s\n",
      "314:\tlearn: 19.3106313\ttotal: 591ms\tremaining: 1.28s\n",
      "315:\tlearn: 19.1555646\ttotal: 593ms\tremaining: 1.28s\n",
      "316:\tlearn: 19.1426558\ttotal: 595ms\tremaining: 1.28s\n",
      "317:\tlearn: 19.0179770\ttotal: 597ms\tremaining: 1.28s\n",
      "318:\tlearn: 18.9331646\ttotal: 599ms\tremaining: 1.28s\n",
      "319:\tlearn: 18.7759664\ttotal: 601ms\tremaining: 1.28s\n",
      "320:\tlearn: 18.7302473\ttotal: 603ms\tremaining: 1.27s\n",
      "321:\tlearn: 18.6822773\ttotal: 605ms\tremaining: 1.27s\n",
      "322:\tlearn: 18.6212081\ttotal: 607ms\tremaining: 1.27s\n",
      "323:\tlearn: 18.3825932\ttotal: 609ms\tremaining: 1.27s\n",
      "324:\tlearn: 18.0840511\ttotal: 611ms\tremaining: 1.27s\n",
      "325:\tlearn: 17.9626242\ttotal: 613ms\tremaining: 1.27s\n",
      "326:\tlearn: 17.8194649\ttotal: 615ms\tremaining: 1.26s\n",
      "327:\tlearn: 17.6897852\ttotal: 617ms\tremaining: 1.26s\n",
      "328:\tlearn: 17.6729587\ttotal: 618ms\tremaining: 1.26s\n",
      "329:\tlearn: 17.5730192\ttotal: 621ms\tremaining: 1.26s\n",
      "330:\tlearn: 17.3061709\ttotal: 623ms\tremaining: 1.26s\n",
      "331:\tlearn: 17.2732138\ttotal: 625ms\tremaining: 1.26s\n",
      "332:\tlearn: 17.1284244\ttotal: 627ms\tremaining: 1.25s\n",
      "333:\tlearn: 17.0578788\ttotal: 629ms\tremaining: 1.25s\n",
      "334:\tlearn: 16.9109643\ttotal: 630ms\tremaining: 1.25s\n",
      "335:\tlearn: 16.6595095\ttotal: 632ms\tremaining: 1.25s\n",
      "336:\tlearn: 16.5240861\ttotal: 634ms\tremaining: 1.25s\n",
      "337:\tlearn: 16.3631551\ttotal: 637ms\tremaining: 1.25s\n",
      "338:\tlearn: 16.2364521\ttotal: 639ms\tremaining: 1.25s\n",
      "339:\tlearn: 16.1259236\ttotal: 641ms\tremaining: 1.24s\n",
      "340:\tlearn: 16.1070160\ttotal: 643ms\tremaining: 1.24s\n",
      "341:\tlearn: 15.9446333\ttotal: 645ms\tremaining: 1.24s\n",
      "342:\tlearn: 15.8404109\ttotal: 647ms\tremaining: 1.24s\n",
      "343:\tlearn: 15.7616719\ttotal: 649ms\tremaining: 1.24s\n",
      "344:\tlearn: 15.7046860\ttotal: 651ms\tremaining: 1.24s\n",
      "345:\tlearn: 15.5565531\ttotal: 653ms\tremaining: 1.23s\n",
      "346:\tlearn: 15.4739767\ttotal: 655ms\tremaining: 1.23s\n",
      "347:\tlearn: 15.4214691\ttotal: 657ms\tremaining: 1.23s\n",
      "348:\tlearn: 15.3830392\ttotal: 660ms\tremaining: 1.23s\n",
      "349:\tlearn: 15.2925503\ttotal: 662ms\tremaining: 1.23s\n",
      "350:\tlearn: 15.2685305\ttotal: 664ms\tremaining: 1.23s\n",
      "351:\tlearn: 15.0959980\ttotal: 666ms\tremaining: 1.23s\n",
      "352:\tlearn: 15.0185539\ttotal: 668ms\tremaining: 1.22s\n",
      "353:\tlearn: 14.9344909\ttotal: 670ms\tremaining: 1.22s\n",
      "354:\tlearn: 14.8185511\ttotal: 672ms\tremaining: 1.22s\n",
      "355:\tlearn: 14.7621205\ttotal: 674ms\tremaining: 1.22s\n",
      "356:\tlearn: 14.6824384\ttotal: 676ms\tremaining: 1.22s\n",
      "357:\tlearn: 14.5918871\ttotal: 679ms\tremaining: 1.22s\n",
      "358:\tlearn: 14.4898356\ttotal: 681ms\tremaining: 1.22s\n",
      "359:\tlearn: 14.4773981\ttotal: 683ms\tremaining: 1.21s\n",
      "360:\tlearn: 14.3256006\ttotal: 685ms\tremaining: 1.21s\n",
      "361:\tlearn: 14.1704867\ttotal: 687ms\tremaining: 1.21s\n",
      "362:\tlearn: 14.0453382\ttotal: 689ms\tremaining: 1.21s\n",
      "363:\tlearn: 13.9488312\ttotal: 691ms\tremaining: 1.21s\n",
      "364:\tlearn: 13.8932251\ttotal: 693ms\tremaining: 1.21s\n",
      "365:\tlearn: 13.7368549\ttotal: 695ms\tremaining: 1.2s\n",
      "366:\tlearn: 13.6533268\ttotal: 697ms\tremaining: 1.2s\n",
      "367:\tlearn: 13.5191569\ttotal: 699ms\tremaining: 1.2s\n",
      "368:\tlearn: 13.4712080\ttotal: 701ms\tremaining: 1.2s\n",
      "369:\tlearn: 13.3454926\ttotal: 702ms\tremaining: 1.2s\n",
      "370:\tlearn: 13.2804919\ttotal: 704ms\tremaining: 1.19s\n",
      "371:\tlearn: 13.2609934\ttotal: 706ms\tremaining: 1.19s\n",
      "372:\tlearn: 13.1804458\ttotal: 708ms\tremaining: 1.19s\n",
      "373:\tlearn: 13.0381162\ttotal: 710ms\tremaining: 1.19s\n",
      "374:\tlearn: 13.0250736\ttotal: 712ms\tremaining: 1.19s\n",
      "375:\tlearn: 13.0006609\ttotal: 714ms\tremaining: 1.19s\n",
      "376:\tlearn: 12.8507663\ttotal: 716ms\tremaining: 1.18s\n",
      "377:\tlearn: 12.6986039\ttotal: 718ms\tremaining: 1.18s\n",
      "378:\tlearn: 12.5574544\ttotal: 720ms\tremaining: 1.18s\n",
      "379:\tlearn: 12.4864386\ttotal: 723ms\tremaining: 1.18s\n",
      "380:\tlearn: 12.3739036\ttotal: 724ms\tremaining: 1.18s\n",
      "381:\tlearn: 12.3110117\ttotal: 726ms\tremaining: 1.18s\n",
      "382:\tlearn: 12.2077088\ttotal: 728ms\tremaining: 1.17s\n",
      "383:\tlearn: 12.1065885\ttotal: 730ms\tremaining: 1.17s\n",
      "384:\tlearn: 12.0323948\ttotal: 732ms\tremaining: 1.17s\n",
      "385:\tlearn: 12.0014896\ttotal: 734ms\tremaining: 1.17s\n",
      "386:\tlearn: 11.8568080\ttotal: 736ms\tremaining: 1.17s\n",
      "387:\tlearn: 11.7867144\ttotal: 738ms\tremaining: 1.16s\n",
      "388:\tlearn: 11.7500836\ttotal: 740ms\tremaining: 1.16s\n",
      "389:\tlearn: 11.7348877\ttotal: 742ms\tremaining: 1.16s\n",
      "390:\tlearn: 11.7286653\ttotal: 744ms\tremaining: 1.16s\n",
      "391:\tlearn: 11.6241305\ttotal: 746ms\tremaining: 1.16s\n",
      "392:\tlearn: 11.5960420\ttotal: 748ms\tremaining: 1.16s\n",
      "393:\tlearn: 11.5729987\ttotal: 750ms\tremaining: 1.15s\n",
      "394:\tlearn: 11.5635235\ttotal: 752ms\tremaining: 1.15s\n",
      "395:\tlearn: 11.4873129\ttotal: 754ms\tremaining: 1.15s\n",
      "396:\tlearn: 11.3564378\ttotal: 756ms\tremaining: 1.15s\n",
      "397:\tlearn: 11.2078876\ttotal: 758ms\tremaining: 1.15s\n",
      "398:\tlearn: 11.1598904\ttotal: 760ms\tremaining: 1.14s\n",
      "399:\tlearn: 11.0885074\ttotal: 762ms\tremaining: 1.14s\n",
      "400:\tlearn: 11.0278575\ttotal: 764ms\tremaining: 1.14s\n",
      "401:\tlearn: 10.9865756\ttotal: 766ms\tremaining: 1.14s\n",
      "402:\tlearn: 10.8794931\ttotal: 768ms\tremaining: 1.14s\n",
      "403:\tlearn: 10.8382558\ttotal: 770ms\tremaining: 1.14s\n",
      "404:\tlearn: 10.7596014\ttotal: 772ms\tremaining: 1.13s\n",
      "405:\tlearn: 10.7064165\ttotal: 774ms\tremaining: 1.13s\n",
      "406:\tlearn: 10.6372130\ttotal: 776ms\tremaining: 1.13s\n",
      "407:\tlearn: 10.5505037\ttotal: 778ms\tremaining: 1.13s\n",
      "408:\tlearn: 10.4676489\ttotal: 779ms\tremaining: 1.13s\n",
      "409:\tlearn: 10.3632792\ttotal: 781ms\tremaining: 1.12s\n",
      "410:\tlearn: 10.3399756\ttotal: 783ms\tremaining: 1.12s\n",
      "411:\tlearn: 10.2905778\ttotal: 785ms\tremaining: 1.12s\n",
      "412:\tlearn: 10.2175164\ttotal: 787ms\tremaining: 1.12s\n",
      "413:\tlearn: 10.1482923\ttotal: 789ms\tremaining: 1.12s\n",
      "414:\tlearn: 10.0590953\ttotal: 791ms\tremaining: 1.11s\n",
      "415:\tlearn: 9.9982795\ttotal: 793ms\tremaining: 1.11s\n",
      "416:\tlearn: 9.9099074\ttotal: 795ms\tremaining: 1.11s\n",
      "417:\tlearn: 9.8641812\ttotal: 797ms\tremaining: 1.11s\n",
      "418:\tlearn: 9.8207799\ttotal: 799ms\tremaining: 1.11s\n",
      "419:\tlearn: 9.7000976\ttotal: 800ms\tremaining: 1.1s\n",
      "420:\tlearn: 9.6211675\ttotal: 802ms\tremaining: 1.1s\n",
      "421:\tlearn: 9.5821946\ttotal: 804ms\tremaining: 1.1s\n",
      "422:\tlearn: 9.5314530\ttotal: 806ms\tremaining: 1.1s\n",
      "423:\tlearn: 9.5231706\ttotal: 808ms\tremaining: 1.1s\n",
      "424:\tlearn: 9.4897613\ttotal: 810ms\tremaining: 1.1s\n",
      "425:\tlearn: 9.4178254\ttotal: 812ms\tremaining: 1.09s\n",
      "426:\tlearn: 9.3468512\ttotal: 814ms\tremaining: 1.09s\n",
      "427:\tlearn: 9.2916542\ttotal: 816ms\tremaining: 1.09s\n",
      "428:\tlearn: 9.2671046\ttotal: 818ms\tremaining: 1.09s\n",
      "429:\tlearn: 9.1507425\ttotal: 820ms\tremaining: 1.09s\n",
      "430:\tlearn: 9.0905964\ttotal: 822ms\tremaining: 1.08s\n",
      "431:\tlearn: 9.0599172\ttotal: 825ms\tremaining: 1.08s\n",
      "432:\tlearn: 8.9911670\ttotal: 828ms\tremaining: 1.08s\n",
      "433:\tlearn: 8.9769178\ttotal: 830ms\tremaining: 1.08s\n",
      "434:\tlearn: 8.9011639\ttotal: 832ms\tremaining: 1.08s\n",
      "435:\tlearn: 8.8578447\ttotal: 834ms\tremaining: 1.08s\n",
      "436:\tlearn: 8.7766216\ttotal: 836ms\tremaining: 1.08s\n",
      "437:\tlearn: 8.7600187\ttotal: 838ms\tremaining: 1.07s\n",
      "438:\tlearn: 8.7039464\ttotal: 840ms\tremaining: 1.07s\n",
      "439:\tlearn: 8.6701908\ttotal: 842ms\tremaining: 1.07s\n",
      "440:\tlearn: 8.6561906\ttotal: 844ms\tremaining: 1.07s\n",
      "441:\tlearn: 8.6030579\ttotal: 846ms\tremaining: 1.07s\n",
      "442:\tlearn: 8.5192884\ttotal: 848ms\tremaining: 1.06s\n",
      "443:\tlearn: 8.4605490\ttotal: 850ms\tremaining: 1.06s\n",
      "444:\tlearn: 8.3846572\ttotal: 852ms\tremaining: 1.06s\n",
      "445:\tlearn: 8.3429264\ttotal: 854ms\tremaining: 1.06s\n",
      "446:\tlearn: 8.3068488\ttotal: 856ms\tremaining: 1.06s\n",
      "447:\tlearn: 8.2662142\ttotal: 858ms\tremaining: 1.06s\n",
      "448:\tlearn: 8.1806196\ttotal: 860ms\tremaining: 1.05s\n",
      "449:\tlearn: 8.1475696\ttotal: 862ms\tremaining: 1.05s\n",
      "450:\tlearn: 8.1145904\ttotal: 864ms\tremaining: 1.05s\n",
      "451:\tlearn: 8.0740309\ttotal: 866ms\tremaining: 1.05s\n",
      "452:\tlearn: 8.0095799\ttotal: 868ms\tremaining: 1.05s\n",
      "453:\tlearn: 7.9857193\ttotal: 870ms\tremaining: 1.04s\n",
      "454:\tlearn: 7.9300069\ttotal: 872ms\tremaining: 1.04s\n",
      "455:\tlearn: 7.9088282\ttotal: 873ms\tremaining: 1.04s\n",
      "456:\tlearn: 7.8726359\ttotal: 875ms\tremaining: 1.04s\n",
      "457:\tlearn: 7.8453260\ttotal: 877ms\tremaining: 1.04s\n",
      "458:\tlearn: 7.8015145\ttotal: 879ms\tremaining: 1.04s\n",
      "459:\tlearn: 7.7552434\ttotal: 882ms\tremaining: 1.03s\n",
      "460:\tlearn: 7.7033074\ttotal: 884ms\tremaining: 1.03s\n",
      "461:\tlearn: 7.6732816\ttotal: 887ms\tremaining: 1.03s\n",
      "462:\tlearn: 7.6387343\ttotal: 889ms\tremaining: 1.03s\n",
      "463:\tlearn: 7.5939225\ttotal: 892ms\tremaining: 1.03s\n",
      "464:\tlearn: 7.5495985\ttotal: 894ms\tremaining: 1.03s\n",
      "465:\tlearn: 7.5164784\ttotal: 896ms\tremaining: 1.03s\n",
      "466:\tlearn: 7.4692120\ttotal: 899ms\tremaining: 1.02s\n",
      "467:\tlearn: 7.4602739\ttotal: 901ms\tremaining: 1.02s\n",
      "468:\tlearn: 7.4245927\ttotal: 903ms\tremaining: 1.02s\n",
      "469:\tlearn: 7.3402299\ttotal: 905ms\tremaining: 1.02s\n",
      "470:\tlearn: 7.2998185\ttotal: 908ms\tremaining: 1.02s\n",
      "471:\tlearn: 7.2014577\ttotal: 910ms\tremaining: 1.02s\n",
      "472:\tlearn: 7.1904207\ttotal: 912ms\tremaining: 1.02s\n",
      "473:\tlearn: 7.1527862\ttotal: 915ms\tremaining: 1.01s\n",
      "474:\tlearn: 7.0771473\ttotal: 918ms\tremaining: 1.01s\n",
      "475:\tlearn: 7.0539525\ttotal: 920ms\tremaining: 1.01s\n",
      "476:\tlearn: 6.9846025\ttotal: 922ms\tremaining: 1.01s\n",
      "477:\tlearn: 6.9534313\ttotal: 925ms\tremaining: 1.01s\n",
      "478:\tlearn: 6.8975880\ttotal: 927ms\tremaining: 1.01s\n",
      "479:\tlearn: 6.8254191\ttotal: 929ms\tremaining: 1.01s\n",
      "480:\tlearn: 6.8112478\ttotal: 931ms\tremaining: 1s\n",
      "481:\tlearn: 6.7648902\ttotal: 934ms\tremaining: 1s\n",
      "482:\tlearn: 6.6860735\ttotal: 936ms\tremaining: 1s\n",
      "483:\tlearn: 6.6633461\ttotal: 939ms\tremaining: 1s\n",
      "484:\tlearn: 6.6475279\ttotal: 941ms\tremaining: 999ms\n",
      "485:\tlearn: 6.5921608\ttotal: 943ms\tremaining: 997ms\n",
      "486:\tlearn: 6.5602794\ttotal: 945ms\tremaining: 996ms\n",
      "487:\tlearn: 6.5499659\ttotal: 948ms\tremaining: 994ms\n",
      "488:\tlearn: 6.4940006\ttotal: 950ms\tremaining: 993ms\n",
      "489:\tlearn: 6.4247752\ttotal: 953ms\tremaining: 991ms\n",
      "490:\tlearn: 6.3877601\ttotal: 955ms\tremaining: 990ms\n",
      "491:\tlearn: 6.3314191\ttotal: 957ms\tremaining: 988ms\n",
      "492:\tlearn: 6.2812751\ttotal: 960ms\tremaining: 987ms\n",
      "493:\tlearn: 6.2685065\ttotal: 962ms\tremaining: 985ms\n",
      "494:\tlearn: 6.2241138\ttotal: 964ms\tremaining: 984ms\n",
      "495:\tlearn: 6.1695214\ttotal: 967ms\tremaining: 982ms\n",
      "496:\tlearn: 6.1421906\ttotal: 969ms\tremaining: 981ms\n",
      "497:\tlearn: 6.1331850\ttotal: 972ms\tremaining: 979ms\n",
      "498:\tlearn: 6.1166327\ttotal: 974ms\tremaining: 978ms\n",
      "499:\tlearn: 6.0829602\ttotal: 976ms\tremaining: 976ms\n",
      "500:\tlearn: 6.0650422\ttotal: 978ms\tremaining: 975ms\n",
      "501:\tlearn: 6.0436563\ttotal: 981ms\tremaining: 973ms\n",
      "502:\tlearn: 5.9902804\ttotal: 983ms\tremaining: 971ms\n",
      "503:\tlearn: 5.9121675\ttotal: 985ms\tremaining: 970ms\n",
      "504:\tlearn: 5.9091850\ttotal: 988ms\tremaining: 968ms\n",
      "505:\tlearn: 5.8967995\ttotal: 990ms\tremaining: 967ms\n",
      "506:\tlearn: 5.8430221\ttotal: 993ms\tremaining: 966ms\n",
      "507:\tlearn: 5.8135495\ttotal: 996ms\tremaining: 964ms\n",
      "508:\tlearn: 5.7890913\ttotal: 998ms\tremaining: 963ms\n",
      "509:\tlearn: 5.7577091\ttotal: 1s\tremaining: 961ms\n",
      "510:\tlearn: 5.7523488\ttotal: 1s\tremaining: 959ms\n",
      "511:\tlearn: 5.6546493\ttotal: 1s\tremaining: 958ms\n",
      "512:\tlearn: 5.6194513\ttotal: 1.01s\tremaining: 956ms\n",
      "513:\tlearn: 5.5672252\ttotal: 1.01s\tremaining: 954ms\n",
      "514:\tlearn: 5.5539421\ttotal: 1.01s\tremaining: 952ms\n",
      "515:\tlearn: 5.5185620\ttotal: 1.01s\tremaining: 951ms\n",
      "516:\tlearn: 5.4789463\ttotal: 1.02s\tremaining: 949ms\n",
      "517:\tlearn: 5.4236755\ttotal: 1.02s\tremaining: 948ms\n",
      "518:\tlearn: 5.3864207\ttotal: 1.02s\tremaining: 946ms\n",
      "519:\tlearn: 5.3533466\ttotal: 1.02s\tremaining: 944ms\n",
      "520:\tlearn: 5.3369921\ttotal: 1.02s\tremaining: 943ms\n",
      "521:\tlearn: 5.2560437\ttotal: 1.03s\tremaining: 941ms\n",
      "522:\tlearn: 5.2017840\ttotal: 1.03s\tremaining: 940ms\n",
      "523:\tlearn: 5.1755812\ttotal: 1.03s\tremaining: 938ms\n",
      "524:\tlearn: 5.1385832\ttotal: 1.03s\tremaining: 936ms\n",
      "525:\tlearn: 5.1335579\ttotal: 1.04s\tremaining: 935ms\n",
      "526:\tlearn: 5.0585358\ttotal: 1.04s\tremaining: 933ms\n",
      "527:\tlearn: 5.0021152\ttotal: 1.04s\tremaining: 931ms\n",
      "528:\tlearn: 4.9822398\ttotal: 1.04s\tremaining: 930ms\n",
      "529:\tlearn: 4.9752376\ttotal: 1.05s\tremaining: 928ms\n",
      "530:\tlearn: 4.9479232\ttotal: 1.05s\tremaining: 927ms\n",
      "531:\tlearn: 4.9271142\ttotal: 1.05s\tremaining: 925ms\n",
      "532:\tlearn: 4.9023595\ttotal: 1.05s\tremaining: 924ms\n",
      "533:\tlearn: 4.8555527\ttotal: 1.06s\tremaining: 922ms\n",
      "534:\tlearn: 4.8367794\ttotal: 1.06s\tremaining: 920ms\n",
      "535:\tlearn: 4.7952444\ttotal: 1.06s\tremaining: 919ms\n",
      "536:\tlearn: 4.7409194\ttotal: 1.06s\tremaining: 917ms\n",
      "537:\tlearn: 4.6929973\ttotal: 1.06s\tremaining: 915ms\n",
      "538:\tlearn: 4.6579685\ttotal: 1.07s\tremaining: 913ms\n",
      "539:\tlearn: 4.6195745\ttotal: 1.07s\tremaining: 912ms\n",
      "540:\tlearn: 4.5964136\ttotal: 1.07s\tremaining: 910ms\n",
      "541:\tlearn: 4.5836819\ttotal: 1.07s\tremaining: 909ms\n",
      "542:\tlearn: 4.5766395\ttotal: 1.08s\tremaining: 907ms\n",
      "543:\tlearn: 4.5639948\ttotal: 1.08s\tremaining: 905ms\n",
      "544:\tlearn: 4.5321336\ttotal: 1.08s\tremaining: 904ms\n",
      "545:\tlearn: 4.5257262\ttotal: 1.08s\tremaining: 902ms\n",
      "546:\tlearn: 4.5121200\ttotal: 1.09s\tremaining: 900ms\n",
      "547:\tlearn: 4.5000971\ttotal: 1.09s\tremaining: 899ms\n",
      "548:\tlearn: 4.4699564\ttotal: 1.09s\tremaining: 897ms\n",
      "549:\tlearn: 4.4223918\ttotal: 1.09s\tremaining: 895ms\n",
      "550:\tlearn: 4.3900850\ttotal: 1.1s\tremaining: 893ms\n",
      "551:\tlearn: 4.3865832\ttotal: 1.1s\tremaining: 891ms\n",
      "552:\tlearn: 4.3555236\ttotal: 1.1s\tremaining: 890ms\n",
      "553:\tlearn: 4.3326942\ttotal: 1.1s\tremaining: 888ms\n",
      "554:\tlearn: 4.3083453\ttotal: 1.1s\tremaining: 886ms\n",
      "555:\tlearn: 4.2783012\ttotal: 1.11s\tremaining: 885ms\n",
      "556:\tlearn: 4.2386680\ttotal: 1.11s\tremaining: 883ms\n",
      "557:\tlearn: 4.1982182\ttotal: 1.11s\tremaining: 882ms\n",
      "558:\tlearn: 4.1818634\ttotal: 1.11s\tremaining: 880ms\n",
      "559:\tlearn: 4.1603123\ttotal: 1.12s\tremaining: 878ms\n",
      "560:\tlearn: 4.1162392\ttotal: 1.12s\tremaining: 876ms\n",
      "561:\tlearn: 4.0942539\ttotal: 1.12s\tremaining: 875ms\n",
      "562:\tlearn: 4.0833944\ttotal: 1.12s\tremaining: 873ms\n",
      "563:\tlearn: 4.0651220\ttotal: 1.13s\tremaining: 871ms\n",
      "564:\tlearn: 4.0359525\ttotal: 1.13s\tremaining: 869ms\n",
      "565:\tlearn: 4.0331482\ttotal: 1.13s\tremaining: 868ms\n",
      "566:\tlearn: 4.0110785\ttotal: 1.13s\tremaining: 866ms\n",
      "567:\tlearn: 3.9846807\ttotal: 1.14s\tremaining: 864ms\n",
      "568:\tlearn: 3.9611224\ttotal: 1.14s\tremaining: 863ms\n",
      "569:\tlearn: 3.9238317\ttotal: 1.14s\tremaining: 861ms\n",
      "570:\tlearn: 3.9105718\ttotal: 1.14s\tremaining: 859ms\n",
      "571:\tlearn: 3.8725349\ttotal: 1.15s\tremaining: 857ms\n",
      "572:\tlearn: 3.8589458\ttotal: 1.15s\tremaining: 856ms\n",
      "573:\tlearn: 3.8201118\ttotal: 1.15s\tremaining: 854ms\n",
      "574:\tlearn: 3.8100971\ttotal: 1.15s\tremaining: 852ms\n",
      "575:\tlearn: 3.7824233\ttotal: 1.16s\tremaining: 851ms\n",
      "576:\tlearn: 3.7652240\ttotal: 1.16s\tremaining: 849ms\n",
      "577:\tlearn: 3.7320270\ttotal: 1.16s\tremaining: 848ms\n",
      "578:\tlearn: 3.7227983\ttotal: 1.16s\tremaining: 846ms\n",
      "579:\tlearn: 3.7007934\ttotal: 1.17s\tremaining: 845ms\n",
      "580:\tlearn: 3.6703626\ttotal: 1.17s\tremaining: 843ms\n",
      "581:\tlearn: 3.6587500\ttotal: 1.17s\tremaining: 841ms\n",
      "582:\tlearn: 3.6435213\ttotal: 1.17s\tremaining: 839ms\n",
      "583:\tlearn: 3.6165255\ttotal: 1.18s\tremaining: 838ms\n",
      "584:\tlearn: 3.5921438\ttotal: 1.18s\tremaining: 837ms\n",
      "585:\tlearn: 3.5823094\ttotal: 1.18s\tremaining: 836ms\n",
      "586:\tlearn: 3.5707107\ttotal: 1.19s\tremaining: 834ms\n",
      "587:\tlearn: 3.5585582\ttotal: 1.19s\tremaining: 832ms\n",
      "588:\tlearn: 3.5083056\ttotal: 1.19s\tremaining: 831ms\n",
      "589:\tlearn: 3.4896083\ttotal: 1.19s\tremaining: 830ms\n",
      "590:\tlearn: 3.4745190\ttotal: 1.2s\tremaining: 828ms\n",
      "591:\tlearn: 3.4627260\ttotal: 1.2s\tremaining: 826ms\n",
      "592:\tlearn: 3.4385625\ttotal: 1.2s\tremaining: 824ms\n",
      "593:\tlearn: 3.3997235\ttotal: 1.2s\tremaining: 823ms\n",
      "594:\tlearn: 3.3764192\ttotal: 1.21s\tremaining: 821ms\n",
      "595:\tlearn: 3.3590522\ttotal: 1.21s\tremaining: 819ms\n",
      "596:\tlearn: 3.3474857\ttotal: 1.21s\tremaining: 817ms\n",
      "597:\tlearn: 3.3123623\ttotal: 1.21s\tremaining: 815ms\n",
      "598:\tlearn: 3.2999589\ttotal: 1.22s\tremaining: 813ms\n",
      "599:\tlearn: 3.2767538\ttotal: 1.22s\tremaining: 812ms\n",
      "600:\tlearn: 3.2530783\ttotal: 1.22s\tremaining: 810ms\n",
      "601:\tlearn: 3.2269777\ttotal: 1.22s\tremaining: 808ms\n",
      "602:\tlearn: 3.1938868\ttotal: 1.22s\tremaining: 806ms\n",
      "603:\tlearn: 3.1728589\ttotal: 1.23s\tremaining: 805ms\n",
      "604:\tlearn: 3.1549029\ttotal: 1.23s\tremaining: 803ms\n",
      "605:\tlearn: 3.1478118\ttotal: 1.23s\tremaining: 801ms\n",
      "606:\tlearn: 3.1145245\ttotal: 1.23s\tremaining: 799ms\n",
      "607:\tlearn: 3.0718905\ttotal: 1.24s\tremaining: 798ms\n",
      "608:\tlearn: 3.0352714\ttotal: 1.24s\tremaining: 796ms\n",
      "609:\tlearn: 2.9984985\ttotal: 1.24s\tremaining: 794ms\n",
      "610:\tlearn: 2.9594115\ttotal: 1.24s\tremaining: 792ms\n",
      "611:\tlearn: 2.9438145\ttotal: 1.25s\tremaining: 790ms\n",
      "612:\tlearn: 2.9265773\ttotal: 1.25s\tremaining: 789ms\n",
      "613:\tlearn: 2.9036898\ttotal: 1.25s\tremaining: 787ms\n",
      "614:\tlearn: 2.8790612\ttotal: 1.25s\tremaining: 785ms\n",
      "615:\tlearn: 2.8654898\ttotal: 1.26s\tremaining: 783ms\n",
      "616:\tlearn: 2.8462561\ttotal: 1.26s\tremaining: 781ms\n",
      "617:\tlearn: 2.8254976\ttotal: 1.26s\tremaining: 780ms\n",
      "618:\tlearn: 2.8190407\ttotal: 1.26s\tremaining: 778ms\n",
      "619:\tlearn: 2.8129812\ttotal: 1.27s\tremaining: 776ms\n",
      "620:\tlearn: 2.8097755\ttotal: 1.27s\tremaining: 774ms\n",
      "621:\tlearn: 2.7960320\ttotal: 1.27s\tremaining: 772ms\n",
      "622:\tlearn: 2.7878495\ttotal: 1.27s\tremaining: 770ms\n",
      "623:\tlearn: 2.7602980\ttotal: 1.27s\tremaining: 769ms\n",
      "624:\tlearn: 2.7341408\ttotal: 1.28s\tremaining: 767ms\n",
      "625:\tlearn: 2.7302545\ttotal: 1.28s\tremaining: 765ms\n",
      "626:\tlearn: 2.7120252\ttotal: 1.28s\tremaining: 763ms\n",
      "627:\tlearn: 2.7075024\ttotal: 1.28s\tremaining: 761ms\n",
      "628:\tlearn: 2.6970031\ttotal: 1.29s\tremaining: 759ms\n",
      "629:\tlearn: 2.6928246\ttotal: 1.29s\tremaining: 757ms\n",
      "630:\tlearn: 2.6709120\ttotal: 1.29s\tremaining: 755ms\n",
      "631:\tlearn: 2.6656247\ttotal: 1.29s\tremaining: 753ms\n",
      "632:\tlearn: 2.6452838\ttotal: 1.3s\tremaining: 751ms\n",
      "633:\tlearn: 2.6271014\ttotal: 1.3s\tremaining: 749ms\n",
      "634:\tlearn: 2.6089454\ttotal: 1.3s\tremaining: 748ms\n",
      "635:\tlearn: 2.5996271\ttotal: 1.3s\tremaining: 746ms\n",
      "636:\tlearn: 2.5923568\ttotal: 1.31s\tremaining: 744ms\n",
      "637:\tlearn: 2.5837611\ttotal: 1.31s\tremaining: 742ms\n",
      "638:\tlearn: 2.5726721\ttotal: 1.31s\tremaining: 740ms\n",
      "639:\tlearn: 2.5577477\ttotal: 1.31s\tremaining: 739ms\n",
      "640:\tlearn: 2.5500744\ttotal: 1.31s\tremaining: 737ms\n",
      "641:\tlearn: 2.5274442\ttotal: 1.32s\tremaining: 735ms\n",
      "642:\tlearn: 2.5157559\ttotal: 1.32s\tremaining: 733ms\n",
      "643:\tlearn: 2.5053856\ttotal: 1.32s\tremaining: 731ms\n",
      "644:\tlearn: 2.4841922\ttotal: 1.32s\tremaining: 729ms\n",
      "645:\tlearn: 2.4674035\ttotal: 1.33s\tremaining: 727ms\n",
      "646:\tlearn: 2.4484158\ttotal: 1.33s\tremaining: 725ms\n",
      "647:\tlearn: 2.4263246\ttotal: 1.33s\tremaining: 724ms\n",
      "648:\tlearn: 2.4052258\ttotal: 1.33s\tremaining: 722ms\n",
      "649:\tlearn: 2.3816894\ttotal: 1.34s\tremaining: 720ms\n",
      "650:\tlearn: 2.3659119\ttotal: 1.34s\tremaining: 718ms\n",
      "651:\tlearn: 2.3576051\ttotal: 1.34s\tremaining: 716ms\n",
      "652:\tlearn: 2.3288476\ttotal: 1.34s\tremaining: 714ms\n",
      "653:\tlearn: 2.3109502\ttotal: 1.35s\tremaining: 712ms\n",
      "654:\tlearn: 2.3021504\ttotal: 1.35s\tremaining: 710ms\n",
      "655:\tlearn: 2.3009515\ttotal: 1.35s\tremaining: 708ms\n",
      "656:\tlearn: 2.2893680\ttotal: 1.35s\tremaining: 706ms\n",
      "657:\tlearn: 2.2852898\ttotal: 1.35s\tremaining: 704ms\n",
      "658:\tlearn: 2.2647131\ttotal: 1.36s\tremaining: 703ms\n",
      "659:\tlearn: 2.2437777\ttotal: 1.36s\tremaining: 701ms\n",
      "660:\tlearn: 2.2228007\ttotal: 1.36s\tremaining: 699ms\n",
      "661:\tlearn: 2.2030047\ttotal: 1.36s\tremaining: 697ms\n",
      "662:\tlearn: 2.1823076\ttotal: 1.37s\tremaining: 695ms\n",
      "663:\tlearn: 2.1607769\ttotal: 1.37s\tremaining: 693ms\n",
      "664:\tlearn: 2.1491049\ttotal: 1.37s\tremaining: 691ms\n",
      "665:\tlearn: 2.1403920\ttotal: 1.38s\tremaining: 690ms\n",
      "666:\tlearn: 2.1255852\ttotal: 1.38s\tremaining: 688ms\n",
      "667:\tlearn: 2.1087714\ttotal: 1.38s\tremaining: 686ms\n",
      "668:\tlearn: 2.1033385\ttotal: 1.38s\tremaining: 684ms\n",
      "669:\tlearn: 2.0923091\ttotal: 1.38s\tremaining: 682ms\n",
      "670:\tlearn: 2.0834076\ttotal: 1.39s\tremaining: 680ms\n",
      "671:\tlearn: 2.0735926\ttotal: 1.39s\tremaining: 678ms\n",
      "672:\tlearn: 2.0603541\ttotal: 1.39s\tremaining: 676ms\n",
      "673:\tlearn: 2.0576392\ttotal: 1.39s\tremaining: 674ms\n",
      "674:\tlearn: 2.0455537\ttotal: 1.4s\tremaining: 672ms\n",
      "675:\tlearn: 2.0282804\ttotal: 1.4s\tremaining: 670ms\n",
      "676:\tlearn: 2.0217423\ttotal: 1.4s\tremaining: 668ms\n",
      "677:\tlearn: 2.0119192\ttotal: 1.4s\tremaining: 667ms\n",
      "678:\tlearn: 2.0001332\ttotal: 1.41s\tremaining: 665ms\n",
      "679:\tlearn: 1.9979894\ttotal: 1.41s\tremaining: 663ms\n",
      "680:\tlearn: 1.9907747\ttotal: 1.41s\tremaining: 661ms\n",
      "681:\tlearn: 1.9736817\ttotal: 1.41s\tremaining: 659ms\n",
      "682:\tlearn: 1.9600965\ttotal: 1.41s\tremaining: 657ms\n",
      "683:\tlearn: 1.9539201\ttotal: 1.42s\tremaining: 655ms\n",
      "684:\tlearn: 1.9449369\ttotal: 1.42s\tremaining: 653ms\n",
      "685:\tlearn: 1.9419454\ttotal: 1.42s\tremaining: 651ms\n",
      "686:\tlearn: 1.9326842\ttotal: 1.42s\tremaining: 649ms\n",
      "687:\tlearn: 1.9288548\ttotal: 1.43s\tremaining: 647ms\n",
      "688:\tlearn: 1.9236716\ttotal: 1.43s\tremaining: 645ms\n",
      "689:\tlearn: 1.9228496\ttotal: 1.43s\tremaining: 643ms\n",
      "690:\tlearn: 1.9176354\ttotal: 1.43s\tremaining: 641ms\n",
      "691:\tlearn: 1.9147659\ttotal: 1.44s\tremaining: 639ms\n",
      "692:\tlearn: 1.9079892\ttotal: 1.44s\tremaining: 637ms\n",
      "693:\tlearn: 1.9048238\ttotal: 1.44s\tremaining: 635ms\n",
      "694:\tlearn: 1.8959419\ttotal: 1.44s\tremaining: 633ms\n",
      "695:\tlearn: 1.8711502\ttotal: 1.45s\tremaining: 631ms\n",
      "696:\tlearn: 1.8583228\ttotal: 1.45s\tremaining: 629ms\n",
      "697:\tlearn: 1.8482604\ttotal: 1.45s\tremaining: 627ms\n",
      "698:\tlearn: 1.8456936\ttotal: 1.45s\tremaining: 625ms\n",
      "699:\tlearn: 1.8273471\ttotal: 1.45s\tremaining: 624ms\n",
      "700:\tlearn: 1.8067825\ttotal: 1.46s\tremaining: 622ms\n",
      "701:\tlearn: 1.8022221\ttotal: 1.46s\tremaining: 620ms\n",
      "702:\tlearn: 1.7912070\ttotal: 1.46s\tremaining: 618ms\n",
      "703:\tlearn: 1.7755760\ttotal: 1.46s\tremaining: 616ms\n",
      "704:\tlearn: 1.7712682\ttotal: 1.47s\tremaining: 614ms\n",
      "705:\tlearn: 1.7648319\ttotal: 1.47s\tremaining: 612ms\n",
      "706:\tlearn: 1.7532904\ttotal: 1.47s\tremaining: 610ms\n",
      "707:\tlearn: 1.7463625\ttotal: 1.47s\tremaining: 608ms\n",
      "708:\tlearn: 1.7418161\ttotal: 1.48s\tremaining: 606ms\n",
      "709:\tlearn: 1.7272345\ttotal: 1.48s\tremaining: 604ms\n",
      "710:\tlearn: 1.7217505\ttotal: 1.48s\tremaining: 602ms\n",
      "711:\tlearn: 1.7151154\ttotal: 1.48s\tremaining: 600ms\n",
      "712:\tlearn: 1.7092925\ttotal: 1.49s\tremaining: 598ms\n",
      "713:\tlearn: 1.7025995\ttotal: 1.49s\tremaining: 596ms\n",
      "714:\tlearn: 1.6807623\ttotal: 1.49s\tremaining: 594ms\n",
      "715:\tlearn: 1.6674907\ttotal: 1.49s\tremaining: 592ms\n",
      "716:\tlearn: 1.6544638\ttotal: 1.5s\tremaining: 590ms\n",
      "717:\tlearn: 1.6411236\ttotal: 1.5s\tremaining: 588ms\n",
      "718:\tlearn: 1.6290477\ttotal: 1.5s\tremaining: 586ms\n",
      "719:\tlearn: 1.6222366\ttotal: 1.5s\tremaining: 584ms\n",
      "720:\tlearn: 1.6142656\ttotal: 1.5s\tremaining: 582ms\n",
      "721:\tlearn: 1.6004470\ttotal: 1.51s\tremaining: 580ms\n",
      "722:\tlearn: 1.5932177\ttotal: 1.51s\tremaining: 578ms\n",
      "723:\tlearn: 1.5743215\ttotal: 1.51s\tremaining: 576ms\n",
      "724:\tlearn: 1.5629066\ttotal: 1.51s\tremaining: 574ms\n",
      "725:\tlearn: 1.5505525\ttotal: 1.52s\tremaining: 572ms\n",
      "726:\tlearn: 1.5302974\ttotal: 1.52s\tremaining: 570ms\n",
      "727:\tlearn: 1.5260700\ttotal: 1.52s\tremaining: 568ms\n",
      "728:\tlearn: 1.5188723\ttotal: 1.52s\tremaining: 566ms\n",
      "729:\tlearn: 1.5085309\ttotal: 1.52s\tremaining: 564ms\n",
      "730:\tlearn: 1.5038733\ttotal: 1.53s\tremaining: 562ms\n",
      "731:\tlearn: 1.5008194\ttotal: 1.53s\tremaining: 560ms\n",
      "732:\tlearn: 1.4908829\ttotal: 1.53s\tremaining: 558ms\n",
      "733:\tlearn: 1.4782605\ttotal: 1.53s\tremaining: 556ms\n",
      "734:\tlearn: 1.4639356\ttotal: 1.54s\tremaining: 554ms\n",
      "735:\tlearn: 1.4471455\ttotal: 1.54s\tremaining: 552ms\n",
      "736:\tlearn: 1.4454285\ttotal: 1.54s\tremaining: 550ms\n",
      "737:\tlearn: 1.4416273\ttotal: 1.54s\tremaining: 548ms\n",
      "738:\tlearn: 1.4302267\ttotal: 1.55s\tremaining: 546ms\n",
      "739:\tlearn: 1.4219328\ttotal: 1.55s\tremaining: 544ms\n",
      "740:\tlearn: 1.4105579\ttotal: 1.55s\tremaining: 542ms\n",
      "741:\tlearn: 1.4075838\ttotal: 1.55s\tremaining: 540ms\n",
      "742:\tlearn: 1.4017014\ttotal: 1.55s\tremaining: 538ms\n",
      "743:\tlearn: 1.3974208\ttotal: 1.56s\tremaining: 536ms\n",
      "744:\tlearn: 1.3862572\ttotal: 1.56s\tremaining: 534ms\n",
      "745:\tlearn: 1.3729360\ttotal: 1.56s\tremaining: 532ms\n",
      "746:\tlearn: 1.3630904\ttotal: 1.56s\tremaining: 530ms\n",
      "747:\tlearn: 1.3477583\ttotal: 1.57s\tremaining: 528ms\n",
      "748:\tlearn: 1.3348270\ttotal: 1.57s\tremaining: 526ms\n",
      "749:\tlearn: 1.3236754\ttotal: 1.57s\tremaining: 524ms\n",
      "750:\tlearn: 1.3171961\ttotal: 1.57s\tremaining: 522ms\n",
      "751:\tlearn: 1.3113457\ttotal: 1.58s\tremaining: 520ms\n",
      "752:\tlearn: 1.3036391\ttotal: 1.58s\tremaining: 518ms\n",
      "753:\tlearn: 1.2935829\ttotal: 1.58s\tremaining: 516ms\n",
      "754:\tlearn: 1.2837612\ttotal: 1.58s\tremaining: 514ms\n",
      "755:\tlearn: 1.2768260\ttotal: 1.59s\tremaining: 512ms\n",
      "756:\tlearn: 1.2689370\ttotal: 1.59s\tremaining: 510ms\n",
      "757:\tlearn: 1.2561567\ttotal: 1.59s\tremaining: 508ms\n",
      "758:\tlearn: 1.2475100\ttotal: 1.59s\tremaining: 506ms\n",
      "759:\tlearn: 1.2405978\ttotal: 1.6s\tremaining: 504ms\n",
      "760:\tlearn: 1.2342628\ttotal: 1.6s\tremaining: 502ms\n",
      "761:\tlearn: 1.2271880\ttotal: 1.6s\tremaining: 500ms\n",
      "762:\tlearn: 1.2138527\ttotal: 1.6s\tremaining: 498ms\n",
      "763:\tlearn: 1.2076889\ttotal: 1.61s\tremaining: 496ms\n",
      "764:\tlearn: 1.2041847\ttotal: 1.61s\tremaining: 494ms\n",
      "765:\tlearn: 1.1970019\ttotal: 1.61s\tremaining: 492ms\n",
      "766:\tlearn: 1.1892878\ttotal: 1.61s\tremaining: 490ms\n",
      "767:\tlearn: 1.1858432\ttotal: 1.61s\tremaining: 488ms\n",
      "768:\tlearn: 1.1746182\ttotal: 1.62s\tremaining: 486ms\n",
      "769:\tlearn: 1.1694876\ttotal: 1.62s\tremaining: 484ms\n",
      "770:\tlearn: 1.1657055\ttotal: 1.62s\tremaining: 482ms\n",
      "771:\tlearn: 1.1556043\ttotal: 1.63s\tremaining: 480ms\n",
      "772:\tlearn: 1.1540774\ttotal: 1.63s\tremaining: 478ms\n",
      "773:\tlearn: 1.1473715\ttotal: 1.63s\tremaining: 476ms\n",
      "774:\tlearn: 1.1419763\ttotal: 1.63s\tremaining: 474ms\n",
      "775:\tlearn: 1.1303590\ttotal: 1.63s\tremaining: 472ms\n",
      "776:\tlearn: 1.1230587\ttotal: 1.64s\tremaining: 470ms\n",
      "777:\tlearn: 1.1143917\ttotal: 1.64s\tremaining: 468ms\n",
      "778:\tlearn: 1.1112687\ttotal: 1.64s\tremaining: 466ms\n",
      "779:\tlearn: 1.1009863\ttotal: 1.64s\tremaining: 464ms\n",
      "780:\tlearn: 1.0899260\ttotal: 1.65s\tremaining: 462ms\n",
      "781:\tlearn: 1.0855158\ttotal: 1.65s\tremaining: 460ms\n",
      "782:\tlearn: 1.0808031\ttotal: 1.65s\tremaining: 458ms\n",
      "783:\tlearn: 1.0763884\ttotal: 1.65s\tremaining: 456ms\n",
      "784:\tlearn: 1.0710758\ttotal: 1.66s\tremaining: 454ms\n",
      "785:\tlearn: 1.0634482\ttotal: 1.66s\tremaining: 452ms\n",
      "786:\tlearn: 1.0529874\ttotal: 1.66s\tremaining: 450ms\n",
      "787:\tlearn: 1.0501903\ttotal: 1.66s\tremaining: 448ms\n",
      "788:\tlearn: 1.0410587\ttotal: 1.67s\tremaining: 446ms\n",
      "789:\tlearn: 1.0386261\ttotal: 1.67s\tremaining: 444ms\n",
      "790:\tlearn: 1.0351082\ttotal: 1.67s\tremaining: 442ms\n",
      "791:\tlearn: 1.0320987\ttotal: 1.67s\tremaining: 440ms\n",
      "792:\tlearn: 1.0294915\ttotal: 1.68s\tremaining: 438ms\n",
      "793:\tlearn: 1.0233284\ttotal: 1.68s\tremaining: 436ms\n",
      "794:\tlearn: 1.0176815\ttotal: 1.68s\tremaining: 433ms\n",
      "795:\tlearn: 1.0074411\ttotal: 1.68s\tremaining: 431ms\n",
      "796:\tlearn: 1.0020197\ttotal: 1.69s\tremaining: 429ms\n",
      "797:\tlearn: 0.9989044\ttotal: 1.69s\tremaining: 427ms\n",
      "798:\tlearn: 0.9937483\ttotal: 1.69s\tremaining: 425ms\n",
      "799:\tlearn: 0.9867329\ttotal: 1.69s\tremaining: 423ms\n",
      "800:\tlearn: 0.9819829\ttotal: 1.7s\tremaining: 421ms\n",
      "801:\tlearn: 0.9777514\ttotal: 1.7s\tremaining: 419ms\n",
      "802:\tlearn: 0.9757462\ttotal: 1.7s\tremaining: 417ms\n",
      "803:\tlearn: 0.9702440\ttotal: 1.7s\tremaining: 415ms\n",
      "804:\tlearn: 0.9636471\ttotal: 1.71s\tremaining: 413ms\n",
      "805:\tlearn: 0.9548362\ttotal: 1.71s\tremaining: 411ms\n",
      "806:\tlearn: 0.9470745\ttotal: 1.71s\tremaining: 409ms\n",
      "807:\tlearn: 0.9408578\ttotal: 1.71s\tremaining: 407ms\n",
      "808:\tlearn: 0.9350692\ttotal: 1.71s\tremaining: 405ms\n",
      "809:\tlearn: 0.9290967\ttotal: 1.72s\tremaining: 403ms\n",
      "810:\tlearn: 0.9267158\ttotal: 1.72s\tremaining: 401ms\n",
      "811:\tlearn: 0.9235794\ttotal: 1.72s\tremaining: 399ms\n",
      "812:\tlearn: 0.9226084\ttotal: 1.72s\tremaining: 397ms\n",
      "813:\tlearn: 0.9139012\ttotal: 1.73s\tremaining: 395ms\n",
      "814:\tlearn: 0.9073690\ttotal: 1.73s\tremaining: 393ms\n",
      "815:\tlearn: 0.9024018\ttotal: 1.73s\tremaining: 391ms\n",
      "816:\tlearn: 0.9001693\ttotal: 1.73s\tremaining: 388ms\n",
      "817:\tlearn: 0.8970481\ttotal: 1.74s\tremaining: 386ms\n",
      "818:\tlearn: 0.8907494\ttotal: 1.74s\tremaining: 384ms\n",
      "819:\tlearn: 0.8886718\ttotal: 1.74s\tremaining: 382ms\n",
      "820:\tlearn: 0.8869259\ttotal: 1.74s\tremaining: 380ms\n",
      "821:\tlearn: 0.8804683\ttotal: 1.75s\tremaining: 378ms\n",
      "822:\tlearn: 0.8666371\ttotal: 1.75s\tremaining: 376ms\n",
      "823:\tlearn: 0.8659600\ttotal: 1.75s\tremaining: 374ms\n",
      "824:\tlearn: 0.8604612\ttotal: 1.75s\tremaining: 372ms\n",
      "825:\tlearn: 0.8544955\ttotal: 1.75s\tremaining: 370ms\n",
      "826:\tlearn: 0.8496739\ttotal: 1.76s\tremaining: 368ms\n",
      "827:\tlearn: 0.8420906\ttotal: 1.76s\tremaining: 366ms\n",
      "828:\tlearn: 0.8398457\ttotal: 1.76s\tremaining: 364ms\n",
      "829:\tlearn: 0.8358570\ttotal: 1.76s\tremaining: 362ms\n",
      "830:\tlearn: 0.8293211\ttotal: 1.77s\tremaining: 360ms\n",
      "831:\tlearn: 0.8236188\ttotal: 1.77s\tremaining: 357ms\n",
      "832:\tlearn: 0.8175017\ttotal: 1.77s\tremaining: 355ms\n",
      "833:\tlearn: 0.8128315\ttotal: 1.77s\tremaining: 353ms\n",
      "834:\tlearn: 0.8096197\ttotal: 1.78s\tremaining: 351ms\n",
      "835:\tlearn: 0.8027133\ttotal: 1.78s\tremaining: 349ms\n",
      "836:\tlearn: 0.7987555\ttotal: 1.78s\tremaining: 347ms\n",
      "837:\tlearn: 0.7928141\ttotal: 1.78s\tremaining: 345ms\n",
      "838:\tlearn: 0.7897563\ttotal: 1.79s\tremaining: 343ms\n",
      "839:\tlearn: 0.7876758\ttotal: 1.79s\tremaining: 341ms\n",
      "840:\tlearn: 0.7777598\ttotal: 1.79s\tremaining: 339ms\n",
      "841:\tlearn: 0.7767597\ttotal: 1.79s\tremaining: 337ms\n",
      "842:\tlearn: 0.7665043\ttotal: 1.8s\tremaining: 335ms\n",
      "843:\tlearn: 0.7626478\ttotal: 1.8s\tremaining: 332ms\n",
      "844:\tlearn: 0.7540439\ttotal: 1.8s\tremaining: 330ms\n",
      "845:\tlearn: 0.7508537\ttotal: 1.8s\tremaining: 328ms\n",
      "846:\tlearn: 0.7459152\ttotal: 1.81s\tremaining: 326ms\n",
      "847:\tlearn: 0.7447900\ttotal: 1.81s\tremaining: 324ms\n",
      "848:\tlearn: 0.7418475\ttotal: 1.81s\tremaining: 322ms\n",
      "849:\tlearn: 0.7379949\ttotal: 1.81s\tremaining: 320ms\n",
      "850:\tlearn: 0.7369054\ttotal: 1.82s\tremaining: 318ms\n",
      "851:\tlearn: 0.7327236\ttotal: 1.82s\tremaining: 316ms\n",
      "852:\tlearn: 0.7311790\ttotal: 1.82s\tremaining: 314ms\n",
      "853:\tlearn: 0.7226495\ttotal: 1.82s\tremaining: 312ms\n",
      "854:\tlearn: 0.7168390\ttotal: 1.82s\tremaining: 310ms\n",
      "855:\tlearn: 0.7117890\ttotal: 1.83s\tremaining: 307ms\n",
      "856:\tlearn: 0.7040100\ttotal: 1.83s\tremaining: 305ms\n",
      "857:\tlearn: 0.6960021\ttotal: 1.83s\tremaining: 303ms\n",
      "858:\tlearn: 0.6920263\ttotal: 1.83s\tremaining: 301ms\n",
      "859:\tlearn: 0.6853317\ttotal: 1.84s\tremaining: 299ms\n",
      "860:\tlearn: 0.6805108\ttotal: 1.84s\tremaining: 297ms\n",
      "861:\tlearn: 0.6771728\ttotal: 1.84s\tremaining: 295ms\n",
      "862:\tlearn: 0.6708199\ttotal: 1.84s\tremaining: 293ms\n",
      "863:\tlearn: 0.6689468\ttotal: 1.85s\tremaining: 291ms\n",
      "864:\tlearn: 0.6647579\ttotal: 1.85s\tremaining: 289ms\n",
      "865:\tlearn: 0.6587745\ttotal: 1.85s\tremaining: 287ms\n",
      "866:\tlearn: 0.6549437\ttotal: 1.85s\tremaining: 285ms\n",
      "867:\tlearn: 0.6484944\ttotal: 1.86s\tremaining: 282ms\n",
      "868:\tlearn: 0.6455316\ttotal: 1.86s\tremaining: 280ms\n",
      "869:\tlearn: 0.6420739\ttotal: 1.86s\tremaining: 278ms\n",
      "870:\tlearn: 0.6375667\ttotal: 1.86s\tremaining: 276ms\n",
      "871:\tlearn: 0.6358236\ttotal: 1.87s\tremaining: 274ms\n",
      "872:\tlearn: 0.6320335\ttotal: 1.87s\tremaining: 272ms\n",
      "873:\tlearn: 0.6288025\ttotal: 1.87s\tremaining: 270ms\n",
      "874:\tlearn: 0.6243292\ttotal: 1.87s\tremaining: 268ms\n",
      "875:\tlearn: 0.6165696\ttotal: 1.88s\tremaining: 266ms\n",
      "876:\tlearn: 0.6128782\ttotal: 1.88s\tremaining: 264ms\n",
      "877:\tlearn: 0.6057460\ttotal: 1.88s\tremaining: 261ms\n",
      "878:\tlearn: 0.6048833\ttotal: 1.88s\tremaining: 259ms\n",
      "879:\tlearn: 0.5984637\ttotal: 1.89s\tremaining: 257ms\n",
      "880:\tlearn: 0.5935168\ttotal: 1.89s\tremaining: 255ms\n",
      "881:\tlearn: 0.5892604\ttotal: 1.89s\tremaining: 253ms\n",
      "882:\tlearn: 0.5846504\ttotal: 1.89s\tremaining: 251ms\n",
      "883:\tlearn: 0.5814985\ttotal: 1.9s\tremaining: 249ms\n",
      "884:\tlearn: 0.5778053\ttotal: 1.9s\tremaining: 247ms\n",
      "885:\tlearn: 0.5739896\ttotal: 1.9s\tremaining: 245ms\n",
      "886:\tlearn: 0.5729847\ttotal: 1.9s\tremaining: 242ms\n",
      "887:\tlearn: 0.5724598\ttotal: 1.91s\tremaining: 240ms\n",
      "888:\tlearn: 0.5718988\ttotal: 1.91s\tremaining: 238ms\n",
      "889:\tlearn: 0.5672314\ttotal: 1.91s\tremaining: 236ms\n",
      "890:\tlearn: 0.5659035\ttotal: 1.91s\tremaining: 234ms\n",
      "891:\tlearn: 0.5587131\ttotal: 1.92s\tremaining: 232ms\n",
      "892:\tlearn: 0.5562858\ttotal: 1.92s\tremaining: 230ms\n",
      "893:\tlearn: 0.5555127\ttotal: 1.92s\tremaining: 228ms\n",
      "894:\tlearn: 0.5527685\ttotal: 1.92s\tremaining: 226ms\n",
      "895:\tlearn: 0.5499500\ttotal: 1.93s\tremaining: 223ms\n",
      "896:\tlearn: 0.5456148\ttotal: 1.93s\tremaining: 221ms\n",
      "897:\tlearn: 0.5403285\ttotal: 1.93s\tremaining: 219ms\n",
      "898:\tlearn: 0.5377774\ttotal: 1.93s\tremaining: 217ms\n",
      "899:\tlearn: 0.5371353\ttotal: 1.93s\tremaining: 215ms\n",
      "900:\tlearn: 0.5332613\ttotal: 1.94s\tremaining: 213ms\n",
      "901:\tlearn: 0.5289379\ttotal: 1.94s\tremaining: 211ms\n",
      "902:\tlearn: 0.5277948\ttotal: 1.94s\tremaining: 209ms\n",
      "903:\tlearn: 0.5229979\ttotal: 1.94s\tremaining: 206ms\n",
      "904:\tlearn: 0.5176545\ttotal: 1.95s\tremaining: 204ms\n",
      "905:\tlearn: 0.5167566\ttotal: 1.95s\tremaining: 202ms\n",
      "906:\tlearn: 0.5163313\ttotal: 1.95s\tremaining: 200ms\n",
      "907:\tlearn: 0.5116777\ttotal: 1.95s\tremaining: 198ms\n",
      "908:\tlearn: 0.5097952\ttotal: 1.96s\tremaining: 196ms\n",
      "909:\tlearn: 0.5071290\ttotal: 1.96s\tremaining: 194ms\n",
      "910:\tlearn: 0.5049191\ttotal: 1.96s\tremaining: 191ms\n",
      "911:\tlearn: 0.5018383\ttotal: 1.96s\tremaining: 189ms\n",
      "912:\tlearn: 0.5007466\ttotal: 1.96s\tremaining: 187ms\n",
      "913:\tlearn: 0.4998771\ttotal: 1.97s\tremaining: 185ms\n",
      "914:\tlearn: 0.4954624\ttotal: 1.97s\tremaining: 183ms\n",
      "915:\tlearn: 0.4942071\ttotal: 1.97s\tremaining: 181ms\n",
      "916:\tlearn: 0.4893003\ttotal: 1.97s\tremaining: 179ms\n",
      "917:\tlearn: 0.4870233\ttotal: 1.98s\tremaining: 177ms\n",
      "918:\tlearn: 0.4830379\ttotal: 1.98s\tremaining: 174ms\n",
      "919:\tlearn: 0.4753426\ttotal: 1.98s\tremaining: 172ms\n",
      "920:\tlearn: 0.4730706\ttotal: 1.98s\tremaining: 170ms\n",
      "921:\tlearn: 0.4679650\ttotal: 1.99s\tremaining: 168ms\n",
      "922:\tlearn: 0.4651630\ttotal: 1.99s\tremaining: 166ms\n",
      "923:\tlearn: 0.4634313\ttotal: 1.99s\tremaining: 164ms\n",
      "924:\tlearn: 0.4607284\ttotal: 1.99s\tremaining: 162ms\n",
      "925:\tlearn: 0.4589159\ttotal: 2s\tremaining: 159ms\n",
      "926:\tlearn: 0.4532169\ttotal: 2s\tremaining: 157ms\n",
      "927:\tlearn: 0.4509932\ttotal: 2s\tremaining: 155ms\n",
      "928:\tlearn: 0.4506088\ttotal: 2s\tremaining: 153ms\n",
      "929:\tlearn: 0.4501478\ttotal: 2s\tremaining: 151ms\n",
      "930:\tlearn: 0.4490581\ttotal: 2.01s\tremaining: 149ms\n",
      "931:\tlearn: 0.4447316\ttotal: 2.01s\tremaining: 147ms\n",
      "932:\tlearn: 0.4415148\ttotal: 2.01s\tremaining: 144ms\n",
      "933:\tlearn: 0.4391051\ttotal: 2.01s\tremaining: 142ms\n",
      "934:\tlearn: 0.4357356\ttotal: 2.02s\tremaining: 140ms\n",
      "935:\tlearn: 0.4323983\ttotal: 2.02s\tremaining: 138ms\n",
      "936:\tlearn: 0.4302143\ttotal: 2.02s\tremaining: 136ms\n",
      "937:\tlearn: 0.4289117\ttotal: 2.02s\tremaining: 134ms\n",
      "938:\tlearn: 0.4284339\ttotal: 2.03s\tremaining: 132ms\n",
      "939:\tlearn: 0.4244107\ttotal: 2.03s\tremaining: 130ms\n",
      "940:\tlearn: 0.4237451\ttotal: 2.03s\tremaining: 127ms\n",
      "941:\tlearn: 0.4215386\ttotal: 2.03s\tremaining: 125ms\n",
      "942:\tlearn: 0.4180705\ttotal: 2.04s\tremaining: 123ms\n",
      "943:\tlearn: 0.4154760\ttotal: 2.04s\tremaining: 121ms\n",
      "944:\tlearn: 0.4124859\ttotal: 2.04s\tremaining: 119ms\n",
      "945:\tlearn: 0.4119886\ttotal: 2.04s\tremaining: 117ms\n",
      "946:\tlearn: 0.4115906\ttotal: 2.04s\tremaining: 114ms\n",
      "947:\tlearn: 0.4081974\ttotal: 2.04s\tremaining: 112ms\n",
      "948:\tlearn: 0.4064530\ttotal: 2.05s\tremaining: 110ms\n",
      "949:\tlearn: 0.4040915\ttotal: 2.05s\tremaining: 108ms\n",
      "950:\tlearn: 0.4008861\ttotal: 2.05s\tremaining: 106ms\n",
      "951:\tlearn: 0.3970913\ttotal: 2.05s\tremaining: 104ms\n",
      "952:\tlearn: 0.3943258\ttotal: 2.06s\tremaining: 101ms\n",
      "953:\tlearn: 0.3926270\ttotal: 2.06s\tremaining: 99.2ms\n",
      "954:\tlearn: 0.3909448\ttotal: 2.06s\tremaining: 97ms\n",
      "955:\tlearn: 0.3887707\ttotal: 2.06s\tremaining: 94.9ms\n",
      "956:\tlearn: 0.3868345\ttotal: 2.06s\tremaining: 92.7ms\n",
      "957:\tlearn: 0.3839349\ttotal: 2.06s\tremaining: 90.5ms\n",
      "958:\tlearn: 0.3808497\ttotal: 2.07s\tremaining: 88.4ms\n",
      "959:\tlearn: 0.3779283\ttotal: 2.07s\tremaining: 86.2ms\n",
      "960:\tlearn: 0.3755090\ttotal: 2.07s\tremaining: 84ms\n",
      "961:\tlearn: 0.3734292\ttotal: 2.07s\tremaining: 81.9ms\n",
      "962:\tlearn: 0.3731558\ttotal: 2.07s\tremaining: 79.7ms\n",
      "963:\tlearn: 0.3716642\ttotal: 2.08s\tremaining: 77.6ms\n",
      "964:\tlearn: 0.3700879\ttotal: 2.08s\tremaining: 75.4ms\n",
      "965:\tlearn: 0.3676034\ttotal: 2.08s\tremaining: 73.2ms\n",
      "966:\tlearn: 0.3640425\ttotal: 2.08s\tremaining: 71.1ms\n",
      "967:\tlearn: 0.3632495\ttotal: 2.08s\tremaining: 68.9ms\n",
      "968:\tlearn: 0.3603878\ttotal: 2.09s\tremaining: 66.7ms\n",
      "969:\tlearn: 0.3584398\ttotal: 2.09s\tremaining: 64.6ms\n",
      "970:\tlearn: 0.3560019\ttotal: 2.09s\tremaining: 62.4ms\n",
      "971:\tlearn: 0.3535719\ttotal: 2.09s\tremaining: 60.3ms\n",
      "972:\tlearn: 0.3518950\ttotal: 2.09s\tremaining: 58.1ms\n",
      "973:\tlearn: 0.3479039\ttotal: 2.1s\tremaining: 56ms\n",
      "974:\tlearn: 0.3463938\ttotal: 2.1s\tremaining: 53.8ms\n",
      "975:\tlearn: 0.3433932\ttotal: 2.1s\tremaining: 51.6ms\n",
      "976:\tlearn: 0.3410148\ttotal: 2.1s\tremaining: 49.5ms\n",
      "977:\tlearn: 0.3393532\ttotal: 2.1s\tremaining: 47.3ms\n",
      "978:\tlearn: 0.3373067\ttotal: 2.11s\tremaining: 45.2ms\n",
      "979:\tlearn: 0.3359122\ttotal: 2.11s\tremaining: 43ms\n",
      "980:\tlearn: 0.3340848\ttotal: 2.11s\tremaining: 40.9ms\n",
      "981:\tlearn: 0.3331220\ttotal: 2.11s\tremaining: 38.7ms\n",
      "982:\tlearn: 0.3308795\ttotal: 2.11s\tremaining: 36.6ms\n",
      "983:\tlearn: 0.3288012\ttotal: 2.12s\tremaining: 34.4ms\n",
      "984:\tlearn: 0.3271648\ttotal: 2.12s\tremaining: 32.3ms\n",
      "985:\tlearn: 0.3246514\ttotal: 2.12s\tremaining: 30.1ms\n",
      "986:\tlearn: 0.3218383\ttotal: 2.12s\tremaining: 28ms\n",
      "987:\tlearn: 0.3206535\ttotal: 2.13s\tremaining: 25.8ms\n",
      "988:\tlearn: 0.3190063\ttotal: 2.13s\tremaining: 23.7ms\n",
      "989:\tlearn: 0.3176250\ttotal: 2.13s\tremaining: 21.5ms\n",
      "990:\tlearn: 0.3146329\ttotal: 2.13s\tremaining: 19.4ms\n",
      "991:\tlearn: 0.3130835\ttotal: 2.13s\tremaining: 17.2ms\n",
      "992:\tlearn: 0.3107534\ttotal: 2.14s\tremaining: 15.1ms\n",
      "993:\tlearn: 0.3089626\ttotal: 2.14s\tremaining: 12.9ms\n",
      "994:\tlearn: 0.3080205\ttotal: 2.14s\tremaining: 10.8ms\n",
      "995:\tlearn: 0.3055692\ttotal: 2.15s\tremaining: 8.61ms\n",
      "996:\tlearn: 0.3035687\ttotal: 2.15s\tremaining: 6.46ms\n",
      "997:\tlearn: 0.3019582\ttotal: 2.15s\tremaining: 4.31ms\n",
      "998:\tlearn: 0.3000480\ttotal: 2.15s\tremaining: 2.15ms\n",
      "999:\tlearn: 0.2971131\ttotal: 2.15s\tremaining: 0us\n"
     ]
    },
    {
     "data": {
      "text/plain": [
       "GridSearchCV(cv=5,\n",
       "             estimator=<catboost.core.CatBoostRegressor object at 0x000002B78B024DC0>,\n",
       "             n_jobs=-1,\n",
       "             param_grid={'depth': [3, 4, 5, 6, 7, 8],\n",
       "                         'iterations': [200, 500, 1000, 2000],\n",
       "                         'learning_rate': [0.01, 0.03, 0.05, 0.1]},\n",
       "             verbose=2)"
      ]
     },
     "execution_count": 64,
     "metadata": {},
     "output_type": "execute_result"
    }
   ],
   "source": [
    "catb_cv_model.fit(X_train, y_train)"
   ]
  },
  {
   "cell_type": "code",
   "execution_count": 65,
   "id": "57ccc700-182a-4dc3-ab1e-d4101dcf4082",
   "metadata": {},
   "outputs": [
    {
     "data": {
      "text/plain": [
       "{'depth': 5, 'iterations': 1000, 'learning_rate': 0.1}"
      ]
     },
     "execution_count": 65,
     "metadata": {},
     "output_type": "execute_result"
    }
   ],
   "source": [
    "catb_cv_model.best_params_"
   ]
  },
  {
   "cell_type": "code",
   "execution_count": 66,
   "id": "849a6a07-9732-4b42-a8e7-3371407b219d",
   "metadata": {
    "collapsed": true,
    "jupyter": {
     "outputs_hidden": true
    },
    "tags": []
   },
   "outputs": [
    {
     "name": "stdout",
     "output_type": "stream",
     "text": [
      "0:\tlearn: 442.5792318\ttotal: 3.88ms\tremaining: 3.87s\n",
      "1:\tlearn: 440.6665518\ttotal: 5.45ms\tremaining: 2.72s\n",
      "2:\tlearn: 438.6627473\ttotal: 6.85ms\tremaining: 2.28s\n",
      "3:\tlearn: 436.4681218\ttotal: 8.25ms\tremaining: 2.05s\n",
      "4:\tlearn: 434.1332167\ttotal: 9.92ms\tremaining: 1.97s\n",
      "5:\tlearn: 431.8037377\ttotal: 11.3ms\tremaining: 1.88s\n",
      "6:\tlearn: 429.5841255\ttotal: 12.7ms\tremaining: 1.8s\n",
      "7:\tlearn: 427.4460012\ttotal: 14.1ms\tremaining: 1.75s\n",
      "8:\tlearn: 425.4173128\ttotal: 15.9ms\tremaining: 1.75s\n",
      "9:\tlearn: 423.3683460\ttotal: 17.6ms\tremaining: 1.75s\n",
      "10:\tlearn: 421.3877493\ttotal: 19.2ms\tremaining: 1.73s\n",
      "11:\tlearn: 419.3313943\ttotal: 21.2ms\tremaining: 1.75s\n",
      "12:\tlearn: 417.2951446\ttotal: 22.8ms\tremaining: 1.73s\n",
      "13:\tlearn: 415.5565286\ttotal: 24.7ms\tremaining: 1.74s\n",
      "14:\tlearn: 413.8714220\ttotal: 26.3ms\tremaining: 1.72s\n",
      "15:\tlearn: 412.0658193\ttotal: 27.6ms\tremaining: 1.7s\n",
      "16:\tlearn: 410.2187306\ttotal: 28.9ms\tremaining: 1.67s\n",
      "17:\tlearn: 408.1825387\ttotal: 30.5ms\tremaining: 1.67s\n",
      "18:\tlearn: 406.3219325\ttotal: 31.9ms\tremaining: 1.65s\n",
      "19:\tlearn: 404.3628933\ttotal: 33.4ms\tremaining: 1.64s\n",
      "20:\tlearn: 402.4194344\ttotal: 34.9ms\tremaining: 1.63s\n",
      "21:\tlearn: 400.4096100\ttotal: 36.4ms\tremaining: 1.62s\n",
      "22:\tlearn: 398.5779102\ttotal: 38.2ms\tremaining: 1.62s\n",
      "23:\tlearn: 396.7738687\ttotal: 39.8ms\tremaining: 1.62s\n",
      "24:\tlearn: 395.0833332\ttotal: 41.4ms\tremaining: 1.61s\n",
      "25:\tlearn: 393.2373763\ttotal: 43ms\tremaining: 1.61s\n",
      "26:\tlearn: 391.4192471\ttotal: 44.8ms\tremaining: 1.61s\n",
      "27:\tlearn: 389.7178333\ttotal: 46.4ms\tremaining: 1.61s\n",
      "28:\tlearn: 387.9971641\ttotal: 48.1ms\tremaining: 1.61s\n",
      "29:\tlearn: 386.2937976\ttotal: 49.7ms\tremaining: 1.61s\n",
      "30:\tlearn: 384.5250595\ttotal: 51.2ms\tremaining: 1.6s\n",
      "31:\tlearn: 382.9118898\ttotal: 52.6ms\tremaining: 1.59s\n",
      "32:\tlearn: 381.3917119\ttotal: 53.9ms\tremaining: 1.58s\n",
      "33:\tlearn: 379.7006820\ttotal: 55.3ms\tremaining: 1.57s\n",
      "34:\tlearn: 377.9988697\ttotal: 56.6ms\tremaining: 1.56s\n",
      "35:\tlearn: 376.3950660\ttotal: 57.9ms\tremaining: 1.55s\n",
      "36:\tlearn: 374.8064257\ttotal: 59.4ms\tremaining: 1.55s\n",
      "37:\tlearn: 373.1978535\ttotal: 60.7ms\tremaining: 1.53s\n",
      "38:\tlearn: 371.6240150\ttotal: 62ms\tremaining: 1.53s\n",
      "39:\tlearn: 370.0714120\ttotal: 63.3ms\tremaining: 1.52s\n",
      "40:\tlearn: 368.5474770\ttotal: 64.6ms\tremaining: 1.51s\n",
      "41:\tlearn: 367.0333312\ttotal: 66.1ms\tremaining: 1.51s\n",
      "42:\tlearn: 365.6232405\ttotal: 67.5ms\tremaining: 1.5s\n",
      "43:\tlearn: 363.9245836\ttotal: 68.8ms\tremaining: 1.5s\n",
      "44:\tlearn: 362.4098244\ttotal: 70.2ms\tremaining: 1.49s\n",
      "45:\tlearn: 360.9868187\ttotal: 71.6ms\tremaining: 1.48s\n",
      "46:\tlearn: 359.5161032\ttotal: 72.9ms\tremaining: 1.48s\n",
      "47:\tlearn: 357.9424278\ttotal: 74.4ms\tremaining: 1.48s\n",
      "48:\tlearn: 356.8064152\ttotal: 75.7ms\tremaining: 1.47s\n",
      "49:\tlearn: 355.1993067\ttotal: 77ms\tremaining: 1.46s\n",
      "50:\tlearn: 353.9326702\ttotal: 78.3ms\tremaining: 1.46s\n",
      "51:\tlearn: 352.6096813\ttotal: 79.9ms\tremaining: 1.46s\n",
      "52:\tlearn: 351.0602517\ttotal: 81.3ms\tremaining: 1.45s\n",
      "53:\tlearn: 349.7835227\ttotal: 82.6ms\tremaining: 1.45s\n",
      "54:\tlearn: 348.5573430\ttotal: 84ms\tremaining: 1.44s\n",
      "55:\tlearn: 347.1595692\ttotal: 85.3ms\tremaining: 1.44s\n",
      "56:\tlearn: 345.6440347\ttotal: 86.5ms\tremaining: 1.43s\n",
      "57:\tlearn: 344.1243039\ttotal: 87.8ms\tremaining: 1.43s\n",
      "58:\tlearn: 342.9390252\ttotal: 89.1ms\tremaining: 1.42s\n",
      "59:\tlearn: 341.6688876\ttotal: 90.4ms\tremaining: 1.42s\n",
      "60:\tlearn: 340.3397318\ttotal: 91.8ms\tremaining: 1.41s\n",
      "61:\tlearn: 339.0356910\ttotal: 93.1ms\tremaining: 1.41s\n",
      "62:\tlearn: 337.7267753\ttotal: 94.6ms\tremaining: 1.41s\n",
      "63:\tlearn: 336.5482973\ttotal: 95.9ms\tremaining: 1.4s\n",
      "64:\tlearn: 335.3109653\ttotal: 97.2ms\tremaining: 1.4s\n",
      "65:\tlearn: 334.2611653\ttotal: 98.5ms\tremaining: 1.39s\n",
      "66:\tlearn: 333.0912581\ttotal: 99.8ms\tremaining: 1.39s\n",
      "67:\tlearn: 331.8030997\ttotal: 101ms\tremaining: 1.39s\n",
      "68:\tlearn: 330.7831502\ttotal: 102ms\tremaining: 1.38s\n",
      "69:\tlearn: 329.4990012\ttotal: 104ms\tremaining: 1.38s\n",
      "70:\tlearn: 328.2236620\ttotal: 105ms\tremaining: 1.37s\n",
      "71:\tlearn: 327.0584223\ttotal: 106ms\tremaining: 1.37s\n",
      "72:\tlearn: 325.7789562\ttotal: 108ms\tremaining: 1.37s\n",
      "73:\tlearn: 324.5362081\ttotal: 109ms\tremaining: 1.37s\n",
      "74:\tlearn: 323.3943917\ttotal: 111ms\tremaining: 1.36s\n",
      "75:\tlearn: 322.1647315\ttotal: 112ms\tremaining: 1.36s\n",
      "76:\tlearn: 321.0160494\ttotal: 113ms\tremaining: 1.35s\n",
      "77:\tlearn: 319.9540237\ttotal: 114ms\tremaining: 1.35s\n",
      "78:\tlearn: 318.8277393\ttotal: 116ms\tremaining: 1.35s\n",
      "79:\tlearn: 317.8492936\ttotal: 117ms\tremaining: 1.34s\n",
      "80:\tlearn: 316.7476498\ttotal: 118ms\tremaining: 1.34s\n",
      "81:\tlearn: 315.6905082\ttotal: 119ms\tremaining: 1.34s\n",
      "82:\tlearn: 314.6174415\ttotal: 121ms\tremaining: 1.33s\n",
      "83:\tlearn: 313.5275690\ttotal: 122ms\tremaining: 1.33s\n",
      "84:\tlearn: 312.6004862\ttotal: 123ms\tremaining: 1.33s\n",
      "85:\tlearn: 311.4777092\ttotal: 125ms\tremaining: 1.32s\n",
      "86:\tlearn: 310.4601858\ttotal: 126ms\tremaining: 1.32s\n",
      "87:\tlearn: 309.4131268\ttotal: 127ms\tremaining: 1.32s\n",
      "88:\tlearn: 308.5359526\ttotal: 129ms\tremaining: 1.32s\n",
      "89:\tlearn: 307.5997938\ttotal: 130ms\tremaining: 1.31s\n",
      "90:\tlearn: 306.5926386\ttotal: 131ms\tremaining: 1.31s\n",
      "91:\tlearn: 305.5180378\ttotal: 133ms\tremaining: 1.31s\n",
      "92:\tlearn: 304.5491891\ttotal: 134ms\tremaining: 1.31s\n",
      "93:\tlearn: 303.7283981\ttotal: 136ms\tremaining: 1.31s\n",
      "94:\tlearn: 302.8519844\ttotal: 137ms\tremaining: 1.31s\n",
      "95:\tlearn: 301.9790248\ttotal: 139ms\tremaining: 1.31s\n",
      "96:\tlearn: 301.0317889\ttotal: 140ms\tremaining: 1.31s\n",
      "97:\tlearn: 300.2542449\ttotal: 143ms\tremaining: 1.31s\n",
      "98:\tlearn: 299.2959282\ttotal: 144ms\tremaining: 1.31s\n",
      "99:\tlearn: 298.3162288\ttotal: 145ms\tremaining: 1.31s\n",
      "100:\tlearn: 297.3329302\ttotal: 147ms\tremaining: 1.31s\n",
      "101:\tlearn: 296.4685047\ttotal: 148ms\tremaining: 1.3s\n",
      "102:\tlearn: 295.5816694\ttotal: 150ms\tremaining: 1.3s\n",
      "103:\tlearn: 294.7221028\ttotal: 151ms\tremaining: 1.3s\n",
      "104:\tlearn: 293.8639793\ttotal: 152ms\tremaining: 1.3s\n",
      "105:\tlearn: 292.8530764\ttotal: 154ms\tremaining: 1.29s\n",
      "106:\tlearn: 291.9450597\ttotal: 155ms\tremaining: 1.29s\n",
      "107:\tlearn: 291.1516214\ttotal: 156ms\tremaining: 1.29s\n",
      "108:\tlearn: 290.4373466\ttotal: 157ms\tremaining: 1.29s\n",
      "109:\tlearn: 289.3999880\ttotal: 159ms\tremaining: 1.28s\n",
      "110:\tlearn: 288.4471732\ttotal: 161ms\tremaining: 1.29s\n",
      "111:\tlearn: 287.6576148\ttotal: 167ms\tremaining: 1.32s\n",
      "112:\tlearn: 286.9229322\ttotal: 170ms\tremaining: 1.33s\n",
      "113:\tlearn: 286.0939783\ttotal: 172ms\tremaining: 1.34s\n",
      "114:\tlearn: 285.2324539\ttotal: 174ms\tremaining: 1.34s\n",
      "115:\tlearn: 284.3702391\ttotal: 178ms\tremaining: 1.36s\n",
      "116:\tlearn: 283.7587927\ttotal: 180ms\tremaining: 1.36s\n",
      "117:\tlearn: 282.9933380\ttotal: 182ms\tremaining: 1.36s\n",
      "118:\tlearn: 282.1774665\ttotal: 184ms\tremaining: 1.36s\n",
      "119:\tlearn: 281.4844522\ttotal: 186ms\tremaining: 1.37s\n",
      "120:\tlearn: 280.7256847\ttotal: 190ms\tremaining: 1.38s\n",
      "121:\tlearn: 280.0010692\ttotal: 193ms\tremaining: 1.39s\n",
      "122:\tlearn: 279.2747729\ttotal: 195ms\tremaining: 1.39s\n",
      "123:\tlearn: 278.5247474\ttotal: 197ms\tremaining: 1.39s\n",
      "124:\tlearn: 277.7622632\ttotal: 199ms\tremaining: 1.39s\n",
      "125:\tlearn: 277.1752557\ttotal: 201ms\tremaining: 1.4s\n",
      "126:\tlearn: 276.4287069\ttotal: 204ms\tremaining: 1.4s\n",
      "127:\tlearn: 275.7648045\ttotal: 206ms\tremaining: 1.4s\n",
      "128:\tlearn: 274.8979245\ttotal: 208ms\tremaining: 1.4s\n",
      "129:\tlearn: 273.8820305\ttotal: 209ms\tremaining: 1.4s\n",
      "130:\tlearn: 273.1273726\ttotal: 211ms\tremaining: 1.4s\n",
      "131:\tlearn: 272.3797123\ttotal: 213ms\tremaining: 1.4s\n",
      "132:\tlearn: 271.6706333\ttotal: 215ms\tremaining: 1.4s\n",
      "133:\tlearn: 270.9759921\ttotal: 217ms\tremaining: 1.4s\n",
      "134:\tlearn: 270.2333258\ttotal: 218ms\tremaining: 1.4s\n",
      "135:\tlearn: 269.5857291\ttotal: 220ms\tremaining: 1.4s\n",
      "136:\tlearn: 269.0637394\ttotal: 223ms\tremaining: 1.4s\n",
      "137:\tlearn: 268.3338519\ttotal: 224ms\tremaining: 1.4s\n",
      "138:\tlearn: 267.6379725\ttotal: 226ms\tremaining: 1.4s\n",
      "139:\tlearn: 267.0305617\ttotal: 227ms\tremaining: 1.39s\n",
      "140:\tlearn: 266.2702941\ttotal: 228ms\tremaining: 1.39s\n",
      "141:\tlearn: 265.4626779\ttotal: 229ms\tremaining: 1.39s\n",
      "142:\tlearn: 264.8465649\ttotal: 231ms\tremaining: 1.38s\n",
      "143:\tlearn: 264.1943576\ttotal: 233ms\tremaining: 1.38s\n",
      "144:\tlearn: 263.6034192\ttotal: 234ms\tremaining: 1.38s\n",
      "145:\tlearn: 262.8626416\ttotal: 236ms\tremaining: 1.38s\n",
      "146:\tlearn: 262.2178513\ttotal: 237ms\tremaining: 1.37s\n",
      "147:\tlearn: 261.6234700\ttotal: 238ms\tremaining: 1.37s\n",
      "148:\tlearn: 260.9691869\ttotal: 239ms\tremaining: 1.37s\n",
      "149:\tlearn: 260.4271316\ttotal: 241ms\tremaining: 1.36s\n",
      "150:\tlearn: 259.9564246\ttotal: 242ms\tremaining: 1.36s\n",
      "151:\tlearn: 259.4642933\ttotal: 243ms\tremaining: 1.36s\n",
      "152:\tlearn: 258.9382370\ttotal: 245ms\tremaining: 1.35s\n",
      "153:\tlearn: 258.4564271\ttotal: 246ms\tremaining: 1.35s\n",
      "154:\tlearn: 257.8564743\ttotal: 248ms\tremaining: 1.35s\n",
      "155:\tlearn: 257.2658061\ttotal: 249ms\tremaining: 1.35s\n",
      "156:\tlearn: 256.6597479\ttotal: 250ms\tremaining: 1.34s\n",
      "157:\tlearn: 256.0239284\ttotal: 252ms\tremaining: 1.34s\n",
      "158:\tlearn: 255.4159991\ttotal: 253ms\tremaining: 1.34s\n",
      "159:\tlearn: 254.8083214\ttotal: 254ms\tremaining: 1.33s\n",
      "160:\tlearn: 254.2480726\ttotal: 256ms\tremaining: 1.33s\n",
      "161:\tlearn: 253.7504773\ttotal: 257ms\tremaining: 1.33s\n",
      "162:\tlearn: 253.0913754\ttotal: 259ms\tremaining: 1.33s\n",
      "163:\tlearn: 252.4048382\ttotal: 260ms\tremaining: 1.32s\n",
      "164:\tlearn: 251.8464146\ttotal: 261ms\tremaining: 1.32s\n",
      "165:\tlearn: 251.3931163\ttotal: 263ms\tremaining: 1.32s\n",
      "166:\tlearn: 250.8289107\ttotal: 264ms\tremaining: 1.32s\n",
      "167:\tlearn: 250.2650020\ttotal: 265ms\tremaining: 1.31s\n",
      "168:\tlearn: 249.6028195\ttotal: 267ms\tremaining: 1.31s\n",
      "169:\tlearn: 249.0836970\ttotal: 268ms\tremaining: 1.31s\n",
      "170:\tlearn: 248.5223204\ttotal: 269ms\tremaining: 1.3s\n",
      "171:\tlearn: 248.1098850\ttotal: 271ms\tremaining: 1.3s\n",
      "172:\tlearn: 247.7021135\ttotal: 272ms\tremaining: 1.3s\n",
      "173:\tlearn: 247.2388452\ttotal: 274ms\tremaining: 1.3s\n",
      "174:\tlearn: 246.5891327\ttotal: 275ms\tremaining: 1.29s\n",
      "175:\tlearn: 246.1837168\ttotal: 276ms\tremaining: 1.29s\n",
      "176:\tlearn: 245.6206696\ttotal: 277ms\tremaining: 1.29s\n",
      "177:\tlearn: 245.1066928\ttotal: 279ms\tremaining: 1.29s\n",
      "178:\tlearn: 244.5367467\ttotal: 280ms\tremaining: 1.28s\n",
      "179:\tlearn: 243.9554758\ttotal: 281ms\tremaining: 1.28s\n",
      "180:\tlearn: 243.4179809\ttotal: 283ms\tremaining: 1.28s\n",
      "181:\tlearn: 242.9284204\ttotal: 284ms\tremaining: 1.27s\n",
      "182:\tlearn: 242.4643870\ttotal: 285ms\tremaining: 1.27s\n",
      "183:\tlearn: 242.0389862\ttotal: 287ms\tremaining: 1.27s\n",
      "184:\tlearn: 241.6364598\ttotal: 288ms\tremaining: 1.27s\n",
      "185:\tlearn: 241.1919199\ttotal: 289ms\tremaining: 1.26s\n",
      "186:\tlearn: 240.7723057\ttotal: 291ms\tremaining: 1.26s\n",
      "187:\tlearn: 240.2152232\ttotal: 292ms\tremaining: 1.26s\n",
      "188:\tlearn: 239.6313847\ttotal: 293ms\tremaining: 1.26s\n",
      "189:\tlearn: 239.2068133\ttotal: 295ms\tremaining: 1.25s\n",
      "190:\tlearn: 238.7767513\ttotal: 296ms\tremaining: 1.25s\n",
      "191:\tlearn: 238.2120250\ttotal: 297ms\tremaining: 1.25s\n",
      "192:\tlearn: 237.6951236\ttotal: 298ms\tremaining: 1.25s\n",
      "193:\tlearn: 237.1591738\ttotal: 300ms\tremaining: 1.25s\n",
      "194:\tlearn: 236.6931152\ttotal: 301ms\tremaining: 1.24s\n",
      "195:\tlearn: 236.2381444\ttotal: 303ms\tremaining: 1.24s\n",
      "196:\tlearn: 235.7708290\ttotal: 304ms\tremaining: 1.24s\n",
      "197:\tlearn: 235.3961712\ttotal: 305ms\tremaining: 1.24s\n",
      "198:\tlearn: 235.0695731\ttotal: 306ms\tremaining: 1.23s\n",
      "199:\tlearn: 234.6209738\ttotal: 308ms\tremaining: 1.23s\n",
      "200:\tlearn: 234.1202031\ttotal: 309ms\tremaining: 1.23s\n",
      "201:\tlearn: 233.6765520\ttotal: 310ms\tremaining: 1.23s\n",
      "202:\tlearn: 233.2618653\ttotal: 312ms\tremaining: 1.22s\n",
      "203:\tlearn: 232.9461371\ttotal: 313ms\tremaining: 1.22s\n",
      "204:\tlearn: 232.5311136\ttotal: 314ms\tremaining: 1.22s\n",
      "205:\tlearn: 232.1709420\ttotal: 316ms\tremaining: 1.22s\n",
      "206:\tlearn: 231.7650000\ttotal: 317ms\tremaining: 1.21s\n",
      "207:\tlearn: 231.4039497\ttotal: 318ms\tremaining: 1.21s\n",
      "208:\tlearn: 230.9770230\ttotal: 320ms\tremaining: 1.21s\n",
      "209:\tlearn: 230.5426392\ttotal: 321ms\tremaining: 1.21s\n",
      "210:\tlearn: 230.1818761\ttotal: 322ms\tremaining: 1.21s\n",
      "211:\tlearn: 229.7422708\ttotal: 324ms\tremaining: 1.2s\n",
      "212:\tlearn: 229.2657181\ttotal: 325ms\tremaining: 1.2s\n",
      "213:\tlearn: 228.9410921\ttotal: 328ms\tremaining: 1.2s\n",
      "214:\tlearn: 228.4809989\ttotal: 330ms\tremaining: 1.2s\n",
      "215:\tlearn: 227.9740688\ttotal: 332ms\tremaining: 1.2s\n",
      "216:\tlearn: 227.5255247\ttotal: 333ms\tremaining: 1.2s\n",
      "217:\tlearn: 226.9317751\ttotal: 335ms\tremaining: 1.2s\n",
      "218:\tlearn: 226.4924353\ttotal: 336ms\tremaining: 1.2s\n",
      "219:\tlearn: 226.1139567\ttotal: 338ms\tremaining: 1.2s\n",
      "220:\tlearn: 225.6724601\ttotal: 341ms\tremaining: 1.2s\n",
      "221:\tlearn: 225.2331566\ttotal: 344ms\tremaining: 1.21s\n",
      "222:\tlearn: 224.8791820\ttotal: 346ms\tremaining: 1.2s\n",
      "223:\tlearn: 224.4520780\ttotal: 348ms\tremaining: 1.21s\n",
      "224:\tlearn: 224.2324778\ttotal: 350ms\tremaining: 1.2s\n",
      "225:\tlearn: 223.7161710\ttotal: 351ms\tremaining: 1.2s\n",
      "226:\tlearn: 223.2361209\ttotal: 353ms\tremaining: 1.2s\n",
      "227:\tlearn: 222.8260375\ttotal: 354ms\tremaining: 1.2s\n",
      "228:\tlearn: 222.4030215\ttotal: 356ms\tremaining: 1.2s\n",
      "229:\tlearn: 221.9295274\ttotal: 358ms\tremaining: 1.2s\n",
      "230:\tlearn: 221.5587961\ttotal: 359ms\tremaining: 1.2s\n",
      "231:\tlearn: 221.1833221\ttotal: 361ms\tremaining: 1.19s\n",
      "232:\tlearn: 220.8455522\ttotal: 362ms\tremaining: 1.19s\n",
      "233:\tlearn: 220.5450463\ttotal: 364ms\tremaining: 1.19s\n",
      "234:\tlearn: 220.2044294\ttotal: 366ms\tremaining: 1.19s\n",
      "235:\tlearn: 219.8492542\ttotal: 370ms\tremaining: 1.2s\n",
      "236:\tlearn: 219.3749101\ttotal: 371ms\tremaining: 1.2s\n",
      "237:\tlearn: 219.0670258\ttotal: 373ms\tremaining: 1.19s\n",
      "238:\tlearn: 218.6015961\ttotal: 375ms\tremaining: 1.19s\n",
      "239:\tlearn: 218.1064196\ttotal: 376ms\tremaining: 1.19s\n",
      "240:\tlearn: 217.6557174\ttotal: 378ms\tremaining: 1.19s\n",
      "241:\tlearn: 217.2936697\ttotal: 381ms\tremaining: 1.19s\n",
      "242:\tlearn: 216.9411709\ttotal: 382ms\tremaining: 1.19s\n",
      "243:\tlearn: 216.4968968\ttotal: 383ms\tremaining: 1.19s\n",
      "244:\tlearn: 216.0912011\ttotal: 385ms\tremaining: 1.19s\n",
      "245:\tlearn: 215.7664406\ttotal: 386ms\tremaining: 1.18s\n",
      "246:\tlearn: 215.3185481\ttotal: 387ms\tremaining: 1.18s\n",
      "247:\tlearn: 214.9537195\ttotal: 389ms\tremaining: 1.18s\n",
      "248:\tlearn: 214.5207531\ttotal: 390ms\tremaining: 1.18s\n",
      "249:\tlearn: 214.2244093\ttotal: 391ms\tremaining: 1.17s\n",
      "250:\tlearn: 213.7547026\ttotal: 393ms\tremaining: 1.17s\n",
      "251:\tlearn: 213.6454423\ttotal: 394ms\tremaining: 1.17s\n",
      "252:\tlearn: 213.3329760\ttotal: 396ms\tremaining: 1.17s\n",
      "253:\tlearn: 213.0375635\ttotal: 397ms\tremaining: 1.17s\n",
      "254:\tlearn: 212.7099960\ttotal: 398ms\tremaining: 1.16s\n",
      "255:\tlearn: 212.5054755\ttotal: 399ms\tremaining: 1.16s\n",
      "256:\tlearn: 212.1057010\ttotal: 400ms\tremaining: 1.16s\n",
      "257:\tlearn: 211.7093428\ttotal: 402ms\tremaining: 1.16s\n",
      "258:\tlearn: 211.2435207\ttotal: 403ms\tremaining: 1.15s\n",
      "259:\tlearn: 211.0224151\ttotal: 404ms\tremaining: 1.15s\n",
      "260:\tlearn: 210.7126528\ttotal: 405ms\tremaining: 1.15s\n",
      "261:\tlearn: 210.3421322\ttotal: 407ms\tremaining: 1.15s\n",
      "262:\tlearn: 210.1926549\ttotal: 409ms\tremaining: 1.14s\n",
      "263:\tlearn: 209.8117639\ttotal: 410ms\tremaining: 1.14s\n",
      "264:\tlearn: 209.4083662\ttotal: 411ms\tremaining: 1.14s\n",
      "265:\tlearn: 209.0305330\ttotal: 413ms\tremaining: 1.14s\n",
      "266:\tlearn: 208.5912330\ttotal: 414ms\tremaining: 1.14s\n",
      "267:\tlearn: 208.2903716\ttotal: 415ms\tremaining: 1.13s\n",
      "268:\tlearn: 207.9400224\ttotal: 417ms\tremaining: 1.13s\n",
      "269:\tlearn: 207.5921138\ttotal: 418ms\tremaining: 1.13s\n",
      "270:\tlearn: 207.3126281\ttotal: 420ms\tremaining: 1.13s\n",
      "271:\tlearn: 207.0008178\ttotal: 421ms\tremaining: 1.13s\n",
      "272:\tlearn: 206.7029995\ttotal: 422ms\tremaining: 1.12s\n",
      "273:\tlearn: 206.4400190\ttotal: 424ms\tremaining: 1.12s\n",
      "274:\tlearn: 206.1398306\ttotal: 425ms\tremaining: 1.12s\n",
      "275:\tlearn: 205.7724684\ttotal: 426ms\tremaining: 1.12s\n",
      "276:\tlearn: 205.4332765\ttotal: 427ms\tremaining: 1.11s\n",
      "277:\tlearn: 205.1354138\ttotal: 429ms\tremaining: 1.11s\n",
      "278:\tlearn: 204.8060897\ttotal: 430ms\tremaining: 1.11s\n",
      "279:\tlearn: 204.5812399\ttotal: 431ms\tremaining: 1.11s\n",
      "280:\tlearn: 204.2224624\ttotal: 433ms\tremaining: 1.11s\n",
      "281:\tlearn: 204.1512155\ttotal: 434ms\tremaining: 1.1s\n",
      "282:\tlearn: 204.0162017\ttotal: 436ms\tremaining: 1.1s\n",
      "283:\tlearn: 203.7123724\ttotal: 437ms\tremaining: 1.1s\n",
      "284:\tlearn: 203.4364101\ttotal: 438ms\tremaining: 1.1s\n",
      "285:\tlearn: 203.1129959\ttotal: 439ms\tremaining: 1.1s\n",
      "286:\tlearn: 202.9168365\ttotal: 441ms\tremaining: 1.09s\n",
      "287:\tlearn: 202.4816044\ttotal: 442ms\tremaining: 1.09s\n",
      "288:\tlearn: 202.1279087\ttotal: 443ms\tremaining: 1.09s\n",
      "289:\tlearn: 201.7646053\ttotal: 445ms\tremaining: 1.09s\n",
      "290:\tlearn: 201.4571965\ttotal: 446ms\tremaining: 1.09s\n",
      "291:\tlearn: 201.2858197\ttotal: 447ms\tremaining: 1.08s\n",
      "292:\tlearn: 200.9876214\ttotal: 448ms\tremaining: 1.08s\n",
      "293:\tlearn: 200.5112700\ttotal: 450ms\tremaining: 1.08s\n",
      "294:\tlearn: 200.2048100\ttotal: 451ms\tremaining: 1.08s\n",
      "295:\tlearn: 199.8904155\ttotal: 453ms\tremaining: 1.08s\n",
      "296:\tlearn: 199.4996410\ttotal: 454ms\tremaining: 1.07s\n",
      "297:\tlearn: 199.1634944\ttotal: 455ms\tremaining: 1.07s\n",
      "298:\tlearn: 198.9281156\ttotal: 456ms\tremaining: 1.07s\n",
      "299:\tlearn: 198.6829873\ttotal: 458ms\tremaining: 1.07s\n",
      "300:\tlearn: 198.3170571\ttotal: 459ms\tremaining: 1.06s\n",
      "301:\tlearn: 197.9145593\ttotal: 460ms\tremaining: 1.06s\n",
      "302:\tlearn: 197.6624622\ttotal: 462ms\tremaining: 1.06s\n",
      "303:\tlearn: 197.4461887\ttotal: 463ms\tremaining: 1.06s\n",
      "304:\tlearn: 197.2085822\ttotal: 464ms\tremaining: 1.06s\n",
      "305:\tlearn: 196.8596535\ttotal: 466ms\tremaining: 1.06s\n",
      "306:\tlearn: 196.5931174\ttotal: 467ms\tremaining: 1.05s\n",
      "307:\tlearn: 196.2724212\ttotal: 469ms\tremaining: 1.05s\n",
      "308:\tlearn: 196.0087635\ttotal: 470ms\tremaining: 1.05s\n",
      "309:\tlearn: 195.8263041\ttotal: 471ms\tremaining: 1.05s\n",
      "310:\tlearn: 195.5800617\ttotal: 472ms\tremaining: 1.05s\n",
      "311:\tlearn: 195.2826555\ttotal: 474ms\tremaining: 1.04s\n",
      "312:\tlearn: 195.1224621\ttotal: 475ms\tremaining: 1.04s\n",
      "313:\tlearn: 194.8471443\ttotal: 476ms\tremaining: 1.04s\n",
      "314:\tlearn: 194.7787007\ttotal: 478ms\tremaining: 1.04s\n",
      "315:\tlearn: 194.5667803\ttotal: 479ms\tremaining: 1.04s\n",
      "316:\tlearn: 194.3193076\ttotal: 481ms\tremaining: 1.03s\n",
      "317:\tlearn: 194.0446564\ttotal: 482ms\tremaining: 1.03s\n",
      "318:\tlearn: 193.8833516\ttotal: 483ms\tremaining: 1.03s\n",
      "319:\tlearn: 193.6745360\ttotal: 485ms\tremaining: 1.03s\n",
      "320:\tlearn: 193.5986743\ttotal: 486ms\tremaining: 1.03s\n",
      "321:\tlearn: 193.3628789\ttotal: 487ms\tremaining: 1.02s\n",
      "322:\tlearn: 192.9804119\ttotal: 489ms\tremaining: 1.02s\n",
      "323:\tlearn: 192.7384202\ttotal: 492ms\tremaining: 1.03s\n",
      "324:\tlearn: 192.5662191\ttotal: 494ms\tremaining: 1.02s\n",
      "325:\tlearn: 192.3850746\ttotal: 495ms\tremaining: 1.02s\n",
      "326:\tlearn: 192.2750764\ttotal: 497ms\tremaining: 1.02s\n",
      "327:\tlearn: 191.8698408\ttotal: 499ms\tremaining: 1.02s\n",
      "328:\tlearn: 191.5418152\ttotal: 500ms\tremaining: 1.02s\n",
      "329:\tlearn: 191.3217219\ttotal: 502ms\tremaining: 1.02s\n",
      "330:\tlearn: 191.1435818\ttotal: 503ms\tremaining: 1.02s\n",
      "331:\tlearn: 191.0702524\ttotal: 505ms\tremaining: 1.02s\n",
      "332:\tlearn: 190.8099283\ttotal: 507ms\tremaining: 1.01s\n",
      "333:\tlearn: 190.5306846\ttotal: 509ms\tremaining: 1.01s\n",
      "334:\tlearn: 190.2195806\ttotal: 512ms\tremaining: 1.01s\n",
      "335:\tlearn: 190.1369899\ttotal: 514ms\tremaining: 1.01s\n",
      "336:\tlearn: 189.8676504\ttotal: 515ms\tremaining: 1.01s\n",
      "337:\tlearn: 189.7439915\ttotal: 517ms\tremaining: 1.01s\n",
      "338:\tlearn: 189.5734212\ttotal: 519ms\tremaining: 1.01s\n",
      "339:\tlearn: 189.4956731\ttotal: 520ms\tremaining: 1.01s\n",
      "340:\tlearn: 189.2655765\ttotal: 522ms\tremaining: 1.01s\n",
      "341:\tlearn: 189.0876571\ttotal: 524ms\tremaining: 1.01s\n",
      "342:\tlearn: 189.0102814\ttotal: 525ms\tremaining: 1.01s\n",
      "343:\tlearn: 188.9470450\ttotal: 527ms\tremaining: 1s\n",
      "344:\tlearn: 188.6697800\ttotal: 528ms\tremaining: 1s\n",
      "345:\tlearn: 188.4505028\ttotal: 530ms\tremaining: 1s\n",
      "346:\tlearn: 188.2605410\ttotal: 532ms\tremaining: 1s\n",
      "347:\tlearn: 188.0072556\ttotal: 533ms\tremaining: 999ms\n",
      "348:\tlearn: 187.7580452\ttotal: 537ms\tremaining: 1s\n",
      "349:\tlearn: 187.5057611\ttotal: 539ms\tremaining: 1s\n",
      "350:\tlearn: 187.1804877\ttotal: 541ms\tremaining: 1s\n",
      "351:\tlearn: 186.8761643\ttotal: 543ms\tremaining: 999ms\n",
      "352:\tlearn: 186.7498960\ttotal: 544ms\tremaining: 997ms\n",
      "353:\tlearn: 186.4590444\ttotal: 545ms\tremaining: 995ms\n",
      "354:\tlearn: 186.1017922\ttotal: 547ms\tremaining: 993ms\n",
      "355:\tlearn: 185.9601917\ttotal: 548ms\tremaining: 991ms\n",
      "356:\tlearn: 185.7422860\ttotal: 549ms\tremaining: 989ms\n",
      "357:\tlearn: 185.4149599\ttotal: 550ms\tremaining: 987ms\n",
      "358:\tlearn: 185.1936192\ttotal: 552ms\tremaining: 985ms\n",
      "359:\tlearn: 185.0924564\ttotal: 553ms\tremaining: 984ms\n",
      "360:\tlearn: 184.8161164\ttotal: 555ms\tremaining: 982ms\n",
      "361:\tlearn: 184.6229338\ttotal: 556ms\tremaining: 980ms\n",
      "362:\tlearn: 184.4269981\ttotal: 557ms\tremaining: 978ms\n",
      "363:\tlearn: 184.2835241\ttotal: 559ms\tremaining: 976ms\n",
      "364:\tlearn: 184.0966420\ttotal: 561ms\tremaining: 975ms\n",
      "365:\tlearn: 183.9619169\ttotal: 562ms\tremaining: 974ms\n",
      "366:\tlearn: 183.6427484\ttotal: 564ms\tremaining: 973ms\n",
      "367:\tlearn: 183.5017919\ttotal: 565ms\tremaining: 971ms\n",
      "368:\tlearn: 183.3127550\ttotal: 566ms\tremaining: 969ms\n",
      "369:\tlearn: 183.1614189\ttotal: 569ms\tremaining: 968ms\n",
      "370:\tlearn: 183.1059657\ttotal: 569ms\tremaining: 965ms\n",
      "371:\tlearn: 182.9710349\ttotal: 571ms\tremaining: 964ms\n",
      "372:\tlearn: 182.8141093\ttotal: 572ms\tremaining: 962ms\n",
      "373:\tlearn: 182.6626374\ttotal: 574ms\tremaining: 960ms\n",
      "374:\tlearn: 182.5704692\ttotal: 575ms\tremaining: 959ms\n",
      "375:\tlearn: 182.5068158\ttotal: 577ms\tremaining: 957ms\n",
      "376:\tlearn: 182.1973933\ttotal: 578ms\tremaining: 955ms\n",
      "377:\tlearn: 182.0634688\ttotal: 579ms\tremaining: 953ms\n",
      "378:\tlearn: 181.8500311\ttotal: 580ms\tremaining: 951ms\n",
      "379:\tlearn: 181.5666481\ttotal: 582ms\tremaining: 950ms\n",
      "380:\tlearn: 181.4378217\ttotal: 584ms\tremaining: 949ms\n",
      "381:\tlearn: 181.2223113\ttotal: 585ms\tremaining: 947ms\n",
      "382:\tlearn: 180.9997680\ttotal: 587ms\tremaining: 945ms\n",
      "383:\tlearn: 180.8188755\ttotal: 588ms\tremaining: 943ms\n",
      "384:\tlearn: 180.7073054\ttotal: 589ms\tremaining: 942ms\n",
      "385:\tlearn: 180.6527093\ttotal: 591ms\tremaining: 940ms\n",
      "386:\tlearn: 180.4858243\ttotal: 592ms\tremaining: 938ms\n",
      "387:\tlearn: 180.2197781\ttotal: 593ms\tremaining: 936ms\n",
      "388:\tlearn: 180.0647742\ttotal: 595ms\tremaining: 934ms\n",
      "389:\tlearn: 179.8890422\ttotal: 596ms\tremaining: 932ms\n",
      "390:\tlearn: 179.6621663\ttotal: 598ms\tremaining: 931ms\n",
      "391:\tlearn: 179.3506481\ttotal: 600ms\tremaining: 930ms\n",
      "392:\tlearn: 179.1492812\ttotal: 601ms\tremaining: 928ms\n",
      "393:\tlearn: 178.9410444\ttotal: 603ms\tremaining: 927ms\n",
      "394:\tlearn: 178.8831284\ttotal: 604ms\tremaining: 925ms\n",
      "395:\tlearn: 178.6847725\ttotal: 605ms\tremaining: 923ms\n",
      "396:\tlearn: 178.4085564\ttotal: 607ms\tremaining: 922ms\n",
      "397:\tlearn: 178.2838356\ttotal: 608ms\tremaining: 920ms\n",
      "398:\tlearn: 178.0412565\ttotal: 610ms\tremaining: 918ms\n",
      "399:\tlearn: 177.7657863\ttotal: 611ms\tremaining: 917ms\n",
      "400:\tlearn: 177.5392025\ttotal: 613ms\tremaining: 915ms\n",
      "401:\tlearn: 177.4494841\ttotal: 614ms\tremaining: 913ms\n",
      "402:\tlearn: 177.2825525\ttotal: 615ms\tremaining: 912ms\n",
      "403:\tlearn: 177.0466094\ttotal: 617ms\tremaining: 910ms\n",
      "404:\tlearn: 176.8105172\ttotal: 618ms\tremaining: 908ms\n",
      "405:\tlearn: 176.6990325\ttotal: 619ms\tremaining: 906ms\n",
      "406:\tlearn: 176.5767231\ttotal: 621ms\tremaining: 904ms\n",
      "407:\tlearn: 176.3333362\ttotal: 622ms\tremaining: 903ms\n",
      "408:\tlearn: 176.0190773\ttotal: 624ms\tremaining: 901ms\n",
      "409:\tlearn: 175.7853474\ttotal: 625ms\tremaining: 899ms\n",
      "410:\tlearn: 175.5587841\ttotal: 627ms\tremaining: 898ms\n",
      "411:\tlearn: 175.4866343\ttotal: 628ms\tremaining: 897ms\n",
      "412:\tlearn: 175.3223984\ttotal: 629ms\tremaining: 895ms\n",
      "413:\tlearn: 175.1421878\ttotal: 631ms\tremaining: 893ms\n",
      "414:\tlearn: 174.8379225\ttotal: 632ms\tremaining: 891ms\n",
      "415:\tlearn: 174.7169038\ttotal: 633ms\tremaining: 889ms\n",
      "416:\tlearn: 174.4956476\ttotal: 635ms\tremaining: 887ms\n",
      "417:\tlearn: 174.3389948\ttotal: 636ms\tremaining: 886ms\n",
      "418:\tlearn: 174.1351734\ttotal: 638ms\tremaining: 884ms\n",
      "419:\tlearn: 173.9058443\ttotal: 639ms\tremaining: 882ms\n",
      "420:\tlearn: 173.6943668\ttotal: 641ms\tremaining: 881ms\n",
      "421:\tlearn: 173.5647690\ttotal: 642ms\tremaining: 879ms\n",
      "422:\tlearn: 173.4964801\ttotal: 643ms\tremaining: 878ms\n",
      "423:\tlearn: 173.2339325\ttotal: 645ms\tremaining: 876ms\n",
      "424:\tlearn: 173.1723167\ttotal: 646ms\tremaining: 874ms\n",
      "425:\tlearn: 172.9327587\ttotal: 647ms\tremaining: 872ms\n",
      "426:\tlearn: 172.7103321\ttotal: 649ms\tremaining: 870ms\n",
      "427:\tlearn: 172.5778990\ttotal: 650ms\tremaining: 869ms\n",
      "428:\tlearn: 172.4620170\ttotal: 652ms\tremaining: 868ms\n",
      "429:\tlearn: 172.3252478\ttotal: 655ms\tremaining: 869ms\n",
      "430:\tlearn: 172.1431452\ttotal: 658ms\tremaining: 869ms\n",
      "431:\tlearn: 171.8971780\ttotal: 660ms\tremaining: 868ms\n",
      "432:\tlearn: 171.7869224\ttotal: 662ms\tremaining: 867ms\n",
      "433:\tlearn: 171.6051065\ttotal: 664ms\tremaining: 866ms\n",
      "434:\tlearn: 171.3835848\ttotal: 667ms\tremaining: 866ms\n",
      "435:\tlearn: 171.1554951\ttotal: 669ms\tremaining: 865ms\n",
      "436:\tlearn: 171.0131829\ttotal: 671ms\tremaining: 865ms\n",
      "437:\tlearn: 170.8231258\ttotal: 673ms\tremaining: 864ms\n",
      "438:\tlearn: 170.7709302\ttotal: 675ms\tremaining: 863ms\n",
      "439:\tlearn: 170.6299631\ttotal: 677ms\tremaining: 862ms\n",
      "440:\tlearn: 170.5244516\ttotal: 679ms\tremaining: 861ms\n",
      "441:\tlearn: 170.4370450\ttotal: 681ms\tremaining: 860ms\n",
      "442:\tlearn: 170.3342330\ttotal: 683ms\tremaining: 858ms\n",
      "443:\tlearn: 170.2090594\ttotal: 685ms\tremaining: 858ms\n",
      "444:\tlearn: 170.1358485\ttotal: 687ms\tremaining: 857ms\n",
      "445:\tlearn: 170.0135160\ttotal: 689ms\tremaining: 856ms\n",
      "446:\tlearn: 169.9121537\ttotal: 690ms\tremaining: 854ms\n",
      "447:\tlearn: 169.6994875\ttotal: 692ms\tremaining: 853ms\n",
      "448:\tlearn: 169.5334173\ttotal: 694ms\tremaining: 852ms\n",
      "449:\tlearn: 169.3442505\ttotal: 696ms\tremaining: 851ms\n",
      "450:\tlearn: 169.2325925\ttotal: 698ms\tremaining: 849ms\n",
      "451:\tlearn: 169.1545972\ttotal: 699ms\tremaining: 848ms\n",
      "452:\tlearn: 168.9745211\ttotal: 701ms\tremaining: 847ms\n",
      "453:\tlearn: 168.8606306\ttotal: 703ms\tremaining: 845ms\n",
      "454:\tlearn: 168.7632228\ttotal: 704ms\tremaining: 844ms\n",
      "455:\tlearn: 168.6100715\ttotal: 706ms\tremaining: 842ms\n",
      "456:\tlearn: 168.4834975\ttotal: 709ms\tremaining: 843ms\n",
      "457:\tlearn: 168.3622335\ttotal: 712ms\tremaining: 842ms\n",
      "458:\tlearn: 168.2971213\ttotal: 715ms\tremaining: 843ms\n",
      "459:\tlearn: 168.1913239\ttotal: 717ms\tremaining: 842ms\n",
      "460:\tlearn: 168.0720160\ttotal: 719ms\tremaining: 840ms\n",
      "461:\tlearn: 167.8479468\ttotal: 720ms\tremaining: 839ms\n",
      "462:\tlearn: 167.6717048\ttotal: 722ms\tremaining: 838ms\n",
      "463:\tlearn: 167.6255683\ttotal: 724ms\tremaining: 836ms\n",
      "464:\tlearn: 167.4525495\ttotal: 726ms\tremaining: 835ms\n",
      "465:\tlearn: 167.4095215\ttotal: 727ms\tremaining: 833ms\n",
      "466:\tlearn: 167.1483048\ttotal: 730ms\tremaining: 834ms\n",
      "467:\tlearn: 166.9436689\ttotal: 732ms\tremaining: 832ms\n",
      "468:\tlearn: 166.7510802\ttotal: 734ms\tremaining: 831ms\n",
      "469:\tlearn: 166.5488730\ttotal: 736ms\tremaining: 830ms\n",
      "470:\tlearn: 166.4773685\ttotal: 737ms\tremaining: 828ms\n",
      "471:\tlearn: 166.2868059\ttotal: 739ms\tremaining: 827ms\n",
      "472:\tlearn: 165.9677780\ttotal: 740ms\tremaining: 825ms\n",
      "473:\tlearn: 165.8328602\ttotal: 743ms\tremaining: 825ms\n",
      "474:\tlearn: 165.6722802\ttotal: 745ms\tremaining: 823ms\n",
      "475:\tlearn: 165.4403239\ttotal: 746ms\tremaining: 821ms\n",
      "476:\tlearn: 165.2335668\ttotal: 748ms\tremaining: 820ms\n",
      "477:\tlearn: 165.0272855\ttotal: 750ms\tremaining: 819ms\n",
      "478:\tlearn: 164.7944193\ttotal: 752ms\tremaining: 818ms\n",
      "479:\tlearn: 164.6700356\ttotal: 756ms\tremaining: 819ms\n",
      "480:\tlearn: 164.5145460\ttotal: 760ms\tremaining: 820ms\n",
      "481:\tlearn: 164.3225270\ttotal: 763ms\tremaining: 820ms\n",
      "482:\tlearn: 164.2823153\ttotal: 767ms\tremaining: 821ms\n",
      "483:\tlearn: 164.0882688\ttotal: 772ms\tremaining: 824ms\n",
      "484:\tlearn: 164.0218668\ttotal: 775ms\tremaining: 823ms\n",
      "485:\tlearn: 163.9850797\ttotal: 777ms\tremaining: 822ms\n",
      "486:\tlearn: 163.9106066\ttotal: 780ms\tremaining: 821ms\n",
      "487:\tlearn: 163.7292920\ttotal: 781ms\tremaining: 820ms\n",
      "488:\tlearn: 163.5469126\ttotal: 783ms\tremaining: 818ms\n",
      "489:\tlearn: 163.3006358\ttotal: 785ms\tremaining: 817ms\n",
      "490:\tlearn: 163.0973962\ttotal: 788ms\tremaining: 817ms\n",
      "491:\tlearn: 162.8518596\ttotal: 790ms\tremaining: 816ms\n",
      "492:\tlearn: 162.7754523\ttotal: 792ms\tremaining: 815ms\n",
      "493:\tlearn: 162.6021551\ttotal: 794ms\tremaining: 814ms\n",
      "494:\tlearn: 162.3869070\ttotal: 796ms\tremaining: 812ms\n",
      "495:\tlearn: 162.1190084\ttotal: 798ms\tremaining: 811ms\n",
      "496:\tlearn: 161.8841162\ttotal: 800ms\tremaining: 810ms\n",
      "497:\tlearn: 161.8399938\ttotal: 802ms\tremaining: 809ms\n",
      "498:\tlearn: 161.7467967\ttotal: 805ms\tremaining: 808ms\n",
      "499:\tlearn: 161.6937644\ttotal: 807ms\tremaining: 807ms\n",
      "500:\tlearn: 161.4700729\ttotal: 811ms\tremaining: 808ms\n",
      "501:\tlearn: 161.2424015\ttotal: 813ms\tremaining: 806ms\n",
      "502:\tlearn: 161.1601218\ttotal: 816ms\tremaining: 806ms\n",
      "503:\tlearn: 161.0278761\ttotal: 820ms\tremaining: 807ms\n",
      "504:\tlearn: 160.9300844\ttotal: 822ms\tremaining: 806ms\n",
      "505:\tlearn: 160.7478661\ttotal: 824ms\tremaining: 804ms\n",
      "506:\tlearn: 160.6583784\ttotal: 825ms\tremaining: 803ms\n",
      "507:\tlearn: 160.5011676\ttotal: 827ms\tremaining: 801ms\n",
      "508:\tlearn: 160.2505754\ttotal: 829ms\tremaining: 799ms\n",
      "509:\tlearn: 160.1746322\ttotal: 830ms\tremaining: 798ms\n",
      "510:\tlearn: 159.9802933\ttotal: 832ms\tremaining: 796ms\n",
      "511:\tlearn: 159.8551624\ttotal: 834ms\tremaining: 795ms\n",
      "512:\tlearn: 159.6885472\ttotal: 835ms\tremaining: 793ms\n",
      "513:\tlearn: 159.6218823\ttotal: 837ms\tremaining: 791ms\n",
      "514:\tlearn: 159.4672081\ttotal: 839ms\tremaining: 790ms\n",
      "515:\tlearn: 159.3790629\ttotal: 840ms\tremaining: 788ms\n",
      "516:\tlearn: 159.3045013\ttotal: 842ms\tremaining: 786ms\n",
      "517:\tlearn: 159.2127363\ttotal: 844ms\tremaining: 785ms\n",
      "518:\tlearn: 158.9097250\ttotal: 845ms\tremaining: 784ms\n",
      "519:\tlearn: 158.8687091\ttotal: 847ms\tremaining: 782ms\n",
      "520:\tlearn: 158.7825643\ttotal: 849ms\tremaining: 780ms\n",
      "521:\tlearn: 158.5731573\ttotal: 850ms\tremaining: 779ms\n",
      "522:\tlearn: 158.4008584\ttotal: 852ms\tremaining: 777ms\n",
      "523:\tlearn: 158.3642711\ttotal: 853ms\tremaining: 775ms\n",
      "524:\tlearn: 158.2318544\ttotal: 855ms\tremaining: 773ms\n",
      "525:\tlearn: 158.0585844\ttotal: 856ms\tremaining: 772ms\n",
      "526:\tlearn: 157.9577453\ttotal: 859ms\tremaining: 771ms\n",
      "527:\tlearn: 157.7917491\ttotal: 860ms\tremaining: 769ms\n",
      "528:\tlearn: 157.5889795\ttotal: 862ms\tremaining: 767ms\n",
      "529:\tlearn: 157.4259126\ttotal: 864ms\tremaining: 767ms\n",
      "530:\tlearn: 157.2946260\ttotal: 866ms\tremaining: 765ms\n",
      "531:\tlearn: 157.1416421\ttotal: 868ms\tremaining: 763ms\n",
      "532:\tlearn: 156.9700351\ttotal: 869ms\tremaining: 762ms\n",
      "533:\tlearn: 156.9075254\ttotal: 871ms\tremaining: 760ms\n",
      "534:\tlearn: 156.6725821\ttotal: 873ms\tremaining: 759ms\n",
      "535:\tlearn: 156.6359228\ttotal: 875ms\tremaining: 757ms\n",
      "536:\tlearn: 156.5294720\ttotal: 876ms\tremaining: 755ms\n",
      "537:\tlearn: 156.3276523\ttotal: 878ms\tremaining: 754ms\n",
      "538:\tlearn: 156.2890891\ttotal: 879ms\tremaining: 752ms\n",
      "539:\tlearn: 156.0045652\ttotal: 881ms\tremaining: 751ms\n",
      "540:\tlearn: 155.8535847\ttotal: 883ms\tremaining: 749ms\n",
      "541:\tlearn: 155.7200106\ttotal: 884ms\tremaining: 747ms\n",
      "542:\tlearn: 155.6821740\ttotal: 886ms\tremaining: 746ms\n",
      "543:\tlearn: 155.5392475\ttotal: 888ms\tremaining: 744ms\n",
      "544:\tlearn: 155.4132630\ttotal: 890ms\tremaining: 743ms\n",
      "545:\tlearn: 155.3779937\ttotal: 892ms\tremaining: 742ms\n",
      "546:\tlearn: 155.2341699\ttotal: 893ms\tremaining: 740ms\n",
      "547:\tlearn: 155.1134627\ttotal: 895ms\tremaining: 738ms\n",
      "548:\tlearn: 154.9141709\ttotal: 896ms\tremaining: 736ms\n",
      "549:\tlearn: 154.7968716\ttotal: 897ms\tremaining: 734ms\n",
      "550:\tlearn: 154.7670779\ttotal: 898ms\tremaining: 732ms\n",
      "551:\tlearn: 154.6551877\ttotal: 900ms\tremaining: 731ms\n",
      "552:\tlearn: 154.4615415\ttotal: 902ms\tremaining: 729ms\n",
      "553:\tlearn: 154.3267213\ttotal: 905ms\tremaining: 729ms\n",
      "554:\tlearn: 154.1872925\ttotal: 907ms\tremaining: 727ms\n",
      "555:\tlearn: 154.0756985\ttotal: 908ms\tremaining: 725ms\n",
      "556:\tlearn: 153.9218245\ttotal: 909ms\tremaining: 723ms\n",
      "557:\tlearn: 153.8263522\ttotal: 911ms\tremaining: 721ms\n",
      "558:\tlearn: 153.6020073\ttotal: 912ms\tremaining: 720ms\n",
      "559:\tlearn: 153.4261157\ttotal: 913ms\tremaining: 718ms\n",
      "560:\tlearn: 153.3248386\ttotal: 915ms\tremaining: 716ms\n",
      "561:\tlearn: 153.1311165\ttotal: 917ms\tremaining: 714ms\n",
      "562:\tlearn: 153.0492771\ttotal: 918ms\tremaining: 713ms\n",
      "563:\tlearn: 152.9422353\ttotal: 920ms\tremaining: 711ms\n",
      "564:\tlearn: 152.9066639\ttotal: 920ms\tremaining: 709ms\n",
      "565:\tlearn: 152.8114558\ttotal: 922ms\tremaining: 707ms\n",
      "566:\tlearn: 152.7043776\ttotal: 923ms\tremaining: 705ms\n",
      "567:\tlearn: 152.6360888\ttotal: 924ms\tremaining: 703ms\n",
      "568:\tlearn: 152.5341667\ttotal: 926ms\tremaining: 701ms\n",
      "569:\tlearn: 152.4681953\ttotal: 927ms\tremaining: 699ms\n",
      "570:\tlearn: 152.4033035\ttotal: 929ms\tremaining: 698ms\n",
      "571:\tlearn: 152.3198276\ttotal: 930ms\tremaining: 696ms\n",
      "572:\tlearn: 152.1415621\ttotal: 954ms\tremaining: 711ms\n",
      "573:\tlearn: 152.0188862\ttotal: 961ms\tremaining: 713ms\n",
      "574:\tlearn: 151.9625275\ttotal: 967ms\tremaining: 715ms\n",
      "575:\tlearn: 151.7667872\ttotal: 971ms\tremaining: 715ms\n",
      "576:\tlearn: 151.6265973\ttotal: 975ms\tremaining: 715ms\n",
      "577:\tlearn: 151.5104585\ttotal: 983ms\tremaining: 718ms\n",
      "578:\tlearn: 151.3563916\ttotal: 988ms\tremaining: 718ms\n",
      "579:\tlearn: 151.2810758\ttotal: 992ms\tremaining: 718ms\n",
      "580:\tlearn: 151.1171057\ttotal: 1s\tremaining: 723ms\n",
      "581:\tlearn: 151.0448305\ttotal: 1.01s\tremaining: 723ms\n",
      "582:\tlearn: 150.9324424\ttotal: 1.02s\tremaining: 728ms\n",
      "583:\tlearn: 150.8049731\ttotal: 1.02s\tremaining: 728ms\n",
      "584:\tlearn: 150.6234290\ttotal: 1.03s\tremaining: 728ms\n",
      "585:\tlearn: 150.4729743\ttotal: 1.03s\tremaining: 729ms\n",
      "586:\tlearn: 150.3858286\ttotal: 1.03s\tremaining: 728ms\n",
      "587:\tlearn: 150.2508990\ttotal: 1.04s\tremaining: 729ms\n",
      "588:\tlearn: 150.0438825\ttotal: 1.05s\tremaining: 731ms\n",
      "589:\tlearn: 149.9283279\ttotal: 1.05s\tremaining: 730ms\n",
      "590:\tlearn: 149.7776256\ttotal: 1.05s\tremaining: 729ms\n",
      "591:\tlearn: 149.6579764\ttotal: 1.06s\tremaining: 730ms\n",
      "592:\tlearn: 149.4343307\ttotal: 1.06s\tremaining: 729ms\n",
      "593:\tlearn: 149.3151540\ttotal: 1.06s\tremaining: 728ms\n",
      "594:\tlearn: 149.2835051\ttotal: 1.07s\tremaining: 727ms\n",
      "595:\tlearn: 149.1470654\ttotal: 1.07s\tremaining: 727ms\n",
      "596:\tlearn: 148.9006914\ttotal: 1.07s\tremaining: 726ms\n",
      "597:\tlearn: 148.7869478\ttotal: 1.08s\tremaining: 724ms\n",
      "598:\tlearn: 148.7443421\ttotal: 1.08s\tremaining: 723ms\n",
      "599:\tlearn: 148.6082348\ttotal: 1.08s\tremaining: 721ms\n",
      "600:\tlearn: 148.4567125\ttotal: 1.08s\tremaining: 719ms\n",
      "601:\tlearn: 148.2061620\ttotal: 1.09s\tremaining: 720ms\n",
      "602:\tlearn: 148.1160840\ttotal: 1.09s\tremaining: 719ms\n",
      "603:\tlearn: 148.0827081\ttotal: 1.09s\tremaining: 717ms\n",
      "604:\tlearn: 147.9635657\ttotal: 1.1s\tremaining: 716ms\n",
      "605:\tlearn: 147.8711711\ttotal: 1.1s\tremaining: 717ms\n",
      "606:\tlearn: 147.7870274\ttotal: 1.1s\tremaining: 715ms\n",
      "607:\tlearn: 147.7178418\ttotal: 1.11s\tremaining: 713ms\n",
      "608:\tlearn: 147.4580320\ttotal: 1.11s\tremaining: 711ms\n",
      "609:\tlearn: 147.3829378\ttotal: 1.11s\tremaining: 709ms\n",
      "610:\tlearn: 147.2634323\ttotal: 1.11s\tremaining: 707ms\n",
      "611:\tlearn: 147.1327634\ttotal: 1.11s\tremaining: 705ms\n",
      "612:\tlearn: 147.0881301\ttotal: 1.12s\tremaining: 706ms\n",
      "613:\tlearn: 147.0537291\ttotal: 1.12s\tremaining: 704ms\n",
      "614:\tlearn: 146.9369863\ttotal: 1.12s\tremaining: 702ms\n",
      "615:\tlearn: 146.8308846\ttotal: 1.12s\tremaining: 700ms\n",
      "616:\tlearn: 146.7759504\ttotal: 1.12s\tremaining: 697ms\n",
      "617:\tlearn: 146.6286581\ttotal: 1.12s\tremaining: 695ms\n",
      "618:\tlearn: 146.5427782\ttotal: 1.13s\tremaining: 693ms\n",
      "619:\tlearn: 146.5017499\ttotal: 1.13s\tremaining: 691ms\n",
      "620:\tlearn: 146.4539107\ttotal: 1.13s\tremaining: 690ms\n",
      "621:\tlearn: 146.3376408\ttotal: 1.13s\tremaining: 689ms\n",
      "622:\tlearn: 146.0817537\ttotal: 1.13s\tremaining: 687ms\n",
      "623:\tlearn: 145.9163885\ttotal: 1.14s\tremaining: 684ms\n",
      "624:\tlearn: 145.8609343\ttotal: 1.14s\tremaining: 682ms\n",
      "625:\tlearn: 145.5706285\ttotal: 1.14s\tremaining: 680ms\n",
      "626:\tlearn: 145.3421925\ttotal: 1.14s\tremaining: 678ms\n",
      "627:\tlearn: 145.3093657\ttotal: 1.14s\tremaining: 676ms\n",
      "628:\tlearn: 145.2443662\ttotal: 1.14s\tremaining: 675ms\n",
      "629:\tlearn: 145.1063889\ttotal: 1.15s\tremaining: 674ms\n",
      "630:\tlearn: 145.0737872\ttotal: 1.15s\tremaining: 672ms\n",
      "631:\tlearn: 145.0442141\ttotal: 1.15s\tremaining: 669ms\n",
      "632:\tlearn: 145.0049248\ttotal: 1.15s\tremaining: 668ms\n",
      "633:\tlearn: 144.7676067\ttotal: 1.15s\tremaining: 667ms\n",
      "634:\tlearn: 144.6613049\ttotal: 1.16s\tremaining: 665ms\n",
      "635:\tlearn: 144.6047642\ttotal: 1.16s\tremaining: 665ms\n",
      "636:\tlearn: 144.2638663\ttotal: 1.16s\tremaining: 663ms\n",
      "637:\tlearn: 144.1349667\ttotal: 1.17s\tremaining: 661ms\n",
      "638:\tlearn: 144.0631268\ttotal: 1.17s\tremaining: 659ms\n",
      "639:\tlearn: 143.8668930\ttotal: 1.17s\tremaining: 658ms\n",
      "640:\tlearn: 143.7499921\ttotal: 1.17s\tremaining: 657ms\n",
      "641:\tlearn: 143.5330801\ttotal: 1.18s\tremaining: 656ms\n",
      "642:\tlearn: 143.4662177\ttotal: 1.18s\tremaining: 654ms\n",
      "643:\tlearn: 143.3575546\ttotal: 1.18s\tremaining: 652ms\n",
      "644:\tlearn: 143.2771870\ttotal: 1.18s\tremaining: 650ms\n",
      "645:\tlearn: 143.1130901\ttotal: 1.18s\tremaining: 649ms\n",
      "646:\tlearn: 143.0069089\ttotal: 1.19s\tremaining: 647ms\n",
      "647:\tlearn: 142.9042124\ttotal: 1.19s\tremaining: 647ms\n",
      "648:\tlearn: 142.8618584\ttotal: 1.19s\tremaining: 645ms\n",
      "649:\tlearn: 142.6072313\ttotal: 1.19s\tremaining: 643ms\n",
      "650:\tlearn: 142.4502017\ttotal: 1.2s\tremaining: 641ms\n",
      "651:\tlearn: 142.4061712\ttotal: 1.2s\tremaining: 640ms\n",
      "652:\tlearn: 142.3077701\ttotal: 1.2s\tremaining: 638ms\n",
      "653:\tlearn: 142.2506207\ttotal: 1.2s\tremaining: 636ms\n",
      "654:\tlearn: 142.1513889\ttotal: 1.2s\tremaining: 635ms\n",
      "655:\tlearn: 142.0333111\ttotal: 1.21s\tremaining: 633ms\n",
      "656:\tlearn: 141.9388471\ttotal: 1.21s\tremaining: 631ms\n",
      "657:\tlearn: 141.8400771\ttotal: 1.21s\tremaining: 629ms\n",
      "658:\tlearn: 141.6273873\ttotal: 1.21s\tremaining: 627ms\n",
      "659:\tlearn: 141.3487050\ttotal: 1.21s\tremaining: 625ms\n",
      "660:\tlearn: 141.3139441\ttotal: 1.22s\tremaining: 623ms\n",
      "661:\tlearn: 141.2709916\ttotal: 1.22s\tremaining: 621ms\n",
      "662:\tlearn: 141.1732874\ttotal: 1.22s\tremaining: 620ms\n",
      "663:\tlearn: 141.0642901\ttotal: 1.22s\tremaining: 618ms\n",
      "664:\tlearn: 140.9475435\ttotal: 1.22s\tremaining: 616ms\n",
      "665:\tlearn: 140.8598935\ttotal: 1.23s\tremaining: 615ms\n",
      "666:\tlearn: 140.6198467\ttotal: 1.23s\tremaining: 614ms\n",
      "667:\tlearn: 140.5416295\ttotal: 1.23s\tremaining: 613ms\n",
      "668:\tlearn: 140.5133311\ttotal: 1.24s\tremaining: 611ms\n",
      "669:\tlearn: 140.4127779\ttotal: 1.24s\tremaining: 609ms\n",
      "670:\tlearn: 140.3530228\ttotal: 1.24s\tremaining: 607ms\n",
      "671:\tlearn: 140.2507146\ttotal: 1.24s\tremaining: 605ms\n",
      "672:\tlearn: 140.1395339\ttotal: 1.24s\tremaining: 603ms\n",
      "673:\tlearn: 140.0133461\ttotal: 1.24s\tremaining: 601ms\n",
      "674:\tlearn: 139.8542688\ttotal: 1.25s\tremaining: 600ms\n",
      "675:\tlearn: 139.6767437\ttotal: 1.25s\tremaining: 598ms\n",
      "676:\tlearn: 139.5808599\ttotal: 1.25s\tremaining: 596ms\n",
      "677:\tlearn: 139.5194524\ttotal: 1.25s\tremaining: 594ms\n",
      "678:\tlearn: 139.4894351\ttotal: 1.25s\tremaining: 592ms\n",
      "679:\tlearn: 139.3164405\ttotal: 1.25s\tremaining: 590ms\n",
      "680:\tlearn: 139.2728038\ttotal: 1.25s\tremaining: 588ms\n",
      "681:\tlearn: 139.1637063\ttotal: 1.25s\tremaining: 586ms\n",
      "682:\tlearn: 139.0784702\ttotal: 1.26s\tremaining: 584ms\n",
      "683:\tlearn: 139.0031621\ttotal: 1.26s\tremaining: 582ms\n",
      "684:\tlearn: 138.9647404\ttotal: 1.26s\tremaining: 580ms\n",
      "685:\tlearn: 138.9267071\ttotal: 1.26s\tremaining: 578ms\n",
      "686:\tlearn: 138.8104792\ttotal: 1.26s\tremaining: 576ms\n",
      "687:\tlearn: 138.6628100\ttotal: 1.26s\tremaining: 574ms\n",
      "688:\tlearn: 138.4218248\ttotal: 1.27s\tremaining: 572ms\n",
      "689:\tlearn: 138.3463083\ttotal: 1.27s\tremaining: 570ms\n",
      "690:\tlearn: 138.0802052\ttotal: 1.27s\tremaining: 568ms\n",
      "691:\tlearn: 137.9897093\ttotal: 1.27s\tremaining: 565ms\n",
      "692:\tlearn: 137.9444717\ttotal: 1.27s\tremaining: 564ms\n",
      "693:\tlearn: 137.8344518\ttotal: 1.27s\tremaining: 562ms\n",
      "694:\tlearn: 137.6832815\ttotal: 1.27s\tremaining: 560ms\n",
      "695:\tlearn: 137.6226095\ttotal: 1.28s\tremaining: 558ms\n",
      "696:\tlearn: 137.5696152\ttotal: 1.28s\tremaining: 556ms\n",
      "697:\tlearn: 137.3658574\ttotal: 1.28s\tremaining: 554ms\n",
      "698:\tlearn: 137.1796777\ttotal: 1.28s\tremaining: 551ms\n",
      "699:\tlearn: 136.9820386\ttotal: 1.28s\tremaining: 549ms\n",
      "700:\tlearn: 136.8993160\ttotal: 1.28s\tremaining: 547ms\n",
      "701:\tlearn: 136.7066006\ttotal: 1.28s\tremaining: 545ms\n",
      "702:\tlearn: 136.6208350\ttotal: 1.29s\tremaining: 543ms\n",
      "703:\tlearn: 136.4349039\ttotal: 1.29s\tremaining: 541ms\n",
      "704:\tlearn: 136.3375010\ttotal: 1.29s\tremaining: 539ms\n",
      "705:\tlearn: 136.2828949\ttotal: 1.29s\tremaining: 537ms\n",
      "706:\tlearn: 136.1726355\ttotal: 1.29s\tremaining: 535ms\n",
      "707:\tlearn: 136.0855594\ttotal: 1.29s\tremaining: 533ms\n",
      "708:\tlearn: 135.8486054\ttotal: 1.29s\tremaining: 531ms\n",
      "709:\tlearn: 135.8043185\ttotal: 1.29s\tremaining: 529ms\n",
      "710:\tlearn: 135.7189357\ttotal: 1.3s\tremaining: 527ms\n",
      "711:\tlearn: 135.5158594\ttotal: 1.3s\tremaining: 525ms\n",
      "712:\tlearn: 135.4349521\ttotal: 1.3s\tremaining: 523ms\n",
      "713:\tlearn: 135.3859120\ttotal: 1.3s\tremaining: 521ms\n",
      "714:\tlearn: 135.2938650\ttotal: 1.3s\tremaining: 519ms\n",
      "715:\tlearn: 135.0958246\ttotal: 1.3s\tremaining: 517ms\n",
      "716:\tlearn: 134.9225167\ttotal: 1.3s\tremaining: 515ms\n",
      "717:\tlearn: 134.7931959\ttotal: 1.31s\tremaining: 513ms\n",
      "718:\tlearn: 134.6040433\ttotal: 1.31s\tremaining: 511ms\n",
      "719:\tlearn: 134.4817600\ttotal: 1.31s\tremaining: 509ms\n",
      "720:\tlearn: 134.3777059\ttotal: 1.31s\tremaining: 507ms\n",
      "721:\tlearn: 134.2739026\ttotal: 1.31s\tremaining: 506ms\n",
      "722:\tlearn: 134.0229518\ttotal: 1.32s\tremaining: 505ms\n",
      "723:\tlearn: 133.7725762\ttotal: 1.32s\tremaining: 503ms\n",
      "724:\tlearn: 133.7327535\ttotal: 1.32s\tremaining: 501ms\n",
      "725:\tlearn: 133.6800606\ttotal: 1.32s\tremaining: 499ms\n",
      "726:\tlearn: 133.5795560\ttotal: 1.32s\tremaining: 497ms\n",
      "727:\tlearn: 133.4937402\ttotal: 1.32s\tremaining: 495ms\n",
      "728:\tlearn: 133.2495401\ttotal: 1.33s\tremaining: 493ms\n",
      "729:\tlearn: 133.1477926\ttotal: 1.33s\tremaining: 491ms\n",
      "730:\tlearn: 133.0976375\ttotal: 1.33s\tremaining: 490ms\n",
      "731:\tlearn: 132.9898394\ttotal: 1.33s\tremaining: 488ms\n",
      "732:\tlearn: 132.8976241\ttotal: 1.33s\tremaining: 486ms\n",
      "733:\tlearn: 132.6895527\ttotal: 1.33s\tremaining: 484ms\n",
      "734:\tlearn: 132.5009735\ttotal: 1.34s\tremaining: 482ms\n",
      "735:\tlearn: 132.4177498\ttotal: 1.34s\tremaining: 480ms\n",
      "736:\tlearn: 132.3347405\ttotal: 1.34s\tremaining: 478ms\n",
      "737:\tlearn: 132.1970340\ttotal: 1.34s\tremaining: 477ms\n",
      "738:\tlearn: 132.1273694\ttotal: 1.34s\tremaining: 475ms\n",
      "739:\tlearn: 132.0350392\ttotal: 1.35s\tremaining: 473ms\n",
      "740:\tlearn: 132.0006036\ttotal: 1.35s\tremaining: 471ms\n",
      "741:\tlearn: 131.8119636\ttotal: 1.35s\tremaining: 469ms\n",
      "742:\tlearn: 131.5522879\ttotal: 1.35s\tremaining: 467ms\n",
      "743:\tlearn: 131.4869133\ttotal: 1.35s\tremaining: 466ms\n",
      "744:\tlearn: 131.2153084\ttotal: 1.35s\tremaining: 464ms\n",
      "745:\tlearn: 130.9956827\ttotal: 1.36s\tremaining: 462ms\n",
      "746:\tlearn: 130.9402469\ttotal: 1.36s\tremaining: 460ms\n",
      "747:\tlearn: 130.8706260\ttotal: 1.36s\tremaining: 459ms\n",
      "748:\tlearn: 130.7778518\ttotal: 1.36s\tremaining: 457ms\n",
      "749:\tlearn: 130.6967718\ttotal: 1.36s\tremaining: 455ms\n",
      "750:\tlearn: 130.4563160\ttotal: 1.37s\tremaining: 453ms\n",
      "751:\tlearn: 130.4212110\ttotal: 1.37s\tremaining: 451ms\n",
      "752:\tlearn: 130.3416481\ttotal: 1.37s\tremaining: 449ms\n",
      "753:\tlearn: 130.1174900\ttotal: 1.37s\tremaining: 447ms\n",
      "754:\tlearn: 129.8753583\ttotal: 1.37s\tremaining: 445ms\n",
      "755:\tlearn: 129.7743416\ttotal: 1.38s\tremaining: 444ms\n",
      "756:\tlearn: 129.7067700\ttotal: 1.38s\tremaining: 442ms\n",
      "757:\tlearn: 129.6188797\ttotal: 1.38s\tremaining: 440ms\n",
      "758:\tlearn: 129.4584294\ttotal: 1.38s\tremaining: 438ms\n",
      "759:\tlearn: 129.3798251\ttotal: 1.38s\tremaining: 436ms\n",
      "760:\tlearn: 129.2001130\ttotal: 1.38s\tremaining: 435ms\n",
      "761:\tlearn: 129.1222692\ttotal: 1.39s\tremaining: 433ms\n",
      "762:\tlearn: 128.9416300\ttotal: 1.39s\tremaining: 431ms\n",
      "763:\tlearn: 128.8995891\ttotal: 1.39s\tremaining: 430ms\n",
      "764:\tlearn: 128.8055220\ttotal: 1.39s\tremaining: 428ms\n",
      "765:\tlearn: 128.7140207\ttotal: 1.39s\tremaining: 426ms\n",
      "766:\tlearn: 128.6729092\ttotal: 1.4s\tremaining: 424ms\n",
      "767:\tlearn: 128.6010256\ttotal: 1.4s\tremaining: 422ms\n",
      "768:\tlearn: 128.5057698\ttotal: 1.4s\tremaining: 420ms\n",
      "769:\tlearn: 128.4322048\ttotal: 1.4s\tremaining: 418ms\n",
      "770:\tlearn: 128.4010602\ttotal: 1.4s\tremaining: 416ms\n",
      "771:\tlearn: 128.2247318\ttotal: 1.4s\tremaining: 414ms\n",
      "772:\tlearn: 127.9823202\ttotal: 1.4s\tremaining: 412ms\n",
      "773:\tlearn: 127.7512014\ttotal: 1.41s\tremaining: 411ms\n",
      "774:\tlearn: 127.7185125\ttotal: 1.41s\tremaining: 409ms\n",
      "775:\tlearn: 127.6314476\ttotal: 1.41s\tremaining: 407ms\n",
      "776:\tlearn: 127.5983464\ttotal: 1.41s\tremaining: 405ms\n",
      "777:\tlearn: 127.5121868\ttotal: 1.41s\tremaining: 403ms\n",
      "778:\tlearn: 127.4298620\ttotal: 1.41s\tremaining: 401ms\n",
      "779:\tlearn: 127.3095826\ttotal: 1.41s\tremaining: 399ms\n",
      "780:\tlearn: 127.1294816\ttotal: 1.42s\tremaining: 397ms\n",
      "781:\tlearn: 126.9554923\ttotal: 1.42s\tremaining: 396ms\n",
      "782:\tlearn: 126.7343250\ttotal: 1.42s\tremaining: 394ms\n",
      "783:\tlearn: 126.6675571\ttotal: 1.42s\tremaining: 392ms\n",
      "784:\tlearn: 126.4417910\ttotal: 1.42s\tremaining: 390ms\n",
      "785:\tlearn: 126.3681273\ttotal: 1.43s\tremaining: 388ms\n",
      "786:\tlearn: 126.1440417\ttotal: 1.43s\tremaining: 386ms\n",
      "787:\tlearn: 125.9447057\ttotal: 1.43s\tremaining: 384ms\n",
      "788:\tlearn: 125.7610134\ttotal: 1.43s\tremaining: 383ms\n",
      "789:\tlearn: 125.5043507\ttotal: 1.43s\tremaining: 381ms\n",
      "790:\tlearn: 125.2911550\ttotal: 1.44s\tremaining: 379ms\n",
      "791:\tlearn: 125.0559396\ttotal: 1.44s\tremaining: 377ms\n",
      "792:\tlearn: 124.9885352\ttotal: 1.44s\tremaining: 376ms\n",
      "793:\tlearn: 124.7830990\ttotal: 1.44s\tremaining: 374ms\n",
      "794:\tlearn: 124.5786370\ttotal: 1.44s\tremaining: 372ms\n",
      "795:\tlearn: 124.3760126\ttotal: 1.44s\tremaining: 370ms\n",
      "796:\tlearn: 124.3088749\ttotal: 1.44s\tremaining: 368ms\n",
      "797:\tlearn: 124.2771958\ttotal: 1.45s\tremaining: 366ms\n",
      "798:\tlearn: 124.2012493\ttotal: 1.45s\tremaining: 364ms\n",
      "799:\tlearn: 123.9720381\ttotal: 1.45s\tremaining: 362ms\n",
      "800:\tlearn: 123.9341408\ttotal: 1.45s\tremaining: 360ms\n",
      "801:\tlearn: 123.8677926\ttotal: 1.45s\tremaining: 358ms\n",
      "802:\tlearn: 123.6701313\ttotal: 1.45s\tremaining: 356ms\n",
      "803:\tlearn: 123.4614736\ttotal: 1.45s\tremaining: 355ms\n",
      "804:\tlearn: 123.4143703\ttotal: 1.46s\tremaining: 353ms\n",
      "805:\tlearn: 123.3858412\ttotal: 1.46s\tremaining: 351ms\n",
      "806:\tlearn: 123.3256887\ttotal: 1.46s\tremaining: 349ms\n",
      "807:\tlearn: 123.2397807\ttotal: 1.46s\tremaining: 347ms\n",
      "808:\tlearn: 123.0680551\ttotal: 1.46s\tremaining: 345ms\n",
      "809:\tlearn: 122.8977831\ttotal: 1.46s\tremaining: 343ms\n",
      "810:\tlearn: 122.8759226\ttotal: 1.47s\tremaining: 342ms\n",
      "811:\tlearn: 122.6651017\ttotal: 1.47s\tremaining: 340ms\n",
      "812:\tlearn: 122.6339131\ttotal: 1.47s\tremaining: 338ms\n",
      "813:\tlearn: 122.5474305\ttotal: 1.47s\tremaining: 336ms\n",
      "814:\tlearn: 122.5169031\ttotal: 1.47s\tremaining: 334ms\n",
      "815:\tlearn: 122.4349041\ttotal: 1.47s\tremaining: 332ms\n",
      "816:\tlearn: 122.4049071\ttotal: 1.47s\tremaining: 330ms\n",
      "817:\tlearn: 122.3681059\ttotal: 1.48s\tremaining: 329ms\n",
      "818:\tlearn: 122.2155399\ttotal: 1.48s\tremaining: 327ms\n",
      "819:\tlearn: 122.1854375\ttotal: 1.48s\tremaining: 326ms\n",
      "820:\tlearn: 122.1412430\ttotal: 1.48s\tremaining: 324ms\n",
      "821:\tlearn: 122.1114264\ttotal: 1.49s\tremaining: 322ms\n",
      "822:\tlearn: 121.9192292\ttotal: 1.49s\tremaining: 320ms\n",
      "823:\tlearn: 121.8148731\ttotal: 1.49s\tremaining: 318ms\n",
      "824:\tlearn: 121.6163868\ttotal: 1.49s\tremaining: 316ms\n",
      "825:\tlearn: 121.5399790\ttotal: 1.49s\tremaining: 315ms\n",
      "826:\tlearn: 121.5126471\ttotal: 1.5s\tremaining: 313ms\n",
      "827:\tlearn: 121.4393488\ttotal: 1.5s\tremaining: 311ms\n",
      "828:\tlearn: 121.2786866\ttotal: 1.5s\tremaining: 309ms\n",
      "829:\tlearn: 121.2171380\ttotal: 1.5s\tremaining: 307ms\n",
      "830:\tlearn: 121.1877523\ttotal: 1.5s\tremaining: 305ms\n",
      "831:\tlearn: 120.9849263\ttotal: 1.5s\tremaining: 304ms\n",
      "832:\tlearn: 120.9558928\ttotal: 1.5s\tremaining: 302ms\n",
      "833:\tlearn: 120.9267723\ttotal: 1.51s\tremaining: 300ms\n",
      "834:\tlearn: 120.8322074\ttotal: 1.51s\tremaining: 298ms\n",
      "835:\tlearn: 120.6493440\ttotal: 1.51s\tremaining: 296ms\n",
      "836:\tlearn: 120.4504630\ttotal: 1.51s\tremaining: 294ms\n",
      "837:\tlearn: 120.3758428\ttotal: 1.51s\tremaining: 293ms\n",
      "838:\tlearn: 120.3452043\ttotal: 1.51s\tremaining: 291ms\n",
      "839:\tlearn: 120.3098646\ttotal: 1.52s\tremaining: 289ms\n",
      "840:\tlearn: 120.1515016\ttotal: 1.52s\tremaining: 287ms\n",
      "841:\tlearn: 120.0501585\ttotal: 1.52s\tremaining: 285ms\n",
      "842:\tlearn: 119.8679522\ttotal: 1.52s\tremaining: 284ms\n",
      "843:\tlearn: 119.6517652\ttotal: 1.52s\tremaining: 282ms\n",
      "844:\tlearn: 119.6255655\ttotal: 1.53s\tremaining: 280ms\n",
      "845:\tlearn: 119.4396070\ttotal: 1.53s\tremaining: 278ms\n",
      "846:\tlearn: 119.3780049\ttotal: 1.53s\tremaining: 276ms\n",
      "847:\tlearn: 119.3052859\ttotal: 1.53s\tremaining: 275ms\n",
      "848:\tlearn: 119.2307052\ttotal: 1.54s\tremaining: 273ms\n",
      "849:\tlearn: 119.0787566\ttotal: 1.54s\tremaining: 272ms\n",
      "850:\tlearn: 118.8934932\ttotal: 1.54s\tremaining: 270ms\n",
      "851:\tlearn: 118.8000679\ttotal: 1.54s\tremaining: 268ms\n",
      "852:\tlearn: 118.6082026\ttotal: 1.54s\tremaining: 266ms\n",
      "853:\tlearn: 118.4721270\ttotal: 1.55s\tremaining: 264ms\n",
      "854:\tlearn: 118.4461483\ttotal: 1.55s\tremaining: 263ms\n",
      "855:\tlearn: 118.2669872\ttotal: 1.55s\tremaining: 261ms\n",
      "856:\tlearn: 118.0830126\ttotal: 1.55s\tremaining: 259ms\n",
      "857:\tlearn: 118.0547633\ttotal: 1.55s\tremaining: 257ms\n",
      "858:\tlearn: 117.9794404\ttotal: 1.55s\tremaining: 255ms\n",
      "859:\tlearn: 117.9350904\ttotal: 1.56s\tremaining: 253ms\n",
      "860:\tlearn: 117.7610792\ttotal: 1.56s\tremaining: 252ms\n",
      "861:\tlearn: 117.6279392\ttotal: 1.56s\tremaining: 250ms\n",
      "862:\tlearn: 117.6000361\ttotal: 1.56s\tremaining: 248ms\n",
      "863:\tlearn: 117.4218675\ttotal: 1.56s\tremaining: 246ms\n",
      "864:\tlearn: 117.2003564\ttotal: 1.56s\tremaining: 244ms\n",
      "865:\tlearn: 117.1523195\ttotal: 1.57s\tremaining: 242ms\n",
      "866:\tlearn: 117.0520256\ttotal: 1.57s\tremaining: 241ms\n",
      "867:\tlearn: 116.9715446\ttotal: 1.57s\tremaining: 239ms\n",
      "868:\tlearn: 116.7929435\ttotal: 1.57s\tremaining: 237ms\n",
      "869:\tlearn: 116.6951233\ttotal: 1.57s\tremaining: 235ms\n",
      "870:\tlearn: 116.5205574\ttotal: 1.57s\tremaining: 233ms\n",
      "871:\tlearn: 116.3552376\ttotal: 1.58s\tremaining: 232ms\n",
      "872:\tlearn: 116.2843961\ttotal: 1.58s\tremaining: 230ms\n",
      "873:\tlearn: 116.1259560\ttotal: 1.58s\tremaining: 228ms\n",
      "874:\tlearn: 115.9525740\ttotal: 1.58s\tremaining: 226ms\n",
      "875:\tlearn: 115.8603628\ttotal: 1.58s\tremaining: 224ms\n",
      "876:\tlearn: 115.7012428\ttotal: 1.59s\tremaining: 223ms\n",
      "877:\tlearn: 115.6736163\ttotal: 1.59s\tremaining: 221ms\n",
      "878:\tlearn: 115.4961106\ttotal: 1.59s\tremaining: 219ms\n",
      "879:\tlearn: 115.4687649\ttotal: 1.59s\tremaining: 217ms\n",
      "880:\tlearn: 115.3027704\ttotal: 1.59s\tremaining: 215ms\n",
      "881:\tlearn: 115.1595109\ttotal: 1.59s\tremaining: 214ms\n",
      "882:\tlearn: 115.0162417\ttotal: 1.6s\tremaining: 212ms\n",
      "883:\tlearn: 114.9370590\ttotal: 1.6s\tremaining: 210ms\n",
      "884:\tlearn: 114.8446265\ttotal: 1.6s\tremaining: 208ms\n",
      "885:\tlearn: 114.7272979\ttotal: 1.6s\tremaining: 206ms\n",
      "886:\tlearn: 114.5638578\ttotal: 1.6s\tremaining: 204ms\n",
      "887:\tlearn: 114.4265248\ttotal: 1.6s\tremaining: 202ms\n",
      "888:\tlearn: 114.3577482\ttotal: 1.61s\tremaining: 201ms\n",
      "889:\tlearn: 114.3306385\ttotal: 1.61s\tremaining: 199ms\n",
      "890:\tlearn: 114.2722175\ttotal: 1.61s\tremaining: 197ms\n",
      "891:\tlearn: 114.1068487\ttotal: 1.61s\tremaining: 195ms\n",
      "892:\tlearn: 113.9772324\ttotal: 1.61s\tremaining: 193ms\n",
      "893:\tlearn: 113.9105379\ttotal: 1.61s\tremaining: 191ms\n",
      "894:\tlearn: 113.8218820\ttotal: 1.61s\tremaining: 189ms\n",
      "895:\tlearn: 113.6547740\ttotal: 1.61s\tremaining: 187ms\n",
      "896:\tlearn: 113.4897873\ttotal: 1.62s\tremaining: 186ms\n",
      "897:\tlearn: 113.4023208\ttotal: 1.62s\tremaining: 184ms\n",
      "898:\tlearn: 113.3005368\ttotal: 1.62s\tremaining: 182ms\n",
      "899:\tlearn: 113.1384176\ttotal: 1.62s\tremaining: 180ms\n",
      "900:\tlearn: 113.0594382\ttotal: 1.62s\tremaining: 178ms\n",
      "901:\tlearn: 112.8383592\ttotal: 1.63s\tremaining: 177ms\n",
      "902:\tlearn: 112.6842845\ttotal: 1.63s\tremaining: 175ms\n",
      "903:\tlearn: 112.5257404\ttotal: 1.63s\tremaining: 173ms\n",
      "904:\tlearn: 112.4567812\ttotal: 1.63s\tremaining: 171ms\n",
      "905:\tlearn: 112.3987031\ttotal: 1.63s\tremaining: 169ms\n",
      "906:\tlearn: 112.1958590\ttotal: 1.63s\tremaining: 167ms\n",
      "907:\tlearn: 112.1377516\ttotal: 1.64s\tremaining: 166ms\n",
      "908:\tlearn: 112.0773675\ttotal: 1.64s\tremaining: 164ms\n",
      "909:\tlearn: 112.0291231\ttotal: 1.64s\tremaining: 162ms\n",
      "910:\tlearn: 111.9522732\ttotal: 1.64s\tremaining: 160ms\n",
      "911:\tlearn: 111.8847213\ttotal: 1.64s\tremaining: 159ms\n",
      "912:\tlearn: 111.8205304\ttotal: 1.64s\tremaining: 157ms\n",
      "913:\tlearn: 111.6763178\ttotal: 1.65s\tremaining: 155ms\n",
      "914:\tlearn: 111.6214240\ttotal: 1.65s\tremaining: 153ms\n",
      "915:\tlearn: 111.4742047\ttotal: 1.65s\tremaining: 152ms\n",
      "916:\tlearn: 111.3322529\ttotal: 1.65s\tremaining: 150ms\n",
      "917:\tlearn: 111.1855666\ttotal: 1.66s\tremaining: 148ms\n",
      "918:\tlearn: 111.1074086\ttotal: 1.66s\tremaining: 146ms\n",
      "919:\tlearn: 111.0278663\ttotal: 1.66s\tremaining: 144ms\n",
      "920:\tlearn: 110.9731381\ttotal: 1.66s\tremaining: 143ms\n",
      "921:\tlearn: 110.8490489\ttotal: 1.66s\tremaining: 141ms\n",
      "922:\tlearn: 110.7935957\ttotal: 1.67s\tremaining: 139ms\n",
      "923:\tlearn: 110.7391837\ttotal: 1.67s\tremaining: 137ms\n",
      "924:\tlearn: 110.5905977\ttotal: 1.67s\tremaining: 135ms\n",
      "925:\tlearn: 110.4354451\ttotal: 1.67s\tremaining: 133ms\n",
      "926:\tlearn: 110.3773206\ttotal: 1.67s\tremaining: 132ms\n",
      "927:\tlearn: 110.2283845\ttotal: 1.67s\tremaining: 130ms\n",
      "928:\tlearn: 110.1864033\ttotal: 1.67s\tremaining: 128ms\n",
      "929:\tlearn: 110.0252347\ttotal: 1.68s\tremaining: 126ms\n",
      "930:\tlearn: 109.9034899\ttotal: 1.68s\tremaining: 124ms\n",
      "931:\tlearn: 109.8271970\ttotal: 1.68s\tremaining: 123ms\n",
      "932:\tlearn: 109.6781712\ttotal: 1.68s\tremaining: 121ms\n",
      "933:\tlearn: 109.5975069\ttotal: 1.68s\tremaining: 119ms\n",
      "934:\tlearn: 109.5131332\ttotal: 1.69s\tremaining: 117ms\n",
      "935:\tlearn: 109.3568973\ttotal: 1.69s\tremaining: 115ms\n",
      "936:\tlearn: 109.2198099\ttotal: 1.69s\tremaining: 114ms\n",
      "937:\tlearn: 109.0766088\ttotal: 1.69s\tremaining: 112ms\n",
      "938:\tlearn: 108.9506156\ttotal: 1.69s\tremaining: 110ms\n",
      "939:\tlearn: 108.9251555\ttotal: 1.69s\tremaining: 108ms\n",
      "940:\tlearn: 108.8683286\ttotal: 1.7s\tremaining: 106ms\n",
      "941:\tlearn: 108.8152598\ttotal: 1.7s\tremaining: 104ms\n",
      "942:\tlearn: 108.7529425\ttotal: 1.7s\tremaining: 103ms\n",
      "943:\tlearn: 108.6098137\ttotal: 1.7s\tremaining: 101ms\n",
      "944:\tlearn: 108.4694719\ttotal: 1.7s\tremaining: 99ms\n",
      "945:\tlearn: 108.4111705\ttotal: 1.7s\tremaining: 97.2ms\n",
      "946:\tlearn: 108.2853661\ttotal: 1.71s\tremaining: 95.4ms\n",
      "947:\tlearn: 108.1326060\ttotal: 1.71s\tremaining: 93.6ms\n",
      "948:\tlearn: 108.0889552\ttotal: 1.71s\tremaining: 91.8ms\n",
      "949:\tlearn: 108.0224889\ttotal: 1.71s\tremaining: 90ms\n",
      "950:\tlearn: 107.8391772\ttotal: 1.71s\tremaining: 88.2ms\n",
      "951:\tlearn: 107.7019929\ttotal: 1.71s\tremaining: 86.4ms\n",
      "952:\tlearn: 107.4903753\ttotal: 1.72s\tremaining: 84.6ms\n",
      "953:\tlearn: 107.4286208\ttotal: 1.72s\tremaining: 82.8ms\n",
      "954:\tlearn: 107.3128692\ttotal: 1.72s\tremaining: 81.1ms\n",
      "955:\tlearn: 107.1380838\ttotal: 1.72s\tremaining: 79.3ms\n",
      "956:\tlearn: 106.9596417\ttotal: 1.72s\tremaining: 77.5ms\n",
      "957:\tlearn: 106.9340832\ttotal: 1.73s\tremaining: 75.6ms\n",
      "958:\tlearn: 106.7936075\ttotal: 1.73s\tremaining: 73.8ms\n",
      "959:\tlearn: 106.7701474\ttotal: 1.73s\tremaining: 72ms\n",
      "960:\tlearn: 106.5835513\ttotal: 1.73s\tremaining: 70.2ms\n",
      "961:\tlearn: 106.4444741\ttotal: 1.73s\tremaining: 68.4ms\n",
      "962:\tlearn: 106.2941201\ttotal: 1.73s\tremaining: 66.6ms\n",
      "963:\tlearn: 106.1609123\ttotal: 1.73s\tremaining: 64.7ms\n",
      "964:\tlearn: 106.1102368\ttotal: 1.74s\tremaining: 63ms\n",
      "965:\tlearn: 106.0098963\ttotal: 1.74s\tremaining: 61.2ms\n",
      "966:\tlearn: 105.9866467\ttotal: 1.74s\tremaining: 59.4ms\n",
      "967:\tlearn: 105.9145913\ttotal: 1.74s\tremaining: 57.6ms\n",
      "968:\tlearn: 105.8919059\ttotal: 1.74s\tremaining: 55.8ms\n",
      "969:\tlearn: 105.8365655\ttotal: 1.74s\tremaining: 53.9ms\n",
      "970:\tlearn: 105.6951576\ttotal: 1.75s\tremaining: 52.1ms\n",
      "971:\tlearn: 105.5905004\ttotal: 1.75s\tremaining: 50.3ms\n",
      "972:\tlearn: 105.4546055\ttotal: 1.75s\tremaining: 48.5ms\n",
      "973:\tlearn: 105.4042039\ttotal: 1.75s\tremaining: 46.7ms\n",
      "974:\tlearn: 105.3546605\ttotal: 1.75s\tremaining: 44.9ms\n",
      "975:\tlearn: 105.1851767\ttotal: 1.75s\tremaining: 43.1ms\n",
      "976:\tlearn: 105.0110147\ttotal: 1.75s\tremaining: 41.3ms\n",
      "977:\tlearn: 104.8191252\ttotal: 1.75s\tremaining: 39.5ms\n",
      "978:\tlearn: 104.6887739\ttotal: 1.76s\tremaining: 37.7ms\n",
      "979:\tlearn: 104.5329279\ttotal: 1.76s\tremaining: 35.9ms\n",
      "980:\tlearn: 104.4645691\ttotal: 1.76s\tremaining: 34.1ms\n",
      "981:\tlearn: 104.2654009\ttotal: 1.76s\tremaining: 32.3ms\n",
      "982:\tlearn: 104.1951570\ttotal: 1.76s\tremaining: 30.5ms\n",
      "983:\tlearn: 104.1329374\ttotal: 1.76s\tremaining: 28.7ms\n",
      "984:\tlearn: 104.1010947\ttotal: 1.76s\tremaining: 26.9ms\n",
      "985:\tlearn: 104.0790747\ttotal: 1.77s\tremaining: 25.1ms\n",
      "986:\tlearn: 104.0067959\ttotal: 1.77s\tremaining: 23.3ms\n",
      "987:\tlearn: 103.8700748\ttotal: 1.77s\tremaining: 21.5ms\n",
      "988:\tlearn: 103.7271985\ttotal: 1.77s\tremaining: 19.7ms\n",
      "989:\tlearn: 103.6914857\ttotal: 1.77s\tremaining: 17.9ms\n",
      "990:\tlearn: 103.6404179\ttotal: 1.77s\tremaining: 16.1ms\n",
      "991:\tlearn: 103.4550367\ttotal: 1.77s\tremaining: 14.3ms\n",
      "992:\tlearn: 103.3324025\ttotal: 1.78s\tremaining: 12.5ms\n",
      "993:\tlearn: 103.3101337\ttotal: 1.78s\tremaining: 10.7ms\n",
      "994:\tlearn: 103.2729531\ttotal: 1.78s\tremaining: 8.94ms\n",
      "995:\tlearn: 103.2101059\ttotal: 1.78s\tremaining: 7.15ms\n",
      "996:\tlearn: 103.1470927\ttotal: 1.78s\tremaining: 5.36ms\n",
      "997:\tlearn: 102.9927254\ttotal: 1.78s\tremaining: 3.57ms\n",
      "998:\tlearn: 102.8995518\ttotal: 1.78s\tremaining: 1.79ms\n",
      "999:\tlearn: 102.8229481\ttotal: 1.79s\tremaining: 0us\n"
     ]
    }
   ],
   "source": [
    "catb_tuned = CatBoostRegressor(iterations = 1000,\n",
    "                              learning_rate = 0.01,\n",
    "                              depth = 5)\n",
    "\n",
    "catb_tuned = catb_tuned.fit(X_train, y_train)"
   ]
  },
  {
   "cell_type": "code",
   "execution_count": 67,
   "id": "0a1a6c50-bbbc-467b-86ae-0dc70f61e393",
   "metadata": {},
   "outputs": [
    {
     "data": {
      "text/plain": [
       "344.139653168496"
      ]
     },
     "execution_count": 67,
     "metadata": {},
     "output_type": "execute_result"
    }
   ],
   "source": [
    "y_pred = catb_tuned.predict(X_test)\n",
    "np.sqrt(mean_squared_error(y_test, y_pred))"
   ]
  },
  {
   "cell_type": "code",
   "execution_count": null,
   "id": "0a2d15a7-8aa0-4bf4-a2e3-cbb14841e630",
   "metadata": {},
   "outputs": [],
   "source": []
  }
 ],
 "metadata": {
  "kernelspec": {
   "display_name": "Python 3",
   "language": "python",
   "name": "python3"
  },
  "language_info": {
   "codemirror_mode": {
    "name": "ipython",
    "version": 3
   },
   "file_extension": ".py",
   "mimetype": "text/x-python",
   "name": "python",
   "nbconvert_exporter": "python",
   "pygments_lexer": "ipython3",
   "version": "3.8.8"
  }
 },
 "nbformat": 4,
 "nbformat_minor": 5
}
