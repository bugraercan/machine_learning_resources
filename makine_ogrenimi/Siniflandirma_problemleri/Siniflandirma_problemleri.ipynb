{
 "cells": [
  {
   "cell_type": "markdown",
   "id": "9b1eb0d0-c2bb-4418-a064-bf5da8c65f4d",
   "metadata": {},
   "source": [
    "## Sınıflandırma Problemleri"
   ]
  },
  {
   "cell_type": "code",
   "execution_count": 1,
   "id": "6194077e-998f-424f-a547-782910e4457a",
   "metadata": {},
   "outputs": [],
   "source": [
    "import numpy as np\n",
    "import pandas as pd\n",
    "import statsmodels.api as sm\n",
    "import statsmodels.formula.api as smf\n",
    "import seaborn as sns\n",
    "from sklearn.preprocessing import scale\n",
    "from sklearn.model_selection import train_test_split, GridSearchCV, cross_val_score, cross_val_predict\n",
    "from sklearn.metrics import confusion_matrix, accuracy_score, classification_report, log_loss\n",
    "from sklearn.metrics import roc_auc_score,roc_curve\n",
    "import statsmodels.formula.api as smf\n",
    "import matplotlib.pyplot as plt\n",
    "from sklearn.neighbors import KNeighborsClassifier\n",
    "from sklearn.discriminant_analysis import LinearDiscriminantAnalysis\n",
    "from sklearn.linear_model import LogisticRegression\n",
    "from sklearn.svm import SVC\n",
    "from sklearn.naive_bayes import GaussianNB\n",
    "from sklearn import tree\n",
    "from sklearn.ensemble import RandomForestClassifier\n",
    "from sklearn.ensemble import GradientBoostingClassifier\n",
    "from xgboost import XGBClassifier\n",
    "from lightgbm import LGBMClassifier\n",
    "from catboost import CatBoostClassifier\n",
    "from warnings import filterwarnings\n",
    "filterwarnings('ignore')"
   ]
  },
  {
   "cell_type": "markdown",
   "id": "141ccfe0-876a-4ca5-b5f5-7465ca4ef5ba",
   "metadata": {},
   "source": [
    "## Lojistik Regresyon"
   ]
  },
  {
   "cell_type": "markdown",
   "id": "e41cbcf4-2d7f-4121-b441-9dfce3134930",
   "metadata": {},
   "source": [
    "### Model"
   ]
  },
  {
   "cell_type": "code",
   "execution_count": 2,
   "id": "2d3879db-a848-4fa5-a4e1-7cef91748b8c",
   "metadata": {},
   "outputs": [
    {
     "data": {
      "text/html": [
       "<div>\n",
       "<style scoped>\n",
       "    .dataframe tbody tr th:only-of-type {\n",
       "        vertical-align: middle;\n",
       "    }\n",
       "\n",
       "    .dataframe tbody tr th {\n",
       "        vertical-align: top;\n",
       "    }\n",
       "\n",
       "    .dataframe thead th {\n",
       "        text-align: right;\n",
       "    }\n",
       "</style>\n",
       "<table border=\"1\" class=\"dataframe\">\n",
       "  <thead>\n",
       "    <tr style=\"text-align: right;\">\n",
       "      <th></th>\n",
       "      <th>Pregnancies</th>\n",
       "      <th>Glucose</th>\n",
       "      <th>BloodPressure</th>\n",
       "      <th>SkinThickness</th>\n",
       "      <th>Insulin</th>\n",
       "      <th>BMI</th>\n",
       "      <th>DiabetesPedigreeFunction</th>\n",
       "      <th>Age</th>\n",
       "      <th>Outcome</th>\n",
       "    </tr>\n",
       "  </thead>\n",
       "  <tbody>\n",
       "    <tr>\n",
       "      <th>0</th>\n",
       "      <td>6</td>\n",
       "      <td>148</td>\n",
       "      <td>72</td>\n",
       "      <td>35</td>\n",
       "      <td>0</td>\n",
       "      <td>33.6</td>\n",
       "      <td>0.627</td>\n",
       "      <td>50</td>\n",
       "      <td>1</td>\n",
       "    </tr>\n",
       "    <tr>\n",
       "      <th>1</th>\n",
       "      <td>1</td>\n",
       "      <td>85</td>\n",
       "      <td>66</td>\n",
       "      <td>29</td>\n",
       "      <td>0</td>\n",
       "      <td>26.6</td>\n",
       "      <td>0.351</td>\n",
       "      <td>31</td>\n",
       "      <td>0</td>\n",
       "    </tr>\n",
       "    <tr>\n",
       "      <th>2</th>\n",
       "      <td>8</td>\n",
       "      <td>183</td>\n",
       "      <td>64</td>\n",
       "      <td>0</td>\n",
       "      <td>0</td>\n",
       "      <td>23.3</td>\n",
       "      <td>0.672</td>\n",
       "      <td>32</td>\n",
       "      <td>1</td>\n",
       "    </tr>\n",
       "    <tr>\n",
       "      <th>3</th>\n",
       "      <td>1</td>\n",
       "      <td>89</td>\n",
       "      <td>66</td>\n",
       "      <td>23</td>\n",
       "      <td>94</td>\n",
       "      <td>28.1</td>\n",
       "      <td>0.167</td>\n",
       "      <td>21</td>\n",
       "      <td>0</td>\n",
       "    </tr>\n",
       "    <tr>\n",
       "      <th>4</th>\n",
       "      <td>0</td>\n",
       "      <td>137</td>\n",
       "      <td>40</td>\n",
       "      <td>35</td>\n",
       "      <td>168</td>\n",
       "      <td>43.1</td>\n",
       "      <td>2.288</td>\n",
       "      <td>33</td>\n",
       "      <td>1</td>\n",
       "    </tr>\n",
       "  </tbody>\n",
       "</table>\n",
       "</div>"
      ],
      "text/plain": [
       "   Pregnancies  Glucose  BloodPressure  SkinThickness  Insulin   BMI  \\\n",
       "0            6      148             72             35        0  33.6   \n",
       "1            1       85             66             29        0  26.6   \n",
       "2            8      183             64              0        0  23.3   \n",
       "3            1       89             66             23       94  28.1   \n",
       "4            0      137             40             35      168  43.1   \n",
       "\n",
       "   DiabetesPedigreeFunction  Age  Outcome  \n",
       "0                     0.627   50        1  \n",
       "1                     0.351   31        0  \n",
       "2                     0.672   32        1  \n",
       "3                     0.167   21        0  \n",
       "4                     2.288   33        1  "
      ]
     },
     "execution_count": 2,
     "metadata": {},
     "output_type": "execute_result"
    }
   ],
   "source": [
    "diabets = pd.read_csv('diabetes.csv')\n",
    "df = diabets.copy()\n",
    "df = df.dropna()\n",
    "df.head()"
   ]
  },
  {
   "cell_type": "code",
   "execution_count": 5,
   "id": "4dfcb57b-e0c8-438e-b1ea-edb941b8adb9",
   "metadata": {},
   "outputs": [
    {
     "name": "stdout",
     "output_type": "stream",
     "text": [
      "<class 'pandas.core.frame.DataFrame'>\n",
      "Int64Index: 768 entries, 0 to 767\n",
      "Data columns (total 9 columns):\n",
      " #   Column                    Non-Null Count  Dtype  \n",
      "---  ------                    --------------  -----  \n",
      " 0   Pregnancies               768 non-null    int64  \n",
      " 1   Glucose                   768 non-null    int64  \n",
      " 2   BloodPressure             768 non-null    int64  \n",
      " 3   SkinThickness             768 non-null    int64  \n",
      " 4   Insulin                   768 non-null    int64  \n",
      " 5   BMI                       768 non-null    float64\n",
      " 6   DiabetesPedigreeFunction  768 non-null    float64\n",
      " 7   Age                       768 non-null    int64  \n",
      " 8   Outcome                   768 non-null    int64  \n",
      "dtypes: float64(2), int64(7)\n",
      "memory usage: 60.0 KB\n"
     ]
    }
   ],
   "source": [
    "df.info()"
   ]
  },
  {
   "cell_type": "code",
   "execution_count": 6,
   "id": "563d3a6a-bec8-4f82-a684-d628ac5ff5d9",
   "metadata": {},
   "outputs": [
    {
     "data": {
      "text/plain": [
       "0    500\n",
       "1    268\n",
       "Name: Outcome, dtype: int64"
      ]
     },
     "execution_count": 6,
     "metadata": {},
     "output_type": "execute_result"
    }
   ],
   "source": [
    "df[\"Outcome\"].value_counts()"
   ]
  },
  {
   "cell_type": "code",
   "execution_count": 7,
   "id": "b098146a-acd8-4fdf-a35d-cad89a60843d",
   "metadata": {},
   "outputs": [
    {
     "data": {
      "image/png": "[encoded data removed]",
      "text/plain": [
       "<Figure size 432x288 with 1 Axes>"
      ]
     },
     "metadata": {
      "needs_background": "light"
     },
     "output_type": "display_data"
    }
   ],
   "source": [
    "df[\"Outcome\"].value_counts().plot.barh();"
   ]
  },
  {
   "cell_type": "code",
   "execution_count": 8,
   "id": "ea1b7d5b-4d07-44f1-90d2-f11b1ecd05e2",
   "metadata": {},
   "outputs": [
    {
     "data": {
      "text/html": [
       "<div>\n",
       "<style scoped>\n",
       "    .dataframe tbody tr th:only-of-type {\n",
       "        vertical-align: middle;\n",
       "    }\n",
       "\n",
       "    .dataframe tbody tr th {\n",
       "        vertical-align: top;\n",
       "    }\n",
       "\n",
       "    .dataframe thead th {\n",
       "        text-align: right;\n",
       "    }\n",
       "</style>\n",
       "<table border=\"1\" class=\"dataframe\">\n",
       "  <thead>\n",
       "    <tr style=\"text-align: right;\">\n",
       "      <th></th>\n",
       "      <th>count</th>\n",
       "      <th>mean</th>\n",
       "      <th>std</th>\n",
       "      <th>min</th>\n",
       "      <th>25%</th>\n",
       "      <th>50%</th>\n",
       "      <th>75%</th>\n",
       "      <th>max</th>\n",
       "    </tr>\n",
       "  </thead>\n",
       "  <tbody>\n",
       "    <tr>\n",
       "      <th>Pregnancies</th>\n",
       "      <td>768.0</td>\n",
       "      <td>3.845052</td>\n",
       "      <td>3.369578</td>\n",
       "      <td>0.000</td>\n",
       "      <td>1.00000</td>\n",
       "      <td>3.0000</td>\n",
       "      <td>6.00000</td>\n",
       "      <td>17.00</td>\n",
       "    </tr>\n",
       "    <tr>\n",
       "      <th>Glucose</th>\n",
       "      <td>768.0</td>\n",
       "      <td>120.894531</td>\n",
       "      <td>31.972618</td>\n",
       "      <td>0.000</td>\n",
       "      <td>99.00000</td>\n",
       "      <td>117.0000</td>\n",
       "      <td>140.25000</td>\n",
       "      <td>199.00</td>\n",
       "    </tr>\n",
       "    <tr>\n",
       "      <th>BloodPressure</th>\n",
       "      <td>768.0</td>\n",
       "      <td>69.105469</td>\n",
       "      <td>19.355807</td>\n",
       "      <td>0.000</td>\n",
       "      <td>62.00000</td>\n",
       "      <td>72.0000</td>\n",
       "      <td>80.00000</td>\n",
       "      <td>122.00</td>\n",
       "    </tr>\n",
       "    <tr>\n",
       "      <th>SkinThickness</th>\n",
       "      <td>768.0</td>\n",
       "      <td>20.536458</td>\n",
       "      <td>15.952218</td>\n",
       "      <td>0.000</td>\n",
       "      <td>0.00000</td>\n",
       "      <td>23.0000</td>\n",
       "      <td>32.00000</td>\n",
       "      <td>99.00</td>\n",
       "    </tr>\n",
       "    <tr>\n",
       "      <th>Insulin</th>\n",
       "      <td>768.0</td>\n",
       "      <td>79.799479</td>\n",
       "      <td>115.244002</td>\n",
       "      <td>0.000</td>\n",
       "      <td>0.00000</td>\n",
       "      <td>30.5000</td>\n",
       "      <td>127.25000</td>\n",
       "      <td>846.00</td>\n",
       "    </tr>\n",
       "    <tr>\n",
       "      <th>BMI</th>\n",
       "      <td>768.0</td>\n",
       "      <td>31.992578</td>\n",
       "      <td>7.884160</td>\n",
       "      <td>0.000</td>\n",
       "      <td>27.30000</td>\n",
       "      <td>32.0000</td>\n",
       "      <td>36.60000</td>\n",
       "      <td>67.10</td>\n",
       "    </tr>\n",
       "    <tr>\n",
       "      <th>DiabetesPedigreeFunction</th>\n",
       "      <td>768.0</td>\n",
       "      <td>0.471876</td>\n",
       "      <td>0.331329</td>\n",
       "      <td>0.078</td>\n",
       "      <td>0.24375</td>\n",
       "      <td>0.3725</td>\n",
       "      <td>0.62625</td>\n",
       "      <td>2.42</td>\n",
       "    </tr>\n",
       "    <tr>\n",
       "      <th>Age</th>\n",
       "      <td>768.0</td>\n",
       "      <td>33.240885</td>\n",
       "      <td>11.760232</td>\n",
       "      <td>21.000</td>\n",
       "      <td>24.00000</td>\n",
       "      <td>29.0000</td>\n",
       "      <td>41.00000</td>\n",
       "      <td>81.00</td>\n",
       "    </tr>\n",
       "    <tr>\n",
       "      <th>Outcome</th>\n",
       "      <td>768.0</td>\n",
       "      <td>0.348958</td>\n",
       "      <td>0.476951</td>\n",
       "      <td>0.000</td>\n",
       "      <td>0.00000</td>\n",
       "      <td>0.0000</td>\n",
       "      <td>1.00000</td>\n",
       "      <td>1.00</td>\n",
       "    </tr>\n",
       "  </tbody>\n",
       "</table>\n",
       "</div>"
      ],
      "text/plain": [
       "                          count        mean         std     min       25%  \\\n",
       "Pregnancies               768.0    3.845052    3.369578   0.000   1.00000   \n",
       "Glucose                   768.0  120.894531   31.972618   0.000  99.00000   \n",
       "BloodPressure             768.0   69.105469   19.355807   0.000  62.00000   \n",
       "SkinThickness             768.0   20.536458   15.952218   0.000   0.00000   \n",
       "Insulin                   768.0   79.799479  115.244002   0.000   0.00000   \n",
       "BMI                       768.0   31.992578    7.884160   0.000  27.30000   \n",
       "DiabetesPedigreeFunction  768.0    0.471876    0.331329   0.078   0.24375   \n",
       "Age                       768.0   33.240885   11.760232  21.000  24.00000   \n",
       "Outcome                   768.0    0.348958    0.476951   0.000   0.00000   \n",
       "\n",
       "                               50%        75%     max  \n",
       "Pregnancies                 3.0000    6.00000   17.00  \n",
       "Glucose                   117.0000  140.25000  199.00  \n",
       "BloodPressure              72.0000   80.00000  122.00  \n",
       "SkinThickness              23.0000   32.00000   99.00  \n",
       "Insulin                    30.5000  127.25000  846.00  \n",
       "BMI                        32.0000   36.60000   67.10  \n",
       "DiabetesPedigreeFunction    0.3725    0.62625    2.42  \n",
       "Age                        29.0000   41.00000   81.00  \n",
       "Outcome                     0.0000    1.00000    1.00  "
      ]
     },
     "execution_count": 8,
     "metadata": {},
     "output_type": "execute_result"
    }
   ],
   "source": [
    "df.describe().T"
   ]
  },
  {
   "cell_type": "code",
   "execution_count": 5,
   "id": "6f185e6a-f9dd-4ddc-ae2b-e056dfbd8688",
   "metadata": {},
   "outputs": [],
   "source": [
    "y = df[\"Outcome\"]\n",
    "X = df.drop([\"Outcome\"], axis=1)"
   ]
  },
  {
   "cell_type": "code",
   "execution_count": 6,
   "id": "76f32eb3-57da-4ca6-8398-ccc19c858f0c",
   "metadata": {},
   "outputs": [],
   "source": [
    "#statsmodels"
   ]
  },
  {
   "cell_type": "code",
   "execution_count": 7,
   "id": "e8c649b3-d098-4f86-83a2-e6bb79f2ae89",
   "metadata": {},
   "outputs": [
    {
     "name": "stdout",
     "output_type": "stream",
     "text": [
      "Optimization terminated successfully.\n",
      "         Current function value: 0.608498\n",
      "         Iterations 5\n"
     ]
    },
    {
     "data": {
      "text/html": [
       "<table class=\"simpletable\">\n",
       "<caption>Logit Regression Results</caption>\n",
       "<tr>\n",
       "  <th>Dep. Variable:</th>        <td>Outcome</td>     <th>  No. Observations:  </th>  <td>   768</td>  \n",
       "</tr>\n",
       "<tr>\n",
       "  <th>Model:</th>                 <td>Logit</td>      <th>  Df Residuals:      </th>  <td>   760</td>  \n",
       "</tr>\n",
       "<tr>\n",
       "  <th>Method:</th>                 <td>MLE</td>       <th>  Df Model:          </th>  <td>     7</td>  \n",
       "</tr>\n",
       "<tr>\n",
       "  <th>Date:</th>            <td>Tue, 29 Mar 2022</td> <th>  Pseudo R-squ.:     </th>  <td>0.05922</td> \n",
       "</tr>\n",
       "<tr>\n",
       "  <th>Time:</th>                <td>19:54:50</td>     <th>  Log-Likelihood:    </th> <td> -467.33</td> \n",
       "</tr>\n",
       "<tr>\n",
       "  <th>converged:</th>             <td>True</td>       <th>  LL-Null:           </th> <td> -496.74</td> \n",
       "</tr>\n",
       "<tr>\n",
       "  <th>Covariance Type:</th>     <td>nonrobust</td>    <th>  LLR p-value:       </th> <td>2.583e-10</td>\n",
       "</tr>\n",
       "</table>\n",
       "<table class=\"simpletable\">\n",
       "<tr>\n",
       "              <td></td>                <th>coef</th>     <th>std err</th>      <th>z</th>      <th>P>|z|</th>  <th>[0.025</th>    <th>0.975]</th>  \n",
       "</tr>\n",
       "<tr>\n",
       "  <th>Pregnancies</th>              <td>    0.1284</td> <td>    0.029</td> <td>    4.484</td> <td> 0.000</td> <td>    0.072</td> <td>    0.185</td>\n",
       "</tr>\n",
       "<tr>\n",
       "  <th>Glucose</th>                  <td>    0.0129</td> <td>    0.003</td> <td>    4.757</td> <td> 0.000</td> <td>    0.008</td> <td>    0.018</td>\n",
       "</tr>\n",
       "<tr>\n",
       "  <th>BloodPressure</th>            <td>   -0.0303</td> <td>    0.005</td> <td>   -6.481</td> <td> 0.000</td> <td>   -0.039</td> <td>   -0.021</td>\n",
       "</tr>\n",
       "<tr>\n",
       "  <th>SkinThickness</th>            <td>    0.0002</td> <td>    0.006</td> <td>    0.032</td> <td> 0.974</td> <td>   -0.012</td> <td>    0.012</td>\n",
       "</tr>\n",
       "<tr>\n",
       "  <th>Insulin</th>                  <td>    0.0007</td> <td>    0.001</td> <td>    0.942</td> <td> 0.346</td> <td>   -0.001</td> <td>    0.002</td>\n",
       "</tr>\n",
       "<tr>\n",
       "  <th>BMI</th>                      <td>   -0.0048</td> <td>    0.011</td> <td>   -0.449</td> <td> 0.653</td> <td>   -0.026</td> <td>    0.016</td>\n",
       "</tr>\n",
       "<tr>\n",
       "  <th>DiabetesPedigreeFunction</th> <td>    0.3203</td> <td>    0.240</td> <td>    1.335</td> <td> 0.182</td> <td>   -0.150</td> <td>    0.790</td>\n",
       "</tr>\n",
       "<tr>\n",
       "  <th>Age</th>                      <td>   -0.0156</td> <td>    0.008</td> <td>   -1.852</td> <td> 0.064</td> <td>   -0.032</td> <td>    0.001</td>\n",
       "</tr>\n",
       "</table>"
      ],
      "text/plain": [
       "<class 'statsmodels.iolib.summary.Summary'>\n",
       "\"\"\"\n",
       "                           Logit Regression Results                           \n",
       "==============================================================================\n",
       "Dep. Variable:                Outcome   No. Observations:                  768\n",
       "Model:                          Logit   Df Residuals:                      760\n",
       "Method:                           MLE   Df Model:                            7\n",
       "Date:                Tue, 29 Mar 2022   Pseudo R-squ.:                 0.05922\n",
       "Time:                        19:54:50   Log-Likelihood:                -467.33\n",
       "converged:                       True   LL-Null:                       -496.74\n",
       "Covariance Type:            nonrobust   LLR p-value:                 2.583e-10\n",
       "============================================================================================\n",
       "                               coef    std err          z      P>|z|      [0.025      0.975]\n",
       "--------------------------------------------------------------------------------------------\n",
       "Pregnancies                  0.1284      0.029      4.484      0.000       0.072       0.185\n",
       "Glucose                      0.0129      0.003      4.757      0.000       0.008       0.018\n",
       "BloodPressure               -0.0303      0.005     -6.481      0.000      -0.039      -0.021\n",
       "SkinThickness                0.0002      0.006      0.032      0.974      -0.012       0.012\n",
       "Insulin                      0.0007      0.001      0.942      0.346      -0.001       0.002\n",
       "BMI                         -0.0048      0.011     -0.449      0.653      -0.026       0.016\n",
       "DiabetesPedigreeFunction     0.3203      0.240      1.335      0.182      -0.150       0.790\n",
       "Age                         -0.0156      0.008     -1.852      0.064      -0.032       0.001\n",
       "============================================================================================\n",
       "\"\"\""
      ]
     },
     "execution_count": 7,
     "metadata": {},
     "output_type": "execute_result"
    }
   ],
   "source": [
    "loj = sm.Logit(y, X)\n",
    "loj_model = loj.fit()\n",
    "loj_model.summary()"
   ]
  },
  {
   "cell_type": "code",
   "execution_count": 8,
   "id": "aee8195e-8bfc-47b3-97c6-9d126f19c428",
   "metadata": {},
   "outputs": [],
   "source": [
    "#scit-learn"
   ]
  },
  {
   "cell_type": "code",
   "execution_count": 9,
   "id": "220acea8-45b3-43cc-bf3b-55f12e4352d7",
   "metadata": {},
   "outputs": [
    {
     "data": {
      "text/plain": [
       "LogisticRegression(solver='liblinear')"
      ]
     },
     "execution_count": 9,
     "metadata": {},
     "output_type": "execute_result"
    }
   ],
   "source": [
    "from sklearn.linear_model import LogisticRegression\n",
    "loj = LogisticRegression(solver = \"liblinear\")\n",
    "loj_model = loj.fit(X, y)\n",
    "loj_model"
   ]
  },
  {
   "cell_type": "code",
   "execution_count": 8,
   "id": "49208d74-464f-4089-ad79-61c8c0545920",
   "metadata": {},
   "outputs": [
    {
     "data": {
      "text/plain": [
       "array([-5.88679617])"
      ]
     },
     "execution_count": 8,
     "metadata": {},
     "output_type": "execute_result"
    }
   ],
   "source": [
    "loj_model.intercept_ #sabit değeri almış olduk"
   ]
  },
  {
   "cell_type": "code",
   "execution_count": 15,
   "id": "2b53f0fa-f97d-4244-b66d-625f7db20612",
   "metadata": {},
   "outputs": [
    {
     "data": {
      "text/plain": [
       "array([[ 1.16994476e-01,  2.83733435e-02, -1.68981359e-02,\n",
       "         7.55145090e-04, -6.41407258e-04,  5.97201268e-02,\n",
       "         6.76128123e-01,  7.23498971e-03]])"
      ]
     },
     "execution_count": 15,
     "metadata": {},
     "output_type": "execute_result"
    }
   ],
   "source": [
    "loj_model.coef_ #bütün bağımsız değişkenlerin kat sayı değerlerini alma işlemi"
   ]
  },
  {
   "cell_type": "markdown",
   "id": "66816454-c236-43e6-9a85-011a5a656cd5",
   "metadata": {},
   "source": [
    "### Tahmin & Model Tuning"
   ]
  },
  {
   "cell_type": "code",
   "execution_count": 16,
   "id": "3efec1d8-057d-4461-b68e-fa6240fa2e6c",
   "metadata": {},
   "outputs": [],
   "source": [
    "#lojistik regresyonun diğer algoritmalar gibi model hipermetresi yok\n",
    "#burda optimize edilebilecek bir parametere olarak değerlendirilecek tek parametre sabit.\n",
    "# burda model tuning değil doğrulama işlemi yapacağız"
   ]
  },
  {
   "cell_type": "code",
   "execution_count": 17,
   "id": "df0160f9-9df7-4ab9-8fd0-32dedbb4a5e8",
   "metadata": {
    "tags": []
   },
   "outputs": [],
   "source": [
    "y_pred = loj_model.predict(X)"
   ]
  },
  {
   "cell_type": "code",
   "execution_count": 18,
   "id": "dd9f45f2-f3b6-4ffa-8d20-c2107870c380",
   "metadata": {},
   "outputs": [
    {
     "data": {
      "text/plain": [
       "array([[448,  52],\n",
       "       [121, 147]], dtype=int64)"
      ]
     },
     "execution_count": 18,
     "metadata": {},
     "output_type": "execute_result"
    }
   ],
   "source": [
    "confusion_matrix(y, y_pred)"
   ]
  },
  {
   "cell_type": "code",
   "execution_count": 19,
   "id": "d493df22-1a12-4c62-bb6f-edebd70c65d9",
   "metadata": {},
   "outputs": [
    {
     "data": {
      "text/plain": [
       "0.7747395833333334"
      ]
     },
     "execution_count": 19,
     "metadata": {},
     "output_type": "execute_result"
    }
   ],
   "source": [
    "accuracy_score(y, y_pred)"
   ]
  },
  {
   "cell_type": "code",
   "execution_count": 20,
   "id": "75b7ca43-19e8-4c02-80e6-656813d13bd2",
   "metadata": {},
   "outputs": [
    {
     "name": "stdout",
     "output_type": "stream",
     "text": [
      "              precision    recall  f1-score   support\n",
      "\n",
      "           0       0.79      0.90      0.84       500\n",
      "           1       0.74      0.55      0.63       268\n",
      "\n",
      "    accuracy                           0.77       768\n",
      "   macro avg       0.76      0.72      0.73       768\n",
      "weighted avg       0.77      0.77      0.77       768\n",
      "\n"
     ]
    }
   ],
   "source": [
    "print(classification_report(y, y_pred))"
   ]
  },
  {
   "cell_type": "code",
   "execution_count": 21,
   "id": "1b74fae5-d349-4ab2-9856-92469ee57f16",
   "metadata": {},
   "outputs": [
    {
     "data": {
      "text/plain": [
       "array([1, 0, 1, 0, 1, 0, 0, 1, 1, 0], dtype=int64)"
      ]
     },
     "execution_count": 21,
     "metadata": {},
     "output_type": "execute_result"
    }
   ],
   "source": [
    "loj_model.predict(X)[0:10]"
   ]
  },
  {
   "cell_type": "code",
   "execution_count": 22,
   "id": "3c6eaca2-2d37-4300-bebb-08910cdc0ea6",
   "metadata": {},
   "outputs": [
    {
     "data": {
      "text/plain": [
       "array([[0.3505852 , 0.6494148 ],\n",
       "       [0.91692518, 0.08307482],\n",
       "       [0.22489628, 0.77510372],\n",
       "       [0.92127453, 0.07872547],\n",
       "       [0.16759435, 0.83240565],\n",
       "       [0.79886109, 0.20113891],\n",
       "       [0.8800353 , 0.1199647 ],\n",
       "       [0.27795677, 0.72204323],\n",
       "       [0.32053464, 0.67946536],\n",
       "       [0.92264521, 0.07735479]])"
      ]
     },
     "execution_count": 22,
     "metadata": {},
     "output_type": "execute_result"
    }
   ],
   "source": [
    "loj_model.predict_proba(X)[0:10][:,0:2]  #olasılık üreten fonksiyon"
   ]
  },
  {
   "cell_type": "code",
   "execution_count": 23,
   "id": "91628c7f-9182-4c9f-b8d4-676b3df7e8ac",
   "metadata": {},
   "outputs": [
    {
     "data": {
      "text/plain": [
       "0    1\n",
       "1    0\n",
       "2    1\n",
       "3    0\n",
       "4    1\n",
       "5    0\n",
       "6    1\n",
       "7    0\n",
       "8    1\n",
       "9    1\n",
       "Name: Outcome, dtype: int64"
      ]
     },
     "execution_count": 23,
     "metadata": {},
     "output_type": "execute_result"
    }
   ],
   "source": [
    "y[0:10]"
   ]
  },
  {
   "cell_type": "code",
   "execution_count": 24,
   "id": "2c5a73bf-ec1c-44d2-931c-0aa61c2505f5",
   "metadata": {},
   "outputs": [],
   "source": [
    "y_probs = loj_model.predict_proba(X)\n",
    "y_probs = y_probs[:, 1]"
   ]
  },
  {
   "cell_type": "code",
   "execution_count": 25,
   "id": "3292bff7-f026-42a9-8e9c-8fc52c7e546e",
   "metadata": {},
   "outputs": [
    {
     "data": {
      "text/plain": [
       "array([0.6494148 , 0.08307482, 0.77510372, 0.07872547, 0.83240565,\n",
       "       0.20113891, 0.1199647 , 0.72204323, 0.67946536, 0.07735479])"
      ]
     },
     "execution_count": 25,
     "metadata": {},
     "output_type": "execute_result"
    }
   ],
   "source": [
    "y_probs[0:10]"
   ]
  },
  {
   "cell_type": "code",
   "execution_count": 26,
   "id": "6f404679-dcae-485a-b037-ef83bf300ad8",
   "metadata": {},
   "outputs": [],
   "source": [
    "y_pred = [1 if i > 0.5 else 0 for i in y_probs]"
   ]
  },
  {
   "cell_type": "code",
   "execution_count": 27,
   "id": "ba21ccb8-d7d8-4294-a0a3-098bd13f8f7f",
   "metadata": {},
   "outputs": [
    {
     "data": {
      "text/plain": [
       "[1, 0, 1, 0, 1, 0, 0, 1, 1, 0]"
      ]
     },
     "execution_count": 27,
     "metadata": {},
     "output_type": "execute_result"
    }
   ],
   "source": [
    "y_pred[0:10]"
   ]
  },
  {
   "cell_type": "code",
   "execution_count": 28,
   "id": "17ee82bd-80af-4195-b48f-92aff3dbe7ee",
   "metadata": {},
   "outputs": [
    {
     "data": {
      "text/plain": [
       "array([[448,  52],\n",
       "       [121, 147]], dtype=int64)"
      ]
     },
     "execution_count": 28,
     "metadata": {},
     "output_type": "execute_result"
    }
   ],
   "source": [
    "confusion_matrix(y, y_pred)"
   ]
  },
  {
   "cell_type": "code",
   "execution_count": 29,
   "id": "03950f6b-e276-4b48-a3dd-0297145a4bb9",
   "metadata": {},
   "outputs": [
    {
     "data": {
      "text/plain": [
       "0.7747395833333334"
      ]
     },
     "execution_count": 29,
     "metadata": {},
     "output_type": "execute_result"
    }
   ],
   "source": [
    "accuracy_score(y, y_pred)"
   ]
  },
  {
   "cell_type": "code",
   "execution_count": 30,
   "id": "85722449-caed-4d2b-85b0-aa7bd4555b9e",
   "metadata": {},
   "outputs": [
    {
     "name": "stdout",
     "output_type": "stream",
     "text": [
      "              precision    recall  f1-score   support\n",
      "\n",
      "           0       0.79      0.90      0.84       500\n",
      "           1       0.74      0.55      0.63       268\n",
      "\n",
      "    accuracy                           0.77       768\n",
      "   macro avg       0.76      0.72      0.73       768\n",
      "weighted avg       0.77      0.77      0.77       768\n",
      "\n"
     ]
    }
   ],
   "source": [
    "print(classification_report(y, y_pred))"
   ]
  },
  {
   "cell_type": "code",
   "execution_count": 31,
   "id": "e0e3937e-09e5-4268-a973-3b7701a43de1",
   "metadata": {},
   "outputs": [
    {
     "data": {
      "text/plain": [
       "array([0.6494148 , 0.08307482, 0.77510372, 0.07872547, 0.83240565])"
      ]
     },
     "execution_count": 31,
     "metadata": {},
     "output_type": "execute_result"
    }
   ],
   "source": [
    "loj_model.predict_proba(X)[:,1][0:5]"
   ]
  },
  {
   "cell_type": "code",
   "execution_count": 32,
   "id": "1ce57e63-d6c1-440b-a64f-0e7695e039f0",
   "metadata": {
    "tags": []
   },
   "outputs": [
    {
     "data": {
      "image/png": "[encoded data removed]",
      "text/plain": [
       "<Figure size 432x288 with 1 Axes>"
      ]
     },
     "metadata": {
      "needs_background": "light"
     },
     "output_type": "display_data"
    }
   ],
   "source": [
    "logit_roc_auc = roc_auc_score(y, loj_model.predict(X))\n",
    "\n",
    "fpr, tpr, thresholds = roc_curve(y, loj_model.predict_proba(X)[:,1])\n",
    "plt.figure()\n",
    "plt.plot(fpr, tpr, label='AUC (area = %0.2f)' % logit_roc_auc)\n",
    "plt.plot([0, 1], [0, 1], 'r--')\n",
    "plt.xlim([0.0, 1.0])\n",
    "plt.ylim([0.0, 1.05])\n",
    "plt.xlabel('False Positive Oranı')\n",
    "plt.ylabel('True Positive Oranı')\n",
    "plt.title('ROC')\n",
    "plt.show()"
   ]
  },
  {
   "cell_type": "code",
   "execution_count": 33,
   "id": "c35496ca-e921-4a21-88bb-8a0252c9406f",
   "metadata": {},
   "outputs": [],
   "source": [
    "X_train, X_test, y_train, y_test = train_test_split(X, y,\n",
    "                                                   test_size = 0.30,\n",
    "                                                   random_state = 42)\n"
   ]
  },
  {
   "cell_type": "code",
   "execution_count": 34,
   "id": "8873b970-0aec-4c6b-a14b-3cf1d3d1e596",
   "metadata": {},
   "outputs": [
    {
     "data": {
      "text/plain": [
       "LogisticRegression(solver='liblinear')"
      ]
     },
     "execution_count": 34,
     "metadata": {},
     "output_type": "execute_result"
    }
   ],
   "source": [
    "loj = LogisticRegression(solver = \"liblinear\")\n",
    "loj_model = loj.fit(X_train, y_train)\n",
    "loj_model"
   ]
  },
  {
   "cell_type": "code",
   "execution_count": 35,
   "id": "d11d58e1-f747-45c6-a373-7b7e9e7014de",
   "metadata": {},
   "outputs": [
    {
     "data": {
      "text/plain": [
       "0.7532467532467533"
      ]
     },
     "execution_count": 35,
     "metadata": {},
     "output_type": "execute_result"
    }
   ],
   "source": [
    "accuracy_score(y_test, loj_model.predict(X_test))"
   ]
  },
  {
   "cell_type": "code",
   "execution_count": 36,
   "id": "380864dd-49cf-4c4e-bbad-f07f606d0118",
   "metadata": {},
   "outputs": [
    {
     "data": {
      "text/plain": [
       "0.7704710144927536"
      ]
     },
     "execution_count": 36,
     "metadata": {},
     "output_type": "execute_result"
    }
   ],
   "source": [
    "cross_val_score(loj_model, X_test, y_test, cv=10).mean()"
   ]
  },
  {
   "cell_type": "markdown",
   "id": "ab746dfd-e13b-45ea-8150-77964d69ddae",
   "metadata": {},
   "source": [
    "## Gaussian Naive Bayes"
   ]
  },
  {
   "cell_type": "code",
   "execution_count": 10,
   "id": "ccf566cd-7858-4c54-8b89-9e4712a33944",
   "metadata": {},
   "outputs": [],
   "source": [
    "df = diabets.copy()\n",
    "df = df.dropna()\n",
    "y = df[\"Outcome\"]\n",
    "X = df.drop(['Outcome'], axis=1 )\n",
    "X_train, X_test, y_train, y_test = train_test_split(X, y,\n",
    "                                                   test_size = 0.30,\n",
    "                                                   random_state = 42)\n"
   ]
  },
  {
   "cell_type": "code",
   "execution_count": 11,
   "id": "40601186-bc39-420f-856a-3fddffc6189a",
   "metadata": {},
   "outputs": [],
   "source": [
    "from sklearn.naive_bayes import GaussianNB"
   ]
  },
  {
   "cell_type": "code",
   "execution_count": 39,
   "id": "0efcf85e-28a6-4109-9e81-17eb4646eeb2",
   "metadata": {},
   "outputs": [
    {
     "data": {
      "text/plain": [
       "GaussianNB()"
      ]
     },
     "execution_count": 39,
     "metadata": {},
     "output_type": "execute_result"
    }
   ],
   "source": [
    "nb = GaussianNB()\n",
    "nb_model = nb.fit(X_train, y_train)\n",
    "nb_model\n"
   ]
  },
  {
   "cell_type": "code",
   "execution_count": 40,
   "id": "5aa4719f-cbf1-482c-8eb0-b8681792370e",
   "metadata": {},
   "outputs": [
    {
     "data": {
      "text/plain": [
       "array([0, 0, 0, 0, 1, 1, 0, 0, 0, 1], dtype=int64)"
      ]
     },
     "execution_count": 40,
     "metadata": {},
     "output_type": "execute_result"
    }
   ],
   "source": [
    "nb_model.predict(X_test)[0:10]"
   ]
  },
  {
   "cell_type": "code",
   "execution_count": 41,
   "id": "a9a8a35f-3768-4915-b924-8b149a15a54d",
   "metadata": {},
   "outputs": [
    {
     "data": {
      "text/plain": [
       "array([[0.73815858, 0.26184142],\n",
       "       [0.94027894, 0.05972106],\n",
       "       [0.97242831, 0.02757169],\n",
       "       [0.82840069, 0.17159931],\n",
       "       [0.47153473, 0.52846527],\n",
       "       [0.47274458, 0.52725542],\n",
       "       [0.99607705, 0.00392295],\n",
       "       [0.69925055, 0.30074945],\n",
       "       [0.53838117, 0.46161883],\n",
       "       [0.25004536, 0.74995464]])"
      ]
     },
     "execution_count": 41,
     "metadata": {},
     "output_type": "execute_result"
    }
   ],
   "source": [
    "nb_model.predict_proba(X_test)[0:10]"
   ]
  },
  {
   "cell_type": "code",
   "execution_count": 42,
   "id": "25767ce6-002c-49e4-bedc-e7866a96e2f1",
   "metadata": {},
   "outputs": [],
   "source": [
    "y_pred = nb_model.predict(X_test)"
   ]
  },
  {
   "cell_type": "code",
   "execution_count": 43,
   "id": "4ad84769-4346-483d-86d9-633a26e250f8",
   "metadata": {},
   "outputs": [
    {
     "data": {
      "text/plain": [
       "0.7445887445887446"
      ]
     },
     "execution_count": 43,
     "metadata": {},
     "output_type": "execute_result"
    }
   ],
   "source": [
    "accuracy_score(y_test, y_pred) #test hatamızı oluşturmuş olduk"
   ]
  },
  {
   "cell_type": "code",
   "execution_count": 44,
   "id": "18e631da-2f5a-4556-8efe-c7c41e95ce4e",
   "metadata": {},
   "outputs": [],
   "source": [
    "#bu test hatamızın doğrulanmışını elde etmek istersek"
   ]
  },
  {
   "cell_type": "code",
   "execution_count": 45,
   "id": "3e71b04b-f95e-4f2d-9205-0a28506a2d9d",
   "metadata": {},
   "outputs": [
    {
     "data": {
      "text/plain": [
       "0.775"
      ]
     },
     "execution_count": 45,
     "metadata": {},
     "output_type": "execute_result"
    }
   ],
   "source": [
    "cross_val_score(nb_model, X_test, y_test, cv=10).mean()"
   ]
  },
  {
   "cell_type": "markdown",
   "id": "fb33a874-ae27-488a-9cb3-5bcdad9e7d33",
   "metadata": {},
   "source": [
    "## KNN"
   ]
  },
  {
   "cell_type": "markdown",
   "id": "a7f469ca-9581-44e6-a6df-afcf339ff1de",
   "metadata": {},
   "source": [
    "### Model & Tahmin"
   ]
  },
  {
   "cell_type": "code",
   "execution_count": 46,
   "id": "04bc96c0-8ab1-4856-b1d5-c6a99fe44572",
   "metadata": {},
   "outputs": [],
   "source": [
    "df = diabets.copy()\n",
    "df = df.dropna()\n",
    "y = df[\"Outcome\"]\n",
    "X = df.drop(['Outcome'], axis=1 )\n",
    "X_train, X_test, y_train, y_test = train_test_split(X, y,\n",
    "                                                   test_size = 0.30,\n",
    "                                                   random_state = 42)\n"
   ]
  },
  {
   "cell_type": "code",
   "execution_count": 47,
   "id": "14d98fcf-a6ae-463b-915a-125b2e704a1e",
   "metadata": {},
   "outputs": [
    {
     "data": {
      "text/plain": [
       "KNeighborsClassifier()"
      ]
     },
     "execution_count": 47,
     "metadata": {},
     "output_type": "execute_result"
    }
   ],
   "source": [
    "knn = KNeighborsClassifier()\n",
    "knn_model = knn.fit(X_train, y_train)\n",
    "knn_model"
   ]
  },
  {
   "cell_type": "code",
   "execution_count": 48,
   "id": "d67b5ed9-4326-4948-a906-539cb88827d2",
   "metadata": {},
   "outputs": [],
   "source": [
    "y_pred = knn_model.predict(X_test)"
   ]
  },
  {
   "cell_type": "code",
   "execution_count": 49,
   "id": "1da5f98c-6055-4d7e-9f22-922b0c1b1edc",
   "metadata": {},
   "outputs": [
    {
     "data": {
      "text/plain": [
       "0.6883116883116883"
      ]
     },
     "execution_count": 49,
     "metadata": {},
     "output_type": "execute_result"
    }
   ],
   "source": [
    "accuracy_score(y_test, y_pred) #bu bizim ilkel skorumuz"
   ]
  },
  {
   "cell_type": "code",
   "execution_count": 50,
   "id": "e7b2bf23-70c6-4308-a4df-345e9927e98d",
   "metadata": {},
   "outputs": [
    {
     "name": "stdout",
     "output_type": "stream",
     "text": [
      "              precision    recall  f1-score   support\n",
      "\n",
      "           0       0.77      0.75      0.76       151\n",
      "           1       0.55      0.56      0.56        80\n",
      "\n",
      "    accuracy                           0.69       231\n",
      "   macro avg       0.66      0.66      0.66       231\n",
      "weighted avg       0.69      0.69      0.69       231\n",
      "\n"
     ]
    }
   ],
   "source": [
    "print(classification_report(y_test, y_pred))"
   ]
  },
  {
   "cell_type": "markdown",
   "id": "3a9b161d-00a0-40ba-a7c3-4c1cd8f61598",
   "metadata": {},
   "source": [
    "### Model Tuning"
   ]
  },
  {
   "cell_type": "code",
   "execution_count": 51,
   "id": "9db1d34d-492a-4972-856a-1acbc84bfed7",
   "metadata": {},
   "outputs": [],
   "source": [
    "knn_params = {\"n_neighbors\": np.arange(1,50)}"
   ]
  },
  {
   "cell_type": "code",
   "execution_count": 52,
   "id": "1e90e92a-bb85-4a49-8c3a-7369b0080d37",
   "metadata": {},
   "outputs": [
    {
     "data": {
      "text/plain": [
       "GridSearchCV(cv=10, estimator=KNeighborsClassifier(),\n",
       "             param_grid={'n_neighbors': array([ 1,  2,  3,  4,  5,  6,  7,  8,  9, 10, 11, 12, 13, 14, 15, 16, 17,\n",
       "       18, 19, 20, 21, 22, 23, 24, 25, 26, 27, 28, 29, 30, 31, 32, 33, 34,\n",
       "       35, 36, 37, 38, 39, 40, 41, 42, 43, 44, 45, 46, 47, 48, 49])})"
      ]
     },
     "execution_count": 52,
     "metadata": {},
     "output_type": "execute_result"
    }
   ],
   "source": [
    "knn = KNeighborsClassifier()\n",
    "knn_cv = GridSearchCV(knn, knn_params, cv=10)\n",
    "knn_cv.fit(X_train, y_train)"
   ]
  },
  {
   "cell_type": "code",
   "execution_count": 53,
   "id": "07c49aa2-adb1-4b1f-b2e9-99050f709fb6",
   "metadata": {},
   "outputs": [
    {
     "name": "stdout",
     "output_type": "stream",
     "text": [
      "En iyi skor:0.748637316561845\n",
      "En iyi parametreler:{'n_neighbors': 11}\n"
     ]
    }
   ],
   "source": [
    "print(\"En iyi skor:\" + str(knn_cv.best_score_))\n",
    "print(\"En iyi parametreler:\" + str(knn_cv.best_params_))"
   ]
  },
  {
   "cell_type": "code",
   "execution_count": 54,
   "id": "94f2a8a6-74dc-473e-a309-9cd4161435fc",
   "metadata": {},
   "outputs": [],
   "source": [
    "knn = KNeighborsClassifier(11)\n",
    "knn_tuned = knn_cv.fit(X_train, y_train)"
   ]
  },
  {
   "cell_type": "code",
   "execution_count": 55,
   "id": "4c8b2e03-d96c-45cb-a17b-e0914ce87656",
   "metadata": {},
   "outputs": [
    {
     "data": {
      "text/plain": [
       "0.7316017316017316"
      ]
     },
     "execution_count": 55,
     "metadata": {},
     "output_type": "execute_result"
    }
   ],
   "source": [
    "knn_tuned.score(X_test, y_test)"
   ]
  },
  {
   "cell_type": "code",
   "execution_count": 56,
   "id": "8b805e09-d56a-483f-baf8-6b94719e69a6",
   "metadata": {},
   "outputs": [],
   "source": [
    "y_pred = knn_tuned.predict(X_test)"
   ]
  },
  {
   "cell_type": "code",
   "execution_count": 57,
   "id": "d6765747-f828-4ff5-8d59-da43d5eb0f0b",
   "metadata": {},
   "outputs": [
    {
     "data": {
      "text/plain": [
       "0.7316017316017316"
      ]
     },
     "execution_count": 57,
     "metadata": {},
     "output_type": "execute_result"
    }
   ],
   "source": [
    "accuracy_score(y_test, y_pred)"
   ]
  },
  {
   "cell_type": "markdown",
   "id": "2d4b30f9-a379-497b-84a5-01146458acdf",
   "metadata": {},
   "source": [
    "## SVC"
   ]
  },
  {
   "cell_type": "markdown",
   "id": "26100cb8-8eed-434a-a57d-fba154e04f52",
   "metadata": {},
   "source": [
    "### Model & Tahmin"
   ]
  },
  {
   "cell_type": "code",
   "execution_count": 58,
   "id": "9eb87e37-aecc-48de-bce2-1a2e2640e89b",
   "metadata": {},
   "outputs": [],
   "source": [
    "df = diabets.copy()\n",
    "df = df.dropna()\n",
    "y = df[\"Outcome\"]\n",
    "X = df.drop(['Outcome'], axis=1 )\n",
    "X_train, X_test, y_train, y_test = train_test_split(X, y,\n",
    "                                                   test_size = 0.30,\n",
    "                                                   random_state = 42)\n"
   ]
  },
  {
   "cell_type": "code",
   "execution_count": 59,
   "id": "97772a78-ff82-4947-940a-e96ff0a14737",
   "metadata": {},
   "outputs": [],
   "source": [
    "svm_model = SVC(kernel = \"linear\").fit(X_train, y_train)"
   ]
  },
  {
   "cell_type": "code",
   "execution_count": 60,
   "id": "c3390b1f-b67e-4175-8f5c-6ac82b6642ca",
   "metadata": {},
   "outputs": [
    {
     "data": {
      "text/plain": [
       "SVC(kernel='linear')"
      ]
     },
     "execution_count": 60,
     "metadata": {},
     "output_type": "execute_result"
    }
   ],
   "source": [
    "svm_model"
   ]
  },
  {
   "cell_type": "code",
   "execution_count": 61,
   "id": "9a88b631-c5fb-4d9c-bc30-a672e7174355",
   "metadata": {},
   "outputs": [],
   "source": [
    "y_pred = svm_model.predict(X_test)"
   ]
  },
  {
   "cell_type": "code",
   "execution_count": 62,
   "id": "666ad5e0-ce63-4b85-9f29-0991bc215138",
   "metadata": {},
   "outputs": [
    {
     "data": {
      "text/plain": [
       "0.7445887445887446"
      ]
     },
     "execution_count": 62,
     "metadata": {},
     "output_type": "execute_result"
    }
   ],
   "source": [
    "accuracy_score(y_test, y_pred)"
   ]
  },
  {
   "cell_type": "markdown",
   "id": "63c8f38c-35bb-4bba-bbe4-371be65cab3e",
   "metadata": {},
   "source": [
    "### Model Tuning"
   ]
  },
  {
   "cell_type": "code",
   "execution_count": 63,
   "id": "6a1ff69a-87b3-40e9-b286-be53a4810bf3",
   "metadata": {},
   "outputs": [
    {
     "name": "stdout",
     "output_type": "stream",
     "text": [
      "Fitting 10 folds for each of 9 candidates, totalling 90 fits\n"
     ]
    },
    {
     "data": {
      "text/plain": [
       "GridSearchCV(cv=10, estimator=SVC(kernel='linear'), n_jobs=-1,\n",
       "             param_grid={'C': array([1, 2, 3, 4, 5, 6, 7, 8, 9])}, verbose=2)"
      ]
     },
     "execution_count": 63,
     "metadata": {},
     "output_type": "execute_result"
    }
   ],
   "source": [
    "svc_params = {\"C\": np.arange(1,10)}\n",
    "\n",
    "\n",
    "svc = SVC(kernel = \"linear\")\n",
    "\n",
    "svc_cv_model = GridSearchCV(svc, svc_params,\n",
    "                            cv=10,\n",
    "                            n_jobs= -1,\n",
    "                            verbose=2)\n",
    "\n",
    "svc_cv_model.fit(X_train, y_train)"
   ]
  },
  {
   "cell_type": "code",
   "execution_count": 64,
   "id": "55b216de-320d-41b8-a9ff-51130d96eead",
   "metadata": {},
   "outputs": [
    {
     "name": "stdout",
     "output_type": "stream",
     "text": [
      "En iyi parametreler:{'C': 5}\n"
     ]
    }
   ],
   "source": [
    "print(\"En iyi parametreler:\" + str(svc_cv_model.best_params_))"
   ]
  },
  {
   "cell_type": "code",
   "execution_count": 65,
   "id": "c8f007bb-d3a6-4ac3-b5e8-ba39444a0a76",
   "metadata": {},
   "outputs": [],
   "source": [
    "svc_tuned = SVC(kernel = \"linear\", C = 5).fit(X_train, y_train)"
   ]
  },
  {
   "cell_type": "code",
   "execution_count": 66,
   "id": "023164a0-820b-4e82-adbe-e66ced36a334",
   "metadata": {},
   "outputs": [
    {
     "data": {
      "text/plain": [
       "0.7445887445887446"
      ]
     },
     "execution_count": 66,
     "metadata": {},
     "output_type": "execute_result"
    }
   ],
   "source": [
    "y_pred = svc_tuned.predict(X_test)\n",
    "accuracy_score(y_test, y_pred)"
   ]
  },
  {
   "cell_type": "markdown",
   "id": "8e856d30-193d-4985-91f6-dcdff5313536",
   "metadata": {},
   "source": [
    "## RBF SVC (doğrusal olmayan destek vektör modeli)"
   ]
  },
  {
   "cell_type": "markdown",
   "id": "5bf3554a-b19e-43e7-8d9b-133467d14c61",
   "metadata": {},
   "source": [
    "### Model & Tahmin"
   ]
  },
  {
   "cell_type": "code",
   "execution_count": 67,
   "id": "947a50cf-e97a-4639-b4ff-f6b868d91225",
   "metadata": {},
   "outputs": [],
   "source": [
    "df = diabets.copy()\n",
    "df = df.dropna()\n",
    "y = df[\"Outcome\"]\n",
    "X = df.drop(['Outcome'], axis=1 )\n",
    "X_train, X_test, y_train, y_test = train_test_split(X, y,\n",
    "                                                   test_size = 0.30,\n",
    "                                                   random_state = 42)\n"
   ]
  },
  {
   "cell_type": "code",
   "execution_count": 68,
   "id": "96bd9a65-90be-4f3b-9694-64d77ac43e05",
   "metadata": {},
   "outputs": [],
   "source": [
    "svc_model = SVC(kernel = \"rbf\").fit(X_train,y_train)"
   ]
  },
  {
   "cell_type": "code",
   "execution_count": 69,
   "id": "14b0e1cf-de3b-4a88-82f5-e961d5fd8074",
   "metadata": {
    "collapsed": true,
    "jupyter": {
     "outputs_hidden": true
    },
    "tags": []
   },
   "outputs": [
    {
     "data": {
      "text/plain": [
       "['C',\n",
       " '__abstractmethods__',\n",
       " '__class__',\n",
       " '__delattr__',\n",
       " '__dict__',\n",
       " '__dir__',\n",
       " '__doc__',\n",
       " '__eq__',\n",
       " '__format__',\n",
       " '__ge__',\n",
       " '__getattribute__',\n",
       " '__getstate__',\n",
       " '__gt__',\n",
       " '__hash__',\n",
       " '__init__',\n",
       " '__init_subclass__',\n",
       " '__le__',\n",
       " '__lt__',\n",
       " '__module__',\n",
       " '__ne__',\n",
       " '__new__',\n",
       " '__reduce__',\n",
       " '__reduce_ex__',\n",
       " '__repr__',\n",
       " '__setattr__',\n",
       " '__setstate__',\n",
       " '__sizeof__',\n",
       " '__str__',\n",
       " '__subclasshook__',\n",
       " '__weakref__',\n",
       " '_abc_impl',\n",
       " '_check_n_features',\n",
       " '_check_proba',\n",
       " '_compute_kernel',\n",
       " '_decision_function',\n",
       " '_dense_decision_function',\n",
       " '_dense_fit',\n",
       " '_dense_predict',\n",
       " '_dense_predict_proba',\n",
       " '_dual_coef_',\n",
       " '_estimator_type',\n",
       " '_gamma',\n",
       " '_get_coef',\n",
       " '_get_param_names',\n",
       " '_get_tags',\n",
       " '_impl',\n",
       " '_intercept_',\n",
       " '_more_tags',\n",
       " '_n_support',\n",
       " '_pairwise',\n",
       " '_predict_log_proba',\n",
       " '_predict_proba',\n",
       " '_probA',\n",
       " '_probB',\n",
       " '_repr_html_',\n",
       " '_repr_html_inner',\n",
       " '_repr_mimebundle_',\n",
       " '_sparse',\n",
       " '_sparse_decision_function',\n",
       " '_sparse_fit',\n",
       " '_sparse_kernels',\n",
       " '_sparse_predict',\n",
       " '_sparse_predict_proba',\n",
       " '_validate_data',\n",
       " '_validate_for_predict',\n",
       " '_validate_targets',\n",
       " '_warn_from_fit_status',\n",
       " 'break_ties',\n",
       " 'cache_size',\n",
       " 'class_weight',\n",
       " 'class_weight_',\n",
       " 'classes_',\n",
       " 'coef0',\n",
       " 'coef_',\n",
       " 'decision_function',\n",
       " 'decision_function_shape',\n",
       " 'degree',\n",
       " 'dual_coef_',\n",
       " 'epsilon',\n",
       " 'fit',\n",
       " 'fit_status_',\n",
       " 'gamma',\n",
       " 'get_params',\n",
       " 'intercept_',\n",
       " 'kernel',\n",
       " 'max_iter',\n",
       " 'n_features_in_',\n",
       " 'n_support_',\n",
       " 'nu',\n",
       " 'predict',\n",
       " 'predict_log_proba',\n",
       " 'predict_proba',\n",
       " 'probA_',\n",
       " 'probB_',\n",
       " 'probability',\n",
       " 'random_state',\n",
       " 'score',\n",
       " 'set_params',\n",
       " 'shape_fit_',\n",
       " 'shrinking',\n",
       " 'support_',\n",
       " 'support_vectors_',\n",
       " 'tol',\n",
       " 'verbose']"
      ]
     },
     "execution_count": 69,
     "metadata": {},
     "output_type": "execute_result"
    }
   ],
   "source": [
    "dir(svc_model)"
   ]
  },
  {
   "cell_type": "code",
   "execution_count": 70,
   "id": "1ee7a93b-78fd-4759-b256-57b3aaa228f9",
   "metadata": {},
   "outputs": [
    {
     "data": {
      "text/plain": [
       "SVC()"
      ]
     },
     "execution_count": 70,
     "metadata": {},
     "output_type": "execute_result"
    }
   ],
   "source": [
    "svc_model"
   ]
  },
  {
   "cell_type": "code",
   "execution_count": 71,
   "id": "6a2f1d2c-2505-404d-96ad-e18901cfa23b",
   "metadata": {},
   "outputs": [
    {
     "data": {
      "text/plain": [
       "0.7359307359307359"
      ]
     },
     "execution_count": 71,
     "metadata": {},
     "output_type": "execute_result"
    }
   ],
   "source": [
    "y_pred = svc_model.predict(X_test)\n",
    "accuracy_score(y_test, y_pred)"
   ]
  },
  {
   "cell_type": "markdown",
   "id": "d581138a-583e-4c60-9708-7ebf09e8e6fa",
   "metadata": {},
   "source": [
    "### Model Tuning"
   ]
  },
  {
   "cell_type": "code",
   "execution_count": 72,
   "id": "061acde6-d76d-4e06-a6be-35f1fb0bd5d3",
   "metadata": {},
   "outputs": [],
   "source": [
    "svc_params = {\"C\": [0.0001, 0.001, 0.1, 1, 5, 10, 50, 100],\n",
    "             \"gamma\": [0.0001, 0.001, 0.1, 1, 5, 10, 50, 100]}"
   ]
  },
  {
   "cell_type": "code",
   "execution_count": 74,
   "id": "32ac6c85-b814-449d-94ff-b697d2f0e9b7",
   "metadata": {},
   "outputs": [
    {
     "name": "stdout",
     "output_type": "stream",
     "text": [
      "Fitting 10 folds for each of 64 candidates, totalling 640 fits\n"
     ]
    },
    {
     "data": {
      "text/plain": [
       "GridSearchCV(cv=10, estimator=SVC(), n_jobs=-1,\n",
       "             param_grid={'C': [0.0001, 0.001, 0.1, 1, 5, 10, 50, 100],\n",
       "                         'gamma': [0.0001, 0.001, 0.1, 1, 5, 10, 50, 100]},\n",
       "             verbose=2)"
      ]
     },
     "execution_count": 74,
     "metadata": {},
     "output_type": "execute_result"
    }
   ],
   "source": [
    "svc = SVC()\n",
    "svc_cv_model = GridSearchCV(svc, svc_params,\n",
    "                         cv=10,\n",
    "                         n_jobs=-1,\n",
    "                         verbose=2)\n",
    "svc_cv_model.fit(X_train, y_train)"
   ]
  },
  {
   "cell_type": "code",
   "execution_count": 75,
   "id": "6bab448f-03ee-42d8-bb43-731a3c5a1b6d",
   "metadata": {},
   "outputs": [
    {
     "name": "stdout",
     "output_type": "stream",
     "text": [
      "En iyi parametreler:{'C': 10, 'gamma': 0.0001}\n"
     ]
    }
   ],
   "source": [
    "print(\"En iyi parametreler:\" + str(svc_cv_model.best_params_))"
   ]
  },
  {
   "cell_type": "code",
   "execution_count": 78,
   "id": "20e5d6f5-5d3a-447e-b33e-8f02e8d79ecc",
   "metadata": {},
   "outputs": [],
   "source": [
    "svc_tuned = SVC(C = 10, gamma =0.0001).fit(X_train, y_train)"
   ]
  },
  {
   "cell_type": "code",
   "execution_count": 79,
   "id": "65dfeda2-53a5-4801-ab77-14c75875782e",
   "metadata": {},
   "outputs": [
    {
     "data": {
      "text/plain": [
       "0.7359307359307359"
      ]
     },
     "execution_count": 79,
     "metadata": {},
     "output_type": "execute_result"
    }
   ],
   "source": [
    "y_pred = svc_tuned.predict(X_test)\n",
    "accuracy_score(y_test, y_pred)"
   ]
  },
  {
   "cell_type": "markdown",
   "id": "1d4d06ca-ed55-4b1f-8c8f-3c2971bb9574",
   "metadata": {},
   "source": [
    "## Yapay Sinir Ağları"
   ]
  },
  {
   "cell_type": "markdown",
   "id": "92c65287-8317-4134-ac30-807baf053d59",
   "metadata": {},
   "source": [
    "## Model & Tahmin"
   ]
  },
  {
   "cell_type": "code",
   "execution_count": 11,
   "id": "9fc3a23b-9615-407a-a888-6d803a30b992",
   "metadata": {},
   "outputs": [],
   "source": [
    "df = diabets.copy()\n",
    "df = df.dropna()\n",
    "y = df[\"Outcome\"]\n",
    "X = df.drop(['Outcome'], axis=1 )\n",
    "X_train, X_test, y_train, y_test = train_test_split(X, y,\n",
    "                                                   test_size = 0.30,\n",
    "                                                   random_state = 42)\n"
   ]
  },
  {
   "cell_type": "code",
   "execution_count": 15,
   "id": "4ad0d641-cecf-4bdb-b92f-be92239d46a0",
   "metadata": {},
   "outputs": [],
   "source": [
    "from sklearn.preprocessing import StandardScaler"
   ]
  },
  {
   "cell_type": "code",
   "execution_count": 16,
   "id": "50e31f72-3865-4921-ba44-4bc828a2fd70",
   "metadata": {},
   "outputs": [],
   "source": [
    "scaler = StandardScaler()"
   ]
  },
  {
   "cell_type": "code",
   "execution_count": 17,
   "id": "34cdac97-2189-43e5-a204-7456a7204288",
   "metadata": {},
   "outputs": [],
   "source": [
    "scaler.fit(X_train)\n",
    "X_train_scaled = scaler.transform(X_train)\n",
    "X_test_scaled = scaler.transform(X_test)\n"
   ]
  },
  {
   "cell_type": "code",
   "execution_count": 19,
   "id": "05f5e7ea-0e23-48c5-850e-f426a48f18fe",
   "metadata": {},
   "outputs": [
    {
     "data": {
      "text/plain": [
       "array([[ 0.69748316, -0.70719864, -0.64639893,  0.81207927,  0.95720244,\n",
       "         0.26575953, -0.11680393,  0.85019217],\n",
       "       [-0.52953881, -0.27388818,  0.29399563,  0.74746428, -0.6936878 ,\n",
       "         0.488933  , -0.94192338, -1.03426754],\n",
       "       [-0.52953881, -0.39769117, -0.31449497, -1.3202154 , -0.6936878 ,\n",
       "        -0.1543317 , -0.91266382, -1.03426754],\n",
       "       [ 1.31099414, -0.42864191,  0.57058226, -1.3202154 , -0.6936878 ,\n",
       "        -0.96825847,  1.12965312,  0.07927683],\n",
       "       [ 1.00423865,  0.46892976,  1.12375553, -1.3202154 , -0.6936878 ,\n",
       "        -0.27248236, -0.76051413,  1.44979298]])"
      ]
     },
     "execution_count": 19,
     "metadata": {},
     "output_type": "execute_result"
    }
   ],
   "source": [
    "X_test_scaled[0:5]"
   ]
  },
  {
   "cell_type": "code",
   "execution_count": 20,
   "id": "30cf18ae-8a43-413b-96c5-0866dab824f8",
   "metadata": {},
   "outputs": [],
   "source": [
    "from sklearn.neural_network import MLPClassifier"
   ]
  },
  {
   "cell_type": "code",
   "execution_count": 23,
   "id": "7b88b9d2-68af-45be-b4b2-a0f8c5f33815",
   "metadata": {},
   "outputs": [],
   "source": [
    "mlpc = MLPClassifier().fit(X_train_scaled, y_train)"
   ]
  },
  {
   "cell_type": "code",
   "execution_count": 24,
   "id": "4ab16c0b-12d2-4360-8467-4e5725ce9765",
   "metadata": {
    "collapsed": true,
    "jupyter": {
     "outputs_hidden": true
    },
    "tags": []
   },
   "outputs": [
    {
     "data": {
      "text/plain": [
       "[array([[-4.23141164e-01, -1.80175151e-01,  1.22295660e-01,\n",
       "         -2.43473891e-01,  8.68670808e-03, -4.87485000e-02,\n",
       "          1.70815849e-01, -3.53671831e-01,  6.72216876e-02,\n",
       "         -1.30546445e-01,  1.14211102e-01,  3.04780819e-01,\n",
       "          9.51032505e-02, -1.78691370e-01,  8.13014178e-02,\n",
       "         -3.52391051e-02,  4.06067313e-02, -3.49175337e-01,\n",
       "          1.56176012e-01,  1.87421692e-01,  2.17519883e-01,\n",
       "         -1.08215919e-01,  6.14611918e-02,  1.21551786e-01,\n",
       "         -1.68629393e-01, -1.46831308e-01, -2.00910583e-01,\n",
       "         -2.45305825e-01, -2.23751332e-03, -2.20295543e-01,\n",
       "         -4.12229147e-02, -5.64787705e-02, -3.79403653e-01,\n",
       "          4.14948260e-02, -3.33044757e-01, -1.87963810e-01,\n",
       "          3.99680176e-03, -2.34655807e-01,  1.28090795e-01,\n",
       "         -2.69466470e-01,  4.16309784e-02, -5.06647191e-02,\n",
       "         -2.06034381e-01,  2.19457364e-01, -4.98522895e-01,\n",
       "         -1.30219010e-01,  2.08215820e-01,  5.12135784e-02,\n",
       "          2.41177204e-04,  8.86106771e-03,  1.61360112e-01,\n",
       "          7.25662777e-02, -2.55493020e-01, -1.97403966e-01,\n",
       "          1.43023768e-01,  2.48813431e-01,  8.38935798e-02,\n",
       "         -1.34242387e-01, -2.13872810e-01, -2.45269059e-01,\n",
       "          2.53619757e-02,  9.79418522e-02, -3.77088412e-01,\n",
       "         -3.06707910e-01, -2.85325216e-01, -1.67109995e-01,\n",
       "          8.16780569e-03, -2.96745816e-01,  3.71585295e-02,\n",
       "         -4.08664991e-01,  9.36587134e-02, -1.23126493e-02,\n",
       "         -1.82365067e-03,  6.20775294e-02,  3.66628323e-01,\n",
       "          4.45484107e-02, -1.67473910e-02,  1.25828161e-01,\n",
       "          4.07099777e-01,  6.20799515e-02,  4.84960391e-02,\n",
       "         -1.01900454e-01,  3.14928726e-01,  2.52374403e-01,\n",
       "         -3.33323267e-01,  1.30475846e-01, -1.88675799e-01,\n",
       "          2.53256434e-01, -1.67116921e-02, -1.52748310e-02,\n",
       "          5.02522040e-02,  1.88371492e-03, -7.18614842e-02,\n",
       "          5.79739057e-02, -1.78485493e-01,  1.39695602e-01,\n",
       "          1.25587882e-01,  1.66451025e-01, -7.44468600e-02,\n",
       "         -2.48114722e-01],\n",
       "        [-2.98534602e-01, -2.54118155e-01,  2.08638159e-01,\n",
       "          2.12417162e-01,  7.20148018e-02, -2.05786402e-01,\n",
       "         -4.12118774e-01, -2.03987905e-01, -7.77392658e-02,\n",
       "         -2.22248426e-01, -1.21379998e-02, -3.78653622e-01,\n",
       "         -2.72151818e-01,  4.29644087e-01,  1.47302441e-01,\n",
       "          3.54503474e-01, -1.30000389e-02, -3.85543224e-02,\n",
       "          5.22862124e-02, -3.81367762e-02,  1.73321576e-01,\n",
       "          1.08596896e-01, -1.13385560e-01, -2.29676867e-01,\n",
       "         -4.09299212e-02,  3.46027217e-01, -7.56458442e-02,\n",
       "          8.35119211e-02, -8.80647609e-02, -1.04016488e-01,\n",
       "          8.73379216e-02, -6.76135784e-02,  1.55365076e-01,\n",
       "         -1.34879718e-01, -3.31401237e-01,  1.50253575e-01,\n",
       "         -2.00487340e-01, -2.03832714e-01,  2.63010253e-01,\n",
       "          3.65389839e-01, -1.00334352e-01, -1.84887653e-01,\n",
       "         -3.31501814e-01,  1.07722357e-01,  2.50044541e-01,\n",
       "          2.86467606e-01,  1.35574160e-01, -6.75129782e-02,\n",
       "         -3.65234384e-02,  2.49610009e-01,  8.64057863e-02,\n",
       "          9.18402142e-02, -3.20807573e-01, -4.80907196e-02,\n",
       "          1.92663324e-01,  1.90018878e-02,  2.43065631e-01,\n",
       "         -1.52682942e-01,  9.81242387e-02, -9.93005600e-02,\n",
       "         -2.11432229e-01, -2.02435512e-01,  4.18217920e-01,\n",
       "         -7.16216555e-03, -8.58339553e-02,  1.61567813e-01,\n",
       "         -7.48452856e-02,  2.31890998e-01,  8.39171973e-02,\n",
       "          4.63438838e-02, -8.10527181e-02,  1.20405610e-01,\n",
       "         -3.04000988e-02,  3.62574166e-01, -2.61497356e-02,\n",
       "         -1.94823473e-01, -1.74247253e-01,  1.36385292e-01,\n",
       "         -2.26503845e-01, -8.75465610e-02,  5.05909886e-02,\n",
       "         -1.49818664e-01,  3.29717246e-02,  1.17492448e-01,\n",
       "          4.02383635e-01,  2.34689917e-01, -1.97343759e-01,\n",
       "          9.90401348e-02, -3.27096090e-02,  2.11568268e-01,\n",
       "         -1.64365867e-01, -1.49286206e-01, -2.41728712e-01,\n",
       "         -2.63041460e-01,  7.55906882e-02, -5.10974294e-02,\n",
       "          2.06913808e-02,  3.20445186e-02, -1.29022491e-01,\n",
       "         -7.53504880e-02],\n",
       "        [ 1.49762395e-01, -2.38365841e-01,  3.97256013e-01,\n",
       "          1.90099987e-01, -1.44671839e-01, -9.21042882e-02,\n",
       "          1.53213547e-01,  2.55233833e-01, -9.20735765e-02,\n",
       "          8.72542591e-02,  7.17754634e-02, -1.25683059e-01,\n",
       "         -1.03780577e-01, -1.90530623e-01,  3.40215851e-01,\n",
       "         -2.55811724e-01, -3.17504639e-01,  1.22591406e-01,\n",
       "         -1.43620428e-02, -6.87027643e-02, -2.67536878e-01,\n",
       "          9.68008168e-02, -2.99586315e-01,  5.39529876e-02,\n",
       "         -1.03511411e-01, -1.47735924e-01, -1.01890716e-01,\n",
       "          2.14613836e-01,  8.98713979e-02, -1.56941767e-01,\n",
       "          4.38073385e-02, -1.32363735e-01, -7.70767394e-02,\n",
       "         -1.07182031e-01,  1.22865026e-01, -1.91112809e-02,\n",
       "          4.19546859e-02, -8.17674026e-02,  2.16478813e-01,\n",
       "         -1.13351155e-01,  4.05095920e-01, -3.04254144e-03,\n",
       "          9.40403298e-02, -8.86613483e-02, -1.23295182e-01,\n",
       "         -7.81847753e-02, -1.86165057e-02,  7.86267602e-02,\n",
       "          1.25815681e-01, -2.40810338e-01, -5.87941410e-02,\n",
       "         -1.31735777e-01, -2.09204292e-01,  2.66232708e-02,\n",
       "          1.48878255e-01, -1.09627684e-02,  1.77490273e-01,\n",
       "         -1.27683996e-01,  1.85500949e-01, -3.58047027e-03,\n",
       "         -1.00022516e-02, -1.09052423e-01,  8.29054514e-02,\n",
       "          1.22122253e-01, -1.79720757e-01, -5.20403754e-03,\n",
       "          1.29661524e-01, -3.65328217e-02, -2.04214404e-01,\n",
       "         -9.42904803e-02,  1.55723312e-01, -2.49867963e-02,\n",
       "         -2.43787044e-01, -1.55214592e-01, -2.43537845e-01,\n",
       "          8.98509508e-02,  3.67280043e-01, -1.96934697e-01,\n",
       "         -3.14350731e-01, -3.65822295e-01,  2.37150803e-01,\n",
       "         -1.22177123e-01, -1.43542774e-01, -6.52714705e-02,\n",
       "         -1.07999812e-01, -2.50750409e-01, -5.37943117e-02,\n",
       "         -7.53574086e-02,  3.28118704e-02, -5.92888514e-02,\n",
       "         -1.00078645e-01, -2.77555783e-01, -3.81886344e-01,\n",
       "          5.36738657e-02,  1.47564888e-01, -1.55908781e-01,\n",
       "          1.46818332e-02,  5.05590915e-02, -1.55812083e-01,\n",
       "         -3.15564907e-01],\n",
       "        [-3.62707437e-01,  2.08594280e-02,  2.54983896e-02,\n",
       "          1.55940626e-01,  2.67393712e-01, -2.31872876e-01,\n",
       "          1.36897184e-01, -2.11900721e-01, -2.99544788e-01,\n",
       "          1.56044613e-02,  1.67607584e-01,  2.13248836e-01,\n",
       "          5.69234635e-02,  3.13321996e-01,  1.38618888e-01,\n",
       "          1.55720957e-01,  1.52831310e-02,  1.25364537e-01,\n",
       "         -2.56097024e-01,  2.28489166e-01, -6.70008521e-02,\n",
       "         -2.67062613e-01, -2.41679984e-01,  3.19277834e-01,\n",
       "         -3.21172262e-02, -6.68713592e-03,  6.75451878e-02,\n",
       "          1.22821012e-01, -8.40540802e-02, -1.44721655e-01,\n",
       "          1.75231872e-01,  1.38667801e-01, -1.73262231e-01,\n",
       "          8.66782911e-02,  6.51285957e-02, -2.48165827e-01,\n",
       "          1.70431880e-02, -1.82031180e-01,  1.83649757e-01,\n",
       "          1.65776678e-01, -4.61991196e-02, -2.11742298e-01,\n",
       "         -3.98127735e-02, -1.91477875e-01, -1.36422003e-01,\n",
       "         -1.49289873e-01,  1.20409726e-01, -1.47953567e-01,\n",
       "         -1.26260202e-01, -1.43532542e-01, -3.08273441e-01,\n",
       "         -2.06679836e-01, -7.34392321e-02, -1.29742934e-01,\n",
       "          1.51892116e-01,  2.77335142e-01,  5.43861804e-02,\n",
       "          1.15538792e-01,  1.10460807e-01,  1.26233429e-01,\n",
       "          1.35135370e-01, -1.44229243e-01, -8.73445685e-02,\n",
       "          1.16765889e-01,  5.61756396e-02, -1.60776953e-01,\n",
       "         -1.37925859e-01,  5.04146559e-02,  3.54880370e-01,\n",
       "         -2.27162993e-01, -7.66233345e-02,  1.85098019e-01,\n",
       "          2.65776318e-01, -2.13746044e-01,  6.96202633e-02,\n",
       "         -6.22134600e-02,  6.31035768e-02,  1.49612187e-01,\n",
       "         -1.78663061e-01, -1.14403004e-01, -2.93074199e-01,\n",
       "          2.06480234e-01, -2.12601198e-01,  2.37969541e-01,\n",
       "          2.63630156e-01,  1.74626067e-01, -1.34242149e-01,\n",
       "         -1.71779022e-01, -2.62431650e-02, -4.29515854e-02,\n",
       "         -1.83607584e-01,  1.70138275e-01, -1.33615810e-01,\n",
       "          2.56409249e-01, -2.66778065e-01,  3.03278544e-01,\n",
       "          7.97611025e-02, -8.21588699e-02,  2.82375993e-01,\n",
       "         -7.45007422e-02],\n",
       "        [ 1.46246085e-01,  1.72484210e-01,  1.89361046e-01,\n",
       "          3.05262420e-01,  1.68294792e-01,  1.26891417e-01,\n",
       "          2.34959984e-01, -1.78384100e-01, -1.15277693e-01,\n",
       "          2.98527005e-01, -4.08495136e-01,  2.20550484e-02,\n",
       "          3.63666407e-01, -2.92953250e-01, -3.98018536e-02,\n",
       "         -1.94735445e-01,  2.12713152e-01, -4.32229337e-01,\n",
       "          2.63095097e-01, -5.88980645e-02, -2.18242280e-01,\n",
       "          9.43598997e-02,  3.02716382e-01,  3.36713387e-01,\n",
       "          1.23350935e-01,  6.21610175e-02, -2.42856653e-01,\n",
       "          1.88132556e-01, -2.97039076e-02,  2.15949912e-01,\n",
       "          9.82390537e-02,  1.13876783e-01,  1.96128817e-01,\n",
       "          1.58993528e-01, -4.51515719e-01,  1.20628146e-01,\n",
       "         -3.26876682e-03,  8.94597368e-02, -1.00240764e-01,\n",
       "          1.22130095e-01, -2.53433859e-01, -1.94770100e-01,\n",
       "         -1.82369400e-01,  1.61939217e-01,  2.75162867e-02,\n",
       "         -2.50901412e-01,  1.34179211e-01,  1.85611899e-01,\n",
       "          6.34399837e-02, -3.88773731e-01,  1.84957740e-03,\n",
       "          4.15954777e-02, -1.32195055e-01, -2.99554841e-01,\n",
       "          2.15509757e-01, -6.17139496e-02,  1.98631270e-01,\n",
       "          2.98160667e-02, -5.68247562e-02, -4.34517562e-02,\n",
       "          9.72362161e-03,  1.42416747e-01, -1.74190452e-01,\n",
       "          1.46636762e-01,  2.71343716e-01,  7.35052930e-02,\n",
       "          2.49483663e-01,  5.17589692e-02,  1.84549322e-01,\n",
       "          2.30604780e-01, -2.24076071e-01,  1.45729037e-01,\n",
       "         -7.19069611e-02, -3.67916978e-01, -2.51707999e-01,\n",
       "          4.35327683e-02,  4.38316190e-02,  7.23658789e-02,\n",
       "          2.38882456e-02, -1.57240777e-01, -1.94088800e-01,\n",
       "          4.53424341e-02,  1.90196638e-01, -1.09519946e-01,\n",
       "          2.78645498e-01, -8.24248398e-02, -1.63408379e-01,\n",
       "         -1.18154153e-01, -2.97931956e-01,  1.36294693e-01,\n",
       "          2.07935326e-01,  1.92651657e-01,  1.62432599e-01,\n",
       "          3.81758830e-01,  3.04356394e-01, -3.15912000e-01,\n",
       "          1.72860660e-01, -7.92933246e-02, -4.81099235e-02,\n",
       "         -2.18677208e-02],\n",
       "        [-2.00562700e-01,  2.51802345e-01, -7.69264532e-02,\n",
       "          1.21265986e-01,  7.38769492e-03,  2.50604296e-01,\n",
       "         -5.18401666e-02, -3.80306179e-02,  2.37791152e-02,\n",
       "         -3.03645028e-01,  1.77338692e-01,  1.78723882e-01,\n",
       "          1.38104789e-01, -8.61858760e-02,  1.68069602e-01,\n",
       "          4.44393309e-02, -1.58706447e-01, -8.50464233e-02,\n",
       "         -1.26791031e-01,  5.80650363e-02,  2.30359263e-01,\n",
       "         -1.39613366e-01,  2.39115441e-02,  4.52191904e-02,\n",
       "         -7.74454359e-02,  1.02205494e-01,  9.10254530e-02,\n",
       "          2.77355675e-02, -1.61881124e-01, -1.31011827e-01,\n",
       "         -1.38846593e-01,  1.23345108e-02,  3.06255612e-01,\n",
       "         -1.80861957e-01, -1.43909792e-01,  5.57349102e-03,\n",
       "          6.03634098e-02, -6.58696927e-02, -8.55967466e-02,\n",
       "          6.07307548e-02, -1.68577787e-01, -1.38372072e-01,\n",
       "         -1.08092832e-01,  6.96537497e-02,  2.86608112e-01,\n",
       "         -6.22789875e-02,  1.39669120e-01,  2.18523928e-01,\n",
       "         -7.70206502e-02,  4.43734470e-02, -1.36922455e-01,\n",
       "         -2.53587272e-01,  1.07799497e-01,  2.22831211e-01,\n",
       "          1.74251136e-01, -3.65102891e-02,  1.04166143e-01,\n",
       "         -1.79948864e-01,  3.24379518e-01, -2.19089980e-01,\n",
       "         -1.89169494e-01, -4.41337498e-01, -7.48362289e-02,\n",
       "         -1.14407352e-01,  8.51703601e-02,  8.67023335e-02,\n",
       "          2.20808002e-02,  1.04844478e-01,  1.67158020e-01,\n",
       "          2.90020237e-01, -1.46255442e-01,  1.55721934e-01,\n",
       "         -7.71050391e-02, -4.11816443e-02,  1.64521317e-01,\n",
       "          9.64767078e-02,  1.87903538e-02, -1.14764820e-01,\n",
       "          2.04262936e-01, -2.17808333e-01, -1.66356538e-01,\n",
       "          8.70966974e-02, -1.79493966e-01,  1.33320624e-01,\n",
       "         -6.33859143e-02, -3.53258650e-02,  5.00677016e-02,\n",
       "         -1.32423470e-01,  1.45598417e-01,  1.36683267e-01,\n",
       "         -3.41625207e-01, -2.36325756e-01, -3.32115570e-01,\n",
       "          8.43223285e-02, -1.06081169e-01,  2.60883287e-01,\n",
       "         -1.59232540e-01,  1.96488840e-01, -7.64846190e-02,\n",
       "         -2.53017314e-01],\n",
       "        [ 3.41114968e-01, -5.48327417e-02, -2.38255362e-01,\n",
       "         -5.82851988e-02, -1.69674111e-01, -1.20911407e-02,\n",
       "         -2.28807810e-02,  7.69803736e-02,  6.42400109e-03,\n",
       "          2.04321146e-01,  2.04488624e-01, -7.06142510e-03,\n",
       "          1.70798244e-01,  3.76056673e-02,  9.37814695e-02,\n",
       "          3.31229449e-02,  1.17323776e-02, -1.05498941e-01,\n",
       "          1.63139475e-01, -2.06728547e-01,  9.44391281e-02,\n",
       "         -8.30027426e-02,  3.80577148e-01,  1.98297751e-01,\n",
       "         -8.68656558e-02, -6.24308235e-02,  2.38034125e-01,\n",
       "         -4.42637111e-03, -2.24465100e-01, -3.15077262e-01,\n",
       "         -1.58887523e-01, -4.04951793e-01, -2.41002622e-01,\n",
       "         -6.72768019e-03,  3.79611525e-02,  6.05933406e-02,\n",
       "         -6.65738618e-02, -4.07949664e-01,  1.32594725e-01,\n",
       "         -8.63914702e-02, -2.71705123e-01,  1.64256691e-01,\n",
       "         -3.69925929e-02,  4.73144987e-02, -1.99335411e-01,\n",
       "          1.13057755e-01,  9.32160807e-02, -1.55383724e-01,\n",
       "          2.56598519e-01, -1.22096942e-01,  3.23775778e-01,\n",
       "         -4.26037577e-02,  1.34750756e-01, -2.18501714e-01,\n",
       "         -1.65387631e-01, -5.48409929e-01,  1.24503112e-01,\n",
       "         -4.26674755e-01,  9.45173923e-02, -2.81594911e-02,\n",
       "         -4.50056886e-01,  1.60307016e-01,  2.61370222e-03,\n",
       "         -9.28715033e-02, -9.06414307e-02, -6.33188065e-02,\n",
       "          9.78196195e-03, -2.05273965e-01, -7.35412937e-02,\n",
       "         -2.05097943e-01, -4.16009610e-01,  3.67087536e-02,\n",
       "         -5.94754447e-01, -1.48296558e-01,  1.97186210e-01,\n",
       "         -1.80227541e-01, -3.71744938e-01,  1.45297969e-01,\n",
       "          7.53214947e-02,  9.92937314e-02, -1.31882031e-01,\n",
       "         -6.66632763e-04, -1.44752536e-01,  1.86781247e-01,\n",
       "          6.97246207e-02,  1.19091522e-01,  2.74151558e-02,\n",
       "         -3.76763924e-02, -1.31082650e-01,  4.17228868e-02,\n",
       "          1.28586059e-01,  1.10390718e-01, -1.78645724e-01,\n",
       "          1.57576217e-01, -1.79915279e-01,  2.69833822e-01,\n",
       "          1.20897666e-01, -2.09724138e-02, -1.44533111e-01,\n",
       "         -5.31195611e-02],\n",
       "        [-4.71006908e-01, -9.84375446e-02, -1.14776443e-02,\n",
       "          1.04930215e-01,  1.68713868e-01,  1.53462980e-01,\n",
       "          7.82534723e-02, -4.54383987e-01,  3.78229657e-01,\n",
       "         -4.39364187e-01,  4.32041995e-01,  2.26589708e-02,\n",
       "          1.03812857e-01, -2.25109334e-01, -1.39218440e-01,\n",
       "         -2.03986105e-01,  2.44206687e-01, -2.32334561e-01,\n",
       "          1.10093319e-01, -2.63241491e-01, -2.08305859e-01,\n",
       "          2.79481825e-03,  2.04826097e-01,  2.79801812e-01,\n",
       "         -8.09339829e-02,  2.25406075e-01,  6.60485478e-02,\n",
       "          4.62480793e-02, -3.42883912e-01, -3.31807324e-01,\n",
       "         -3.95838916e-02, -1.94059368e-01,  2.26737291e-01,\n",
       "          2.21095271e-01, -3.61115116e-01, -1.01300612e-02,\n",
       "         -1.73298189e-01,  4.69710342e-02,  1.48385443e-02,\n",
       "         -4.69877533e-02,  1.07940755e-01, -1.90754250e-01,\n",
       "         -3.34106787e-01, -1.18785569e-01,  2.56784062e-01,\n",
       "         -6.44818839e-02, -5.61204134e-02, -2.85462251e-01,\n",
       "         -3.42614949e-01, -1.95975872e-01, -2.07428087e-01,\n",
       "          9.22488032e-03, -7.72667644e-02,  5.11496840e-02,\n",
       "          2.41703014e-02, -2.65270546e-01, -2.84204235e-02,\n",
       "         -4.93948297e-02, -1.81370245e-02, -3.20735353e-01,\n",
       "          1.25127817e-01, -1.61385258e-01,  7.62240211e-02,\n",
       "         -2.71343320e-01, -3.62478335e-01,  4.06012858e-02,\n",
       "          4.06303335e-02,  1.78504698e-01, -2.49840376e-01,\n",
       "          2.69938114e-01, -4.60784439e-02, -2.88921709e-01,\n",
       "          1.89604646e-01, -1.77824032e-01, -2.78460274e-01,\n",
       "         -3.31878892e-01, -6.00482957e-02, -9.25431404e-02,\n",
       "         -1.45629524e-01, -2.19285644e-01, -1.64006685e-01,\n",
       "          1.94071658e-01, -1.46358712e-01,  4.40068303e-01,\n",
       "          3.40225498e-02, -2.42137384e-01,  6.21840553e-02,\n",
       "         -1.95948780e-01, -1.87748097e-01, -1.42951197e-03,\n",
       "         -2.16898935e-01, -8.15598339e-02, -1.57019291e-01,\n",
       "          2.90907091e-01, -3.62837119e-01, -6.42965839e-02,\n",
       "         -1.09321154e-01, -4.51642604e-02,  6.81476839e-02,\n",
       "          8.52682511e-02]]),\n",
       " array([[-0.29056624],\n",
       "        [-0.29929293],\n",
       "        [ 0.24315835],\n",
       "        [ 0.26902025],\n",
       "        [-0.10549519],\n",
       "        [ 0.16269526],\n",
       "        [ 0.43329407],\n",
       "        [-0.3587682 ],\n",
       "        [-0.20524179],\n",
       "        [-0.26107589],\n",
       "        [-0.34438066],\n",
       "        [ 0.40011396],\n",
       "        [ 0.18827326],\n",
       "        [ 0.16833084],\n",
       "        [-0.06363111],\n",
       "        [ 0.28660712],\n",
       "        [-0.23035581],\n",
       "        [-0.2884244 ],\n",
       "        [-0.139112  ],\n",
       "        [-0.21946074],\n",
       "        [ 0.35191163],\n",
       "        [ 0.29175695],\n",
       "        [-0.36544273],\n",
       "        [ 0.19714228],\n",
       "        [ 0.10866058],\n",
       "        [ 0.31381765],\n",
       "        [ 0.11198092],\n",
       "        [ 0.08967076],\n",
       "        [-0.20440187],\n",
       "        [-0.28369976],\n",
       "        [ 0.07352444],\n",
       "        [-0.25237639],\n",
       "        [ 0.36674743],\n",
       "        [-0.02785061],\n",
       "        [-0.15273269],\n",
       "        [-0.02605154],\n",
       "        [ 0.04540029],\n",
       "        [-0.09050303],\n",
       "        [ 0.30402559],\n",
       "        [ 0.27877032],\n",
       "        [-0.36784461],\n",
       "        [-0.30997176],\n",
       "        [-0.16867081],\n",
       "        [ 0.1440745 ],\n",
       "        [ 0.34333521],\n",
       "        [ 0.41779441],\n",
       "        [ 0.18626132],\n",
       "        [-0.39530779],\n",
       "        [-0.23023342],\n",
       "        [ 0.47421058],\n",
       "        [-0.27772312],\n",
       "        [-0.25707726],\n",
       "        [-0.14644313],\n",
       "        [ 0.35212769],\n",
       "        [ 0.2088103 ],\n",
       "        [-0.31369828],\n",
       "        [ 0.23157822],\n",
       "        [-0.41853579],\n",
       "        [-0.08024626],\n",
       "        [-0.34612106],\n",
       "        [-0.363627  ],\n",
       "        [-0.35384348],\n",
       "        [ 0.42236099],\n",
       "        [-0.20067718],\n",
       "        [-0.38885214],\n",
       "        [ 0.16214203],\n",
       "        [ 0.00249521],\n",
       "        [ 0.11980004],\n",
       "        [-0.20992429],\n",
       "        [ 0.28897315],\n",
       "        [-0.21929941],\n",
       "        [-0.225208  ],\n",
       "        [-0.25434123],\n",
       "        [ 0.4425141 ],\n",
       "        [ 0.33593012],\n",
       "        [-0.17083965],\n",
       "        [-0.24235104],\n",
       "        [ 0.22107037],\n",
       "        [ 0.25978877],\n",
       "        [-0.15246387],\n",
       "        [-0.11584872],\n",
       "        [ 0.18595627],\n",
       "        [ 0.16505861],\n",
       "        [-0.36174961],\n",
       "        [ 0.19904085],\n",
       "        [ 0.25982655],\n",
       "        [-0.02381332],\n",
       "        [ 0.21079796],\n",
       "        [ 0.16787116],\n",
       "        [ 0.22449608],\n",
       "        [-0.15997193],\n",
       "        [-0.18017895],\n",
       "        [-0.2711711 ],\n",
       "        [ 0.40742077],\n",
       "        [-0.40060674],\n",
       "        [ 0.31600018],\n",
       "        [ 0.03916513],\n",
       "        [ 0.07747873],\n",
       "        [-0.38424164],\n",
       "        [-0.22811952]])]"
      ]
     },
     "execution_count": 24,
     "metadata": {},
     "output_type": "execute_result"
    }
   ],
   "source": [
    "mlpc.coefs_"
   ]
  },
  {
   "cell_type": "code",
   "execution_count": 25,
   "id": "05e8b599-577c-445f-b054-1b81d17fab42",
   "metadata": {
    "collapsed": true,
    "jupyter": {
     "outputs_hidden": true
    },
    "tags": []
   },
   "outputs": [
    {
     "data": {
      "text/plain": [
       "['__abstractmethods__',\n",
       " '__class__',\n",
       " '__delattr__',\n",
       " '__dict__',\n",
       " '__dir__',\n",
       " '__doc__',\n",
       " '__eq__',\n",
       " '__format__',\n",
       " '__ge__',\n",
       " '__getattribute__',\n",
       " '__getstate__',\n",
       " '__gt__',\n",
       " '__hash__',\n",
       " '__init__',\n",
       " '__init_subclass__',\n",
       " '__le__',\n",
       " '__lt__',\n",
       " '__module__',\n",
       " '__ne__',\n",
       " '__new__',\n",
       " '__reduce__',\n",
       " '__reduce_ex__',\n",
       " '__repr__',\n",
       " '__setattr__',\n",
       " '__setstate__',\n",
       " '__sizeof__',\n",
       " '__str__',\n",
       " '__subclasshook__',\n",
       " '__weakref__',\n",
       " '_abc_impl',\n",
       " '_backprop',\n",
       " '_check_n_features',\n",
       " '_compute_loss_grad',\n",
       " '_estimator_type',\n",
       " '_fit',\n",
       " '_fit_lbfgs',\n",
       " '_fit_stochastic',\n",
       " '_forward_pass',\n",
       " '_forward_pass_fast',\n",
       " '_get_param_names',\n",
       " '_get_tags',\n",
       " '_init_coef',\n",
       " '_initialize',\n",
       " '_label_binarizer',\n",
       " '_loss_grad_lbfgs',\n",
       " '_more_tags',\n",
       " '_no_improvement_count',\n",
       " '_optimizer',\n",
       " '_partial_fit',\n",
       " '_random_state',\n",
       " '_repr_html_',\n",
       " '_repr_html_inner',\n",
       " '_repr_mimebundle_',\n",
       " '_unpack',\n",
       " '_update_no_improvement_count',\n",
       " '_validate_data',\n",
       " '_validate_hyperparameters',\n",
       " '_validate_input',\n",
       " 'activation',\n",
       " 'alpha',\n",
       " 'batch_size',\n",
       " 'best_loss_',\n",
       " 'beta_1',\n",
       " 'beta_2',\n",
       " 'classes_',\n",
       " 'coefs_',\n",
       " 'early_stopping',\n",
       " 'epsilon',\n",
       " 'fit',\n",
       " 'get_params',\n",
       " 'hidden_layer_sizes',\n",
       " 'intercepts_',\n",
       " 'learning_rate',\n",
       " 'learning_rate_init',\n",
       " 'loss',\n",
       " 'loss_',\n",
       " 'loss_curve_',\n",
       " 'max_fun',\n",
       " 'max_iter',\n",
       " 'momentum',\n",
       " 'n_features_in_',\n",
       " 'n_iter_',\n",
       " 'n_iter_no_change',\n",
       " 'n_layers_',\n",
       " 'n_outputs_',\n",
       " 'nesterovs_momentum',\n",
       " 'out_activation_',\n",
       " 'partial_fit',\n",
       " 'power_t',\n",
       " 'predict',\n",
       " 'predict_log_proba',\n",
       " 'predict_proba',\n",
       " 'random_state',\n",
       " 'score',\n",
       " 'set_params',\n",
       " 'shuffle',\n",
       " 'solver',\n",
       " 't_',\n",
       " 'tol',\n",
       " 'validation_fraction',\n",
       " 'verbose',\n",
       " 'warm_start']"
      ]
     },
     "execution_count": 25,
     "metadata": {},
     "output_type": "execute_result"
    }
   ],
   "source": [
    "dir(mlpc)"
   ]
  },
  {
   "cell_type": "code",
   "execution_count": 26,
   "id": "632ad1ad-f07c-4e52-bb00-23dc6019b3db",
   "metadata": {},
   "outputs": [
    {
     "data": {
      "text/plain": [
       "0.7359307359307359"
      ]
     },
     "execution_count": 26,
     "metadata": {},
     "output_type": "execute_result"
    }
   ],
   "source": [
    "y_pred = mlpc.predict(X_test_scaled)\n",
    "accuracy_score(y_test, y_pred)"
   ]
  },
  {
   "cell_type": "markdown",
   "id": "5d43348f-9797-488c-917a-d5f551adc28c",
   "metadata": {},
   "source": [
    "### Model Tuning"
   ]
  },
  {
   "cell_type": "code",
   "execution_count": 28,
   "id": "5b4ca3ff-ecc4-43d3-bc78-075a74701edd",
   "metadata": {
    "collapsed": true,
    "jupyter": {
     "outputs_hidden": true
    },
    "tags": []
   },
   "outputs": [
    {
     "data": {
      "text/plain": [
       "\u001b[1;31mType:\u001b[0m        MLPClassifier\n",
       "\u001b[1;31mString form:\u001b[0m MLPClassifier()\n",
       "\u001b[1;31mFile:\u001b[0m        c:\\users\\lenovo\\anaconda3\\lib\\site-packages\\sklearn\\neural_network\\_multilayer_perceptron.py\n",
       "\u001b[1;31mDocstring:\u001b[0m  \n",
       "Multi-layer Perceptron classifier.\n",
       "\n",
       "This model optimizes the log-loss function using LBFGS or stochastic\n",
       "gradient descent.\n",
       "\n",
       ".. versionadded:: 0.18\n",
       "\n",
       "Parameters\n",
       "----------\n",
       "hidden_layer_sizes : tuple, length = n_layers - 2, default=(100,)\n",
       "    The ith element represents the number of neurons in the ith\n",
       "    hidden layer.\n",
       "\n",
       "activation : {'identity', 'logistic', 'tanh', 'relu'}, default='relu'\n",
       "    Activation function for the hidden layer.\n",
       "\n",
       "    - 'identity', no-op activation, useful to implement linear bottleneck,\n",
       "      returns f(x) = x\n",
       "\n",
       "    - 'logistic', the logistic sigmoid function,\n",
       "      returns f(x) = 1 / (1 + exp(-x)).\n",
       "\n",
       "    - 'tanh', the hyperbolic tan function,\n",
       "      returns f(x) = tanh(x).\n",
       "\n",
       "    - 'relu', the rectified linear unit function,\n",
       "      returns f(x) = max(0, x)\n",
       "\n",
       "solver : {'lbfgs', 'sgd', 'adam'}, default='adam'\n",
       "    The solver for weight optimization.\n",
       "\n",
       "    - 'lbfgs' is an optimizer in the family of quasi-Newton methods.\n",
       "\n",
       "    - 'sgd' refers to stochastic gradient descent.\n",
       "\n",
       "    - 'adam' refers to a stochastic gradient-based optimizer proposed\n",
       "      by Kingma, Diederik, and Jimmy Ba\n",
       "\n",
       "    Note: The default solver 'adam' works pretty well on relatively\n",
       "    large datasets (with thousands of training samples or more) in terms of\n",
       "    both training time and validation score.\n",
       "    For small datasets, however, 'lbfgs' can converge faster and perform\n",
       "    better.\n",
       "\n",
       "alpha : float, default=0.0001\n",
       "    L2 penalty (regularization term) parameter.\n",
       "\n",
       "batch_size : int, default='auto'\n",
       "    Size of minibatches for stochastic optimizers.\n",
       "    If the solver is 'lbfgs', the classifier will not use minibatch.\n",
       "    When set to \"auto\", `batch_size=min(200, n_samples)`\n",
       "\n",
       "learning_rate : {'constant', 'invscaling', 'adaptive'}, default='constant'\n",
       "    Learning rate schedule for weight updates.\n",
       "\n",
       "    - 'constant' is a constant learning rate given by\n",
       "      'learning_rate_init'.\n",
       "\n",
       "    - 'invscaling' gradually decreases the learning rate at each\n",
       "      time step 't' using an inverse scaling exponent of 'power_t'.\n",
       "      effective_learning_rate = learning_rate_init / pow(t, power_t)\n",
       "\n",
       "    - 'adaptive' keeps the learning rate constant to\n",
       "      'learning_rate_init' as long as training loss keeps decreasing.\n",
       "      Each time two consecutive epochs fail to decrease training loss by at\n",
       "      least tol, or fail to increase validation score by at least tol if\n",
       "      'early_stopping' is on, the current learning rate is divided by 5.\n",
       "\n",
       "    Only used when ``solver='sgd'``.\n",
       "\n",
       "learning_rate_init : double, default=0.001\n",
       "    The initial learning rate used. It controls the step-size\n",
       "    in updating the weights. Only used when solver='sgd' or 'adam'.\n",
       "\n",
       "power_t : double, default=0.5\n",
       "    The exponent for inverse scaling learning rate.\n",
       "    It is used in updating effective learning rate when the learning_rate\n",
       "    is set to 'invscaling'. Only used when solver='sgd'.\n",
       "\n",
       "max_iter : int, default=200\n",
       "    Maximum number of iterations. The solver iterates until convergence\n",
       "    (determined by 'tol') or this number of iterations. For stochastic\n",
       "    solvers ('sgd', 'adam'), note that this determines the number of epochs\n",
       "    (how many times each data point will be used), not the number of\n",
       "    gradient steps.\n",
       "\n",
       "shuffle : bool, default=True\n",
       "    Whether to shuffle samples in each iteration. Only used when\n",
       "    solver='sgd' or 'adam'.\n",
       "\n",
       "random_state : int, RandomState instance, default=None\n",
       "    Determines random number generation for weights and bias\n",
       "    initialization, train-test split if early stopping is used, and batch\n",
       "    sampling when solver='sgd' or 'adam'.\n",
       "    Pass an int for reproducible results across multiple function calls.\n",
       "    See :term:`Glossary <random_state>`.\n",
       "\n",
       "tol : float, default=1e-4\n",
       "    Tolerance for the optimization. When the loss or score is not improving\n",
       "    by at least ``tol`` for ``n_iter_no_change`` consecutive iterations,\n",
       "    unless ``learning_rate`` is set to 'adaptive', convergence is\n",
       "    considered to be reached and training stops.\n",
       "\n",
       "verbose : bool, default=False\n",
       "    Whether to print progress messages to stdout.\n",
       "\n",
       "warm_start : bool, default=False\n",
       "    When set to True, reuse the solution of the previous\n",
       "    call to fit as initialization, otherwise, just erase the\n",
       "    previous solution. See :term:`the Glossary <warm_start>`.\n",
       "\n",
       "momentum : float, default=0.9\n",
       "    Momentum for gradient descent update. Should be between 0 and 1. Only\n",
       "    used when solver='sgd'.\n",
       "\n",
       "nesterovs_momentum : bool, default=True\n",
       "    Whether to use Nesterov's momentum. Only used when solver='sgd' and\n",
       "    momentum > 0.\n",
       "\n",
       "early_stopping : bool, default=False\n",
       "    Whether to use early stopping to terminate training when validation\n",
       "    score is not improving. If set to true, it will automatically set\n",
       "    aside 10% of training data as validation and terminate training when\n",
       "    validation score is not improving by at least tol for\n",
       "    ``n_iter_no_change`` consecutive epochs. The split is stratified,\n",
       "    except in a multilabel setting.\n",
       "    Only effective when solver='sgd' or 'adam'\n",
       "\n",
       "validation_fraction : float, default=0.1\n",
       "    The proportion of training data to set aside as validation set for\n",
       "    early stopping. Must be between 0 and 1.\n",
       "    Only used if early_stopping is True\n",
       "\n",
       "beta_1 : float, default=0.9\n",
       "    Exponential decay rate for estimates of first moment vector in adam,\n",
       "    should be in [0, 1). Only used when solver='adam'\n",
       "\n",
       "beta_2 : float, default=0.999\n",
       "    Exponential decay rate for estimates of second moment vector in adam,\n",
       "    should be in [0, 1). Only used when solver='adam'\n",
       "\n",
       "epsilon : float, default=1e-8\n",
       "    Value for numerical stability in adam. Only used when solver='adam'\n",
       "\n",
       "n_iter_no_change : int, default=10\n",
       "    Maximum number of epochs to not meet ``tol`` improvement.\n",
       "    Only effective when solver='sgd' or 'adam'\n",
       "\n",
       "    .. versionadded:: 0.20\n",
       "\n",
       "max_fun : int, default=15000\n",
       "    Only used when solver='lbfgs'. Maximum number of loss function calls.\n",
       "    The solver iterates until convergence (determined by 'tol'), number\n",
       "    of iterations reaches max_iter, or this number of loss function calls.\n",
       "    Note that number of loss function calls will be greater than or equal\n",
       "    to the number of iterations for the `MLPClassifier`.\n",
       "\n",
       "    .. versionadded:: 0.22\n",
       "\n",
       "Attributes\n",
       "----------\n",
       "classes_ : ndarray or list of ndarray of shape (n_classes,)\n",
       "    Class labels for each output.\n",
       "\n",
       "loss_ : float\n",
       "    The current loss computed with the loss function.\n",
       "\n",
       "best_loss_ : float\n",
       "    The minimum loss reached by the solver throughout fitting.\n",
       "\n",
       "loss_curve_ : list of shape (`n_iter_`,)\n",
       "    The ith element in the list represents the loss at the ith iteration.\n",
       "\n",
       "t_ : int\n",
       "    The number of training samples seen by the solver during fitting.\n",
       "\n",
       "coefs_ : list of shape (n_layers - 1,)\n",
       "    The ith element in the list represents the weight matrix corresponding\n",
       "    to layer i.\n",
       "\n",
       "intercepts_ : list of shape (n_layers - 1,)\n",
       "    The ith element in the list represents the bias vector corresponding to\n",
       "    layer i + 1.\n",
       "\n",
       "n_iter_ : int\n",
       "    The number of iterations the solver has ran.\n",
       "\n",
       "n_layers_ : int\n",
       "    Number of layers.\n",
       "\n",
       "n_outputs_ : int\n",
       "    Number of outputs.\n",
       "\n",
       "out_activation_ : str\n",
       "    Name of the output activation function.\n",
       "\n",
       "Examples\n",
       "--------\n",
       ">>> from sklearn.neural_network import MLPClassifier\n",
       ">>> from sklearn.datasets import make_classification\n",
       ">>> from sklearn.model_selection import train_test_split\n",
       ">>> X, y = make_classification(n_samples=100, random_state=1)\n",
       ">>> X_train, X_test, y_train, y_test = train_test_split(X, y, stratify=y,\n",
       "...                                                     random_state=1)\n",
       ">>> clf = MLPClassifier(random_state=1, max_iter=300).fit(X_train, y_train)\n",
       ">>> clf.predict_proba(X_test[:1])\n",
       "array([[0.038..., 0.961...]])\n",
       ">>> clf.predict(X_test[:5, :])\n",
       "array([1, 0, 1, 0, 1])\n",
       ">>> clf.score(X_test, y_test)\n",
       "0.8...\n",
       "\n",
       "Notes\n",
       "-----\n",
       "MLPClassifier trains iteratively since at each time step\n",
       "the partial derivatives of the loss function with respect to the model\n",
       "parameters are computed to update the parameters.\n",
       "\n",
       "It can also have a regularization term added to the loss function\n",
       "that shrinks model parameters to prevent overfitting.\n",
       "\n",
       "This implementation works with data represented as dense numpy arrays or\n",
       "sparse scipy arrays of floating point values.\n",
       "\n",
       "References\n",
       "----------\n",
       "Hinton, Geoffrey E.\n",
       "    \"Connectionist learning procedures.\" Artificial intelligence 40.1\n",
       "    (1989): 185-234.\n",
       "\n",
       "Glorot, Xavier, and Yoshua Bengio. \"Understanding the difficulty of\n",
       "    training deep feedforward neural networks.\" International Conference\n",
       "    on Artificial Intelligence and Statistics. 2010.\n",
       "\n",
       "He, Kaiming, et al. \"Delving deep into rectifiers: Surpassing human-level\n",
       "    performance on imagenet classification.\" arXiv preprint\n",
       "    arXiv:1502.01852 (2015).\n",
       "\n",
       "Kingma, Diederik, and Jimmy Ba. \"Adam: A method for stochastic\n",
       "    optimization.\" arXiv preprint arXiv:1412.6980 (2014).\n"
      ]
     },
     "metadata": {},
     "output_type": "display_data"
    }
   ],
   "source": [
    "?mlpc"
   ]
  },
  {
   "cell_type": "code",
   "execution_count": 29,
   "id": "89a22978-df8f-46e9-b73b-00c1717ee80c",
   "metadata": {},
   "outputs": [],
   "source": [
    "mlpc_params = {\"alpha\": [0.1, 0.01, 0.02, 0.005, 0.0001, 0.00001],\n",
    "              \"hidden_layer_sizes\": [(10,10,10),\n",
    "                                    (100,100,100),\n",
    "                                    (100,100),\n",
    "                                    (3,5),\n",
    "                                    (5,3)],\n",
    "              \"solver\": [\"lbfgs\", \"adam\", \"sgd\"],\n",
    "              \"activation\": [\"relu\", \"logistic\"]}\n"
   ]
  },
  {
   "cell_type": "code",
   "execution_count": 31,
   "id": "0124bd01-60ee-4aa4-b921-2e395c2e66d1",
   "metadata": {},
   "outputs": [
    {
     "name": "stdout",
     "output_type": "stream",
     "text": [
      "Fitting 10 folds for each of 180 candidates, totalling 1800 fits\n"
     ]
    },
    {
     "data": {
      "text/plain": [
       "GridSearchCV(cv=10, estimator=MLPClassifier(), n_jobs=-1,\n",
       "             param_grid={'activation': ['relu', 'logistic'],\n",
       "                         'alpha': [0.1, 0.01, 0.02, 0.005, 0.0001, 1e-05],\n",
       "                         'hidden_layer_sizes': [(10, 10, 10), (100, 100, 100),\n",
       "                                                (100, 100), (3, 5), (5, 3)],\n",
       "                         'solver': ['lbfgs', 'adam', 'sgd']},\n",
       "             verbose=2)"
      ]
     },
     "execution_count": 31,
     "metadata": {},
     "output_type": "execute_result"
    }
   ],
   "source": [
    "mlpc = MLPClassifier()\n",
    "mlpc_cv_model = GridSearchCV(mlpc, mlpc_params,\n",
    "                            cv=10,\n",
    "                            n_jobs=-1,\n",
    "                            verbose=2)\n",
    "mlpc_cv_model.fit(X_train_scaled, y_train)"
   ]
  },
  {
   "cell_type": "code",
   "execution_count": 32,
   "id": "ea37895f-03f7-42fd-8a6e-822e66338b44",
   "metadata": {},
   "outputs": [
    {
     "name": "stdout",
     "output_type": "stream",
     "text": [
      "En iyi parametreler :{'activation': 'relu', 'alpha': 0.01, 'hidden_layer_sizes': (100, 100), 'solver': 'sgd'}\n"
     ]
    }
   ],
   "source": [
    "print(\"En iyi parametreler :\" + str(mlpc_cv_model.best_params_))"
   ]
  },
  {
   "cell_type": "code",
   "execution_count": 33,
   "id": "29d0a03d-58df-4555-9098-cec003ef5a03",
   "metadata": {},
   "outputs": [],
   "source": [
    "mlpc_tuned = MLPClassifier(activation = \"relu\",\n",
    "                          alpha = 0.01,\n",
    "                          hidden_layer_sizes = (100,100),\n",
    "                          solver = \"sgd\")"
   ]
  },
  {
   "cell_type": "code",
   "execution_count": 34,
   "id": "737af67e-5dde-496c-9a20-68873855b396",
   "metadata": {},
   "outputs": [
    {
     "data": {
      "text/plain": [
       "MLPClassifier(alpha=0.01, hidden_layer_sizes=(100, 100), solver='sgd')"
      ]
     },
     "execution_count": 34,
     "metadata": {},
     "output_type": "execute_result"
    }
   ],
   "source": [
    "mlpc_tuned.fit(X_train_scaled, y_train)"
   ]
  },
  {
   "cell_type": "code",
   "execution_count": 35,
   "id": "b017732c-fa80-4f59-825b-20b3de593e7a",
   "metadata": {
    "tags": []
   },
   "outputs": [
    {
     "data": {
      "text/plain": [
       "0.7575757575757576"
      ]
     },
     "execution_count": 35,
     "metadata": {},
     "output_type": "execute_result"
    }
   ],
   "source": [
    "y_pred = mlpc_tuned.predict(X_test_scaled)\n",
    "accuracy_score(y_test, y_pred)"
   ]
  },
  {
   "cell_type": "markdown",
   "id": "11607f7f-4d85-49cd-8e64-a21ad063da7f",
   "metadata": {},
   "source": [
    "## CART"
   ]
  },
  {
   "cell_type": "markdown",
   "id": "bb697898-de94-4959-aaee-6a486fd02fd3",
   "metadata": {},
   "source": [
    "### Model & Tahmin"
   ]
  },
  {
   "cell_type": "code",
   "execution_count": 24,
   "id": "a3a5e8cd-29a6-4a9e-8dfd-ed9953d8fa99",
   "metadata": {},
   "outputs": [],
   "source": [
    "df = diabets.copy()\n",
    "df = df.dropna()\n",
    "y = df[\"Outcome\"]\n",
    "X = df.drop(['Outcome'], axis=1 )\n",
    "#X = df[\"Pregnancies\"]\n",
    "X = pd.DataFrame(X)\n",
    "X_train, X_test, y_train, y_test = train_test_split(X, y,\n",
    "                                                   test_size = 0.30,\n",
    "                                                   random_state = 42)\n"
   ]
  },
  {
   "cell_type": "code",
   "execution_count": 25,
   "id": "edb1410a-4308-4314-831b-bac25bf15a40",
   "metadata": {},
   "outputs": [],
   "source": [
    "from sklearn.tree import DecisionTreeClassifier"
   ]
  },
  {
   "cell_type": "code",
   "execution_count": 32,
   "id": "1e954f99-ca18-4578-96cd-6533429c0335",
   "metadata": {},
   "outputs": [],
   "source": [
    "cart = DecisionTreeClassifier()\n",
    "cart_model = cart.fit(X_train, y_train)"
   ]
  },
  {
   "cell_type": "code",
   "execution_count": 33,
   "id": "4676ed3f-e4aa-4b94-81d1-8afe6d5cdf0d",
   "metadata": {},
   "outputs": [
    {
     "data": {
      "text/plain": [
       "DecisionTreeClassifier()"
      ]
     },
     "execution_count": 33,
     "metadata": {},
     "output_type": "execute_result"
    }
   ],
   "source": [
    "cart_model"
   ]
  },
  {
   "cell_type": "code",
   "execution_count": 34,
   "id": "87d45a26-e8f6-49a4-a2d7-6e6f4279dd18",
   "metadata": {
    "collapsed": true,
    "jupyter": {
     "outputs_hidden": true
    },
    "tags": []
   },
   "outputs": [
    {
     "name": "stdout",
     "output_type": "stream",
     "text": [
      "((((((0 if x[6] <= 0.671999990940094 else 1 if x[6] <= 0.6974999904632568 else\n",
      "    0) if x[5] <= 31.40000057220459 else ((0 if x[3] <= 40.5 else 1) if x[1\n",
      "    ] <= 111.5 else ((1 if x[1] <= 123.0 else 0) if x[2] <= 65.0 else 0) if\n",
      "    x[2] <= 72.0 else 1) if x[4] <= 9.0 else (0 if x[6] <= \n",
      "    0.6395000219345093 else 1 if x[6] <= 0.6759999990463257 else 0) if x[0] <=\n",
      "    4.5 else 1 if x[7] <= 26.5 else 0) if x[5] <= 49.10000038146973 else 1) if\n",
      "    x[1] <= 127.5 else 1 if x[2] <= 56.0 else (0 if x[7] <= 27.5 else 0 if \n",
      "    x[3] <= 14.5 else 1) if x[5] <= 30.300000190734863 else 1 if x[5] <= \n",
      "    32.000000953674316 else ((0 if x[5] <= 33.75 else 1) if x[0] <= 0.5 else\n",
      "    1 if x[5] <= 32.45000076293945 else 0) if x[2] <= 85.0 else 1) if x[7] <=\n",
      "    28.5 else (1 if x[7] <= 29.5 else (0 if x[1] <= 133.0 else (1 if x[2] <=\n",
      "    74.0 else 0) if x[0] <= 4.5 else 0) if x[2] <= 94.0 else 1 if x[5] <= \n",
      "    12.0 else 0) if x[5] <= 26.949999809265137 else (1 if x[1] <= 28.5 else\n",
      "    0 if x[0] <= 9.5 else 0 if x[1] <= 80.0 else 1 if x[4] <= 27.0 else 0) if\n",
      "    x[1] <= 94.5 else ((((0 if x[6] <= 0.24950000643730164 else 0 if x[2] <=\n",
      "    65.0 else 1) if x[5] <= 28.34999942779541 else 1 if x[2] <= 67.0 else 0 if\n",
      "    x[7] <= 30.5 else ((0 if x[0] <= 5.5 else 1) if x[6] <= \n",
      "    0.21000000089406967 else 1 if x[6] <= 0.42249999940395355 else 0 if x[7\n",
      "    ] <= 46.0 else 1) if x[0] <= 9.0 else 0 if x[3] <= 12.5 else 1) if x[3] <=\n",
      "    26.5 else (((1 if x[0] <= 0.5 else 0) if x[0] <= 5.5 else 1) if x[2] <=\n",
      "    67.0 else 0 if x[4] <= 155.0 else 0 if x[2] <= 76.0 else 1) if x[1] <= \n",
      "    127.5 else (1 if x[6] <= 0.15850000083446503 else 0) if x[6] <= \n",
      "    0.3110000044107437 else 1) if x[2] <= 83.0 else ((0 if x[3] <= 39.5 else\n",
      "    1 if x[6] <= 0.3385000079870224 else 0) if x[5] <= 41.19999885559082 else\n",
      "    1) if x[4] <= 124.0 else 0 if x[3] <= 19.5 else 1) if x[6] <= \n",
      "    0.527999997138977 else ((((0 if x[7] <= 32.5 else 1) if x[5] <= \n",
      "    27.34999942779541 else 1) if x[1] <= 132.0 else 0) if x[5] <= \n",
      "    29.09999942779541 else 1 if x[6] <= 0.5479999780654907 else 0) if x[5] <=\n",
      "    31.600000381469727 else ((1 if x[2] <= 87.0 else 0 if x[6] <= \n",
      "    0.7305000126361847 else 1) if x[3] <= 54.5 else 0) if x[6] <= \n",
      "    1.1489999890327454 else 1 if x[7] <= 36.0 else 0) if x[1] <= 154.5 else\n",
      "    (1 if x[5] <= 25.350000381469727 else (0 if x[0] <= 1.5 else 1) if x[7] <=\n",
      "    52.5 else 0) if x[5] <= 28.700000762939453 else (((0 if x[6] <= \n",
      "    0.14100000262260437 else 0 if x[7] <= 24.5 else 1) if x[1] <= 164.5 else\n",
      "    0) if x[1] <= 165.5 else (1 if x[7] <= 25.5 else 0 if x[3] <= 34.5 else\n",
      "    1) if x[7] <= 26.5 else 1) if x[6] <= 1.4275000095367432 else 1 if x[0] <=\n",
      "    3.5 else 0)\n",
      "\n"
     ]
    }
   ],
   "source": [
    "from skompiler import skompile\n",
    "print(skompile(cart_model.predict).to(\"python/code\"))"
   ]
  },
  {
   "cell_type": "code",
   "execution_count": 35,
   "id": "f93117dc-eb74-42e9-8224-4b79c7859219",
   "metadata": {},
   "outputs": [],
   "source": [
    "x = [9]"
   ]
  },
  {
   "cell_type": "code",
   "execution_count": 36,
   "id": "2debf65f-af1b-45f2-a5a7-b48bed123ca7",
   "metadata": {},
   "outputs": [
    {
     "data": {
      "text/plain": [
       "1"
      ]
     },
     "execution_count": 36,
     "metadata": {},
     "output_type": "execute_result"
    }
   ],
   "source": [
    "((0 if x[0] <= 2.5 else 0) if x[0] <= 6.5 else 1 if x[0] <= 13.5 else 1)"
   ]
  },
  {
   "cell_type": "code",
   "execution_count": 37,
   "id": "efbfc487-dcf5-4f06-b3f3-a804e5e2adc9",
   "metadata": {},
   "outputs": [
    {
     "data": {
      "text/plain": [
       "0.6926406926406926"
      ]
     },
     "execution_count": 37,
     "metadata": {},
     "output_type": "execute_result"
    }
   ],
   "source": [
    "y_pred = cart_model.predict(X_test)\n",
    "accuracy_score(y_test, y_pred)"
   ]
  },
  {
   "cell_type": "markdown",
   "id": "68a9671c-b0d0-458d-85fe-4623c771f68d",
   "metadata": {},
   "source": [
    "### Model Tuning"
   ]
  },
  {
   "cell_type": "code",
   "execution_count": 38,
   "id": "ae68c05f-d35c-445c-9585-74f350505ae8",
   "metadata": {},
   "outputs": [
    {
     "data": {
      "text/plain": [
       "DecisionTreeClassifier()"
      ]
     },
     "execution_count": 38,
     "metadata": {},
     "output_type": "execute_result"
    }
   ],
   "source": [
    "cart_model"
   ]
  },
  {
   "cell_type": "code",
   "execution_count": 39,
   "id": "2faeb847-91c2-40ee-9525-f677d403c10e",
   "metadata": {
    "collapsed": true,
    "jupyter": {
     "outputs_hidden": true
    },
    "tags": []
   },
   "outputs": [
    {
     "data": {
      "text/plain": [
       "\u001b[1;31mType:\u001b[0m        DecisionTreeClassifier\n",
       "\u001b[1;31mString form:\u001b[0m DecisionTreeClassifier()\n",
       "\u001b[1;31mFile:\u001b[0m        c:\\users\\lenovo\\anaconda3\\lib\\site-packages\\sklearn\\tree\\_classes.py\n",
       "\u001b[1;31mDocstring:\u001b[0m  \n",
       "A decision tree classifier.\n",
       "\n",
       "Read more in the :ref:`User Guide <tree>`.\n",
       "\n",
       "Parameters\n",
       "----------\n",
       "criterion : {\"gini\", \"entropy\"}, default=\"gini\"\n",
       "    The function to measure the quality of a split. Supported criteria are\n",
       "    \"gini\" for the Gini impurity and \"entropy\" for the information gain.\n",
       "\n",
       "splitter : {\"best\", \"random\"}, default=\"best\"\n",
       "    The strategy used to choose the split at each node. Supported\n",
       "    strategies are \"best\" to choose the best split and \"random\" to choose\n",
       "    the best random split.\n",
       "\n",
       "max_depth : int, default=None\n",
       "    The maximum depth of the tree. If None, then nodes are expanded until\n",
       "    all leaves are pure or until all leaves contain less than\n",
       "    min_samples_split samples.\n",
       "\n",
       "min_samples_split : int or float, default=2\n",
       "    The minimum number of samples required to split an internal node:\n",
       "\n",
       "    - If int, then consider `min_samples_split` as the minimum number.\n",
       "    - If float, then `min_samples_split` is a fraction and\n",
       "      `ceil(min_samples_split * n_samples)` are the minimum\n",
       "      number of samples for each split.\n",
       "\n",
       "    .. versionchanged:: 0.18\n",
       "       Added float values for fractions.\n",
       "\n",
       "min_samples_leaf : int or float, default=1\n",
       "    The minimum number of samples required to be at a leaf node.\n",
       "    A split point at any depth will only be considered if it leaves at\n",
       "    least ``min_samples_leaf`` training samples in each of the left and\n",
       "    right branches.  This may have the effect of smoothing the model,\n",
       "    especially in regression.\n",
       "\n",
       "    - If int, then consider `min_samples_leaf` as the minimum number.\n",
       "    - If float, then `min_samples_leaf` is a fraction and\n",
       "      `ceil(min_samples_leaf * n_samples)` are the minimum\n",
       "      number of samples for each node.\n",
       "\n",
       "    .. versionchanged:: 0.18\n",
       "       Added float values for fractions.\n",
       "\n",
       "min_weight_fraction_leaf : float, default=0.0\n",
       "    The minimum weighted fraction of the sum total of weights (of all\n",
       "    the input samples) required to be at a leaf node. Samples have\n",
       "    equal weight when sample_weight is not provided.\n",
       "\n",
       "max_features : int, float or {\"auto\", \"sqrt\", \"log2\"}, default=None\n",
       "    The number of features to consider when looking for the best split:\n",
       "\n",
       "        - If int, then consider `max_features` features at each split.\n",
       "        - If float, then `max_features` is a fraction and\n",
       "          `int(max_features * n_features)` features are considered at each\n",
       "          split.\n",
       "        - If \"auto\", then `max_features=sqrt(n_features)`.\n",
       "        - If \"sqrt\", then `max_features=sqrt(n_features)`.\n",
       "        - If \"log2\", then `max_features=log2(n_features)`.\n",
       "        - If None, then `max_features=n_features`.\n",
       "\n",
       "    Note: the search for a split does not stop until at least one\n",
       "    valid partition of the node samples is found, even if it requires to\n",
       "    effectively inspect more than ``max_features`` features.\n",
       "\n",
       "random_state : int, RandomState instance or None, default=None\n",
       "    Controls the randomness of the estimator. The features are always\n",
       "    randomly permuted at each split, even if ``splitter`` is set to\n",
       "    ``\"best\"``. When ``max_features < n_features``, the algorithm will\n",
       "    select ``max_features`` at random at each split before finding the best\n",
       "    split among them. But the best found split may vary across different\n",
       "    runs, even if ``max_features=n_features``. That is the case, if the\n",
       "    improvement of the criterion is identical for several splits and one\n",
       "    split has to be selected at random. To obtain a deterministic behaviour\n",
       "    during fitting, ``random_state`` has to be fixed to an integer.\n",
       "    See :term:`Glossary <random_state>` for details.\n",
       "\n",
       "max_leaf_nodes : int, default=None\n",
       "    Grow a tree with ``max_leaf_nodes`` in best-first fashion.\n",
       "    Best nodes are defined as relative reduction in impurity.\n",
       "    If None then unlimited number of leaf nodes.\n",
       "\n",
       "min_impurity_decrease : float, default=0.0\n",
       "    A node will be split if this split induces a decrease of the impurity\n",
       "    greater than or equal to this value.\n",
       "\n",
       "    The weighted impurity decrease equation is the following::\n",
       "\n",
       "        N_t / N * (impurity - N_t_R / N_t * right_impurity\n",
       "                            - N_t_L / N_t * left_impurity)\n",
       "\n",
       "    where ``N`` is the total number of samples, ``N_t`` is the number of\n",
       "    samples at the current node, ``N_t_L`` is the number of samples in the\n",
       "    left child, and ``N_t_R`` is the number of samples in the right child.\n",
       "\n",
       "    ``N``, ``N_t``, ``N_t_R`` and ``N_t_L`` all refer to the weighted sum,\n",
       "    if ``sample_weight`` is passed.\n",
       "\n",
       "    .. versionadded:: 0.19\n",
       "\n",
       "min_impurity_split : float, default=0\n",
       "    Threshold for early stopping in tree growth. A node will split\n",
       "    if its impurity is above the threshold, otherwise it is a leaf.\n",
       "\n",
       "    .. deprecated:: 0.19\n",
       "       ``min_impurity_split`` has been deprecated in favor of\n",
       "       ``min_impurity_decrease`` in 0.19. The default value of\n",
       "       ``min_impurity_split`` has changed from 1e-7 to 0 in 0.23 and it\n",
       "       will be removed in 1.0 (renaming of 0.25).\n",
       "       Use ``min_impurity_decrease`` instead.\n",
       "\n",
       "class_weight : dict, list of dict or \"balanced\", default=None\n",
       "    Weights associated with classes in the form ``{class_label: weight}``.\n",
       "    If None, all classes are supposed to have weight one. For\n",
       "    multi-output problems, a list of dicts can be provided in the same\n",
       "    order as the columns of y.\n",
       "\n",
       "    Note that for multioutput (including multilabel) weights should be\n",
       "    defined for each class of every column in its own dict. For example,\n",
       "    for four-class multilabel classification weights should be\n",
       "    [{0: 1, 1: 1}, {0: 1, 1: 5}, {0: 1, 1: 1}, {0: 1, 1: 1}] instead of\n",
       "    [{1:1}, {2:5}, {3:1}, {4:1}].\n",
       "\n",
       "    The \"balanced\" mode uses the values of y to automatically adjust\n",
       "    weights inversely proportional to class frequencies in the input data\n",
       "    as ``n_samples / (n_classes * np.bincount(y))``\n",
       "\n",
       "    For multi-output, the weights of each column of y will be multiplied.\n",
       "\n",
       "    Note that these weights will be multiplied with sample_weight (passed\n",
       "    through the fit method) if sample_weight is specified.\n",
       "\n",
       "ccp_alpha : non-negative float, default=0.0\n",
       "    Complexity parameter used for Minimal Cost-Complexity Pruning. The\n",
       "    subtree with the largest cost complexity that is smaller than\n",
       "    ``ccp_alpha`` will be chosen. By default, no pruning is performed. See\n",
       "    :ref:`minimal_cost_complexity_pruning` for details.\n",
       "\n",
       "    .. versionadded:: 0.22\n",
       "\n",
       "Attributes\n",
       "----------\n",
       "classes_ : ndarray of shape (n_classes,) or list of ndarray\n",
       "    The classes labels (single output problem),\n",
       "    or a list of arrays of class labels (multi-output problem).\n",
       "\n",
       "feature_importances_ : ndarray of shape (n_features,)\n",
       "    The impurity-based feature importances.\n",
       "    The higher, the more important the feature.\n",
       "    The importance of a feature is computed as the (normalized)\n",
       "    total reduction of the criterion brought by that feature.  It is also\n",
       "    known as the Gini importance [4]_.\n",
       "\n",
       "    Warning: impurity-based feature importances can be misleading for\n",
       "    high cardinality features (many unique values). See\n",
       "    :func:`sklearn.inspection.permutation_importance` as an alternative.\n",
       "\n",
       "max_features_ : int\n",
       "    The inferred value of max_features.\n",
       "\n",
       "n_classes_ : int or list of int\n",
       "    The number of classes (for single output problems),\n",
       "    or a list containing the number of classes for each\n",
       "    output (for multi-output problems).\n",
       "\n",
       "n_features_ : int\n",
       "    The number of features when ``fit`` is performed.\n",
       "\n",
       "n_outputs_ : int\n",
       "    The number of outputs when ``fit`` is performed.\n",
       "\n",
       "tree_ : Tree instance\n",
       "    The underlying Tree object. Please refer to\n",
       "    ``help(sklearn.tree._tree.Tree)`` for attributes of Tree object and\n",
       "    :ref:`sphx_glr_auto_examples_tree_plot_unveil_tree_structure.py`\n",
       "    for basic usage of these attributes.\n",
       "\n",
       "See Also\n",
       "--------\n",
       "DecisionTreeRegressor : A decision tree regressor.\n",
       "\n",
       "Notes\n",
       "-----\n",
       "The default values for the parameters controlling the size of the trees\n",
       "(e.g. ``max_depth``, ``min_samples_leaf``, etc.) lead to fully grown and\n",
       "unpruned trees which can potentially be very large on some data sets. To\n",
       "reduce memory consumption, the complexity and size of the trees should be\n",
       "controlled by setting those parameter values.\n",
       "\n",
       "The :meth:`predict` method operates using the :func:`numpy.argmax`\n",
       "function on the outputs of :meth:`predict_proba`. This means that in\n",
       "case the highest predicted probabilities are tied, the classifier will\n",
       "predict the tied class with the lowest index in :term:`classes_`.\n",
       "\n",
       "References\n",
       "----------\n",
       "\n",
       ".. [1] https://en.wikipedia.org/wiki/Decision_tree_learning\n",
       "\n",
       ".. [2] L. Breiman, J. Friedman, R. Olshen, and C. Stone, \"Classification\n",
       "       and Regression Trees\", Wadsworth, Belmont, CA, 1984.\n",
       "\n",
       ".. [3] T. Hastie, R. Tibshirani and J. Friedman. \"Elements of Statistical\n",
       "       Learning\", Springer, 2009.\n",
       "\n",
       ".. [4] L. Breiman, and A. Cutler, \"Random Forests\",\n",
       "       https://www.stat.berkeley.edu/~breiman/RandomForests/cc_home.htm\n",
       "\n",
       "Examples\n",
       "--------\n",
       ">>> from sklearn.datasets import load_iris\n",
       ">>> from sklearn.model_selection import cross_val_score\n",
       ">>> from sklearn.tree import DecisionTreeClassifier\n",
       ">>> clf = DecisionTreeClassifier(random_state=0)\n",
       ">>> iris = load_iris()\n",
       ">>> cross_val_score(clf, iris.data, iris.target, cv=10)\n",
       "...                             # doctest: +SKIP\n",
       "...\n",
       "array([ 1.     ,  0.93...,  0.86...,  0.93...,  0.93...,\n",
       "        0.93...,  0.93...,  1.     ,  0.93...,  1.      ])\n"
      ]
     },
     "metadata": {},
     "output_type": "display_data"
    }
   ],
   "source": [
    "?cart_model"
   ]
  },
  {
   "cell_type": "code",
   "execution_count": 40,
   "id": "e9059bac-8535-4b9c-9cf0-42c907cd42d5",
   "metadata": {},
   "outputs": [],
   "source": [
    "cart_grid = {\"max_depth\": range(1,10),\n",
    "            \"min_samples_split\": list(range(2,50))}"
   ]
  },
  {
   "cell_type": "code",
   "execution_count": 43,
   "id": "1650b0de-7dbb-492a-a430-b0c403ea786f",
   "metadata": {},
   "outputs": [
    {
     "name": "stdout",
     "output_type": "stream",
     "text": [
      "Fitting 10 folds for each of 432 candidates, totalling 4320 fits\n"
     ]
    }
   ],
   "source": [
    "cart = tree.DecisionTreeClassifier()\n",
    "\n",
    "cart_cv = GridSearchCV(cart, cart_grid, cv = 10, n_jobs = -1, verbose = 2)\n",
    "cart_cv_model = cart_cv.fit(X_train, y_train)"
   ]
  },
  {
   "cell_type": "code",
   "execution_count": 44,
   "id": "c392f944-5549-42b2-bfee-56272f852a52",
   "metadata": {},
   "outputs": [
    {
     "name": "stdout",
     "output_type": "stream",
     "text": [
      "En iyi parametreler :{'max_depth': 5, 'min_samples_split': 19}\n"
     ]
    }
   ],
   "source": [
    "print(\"En iyi parametreler :\" + str(cart_cv_model.best_params_))"
   ]
  },
  {
   "cell_type": "code",
   "execution_count": 46,
   "id": "f7d5412f-0a0c-448a-9270-40f0d192e55b",
   "metadata": {},
   "outputs": [],
   "source": [
    "cart = tree.DecisionTreeClassifier(max_depth = 5, min_samples_split = 19)\n",
    "cart_tuned = cart.fit(X_train, y_train)"
   ]
  },
  {
   "cell_type": "code",
   "execution_count": 47,
   "id": "ca08ad54-5251-4ca5-8a1d-dbb8d33a50aa",
   "metadata": {},
   "outputs": [
    {
     "data": {
      "text/plain": [
       "0.7532467532467533"
      ]
     },
     "execution_count": 47,
     "metadata": {},
     "output_type": "execute_result"
    }
   ],
   "source": [
    "y_pred = cart_tuned.predict(X_test)\n",
    "accuracy_score(y_test, y_pred)"
   ]
  },
  {
   "cell_type": "markdown",
   "id": "4c8b99fe-effe-418e-813a-d059b9431650",
   "metadata": {},
   "source": [
    "## Random Forests"
   ]
  },
  {
   "cell_type": "markdown",
   "id": "17ecb278-cba4-433e-a88c-1555003c9a9d",
   "metadata": {},
   "source": [
    "### Model & Tahmin"
   ]
  },
  {
   "cell_type": "code",
   "execution_count": 12,
   "id": "1cb92afe-5bc5-44de-a753-cfb9401d3b60",
   "metadata": {},
   "outputs": [],
   "source": [
    "df = diabets.copy()\n",
    "df = df.dropna()\n",
    "y = df[\"Outcome\"]\n",
    "X = df.drop(['Outcome'], axis=1 )\n",
    "X_train, X_test, y_train, y_test = train_test_split(X, y,\n",
    "                                                   test_size = 0.30,\n",
    "                                                   random_state = 42)\n"
   ]
  },
  {
   "cell_type": "code",
   "execution_count": 13,
   "id": "f508b2cc-a50c-4466-aff0-9faf6be6cbeb",
   "metadata": {},
   "outputs": [],
   "source": [
    "from sklearn.ensemble import RandomForestClassifier"
   ]
  },
  {
   "cell_type": "code",
   "execution_count": 14,
   "id": "ab210147-e1e4-4d6b-9f9b-3103b0125531",
   "metadata": {},
   "outputs": [],
   "source": [
    "rf_model = RandomForestClassifier().fit(X_train, y_train)"
   ]
  },
  {
   "cell_type": "code",
   "execution_count": 15,
   "id": "c1fad8f2-644d-4a5e-8796-bb9ed792f5d9",
   "metadata": {},
   "outputs": [
    {
     "data": {
      "text/plain": [
       "RandomForestClassifier()"
      ]
     },
     "execution_count": 15,
     "metadata": {},
     "output_type": "execute_result"
    }
   ],
   "source": [
    "rf_model"
   ]
  },
  {
   "cell_type": "code",
   "execution_count": 16,
   "id": "90b0cfb3-7b1a-4675-9291-cacf47a83ad7",
   "metadata": {},
   "outputs": [
    {
     "data": {
      "text/plain": [
       "0.7402597402597403"
      ]
     },
     "execution_count": 16,
     "metadata": {},
     "output_type": "execute_result"
    }
   ],
   "source": [
    "y_pred = rf_model.predict(X_test)\n",
    "accuracy_score(y_test, y_pred)"
   ]
  },
  {
   "cell_type": "markdown",
   "id": "fbee7051-9164-43f9-923f-ca57970849dc",
   "metadata": {},
   "source": [
    "### Model Tuning"
   ]
  },
  {
   "cell_type": "code",
   "execution_count": 17,
   "id": "b048ba71-8e49-4685-8929-50ffc1dfe9ef",
   "metadata": {},
   "outputs": [
    {
     "data": {
      "text/plain": [
       "RandomForestClassifier()"
      ]
     },
     "execution_count": 17,
     "metadata": {},
     "output_type": "execute_result"
    }
   ],
   "source": [
    "rf_model"
   ]
  },
  {
   "cell_type": "code",
   "execution_count": 18,
   "id": "9fcfdc35-3dc7-4d20-810b-7bfaebabd99a",
   "metadata": {
    "collapsed": true,
    "jupyter": {
     "outputs_hidden": true
    },
    "tags": []
   },
   "outputs": [
    {
     "data": {
      "text/plain": [
       "\u001b[1;31mType:\u001b[0m        RandomForestClassifier\n",
       "\u001b[1;31mString form:\u001b[0m RandomForestClassifier()\n",
       "\u001b[1;31mLength:\u001b[0m      100\n",
       "\u001b[1;31mFile:\u001b[0m        c:\\users\\lenovo\\anaconda3\\lib\\site-packages\\sklearn\\ensemble\\_forest.py\n",
       "\u001b[1;31mDocstring:\u001b[0m  \n",
       "A random forest classifier.\n",
       "\n",
       "A random forest is a meta estimator that fits a number of decision tree\n",
       "classifiers on various sub-samples of the dataset and uses averaging to\n",
       "improve the predictive accuracy and control over-fitting.\n",
       "The sub-sample size is controlled with the `max_samples` parameter if\n",
       "`bootstrap=True` (default), otherwise the whole dataset is used to build\n",
       "each tree.\n",
       "\n",
       "Read more in the :ref:`User Guide <forest>`.\n",
       "\n",
       "Parameters\n",
       "----------\n",
       "n_estimators : int, default=100\n",
       "    The number of trees in the forest.\n",
       "\n",
       "    .. versionchanged:: 0.22\n",
       "       The default value of ``n_estimators`` changed from 10 to 100\n",
       "       in 0.22.\n",
       "\n",
       "criterion : {\"gini\", \"entropy\"}, default=\"gini\"\n",
       "    The function to measure the quality of a split. Supported criteria are\n",
       "    \"gini\" for the Gini impurity and \"entropy\" for the information gain.\n",
       "    Note: this parameter is tree-specific.\n",
       "\n",
       "max_depth : int, default=None\n",
       "    The maximum depth of the tree. If None, then nodes are expanded until\n",
       "    all leaves are pure or until all leaves contain less than\n",
       "    min_samples_split samples.\n",
       "\n",
       "min_samples_split : int or float, default=2\n",
       "    The minimum number of samples required to split an internal node:\n",
       "\n",
       "    - If int, then consider `min_samples_split` as the minimum number.\n",
       "    - If float, then `min_samples_split` is a fraction and\n",
       "      `ceil(min_samples_split * n_samples)` are the minimum\n",
       "      number of samples for each split.\n",
       "\n",
       "    .. versionchanged:: 0.18\n",
       "       Added float values for fractions.\n",
       "\n",
       "min_samples_leaf : int or float, default=1\n",
       "    The minimum number of samples required to be at a leaf node.\n",
       "    A split point at any depth will only be considered if it leaves at\n",
       "    least ``min_samples_leaf`` training samples in each of the left and\n",
       "    right branches.  This may have the effect of smoothing the model,\n",
       "    especially in regression.\n",
       "\n",
       "    - If int, then consider `min_samples_leaf` as the minimum number.\n",
       "    - If float, then `min_samples_leaf` is a fraction and\n",
       "      `ceil(min_samples_leaf * n_samples)` are the minimum\n",
       "      number of samples for each node.\n",
       "\n",
       "    .. versionchanged:: 0.18\n",
       "       Added float values for fractions.\n",
       "\n",
       "min_weight_fraction_leaf : float, default=0.0\n",
       "    The minimum weighted fraction of the sum total of weights (of all\n",
       "    the input samples) required to be at a leaf node. Samples have\n",
       "    equal weight when sample_weight is not provided.\n",
       "\n",
       "max_features : {\"auto\", \"sqrt\", \"log2\"}, int or float, default=\"auto\"\n",
       "    The number of features to consider when looking for the best split:\n",
       "\n",
       "    - If int, then consider `max_features` features at each split.\n",
       "    - If float, then `max_features` is a fraction and\n",
       "      `round(max_features * n_features)` features are considered at each\n",
       "      split.\n",
       "    - If \"auto\", then `max_features=sqrt(n_features)`.\n",
       "    - If \"sqrt\", then `max_features=sqrt(n_features)` (same as \"auto\").\n",
       "    - If \"log2\", then `max_features=log2(n_features)`.\n",
       "    - If None, then `max_features=n_features`.\n",
       "\n",
       "    Note: the search for a split does not stop until at least one\n",
       "    valid partition of the node samples is found, even if it requires to\n",
       "    effectively inspect more than ``max_features`` features.\n",
       "\n",
       "max_leaf_nodes : int, default=None\n",
       "    Grow trees with ``max_leaf_nodes`` in best-first fashion.\n",
       "    Best nodes are defined as relative reduction in impurity.\n",
       "    If None then unlimited number of leaf nodes.\n",
       "\n",
       "min_impurity_decrease : float, default=0.0\n",
       "    A node will be split if this split induces a decrease of the impurity\n",
       "    greater than or equal to this value.\n",
       "\n",
       "    The weighted impurity decrease equation is the following::\n",
       "\n",
       "        N_t / N * (impurity - N_t_R / N_t * right_impurity\n",
       "                            - N_t_L / N_t * left_impurity)\n",
       "\n",
       "    where ``N`` is the total number of samples, ``N_t`` is the number of\n",
       "    samples at the current node, ``N_t_L`` is the number of samples in the\n",
       "    left child, and ``N_t_R`` is the number of samples in the right child.\n",
       "\n",
       "    ``N``, ``N_t``, ``N_t_R`` and ``N_t_L`` all refer to the weighted sum,\n",
       "    if ``sample_weight`` is passed.\n",
       "\n",
       "    .. versionadded:: 0.19\n",
       "\n",
       "min_impurity_split : float, default=None\n",
       "    Threshold for early stopping in tree growth. A node will split\n",
       "    if its impurity is above the threshold, otherwise it is a leaf.\n",
       "\n",
       "    .. deprecated:: 0.19\n",
       "       ``min_impurity_split`` has been deprecated in favor of\n",
       "       ``min_impurity_decrease`` in 0.19. The default value of\n",
       "       ``min_impurity_split`` has changed from 1e-7 to 0 in 0.23 and it\n",
       "       will be removed in 1.0 (renaming of 0.25).\n",
       "       Use ``min_impurity_decrease`` instead.\n",
       "\n",
       "bootstrap : bool, default=True\n",
       "    Whether bootstrap samples are used when building trees. If False, the\n",
       "    whole dataset is used to build each tree.\n",
       "\n",
       "oob_score : bool, default=False\n",
       "    Whether to use out-of-bag samples to estimate\n",
       "    the generalization accuracy.\n",
       "\n",
       "n_jobs : int, default=None\n",
       "    The number of jobs to run in parallel. :meth:`fit`, :meth:`predict`,\n",
       "    :meth:`decision_path` and :meth:`apply` are all parallelized over the\n",
       "    trees. ``None`` means 1 unless in a :obj:`joblib.parallel_backend`\n",
       "    context. ``-1`` means using all processors. See :term:`Glossary\n",
       "    <n_jobs>` for more details.\n",
       "\n",
       "random_state : int, RandomState instance or None, default=None\n",
       "    Controls both the randomness of the bootstrapping of the samples used\n",
       "    when building trees (if ``bootstrap=True``) and the sampling of the\n",
       "    features to consider when looking for the best split at each node\n",
       "    (if ``max_features < n_features``).\n",
       "    See :term:`Glossary <random_state>` for details.\n",
       "\n",
       "verbose : int, default=0\n",
       "    Controls the verbosity when fitting and predicting.\n",
       "\n",
       "warm_start : bool, default=False\n",
       "    When set to ``True``, reuse the solution of the previous call to fit\n",
       "    and add more estimators to the ensemble, otherwise, just fit a whole\n",
       "    new forest. See :term:`the Glossary <warm_start>`.\n",
       "\n",
       "class_weight : {\"balanced\", \"balanced_subsample\"}, dict or list of dicts,             default=None\n",
       "    Weights associated with classes in the form ``{class_label: weight}``.\n",
       "    If not given, all classes are supposed to have weight one. For\n",
       "    multi-output problems, a list of dicts can be provided in the same\n",
       "    order as the columns of y.\n",
       "\n",
       "    Note that for multioutput (including multilabel) weights should be\n",
       "    defined for each class of every column in its own dict. For example,\n",
       "    for four-class multilabel classification weights should be\n",
       "    [{0: 1, 1: 1}, {0: 1, 1: 5}, {0: 1, 1: 1}, {0: 1, 1: 1}] instead of\n",
       "    [{1:1}, {2:5}, {3:1}, {4:1}].\n",
       "\n",
       "    The \"balanced\" mode uses the values of y to automatically adjust\n",
       "    weights inversely proportional to class frequencies in the input data\n",
       "    as ``n_samples / (n_classes * np.bincount(y))``\n",
       "\n",
       "    The \"balanced_subsample\" mode is the same as \"balanced\" except that\n",
       "    weights are computed based on the bootstrap sample for every tree\n",
       "    grown.\n",
       "\n",
       "    For multi-output, the weights of each column of y will be multiplied.\n",
       "\n",
       "    Note that these weights will be multiplied with sample_weight (passed\n",
       "    through the fit method) if sample_weight is specified.\n",
       "\n",
       "ccp_alpha : non-negative float, default=0.0\n",
       "    Complexity parameter used for Minimal Cost-Complexity Pruning. The\n",
       "    subtree with the largest cost complexity that is smaller than\n",
       "    ``ccp_alpha`` will be chosen. By default, no pruning is performed. See\n",
       "    :ref:`minimal_cost_complexity_pruning` for details.\n",
       "\n",
       "    .. versionadded:: 0.22\n",
       "\n",
       "max_samples : int or float, default=None\n",
       "    If bootstrap is True, the number of samples to draw from X\n",
       "    to train each base estimator.\n",
       "\n",
       "    - If None (default), then draw `X.shape[0]` samples.\n",
       "    - If int, then draw `max_samples` samples.\n",
       "    - If float, then draw `max_samples * X.shape[0]` samples. Thus,\n",
       "      `max_samples` should be in the interval `(0, 1)`.\n",
       "\n",
       "    .. versionadded:: 0.22\n",
       "\n",
       "Attributes\n",
       "----------\n",
       "base_estimator_ : DecisionTreeClassifier\n",
       "    The child estimator template used to create the collection of fitted\n",
       "    sub-estimators.\n",
       "\n",
       "estimators_ : list of DecisionTreeClassifier\n",
       "    The collection of fitted sub-estimators.\n",
       "\n",
       "classes_ : ndarray of shape (n_classes,) or a list of such arrays\n",
       "    The classes labels (single output problem), or a list of arrays of\n",
       "    class labels (multi-output problem).\n",
       "\n",
       "n_classes_ : int or list\n",
       "    The number of classes (single output problem), or a list containing the\n",
       "    number of classes for each output (multi-output problem).\n",
       "\n",
       "n_features_ : int\n",
       "    The number of features when ``fit`` is performed.\n",
       "\n",
       "n_outputs_ : int\n",
       "    The number of outputs when ``fit`` is performed.\n",
       "\n",
       "feature_importances_ : ndarray of shape (n_features,)\n",
       "    The impurity-based feature importances.\n",
       "    The higher, the more important the feature.\n",
       "    The importance of a feature is computed as the (normalized)\n",
       "    total reduction of the criterion brought by that feature.  It is also\n",
       "    known as the Gini importance.\n",
       "\n",
       "    Warning: impurity-based feature importances can be misleading for\n",
       "    high cardinality features (many unique values). See\n",
       "    :func:`sklearn.inspection.permutation_importance` as an alternative.\n",
       "\n",
       "oob_score_ : float\n",
       "    Score of the training dataset obtained using an out-of-bag estimate.\n",
       "    This attribute exists only when ``oob_score`` is True.\n",
       "\n",
       "oob_decision_function_ : ndarray of shape (n_samples, n_classes)\n",
       "    Decision function computed with out-of-bag estimate on the training\n",
       "    set. If n_estimators is small it might be possible that a data point\n",
       "    was never left out during the bootstrap. In this case,\n",
       "    `oob_decision_function_` might contain NaN. This attribute exists\n",
       "    only when ``oob_score`` is True.\n",
       "\n",
       "See Also\n",
       "--------\n",
       "DecisionTreeClassifier, ExtraTreesClassifier\n",
       "\n",
       "Notes\n",
       "-----\n",
       "The default values for the parameters controlling the size of the trees\n",
       "(e.g. ``max_depth``, ``min_samples_leaf``, etc.) lead to fully grown and\n",
       "unpruned trees which can potentially be very large on some data sets. To\n",
       "reduce memory consumption, the complexity and size of the trees should be\n",
       "controlled by setting those parameter values.\n",
       "\n",
       "The features are always randomly permuted at each split. Therefore,\n",
       "the best found split may vary, even with the same training data,\n",
       "``max_features=n_features`` and ``bootstrap=False``, if the improvement\n",
       "of the criterion is identical for several splits enumerated during the\n",
       "search of the best split. To obtain a deterministic behaviour during\n",
       "fitting, ``random_state`` has to be fixed.\n",
       "\n",
       "References\n",
       "----------\n",
       ".. [1] L. Breiman, \"Random Forests\", Machine Learning, 45(1), 5-32, 2001.\n",
       "\n",
       "Examples\n",
       "--------\n",
       ">>> from sklearn.ensemble import RandomForestClassifier\n",
       ">>> from sklearn.datasets import make_classification\n",
       ">>> X, y = make_classification(n_samples=1000, n_features=4,\n",
       "...                            n_informative=2, n_redundant=0,\n",
       "...                            random_state=0, shuffle=False)\n",
       ">>> clf = RandomForestClassifier(max_depth=2, random_state=0)\n",
       ">>> clf.fit(X, y)\n",
       "RandomForestClassifier(...)\n",
       ">>> print(clf.predict([[0, 0, 0, 0]]))\n",
       "[1]\n"
      ]
     },
     "metadata": {},
     "output_type": "display_data"
    }
   ],
   "source": [
    "?rf_model"
   ]
  },
  {
   "cell_type": "code",
   "execution_count": 19,
   "id": "a698c3eb-27a8-447e-8849-ab2cc1441e1a",
   "metadata": {},
   "outputs": [],
   "source": [
    "rf_params = {\"max_depth\": [2,5,8,10],\n",
    "            \"max_features\": [2,5,8],\n",
    "            \"n_estimators\": [100,500,1000],\n",
    "            \"min_samples_split\": [2,5,10]}"
   ]
  },
  {
   "cell_type": "code",
   "execution_count": 20,
   "id": "47084c4d-db98-461c-8b82-0389493d92a5",
   "metadata": {},
   "outputs": [],
   "source": [
    "rf_model = RandomForestClassifier()\n",
    "\n",
    "rf_cv_model = GridSearchCV(rf_model,\n",
    "                          rf_params,\n",
    "                          cv=10,\n",
    "                          n_jobs=-1,\n",
    "                          verbose=2)"
   ]
  },
  {
   "cell_type": "code",
   "execution_count": 21,
   "id": "9dd3fd0d-4914-4099-bedc-0b5bb3b7bb6c",
   "metadata": {},
   "outputs": [
    {
     "name": "stdout",
     "output_type": "stream",
     "text": [
      "Fitting 10 folds for each of 108 candidates, totalling 1080 fits\n"
     ]
    },
    {
     "data": {
      "text/plain": [
       "GridSearchCV(cv=10, estimator=RandomForestClassifier(), n_jobs=-1,\n",
       "             param_grid={'max_depth': [2, 5, 8, 10], 'max_features': [2, 5, 8],\n",
       "                         'min_samples_split': [2, 5, 10],\n",
       "                         'n_estimators': [100, 500, 1000]},\n",
       "             verbose=2)"
      ]
     },
     "execution_count": 21,
     "metadata": {},
     "output_type": "execute_result"
    }
   ],
   "source": [
    "rf_cv_model.fit(X_train, y_train)"
   ]
  },
  {
   "cell_type": "code",
   "execution_count": 22,
   "id": "628901de-964a-4904-9112-7f4f25785406",
   "metadata": {},
   "outputs": [
    {
     "name": "stdout",
     "output_type": "stream",
     "text": [
      "En iyi parametreler :{'max_depth': 10, 'max_features': 5, 'min_samples_split': 10, 'n_estimators': 100}\n"
     ]
    }
   ],
   "source": [
    "print(\"En iyi parametreler :\" + str(rf_cv_model.best_params_))"
   ]
  },
  {
   "cell_type": "code",
   "execution_count": 23,
   "id": "07f5493c-1b86-407d-b762-6f74513d6cc5",
   "metadata": {},
   "outputs": [],
   "source": [
    "#final"
   ]
  },
  {
   "cell_type": "code",
   "execution_count": 26,
   "id": "3d64e06e-053c-4ff2-af7a-3db2643c3056",
   "metadata": {},
   "outputs": [
    {
     "data": {
      "text/plain": [
       "RandomForestClassifier(max_depth=10, max_features=5, min_samples_split=10)"
      ]
     },
     "execution_count": 26,
     "metadata": {},
     "output_type": "execute_result"
    }
   ],
   "source": [
    "rf_tuned = RandomForestClassifier(max_depth = 10,\n",
    "                                  max_features = 5,\n",
    "                                  min_samples_split = 10,\n",
    "                                  n_estimators = 100)\n",
    "\n",
    "rf_tuned.fit(X_train, y_train)"
   ]
  },
  {
   "cell_type": "code",
   "execution_count": 28,
   "id": "9db0a7bc-c20d-4738-9c71-fd860a69e6e5",
   "metadata": {},
   "outputs": [
    {
     "data": {
      "text/plain": [
       "0.7402597402597403"
      ]
     },
     "execution_count": 28,
     "metadata": {},
     "output_type": "execute_result"
    }
   ],
   "source": [
    "y_pred = rf_tuned.predict(X_test)\n",
    "accuracy_score(y_test, y_pred)"
   ]
  },
  {
   "cell_type": "code",
   "execution_count": 29,
   "id": "4afc6840-8b31-47b7-a210-04d59c7b24c1",
   "metadata": {},
   "outputs": [],
   "source": [
    "Importance = pd.DataFrame({\"Importance\": rf_tuned.feature_importances_*100},\n",
    "                         index = X_train.columns)"
   ]
  },
  {
   "cell_type": "code",
   "execution_count": 31,
   "id": "9a5a4c46-7e17-4766-b809-4134f965ffa5",
   "metadata": {},
   "outputs": [
    {
     "data": {
      "text/plain": [
       "Text(0.5, 0, 'Değişken Önem Düzeyleri')"
      ]
     },
     "execution_count": 31,
     "metadata": {},
     "output_type": "execute_result"
    },
    {
     "data": {
      "image/png": "[encoded data removed]",
      "text/plain": [
       "<Figure size 432x288 with 1 Axes>"
      ]
     },
     "metadata": {
      "needs_background": "light"
     },
     "output_type": "display_data"
    }
   ],
   "source": [
    "Importance.sort_values(by = \"Importance\",\n",
    "                      axis = 0,\n",
    "                      ascending = True).plot(kind =\"barh\", color=\"r\")\n",
    "plt.xlabel(\"Değişken Önem Düzeyleri\")"
   ]
  },
  {
   "cell_type": "markdown",
   "id": "ba682932-88b8-4f52-8ee5-bd65cab41839",
   "metadata": {},
   "source": [
    "## Gradient Boosting Machines"
   ]
  },
  {
   "cell_type": "code",
   "execution_count": 32,
   "id": "854fe16c-f817-46b4-90b6-c51f28f9dadc",
   "metadata": {},
   "outputs": [],
   "source": [
    "df = diabets.copy()\n",
    "df = df.dropna()\n",
    "y = df[\"Outcome\"]\n",
    "X = df.drop(['Outcome'], axis=1 )\n",
    "X_train, X_test, y_train, y_test = train_test_split(X, y,\n",
    "                                                   test_size = 0.30,\n",
    "                                                   random_state = 42)\n"
   ]
  },
  {
   "cell_type": "code",
   "execution_count": 34,
   "id": "fe9d701b-c9a6-4fae-a2e1-ba514303792b",
   "metadata": {},
   "outputs": [],
   "source": [
    "from sklearn.ensemble import GradientBoostingClassifier"
   ]
  },
  {
   "cell_type": "code",
   "execution_count": 35,
   "id": "24d67b20-9a83-4494-9d6f-2da684a4f7fc",
   "metadata": {},
   "outputs": [],
   "source": [
    "gbm_model = GradientBoostingClassifier().fit(X_train, y_train)"
   ]
  },
  {
   "cell_type": "code",
   "execution_count": 36,
   "id": "443c3668-2309-4238-8410-00bfdc5be029",
   "metadata": {},
   "outputs": [
    {
     "data": {
      "text/plain": [
       "0.7489177489177489"
      ]
     },
     "execution_count": 36,
     "metadata": {},
     "output_type": "execute_result"
    }
   ],
   "source": [
    "y_pred = gbm_model.predict(X_test)\n",
    "accuracy_score(y_test, y_pred)"
   ]
  },
  {
   "cell_type": "markdown",
   "id": "dd3052f1-81b4-4960-8824-069dfe8d77c0",
   "metadata": {},
   "source": [
    "### Model Tuning"
   ]
  },
  {
   "cell_type": "code",
   "execution_count": 38,
   "id": "6af64a03-d994-42d4-b4b1-02e83d64dfab",
   "metadata": {
    "collapsed": true,
    "jupyter": {
     "outputs_hidden": true
    },
    "tags": []
   },
   "outputs": [
    {
     "data": {
      "text/plain": [
       "\u001b[1;31mType:\u001b[0m        GradientBoostingClassifier\n",
       "\u001b[1;31mString form:\u001b[0m GradientBoostingClassifier()\n",
       "\u001b[1;31mLength:\u001b[0m      100\n",
       "\u001b[1;31mFile:\u001b[0m        c:\\users\\lenovo\\anaconda3\\lib\\site-packages\\sklearn\\ensemble\\_gb.py\n",
       "\u001b[1;31mDocstring:\u001b[0m  \n",
       "Gradient Boosting for classification.\n",
       "\n",
       "GB builds an additive model in a\n",
       "forward stage-wise fashion; it allows for the optimization of\n",
       "arbitrary differentiable loss functions. In each stage ``n_classes_``\n",
       "regression trees are fit on the negative gradient of the\n",
       "binomial or multinomial deviance loss function. Binary classification\n",
       "is a special case where only a single regression tree is induced.\n",
       "\n",
       "Read more in the :ref:`User Guide <gradient_boosting>`.\n",
       "\n",
       "Parameters\n",
       "----------\n",
       "loss : {'deviance', 'exponential'}, default='deviance'\n",
       "    The loss function to be optimized. 'deviance' refers to\n",
       "    deviance (= logistic regression) for classification\n",
       "    with probabilistic outputs. For loss 'exponential' gradient\n",
       "    boosting recovers the AdaBoost algorithm.\n",
       "\n",
       "learning_rate : float, default=0.1\n",
       "    Learning rate shrinks the contribution of each tree by `learning_rate`.\n",
       "    There is a trade-off between learning_rate and n_estimators.\n",
       "\n",
       "n_estimators : int, default=100\n",
       "    The number of boosting stages to perform. Gradient boosting\n",
       "    is fairly robust to over-fitting so a large number usually\n",
       "    results in better performance.\n",
       "\n",
       "subsample : float, default=1.0\n",
       "    The fraction of samples to be used for fitting the individual base\n",
       "    learners. If smaller than 1.0 this results in Stochastic Gradient\n",
       "    Boosting. `subsample` interacts with the parameter `n_estimators`.\n",
       "    Choosing `subsample < 1.0` leads to a reduction of variance\n",
       "    and an increase in bias.\n",
       "\n",
       "criterion : {'friedman_mse', 'mse', 'mae'}, default='friedman_mse'\n",
       "    The function to measure the quality of a split. Supported criteria\n",
       "    are 'friedman_mse' for the mean squared error with improvement\n",
       "    score by Friedman, 'mse' for mean squared error, and 'mae' for\n",
       "    the mean absolute error. The default value of 'friedman_mse' is\n",
       "    generally the best as it can provide a better approximation in\n",
       "    some cases.\n",
       "\n",
       "    .. versionadded:: 0.18\n",
       "    .. deprecated:: 0.24\n",
       "        `criterion='mae'` is deprecated and will be removed in version\n",
       "        1.1 (renaming of 0.26). Use `criterion='friedman_mse'` or `'mse'`\n",
       "        instead, as trees should use a least-square criterion in\n",
       "        Gradient Boosting.\n",
       "\n",
       "min_samples_split : int or float, default=2\n",
       "    The minimum number of samples required to split an internal node:\n",
       "\n",
       "    - If int, then consider `min_samples_split` as the minimum number.\n",
       "    - If float, then `min_samples_split` is a fraction and\n",
       "      `ceil(min_samples_split * n_samples)` are the minimum\n",
       "      number of samples for each split.\n",
       "\n",
       "    .. versionchanged:: 0.18\n",
       "       Added float values for fractions.\n",
       "\n",
       "min_samples_leaf : int or float, default=1\n",
       "    The minimum number of samples required to be at a leaf node.\n",
       "    A split point at any depth will only be considered if it leaves at\n",
       "    least ``min_samples_leaf`` training samples in each of the left and\n",
       "    right branches.  This may have the effect of smoothing the model,\n",
       "    especially in regression.\n",
       "\n",
       "    - If int, then consider `min_samples_leaf` as the minimum number.\n",
       "    - If float, then `min_samples_leaf` is a fraction and\n",
       "      `ceil(min_samples_leaf * n_samples)` are the minimum\n",
       "      number of samples for each node.\n",
       "\n",
       "    .. versionchanged:: 0.18\n",
       "       Added float values for fractions.\n",
       "\n",
       "min_weight_fraction_leaf : float, default=0.0\n",
       "    The minimum weighted fraction of the sum total of weights (of all\n",
       "    the input samples) required to be at a leaf node. Samples have\n",
       "    equal weight when sample_weight is not provided.\n",
       "\n",
       "max_depth : int, default=3\n",
       "    The maximum depth of the individual regression estimators. The maximum\n",
       "    depth limits the number of nodes in the tree. Tune this parameter\n",
       "    for best performance; the best value depends on the interaction\n",
       "    of the input variables.\n",
       "\n",
       "min_impurity_decrease : float, default=0.0\n",
       "    A node will be split if this split induces a decrease of the impurity\n",
       "    greater than or equal to this value.\n",
       "\n",
       "    The weighted impurity decrease equation is the following::\n",
       "\n",
       "        N_t / N * (impurity - N_t_R / N_t * right_impurity\n",
       "                            - N_t_L / N_t * left_impurity)\n",
       "\n",
       "    where ``N`` is the total number of samples, ``N_t`` is the number of\n",
       "    samples at the current node, ``N_t_L`` is the number of samples in the\n",
       "    left child, and ``N_t_R`` is the number of samples in the right child.\n",
       "\n",
       "    ``N``, ``N_t``, ``N_t_R`` and ``N_t_L`` all refer to the weighted sum,\n",
       "    if ``sample_weight`` is passed.\n",
       "\n",
       "    .. versionadded:: 0.19\n",
       "\n",
       "min_impurity_split : float, default=None\n",
       "    Threshold for early stopping in tree growth. A node will split\n",
       "    if its impurity is above the threshold, otherwise it is a leaf.\n",
       "\n",
       "    .. deprecated:: 0.19\n",
       "       ``min_impurity_split`` has been deprecated in favor of\n",
       "       ``min_impurity_decrease`` in 0.19. The default value of\n",
       "       ``min_impurity_split`` has changed from 1e-7 to 0 in 0.23 and it\n",
       "       will be removed in 1.0 (renaming of 0.25).\n",
       "       Use ``min_impurity_decrease`` instead.\n",
       "\n",
       "init : estimator or 'zero', default=None\n",
       "    An estimator object that is used to compute the initial predictions.\n",
       "    ``init`` has to provide :meth:`fit` and :meth:`predict_proba`. If\n",
       "    'zero', the initial raw predictions are set to zero. By default, a\n",
       "    ``DummyEstimator`` predicting the classes priors is used.\n",
       "\n",
       "random_state : int, RandomState instance or None, default=None\n",
       "    Controls the random seed given to each Tree estimator at each\n",
       "    boosting iteration.\n",
       "    In addition, it controls the random permutation of the features at\n",
       "    each split (see Notes for more details).\n",
       "    It also controls the random spliting of the training data to obtain a\n",
       "    validation set if `n_iter_no_change` is not None.\n",
       "    Pass an int for reproducible output across multiple function calls.\n",
       "    See :term:`Glossary <random_state>`.\n",
       "\n",
       "max_features : {'auto', 'sqrt', 'log2'}, int or float, default=None\n",
       "    The number of features to consider when looking for the best split:\n",
       "\n",
       "    - If int, then consider `max_features` features at each split.\n",
       "    - If float, then `max_features` is a fraction and\n",
       "      `int(max_features * n_features)` features are considered at each\n",
       "      split.\n",
       "    - If 'auto', then `max_features=sqrt(n_features)`.\n",
       "    - If 'sqrt', then `max_features=sqrt(n_features)`.\n",
       "    - If 'log2', then `max_features=log2(n_features)`.\n",
       "    - If None, then `max_features=n_features`.\n",
       "\n",
       "    Choosing `max_features < n_features` leads to a reduction of variance\n",
       "    and an increase in bias.\n",
       "\n",
       "    Note: the search for a split does not stop until at least one\n",
       "    valid partition of the node samples is found, even if it requires to\n",
       "    effectively inspect more than ``max_features`` features.\n",
       "\n",
       "verbose : int, default=0\n",
       "    Enable verbose output. If 1 then it prints progress and performance\n",
       "    once in a while (the more trees the lower the frequency). If greater\n",
       "    than 1 then it prints progress and performance for every tree.\n",
       "\n",
       "max_leaf_nodes : int, default=None\n",
       "    Grow trees with ``max_leaf_nodes`` in best-first fashion.\n",
       "    Best nodes are defined as relative reduction in impurity.\n",
       "    If None then unlimited number of leaf nodes.\n",
       "\n",
       "warm_start : bool, default=False\n",
       "    When set to ``True``, reuse the solution of the previous call to fit\n",
       "    and add more estimators to the ensemble, otherwise, just erase the\n",
       "    previous solution. See :term:`the Glossary <warm_start>`.\n",
       "\n",
       "validation_fraction : float, default=0.1\n",
       "    The proportion of training data to set aside as validation set for\n",
       "    early stopping. Must be between 0 and 1.\n",
       "    Only used if ``n_iter_no_change`` is set to an integer.\n",
       "\n",
       "    .. versionadded:: 0.20\n",
       "\n",
       "n_iter_no_change : int, default=None\n",
       "    ``n_iter_no_change`` is used to decide if early stopping will be used\n",
       "    to terminate training when validation score is not improving. By\n",
       "    default it is set to None to disable early stopping. If set to a\n",
       "    number, it will set aside ``validation_fraction`` size of the training\n",
       "    data as validation and terminate training when validation score is not\n",
       "    improving in all of the previous ``n_iter_no_change`` numbers of\n",
       "    iterations. The split is stratified.\n",
       "\n",
       "    .. versionadded:: 0.20\n",
       "\n",
       "tol : float, default=1e-4\n",
       "    Tolerance for the early stopping. When the loss is not improving\n",
       "    by at least tol for ``n_iter_no_change`` iterations (if set to a\n",
       "    number), the training stops.\n",
       "\n",
       "    .. versionadded:: 0.20\n",
       "\n",
       "ccp_alpha : non-negative float, default=0.0\n",
       "    Complexity parameter used for Minimal Cost-Complexity Pruning. The\n",
       "    subtree with the largest cost complexity that is smaller than\n",
       "    ``ccp_alpha`` will be chosen. By default, no pruning is performed. See\n",
       "    :ref:`minimal_cost_complexity_pruning` for details.\n",
       "\n",
       "    .. versionadded:: 0.22\n",
       "\n",
       "Attributes\n",
       "----------\n",
       "n_estimators_ : int\n",
       "    The number of estimators as selected by early stopping (if\n",
       "    ``n_iter_no_change`` is specified). Otherwise it is set to\n",
       "    ``n_estimators``.\n",
       "\n",
       "    .. versionadded:: 0.20\n",
       "\n",
       "feature_importances_ : ndarray of shape (n_features,)\n",
       "    The impurity-based feature importances.\n",
       "    The higher, the more important the feature.\n",
       "    The importance of a feature is computed as the (normalized)\n",
       "    total reduction of the criterion brought by that feature.  It is also\n",
       "    known as the Gini importance.\n",
       "\n",
       "    Warning: impurity-based feature importances can be misleading for\n",
       "    high cardinality features (many unique values). See\n",
       "    :func:`sklearn.inspection.permutation_importance` as an alternative.\n",
       "\n",
       "oob_improvement_ : ndarray of shape (n_estimators,)\n",
       "    The improvement in loss (= deviance) on the out-of-bag samples\n",
       "    relative to the previous iteration.\n",
       "    ``oob_improvement_[0]`` is the improvement in\n",
       "    loss of the first stage over the ``init`` estimator.\n",
       "    Only available if ``subsample < 1.0``\n",
       "\n",
       "train_score_ : ndarray of shape (n_estimators,)\n",
       "    The i-th score ``train_score_[i]`` is the deviance (= loss) of the\n",
       "    model at iteration ``i`` on the in-bag sample.\n",
       "    If ``subsample == 1`` this is the deviance on the training data.\n",
       "\n",
       "loss_ : LossFunction\n",
       "    The concrete ``LossFunction`` object.\n",
       "\n",
       "init_ : estimator\n",
       "    The estimator that provides the initial predictions.\n",
       "    Set via the ``init`` argument or ``loss.init_estimator``.\n",
       "\n",
       "estimators_ : ndarray of DecisionTreeRegressor of shape (n_estimators, ``loss_.K``)\n",
       "    The collection of fitted sub-estimators. ``loss_.K`` is 1 for binary\n",
       "    classification, otherwise n_classes.\n",
       "\n",
       "classes_ : ndarray of shape (n_classes,)\n",
       "    The classes labels.\n",
       "\n",
       "n_features_ : int\n",
       "    The number of data features.\n",
       "\n",
       "n_classes_ : int\n",
       "    The number of classes.\n",
       "\n",
       "max_features_ : int\n",
       "    The inferred value of max_features.\n",
       "\n",
       "See Also\n",
       "--------\n",
       "HistGradientBoostingClassifier : Histogram-based Gradient Boosting\n",
       "    Classification Tree.\n",
       "sklearn.tree.DecisionTreeClassifier : A decision tree classifier.\n",
       "RandomForestClassifier : A meta-estimator that fits a number of decision\n",
       "    tree classifiers on various sub-samples of the dataset and uses\n",
       "    averaging to improve the predictive accuracy and control over-fitting.\n",
       "AdaBoostClassifier : A meta-estimator that begins by fitting a classifier\n",
       "    on the original dataset and then fits additional copies of the\n",
       "    classifier on the same dataset where the weights of incorrectly\n",
       "    classified instances are adjusted such that subsequent classifiers\n",
       "    focus more on difficult cases.\n",
       "\n",
       "Notes\n",
       "-----\n",
       "The features are always randomly permuted at each split. Therefore,\n",
       "the best found split may vary, even with the same training data and\n",
       "``max_features=n_features``, if the improvement of the criterion is\n",
       "identical for several splits enumerated during the search of the best\n",
       "split. To obtain a deterministic behaviour during fitting,\n",
       "``random_state`` has to be fixed.\n",
       "\n",
       "References\n",
       "----------\n",
       "J. Friedman, Greedy Function Approximation: A Gradient Boosting\n",
       "Machine, The Annals of Statistics, Vol. 29, No. 5, 2001.\n",
       "\n",
       "J. Friedman, Stochastic Gradient Boosting, 1999\n",
       "\n",
       "T. Hastie, R. Tibshirani and J. Friedman.\n",
       "Elements of Statistical Learning Ed. 2, Springer, 2009.\n",
       "\n",
       "Examples\n",
       "--------\n",
       "The following example shows how to fit a gradient boosting classifier with\n",
       "100 decision stumps as weak learners.\n",
       "\n",
       ">>> from sklearn.datasets import make_hastie_10_2\n",
       ">>> from sklearn.ensemble import GradientBoostingClassifier\n",
       "\n",
       ">>> X, y = make_hastie_10_2(random_state=0)\n",
       ">>> X_train, X_test = X[:2000], X[2000:]\n",
       ">>> y_train, y_test = y[:2000], y[2000:]\n",
       "\n",
       ">>> clf = GradientBoostingClassifier(n_estimators=100, learning_rate=1.0,\n",
       "...     max_depth=1, random_state=0).fit(X_train, y_train)\n",
       ">>> clf.score(X_test, y_test)\n",
       "0.913...\n"
      ]
     },
     "metadata": {},
     "output_type": "display_data"
    }
   ],
   "source": [
    "?gbm_model"
   ]
  },
  {
   "cell_type": "code",
   "execution_count": 39,
   "id": "3849560b-c650-4220-9c1c-b54b8cb8c9bf",
   "metadata": {},
   "outputs": [],
   "source": [
    "gbm_params = {\"learning_rate\": [0.001, 0.01, 0.1, 0.05],\n",
    "             \"n_estimators\": [100, 500, 1000],\n",
    "             \"max_depth\": [3,5,10],\n",
    "             \"min_samples_split\": [2,5,10]}"
   ]
  },
  {
   "cell_type": "code",
   "execution_count": 40,
   "id": "12a0c623-944a-46b7-bce3-a17506458223",
   "metadata": {},
   "outputs": [],
   "source": [
    "gbm = GradientBoostingClassifier()\n",
    "gbm_cv = GridSearchCV(gbm, gbm_params, cv=10, n_jobs=-1, verbose=2)"
   ]
  },
  {
   "cell_type": "code",
   "execution_count": 41,
   "id": "37203212-75ae-4ca5-a2f8-1c75f0ff5d59",
   "metadata": {},
   "outputs": [
    {
     "name": "stdout",
     "output_type": "stream",
     "text": [
      "Fitting 10 folds for each of 108 candidates, totalling 1080 fits\n"
     ]
    },
    {
     "data": {
      "text/plain": [
       "GridSearchCV(cv=10, estimator=GradientBoostingClassifier(), n_jobs=-1,\n",
       "             param_grid={'learning_rate': [0.001, 0.01, 0.1, 0.05],\n",
       "                         'max_depth': [3, 5, 10],\n",
       "                         'min_samples_split': [2, 5, 10],\n",
       "                         'n_estimators': [100, 500, 1000]},\n",
       "             verbose=2)"
      ]
     },
     "execution_count": 41,
     "metadata": {},
     "output_type": "execute_result"
    }
   ],
   "source": [
    "gbm_cv.fit(X_train, y_train)"
   ]
  },
  {
   "cell_type": "code",
   "execution_count": 42,
   "id": "64595030-b8b2-4124-aaeb-da257effc1ba",
   "metadata": {},
   "outputs": [
    {
     "name": "stdout",
     "output_type": "stream",
     "text": [
      "En iyi parametreler :{'max_depth': 10, 'max_features': 5, 'min_samples_split': 10, 'n_estimators': 100}\n"
     ]
    }
   ],
   "source": [
    "print(\"En iyi parametreler :\" + str(rf_cv_model.best_params_))"
   ]
  },
  {
   "cell_type": "code",
   "execution_count": 43,
   "id": "d09844c4-b453-4b51-bb7c-ad689ac11384",
   "metadata": {},
   "outputs": [],
   "source": [
    "gbm = GradientBoostingClassifier(max_depth = 10,\n",
    "                                max_features= 5,\n",
    "                                min_samples_split = 10,\n",
    "                                n_estimators = 100)"
   ]
  },
  {
   "cell_type": "code",
   "execution_count": 44,
   "id": "c9da4a1f-1bbd-4f2d-a394-9a0b9626550e",
   "metadata": {},
   "outputs": [],
   "source": [
    "gbm_tuned = gbm.fit(X_train, y_train)"
   ]
  },
  {
   "cell_type": "code",
   "execution_count": 45,
   "id": "b961a393-4470-4bf5-9ea6-7bd946af142b",
   "metadata": {},
   "outputs": [
    {
     "data": {
      "text/plain": [
       "0.7186147186147186"
      ]
     },
     "execution_count": 45,
     "metadata": {},
     "output_type": "execute_result"
    }
   ],
   "source": [
    "y_pred = gbm_tuned.predict(X_test)\n",
    "accuracy_score(y_test, y_pred)"
   ]
  },
  {
   "cell_type": "markdown",
   "id": "acecdf40-f0a8-4815-92c9-1eadeb386125",
   "metadata": {},
   "source": [
    "## XGBoost "
   ]
  },
  {
   "cell_type": "markdown",
   "id": "190bae96-cbd6-4bd9-a775-e01979a21f16",
   "metadata": {},
   "source": [
    "### Model Tahmin"
   ]
  },
  {
   "cell_type": "code",
   "execution_count": 14,
   "id": "5bbaf70f-56a7-40b2-b7b8-6519620e6c29",
   "metadata": {},
   "outputs": [],
   "source": [
    "df = diabets.copy()\n",
    "df = df.dropna()\n",
    "y = df[\"Outcome\"]\n",
    "X = df.drop(['Outcome'], axis=1 )\n",
    "#X = df[\"Pregnancies\"]\n",
    "X = pd.DataFrame(X)\n",
    "X_train, X_test, y_train, y_test = train_test_split(X, y,\n",
    "                                                   test_size = 0.30,\n",
    "                                                   random_state = 42)\n"
   ]
  },
  {
   "cell_type": "code",
   "execution_count": 15,
   "id": "b0788698-0d77-4956-90f1-3e16616d139e",
   "metadata": {},
   "outputs": [],
   "source": [
    "from xgboost import XGBClassifier"
   ]
  },
  {
   "cell_type": "code",
   "execution_count": 16,
   "id": "87b0289a-b743-4bd8-bfa9-7f9dcd97a455",
   "metadata": {
    "collapsed": true,
    "jupyter": {
     "outputs_hidden": true
    },
    "tags": []
   },
   "outputs": [
    {
     "name": "stdout",
     "output_type": "stream",
     "text": [
      "[20:10:16] WARNING: C:/Users/Administrator/workspace/xgboost-win64_release_1.5.1/src/learner.cc:1115: Starting in XGBoost 1.3.0, the default evaluation metric used with the objective 'binary:logistic' was changed from 'error' to 'logloss'. Explicitly set eval_metric if you'd like to restore the old behavior.\n"
     ]
    }
   ],
   "source": [
    "xgb_model = XGBClassifier().fit(X_train, y_train)"
   ]
  },
  {
   "cell_type": "code",
   "execution_count": 17,
   "id": "0ebbfdbe-8cb2-4107-a0fa-fb8762d49cb0",
   "metadata": {},
   "outputs": [
    {
     "data": {
      "text/plain": [
       "0.7359307359307359"
      ]
     },
     "execution_count": 17,
     "metadata": {},
     "output_type": "execute_result"
    }
   ],
   "source": [
    "y_pred = xgb_model.predict(X_test)\n",
    "accuracy_score(y_test, y_pred)"
   ]
  },
  {
   "cell_type": "markdown",
   "id": "40385b03-1cdd-4630-a962-e7c073c7bff6",
   "metadata": {},
   "source": [
    "### Model Tuning"
   ]
  },
  {
   "cell_type": "code",
   "execution_count": 18,
   "id": "257b7deb-e6aa-4ccd-9ea8-2473b2c08ae6",
   "metadata": {
    "collapsed": true,
    "jupyter": {
     "outputs_hidden": true
    },
    "tags": []
   },
   "outputs": [
    {
     "data": {
      "text/plain": [
       "\u001b[1;31mType:\u001b[0m        XGBClassifier\n",
       "\u001b[1;31mString form:\u001b[0m\n",
       "XGBClassifier(base_score=0.5, booster='gbtree', colsample_bylevel=1,\n",
       "           colsample_byno <...> _weight=1, subsample=1,\n",
       "           tree_method='exact', validate_parameters=1, verbosity=None)\n",
       "\u001b[1;31mFile:\u001b[0m        c:\\users\\lenovo\\anaconda3\\lib\\site-packages\\xgboost\\sklearn.py\n",
       "\u001b[1;31mDocstring:\u001b[0m  \n",
       "Implementation of the scikit-learn API for XGBoost classification.\n",
       "\n",
       "\n",
       "Parameters\n",
       "----------\n",
       "\n",
       "    n_estimators : int\n",
       "        Number of boosting rounds.\n",
       "    use_label_encoder : bool\n",
       "        (Deprecated) Use the label encoder from scikit-learn to encode the labels. For new\n",
       "        code, we recommend that you set this parameter to False.\n",
       "\n",
       "    max_depth :  Optional[int]\n",
       "        Maximum tree depth for base learners.\n",
       "    learning_rate : Optional[float]\n",
       "        Boosting learning rate (xgb's \"eta\")\n",
       "    verbosity : Optional[int]\n",
       "        The degree of verbosity. Valid values are 0 (silent) - 3 (debug).\n",
       "    objective : typing.Union[str, typing.Callable[[numpy.ndarray, numpy.ndarray], typing.Tuple[numpy.ndarray, numpy.ndarray]], NoneType]\n",
       "        Specify the learning task and the corresponding learning objective or\n",
       "        a custom objective function to be used (see note below).\n",
       "    booster: Optional[str]\n",
       "        Specify which booster to use: gbtree, gblinear or dart.\n",
       "    tree_method: Optional[str]\n",
       "        Specify which tree method to use.  Default to auto.  If this parameter\n",
       "        is set to default, XGBoost will choose the most conservative option\n",
       "        available.  It's recommended to study this option from the parameters\n",
       "        document: https://xgboost.readthedocs.io/en/latest/treemethod.html.\n",
       "    n_jobs : Optional[int]\n",
       "        Number of parallel threads used to run xgboost.  When used with other Scikit-Learn\n",
       "        algorithms like grid search, you may choose which algorithm to parallelize and\n",
       "        balance the threads.  Creating thread contention will significantly slow down both\n",
       "        algorithms.\n",
       "    gamma : Optional[float]\n",
       "        Minimum loss reduction required to make a further partition on a leaf\n",
       "        node of the tree.\n",
       "    min_child_weight : Optional[float]\n",
       "        Minimum sum of instance weight(hessian) needed in a child.\n",
       "    max_delta_step : Optional[float]\n",
       "        Maximum delta step we allow each tree's weight estimation to be.\n",
       "    subsample : Optional[float]\n",
       "        Subsample ratio of the training instance.\n",
       "    colsample_bytree : Optional[float]\n",
       "        Subsample ratio of columns when constructing each tree.\n",
       "    colsample_bylevel : Optional[float]\n",
       "        Subsample ratio of columns for each level.\n",
       "    colsample_bynode : Optional[float]\n",
       "        Subsample ratio of columns for each split.\n",
       "    reg_alpha : Optional[float]\n",
       "        L1 regularization term on weights (xgb's alpha).\n",
       "    reg_lambda : Optional[float]\n",
       "        L2 regularization term on weights (xgb's lambda).\n",
       "    scale_pos_weight : Optional[float]\n",
       "        Balancing of positive and negative weights.\n",
       "    base_score : Optional[float]\n",
       "        The initial prediction score of all instances, global bias.\n",
       "    random_state : Optional[Union[numpy.random.RandomState, int]]\n",
       "        Random number seed.\n",
       "\n",
       "        .. note::\n",
       "\n",
       "           Using gblinear booster with shotgun updater is nondeterministic as\n",
       "           it uses Hogwild algorithm.\n",
       "\n",
       "    missing : float, default np.nan\n",
       "        Value in the data which needs to be present as a missing value.\n",
       "    num_parallel_tree: Optional[int]\n",
       "        Used for boosting random forest.\n",
       "    monotone_constraints : Optional[Union[Dict[str, int], str]]\n",
       "        Constraint of variable monotonicity.  See tutorial for more\n",
       "        information.\n",
       "    interaction_constraints : Optional[Union[str, List[Tuple[str]]]]\n",
       "        Constraints for interaction representing permitted interactions.  The\n",
       "        constraints must be specified in the form of a nest list, e.g. [[0, 1],\n",
       "        [2, 3, 4]], where each inner list is a group of indices of features\n",
       "        that are allowed to interact with each other.  See tutorial for more\n",
       "        information\n",
       "    importance_type: Optional[str]\n",
       "        The feature importance type for the feature_importances\\_ property:\n",
       "\n",
       "        * For tree model, it's either \"gain\", \"weight\", \"cover\", \"total_gain\" or\n",
       "          \"total_cover\".\n",
       "        * For linear model, only \"weight\" is defined and it's the normalized coefficients\n",
       "          without bias.\n",
       "\n",
       "    gpu_id : Optional[int]\n",
       "        Device ordinal.\n",
       "    validate_parameters : Optional[bool]\n",
       "        Give warnings for unknown parameter.\n",
       "    predictor : Optional[str]\n",
       "        Force XGBoost to use specific predictor, available choices are [cpu_predictor,\n",
       "        gpu_predictor].\n",
       "    enable_categorical : bool\n",
       "\n",
       "        .. versionadded:: 1.5.0\n",
       "\n",
       "        Experimental support for categorical data.  Do not set to true unless you are\n",
       "        interested in development. Only valid when `gpu_hist` and dataframe are used.\n",
       "\n",
       "    kwargs : dict, optional\n",
       "        Keyword arguments for XGBoost Booster object.  Full documentation of\n",
       "        parameters can be found here:\n",
       "        https://github.com/dmlc/xgboost/blob/master/doc/parameter.rst.\n",
       "        Attempting to set a parameter via the constructor args and \\*\\*kwargs\n",
       "        dict simultaneously will result in a TypeError.\n",
       "\n",
       "        .. note:: \\*\\*kwargs unsupported by scikit-learn\n",
       "\n",
       "            \\*\\*kwargs is unsupported by scikit-learn.  We do not guarantee\n",
       "            that parameters passed via this argument will interact properly\n",
       "            with scikit-learn.\n",
       "\n",
       "        .. note::  Custom objective function\n",
       "\n",
       "            A custom objective function can be provided for the ``objective``\n",
       "            parameter. In this case, it should have the signature\n",
       "            ``objective(y_true, y_pred) -> grad, hess``:\n",
       "\n",
       "            y_true: array_like of shape [n_samples]\n",
       "                The target values\n",
       "            y_pred: array_like of shape [n_samples]\n",
       "                The predicted values\n",
       "\n",
       "            grad: array_like of shape [n_samples]\n",
       "                The value of the gradient for each sample point.\n",
       "            hess: array_like of shape [n_samples]\n",
       "                The value of the second derivative for each sample point\n"
      ]
     },
     "metadata": {},
     "output_type": "display_data"
    }
   ],
   "source": [
    "?xgb_model"
   ]
  },
  {
   "cell_type": "code",
   "execution_count": 20,
   "id": "18d37dde-400b-4117-bfae-0a48c46e79ad",
   "metadata": {},
   "outputs": [],
   "source": [
    "xgb_params = {\n",
    "    'n_estimators': [100,500,1000,2000],\n",
    "    'subsample': [0.6,0.8,1.0],\n",
    "    'max_depth': [3,4,5,6],\n",
    "    'learning_rate': [0.1,0.01,0.02,0.05],\n",
    "    'min_samples_split': [2,5,10]\n",
    "}"
   ]
  },
  {
   "cell_type": "code",
   "execution_count": 21,
   "id": "d6997899-7861-4f9e-ae9b-c914c1ea62fd",
   "metadata": {},
   "outputs": [],
   "source": [
    "xgb = XGBClassifier()\n",
    "xgb_cv_model = GridSearchCV(xgb, xgb_params, cv=10, n_jobs=-1, verbose=2)"
   ]
  },
  {
   "cell_type": "code",
   "execution_count": 22,
   "id": "8540616a-be26-4e7b-9890-42af2b4cfbb7",
   "metadata": {},
   "outputs": [
    {
     "name": "stdout",
     "output_type": "stream",
     "text": [
      "Fitting 10 folds for each of 576 candidates, totalling 5760 fits\n",
      "[21:13:06] WARNING: C:/Users/Administrator/workspace/xgboost-win64_release_1.5.1/src/learner.cc:576: \n",
      "Parameters: { \"min_samples_split\" } might not be used.\n",
      "\n",
      "  This could be a false alarm, with some parameters getting used by language bindings but\n",
      "  then being mistakenly passed down to XGBoost core, or some parameter actually being used\n",
      "  but getting flagged wrongly here. Please open an issue if you find any such cases.\n",
      "\n",
      "\n",
      "[21:13:06] WARNING: C:/Users/Administrator/workspace/xgboost-win64_release_1.5.1/src/learner.cc:1115: Starting in XGBoost 1.3.0, the default evaluation metric used with the objective 'binary:logistic' was changed from 'error' to 'logloss'. Explicitly set eval_metric if you'd like to restore the old behavior.\n"
     ]
    },
    {
     "data": {
      "text/plain": [
       "GridSearchCV(cv=10,\n",
       "             estimator=XGBClassifier(base_score=None, booster=None,\n",
       "                                     colsample_bylevel=None,\n",
       "                                     colsample_bynode=None,\n",
       "                                     colsample_bytree=None,\n",
       "                                     enable_categorical=False, gamma=None,\n",
       "                                     gpu_id=None, importance_type=None,\n",
       "                                     interaction_constraints=None,\n",
       "                                     learning_rate=None, max_delta_step=None,\n",
       "                                     max_depth=None, min_child_weight=None,\n",
       "                                     missing=nan, monotone_constraints=None...\n",
       "                                     num_parallel_tree=None, predictor=None,\n",
       "                                     random_state=None, reg_alpha=None,\n",
       "                                     reg_lambda=None, scale_pos_weight=None,\n",
       "                                     subsample=None, tree_method=None,\n",
       "                                     validate_parameters=None, verbosity=None),\n",
       "             n_jobs=-1,\n",
       "             param_grid={'learning_rate': [0.1, 0.01, 0.02, 0.05],\n",
       "                         'max_depth': [3, 4, 5, 6],\n",
       "                         'min_samples_split': [2, 5, 10],\n",
       "                         'n_estimators': [100, 500, 1000, 2000],\n",
       "                         'subsample': [0.6, 0.8, 1.0]},\n",
       "             verbose=2)"
      ]
     },
     "execution_count": 22,
     "metadata": {},
     "output_type": "execute_result"
    }
   ],
   "source": [
    "xgb_cv_model.fit(X_train, y_train)"
   ]
  },
  {
   "cell_type": "code",
   "execution_count": 23,
   "id": "1a89a98f-8f03-4f3b-b37b-b79dfb929bbc",
   "metadata": {},
   "outputs": [
    {
     "data": {
      "text/plain": [
       "{'learning_rate': 0.02,\n",
       " 'max_depth': 3,\n",
       " 'min_samples_split': 2,\n",
       " 'n_estimators': 100,\n",
       " 'subsample': 0.6}"
      ]
     },
     "execution_count": 23,
     "metadata": {},
     "output_type": "execute_result"
    }
   ],
   "source": [
    "xgb_cv_model.best_params_"
   ]
  },
  {
   "cell_type": "code",
   "execution_count": 24,
   "id": "6fb263ee-665d-45eb-8ae6-8c3cd546d72e",
   "metadata": {},
   "outputs": [],
   "source": [
    "xgb = XGBClassifier(learning_rate = 0.02,\n",
    "                    max_depth = 3,\n",
    "                    min_samples_split = 2,\n",
    "                    n_estimators = 100,\n",
    "                    subsample = 0.6\n",
    "                   )"
   ]
  },
  {
   "cell_type": "code",
   "execution_count": 25,
   "id": "561d1857-ba30-453e-aab8-295d27a6db96",
   "metadata": {
    "collapsed": true,
    "jupyter": {
     "outputs_hidden": true
    },
    "tags": []
   },
   "outputs": [
    {
     "name": "stdout",
     "output_type": "stream",
     "text": [
      "[22:38:23] WARNING: C:/Users/Administrator/workspace/xgboost-win64_release_1.5.1/src/learner.cc:576: \n",
      "Parameters: { \"min_samples_split\" } might not be used.\n",
      "\n",
      "  This could be a false alarm, with some parameters getting used by language bindings but\n",
      "  then being mistakenly passed down to XGBoost core, or some parameter actually being used\n",
      "  but getting flagged wrongly here. Please open an issue if you find any such cases.\n",
      "\n",
      "\n",
      "[22:38:23] WARNING: C:/Users/Administrator/workspace/xgboost-win64_release_1.5.1/src/learner.cc:1115: Starting in XGBoost 1.3.0, the default evaluation metric used with the objective 'binary:logistic' was changed from 'error' to 'logloss'. Explicitly set eval_metric if you'd like to restore the old behavior.\n"
     ]
    }
   ],
   "source": [
    "xgb_tuned = xgb.fit(X_train, y_train)"
   ]
  },
  {
   "cell_type": "code",
   "execution_count": 26,
   "id": "4ab20d7d-a111-4e35-a9ba-5f5b968179ac",
   "metadata": {},
   "outputs": [
    {
     "data": {
      "text/plain": [
       "0.7575757575757576"
      ]
     },
     "execution_count": 26,
     "metadata": {},
     "output_type": "execute_result"
    }
   ],
   "source": [
    "y_pred = xgb_tuned.predict(X_test)\n",
    "accuracy_score(y_test, y_pred)"
   ]
  },
  {
   "cell_type": "markdown",
   "id": "673cdbcf-db51-4033-9215-ab76797c1067",
   "metadata": {},
   "source": [
    "## LightGBM"
   ]
  },
  {
   "cell_type": "markdown",
   "id": "71343c47-e469-422d-b4f1-dfba3545032b",
   "metadata": {},
   "source": [
    "### Model & Tahmin"
   ]
  },
  {
   "cell_type": "code",
   "execution_count": 4,
   "id": "bd277255-ed2e-4d5f-bd8f-c23cb4253076",
   "metadata": {},
   "outputs": [],
   "source": [
    "df = diabets.copy()\n",
    "df = df.dropna()\n",
    "y = df[\"Outcome\"]\n",
    "X = df.drop(['Outcome'], axis=1 )\n",
    "#X = df[\"Pregnancies\"]\n",
    "X = pd.DataFrame(X)\n",
    "X_train, X_test, y_train, y_test = train_test_split(X, y,\n",
    "                                                   test_size = 0.30,\n",
    "                                                   random_state = 42)\n"
   ]
  },
  {
   "cell_type": "code",
   "execution_count": 5,
   "id": "c1f42eb8-b987-45a6-859c-f1b2d2a57ae3",
   "metadata": {},
   "outputs": [],
   "source": [
    "from lightgbm import LGBMClassifier"
   ]
  },
  {
   "cell_type": "code",
   "execution_count": 6,
   "id": "3a0fa1ba-26bb-461f-9646-21ea1859ec77",
   "metadata": {},
   "outputs": [],
   "source": [
    "lgbm_model = LGBMClassifier().fit(X_train, y_train)"
   ]
  },
  {
   "cell_type": "code",
   "execution_count": 7,
   "id": "587bc54e-53fe-4d9e-a0a2-692d3fbe0d75",
   "metadata": {},
   "outputs": [
    {
     "data": {
      "text/plain": [
       "0.7229437229437229"
      ]
     },
     "execution_count": 7,
     "metadata": {},
     "output_type": "execute_result"
    }
   ],
   "source": [
    "y_pred = lgbm_model.predict(X_test)\n",
    "accuracy_score(y_test, y_pred)"
   ]
  },
  {
   "cell_type": "markdown",
   "id": "945860bd-e86d-4ca7-8f76-a22cab37cfa9",
   "metadata": {},
   "source": [
    "### Model Tuning"
   ]
  },
  {
   "cell_type": "code",
   "execution_count": 8,
   "id": "3eb437d4-6e33-449a-b541-b75321035934",
   "metadata": {},
   "outputs": [
    {
     "data": {
      "text/plain": [
       "LGBMClassifier()"
      ]
     },
     "execution_count": 8,
     "metadata": {},
     "output_type": "execute_result"
    }
   ],
   "source": [
    "lgbm_model"
   ]
  },
  {
   "cell_type": "code",
   "execution_count": 9,
   "id": "e513c8a7-08d0-4f23-b175-87068d24e814",
   "metadata": {
    "collapsed": true,
    "jupyter": {
     "outputs_hidden": true
    },
    "tags": []
   },
   "outputs": [
    {
     "data": {
      "text/plain": [
       "\u001b[1;31mType:\u001b[0m           LGBMClassifier\n",
       "\u001b[1;31mString form:\u001b[0m    LGBMClassifier()\n",
       "\u001b[1;31mFile:\u001b[0m           c:\\users\\lenovo\\anaconda3\\lib\\site-packages\\lightgbm\\sklearn.py\n",
       "\u001b[1;31mDocstring:\u001b[0m      LightGBM classifier.\n",
       "\u001b[1;31mInit docstring:\u001b[0m\n",
       "Construct a gradient boosting model.\n",
       "\n",
       "Parameters\n",
       "----------\n",
       "boosting_type : str, optional (default='gbdt')\n",
       "    'gbdt', traditional Gradient Boosting Decision Tree.\n",
       "    'dart', Dropouts meet Multiple Additive Regression Trees.\n",
       "    'goss', Gradient-based One-Side Sampling.\n",
       "    'rf', Random Forest.\n",
       "num_leaves : int, optional (default=31)\n",
       "    Maximum tree leaves for base learners.\n",
       "max_depth : int, optional (default=-1)\n",
       "    Maximum tree depth for base learners, <=0 means no limit.\n",
       "learning_rate : float, optional (default=0.1)\n",
       "    Boosting learning rate.\n",
       "    You can use ``callbacks`` parameter of ``fit`` method to shrink/adapt learning rate\n",
       "    in training using ``reset_parameter`` callback.\n",
       "    Note, that this will ignore the ``learning_rate`` argument in training.\n",
       "n_estimators : int, optional (default=100)\n",
       "    Number of boosted trees to fit.\n",
       "subsample_for_bin : int, optional (default=200000)\n",
       "    Number of samples for constructing bins.\n",
       "objective : str, callable or None, optional (default=None)\n",
       "    Specify the learning task and the corresponding learning objective or\n",
       "    a custom objective function to be used (see note below).\n",
       "    Default: 'regression' for LGBMRegressor, 'binary' or 'multiclass' for LGBMClassifier, 'lambdarank' for LGBMRanker.\n",
       "class_weight : dict, 'balanced' or None, optional (default=None)\n",
       "    Weights associated with classes in the form ``{class_label: weight}``.\n",
       "    Use this parameter only for multi-class classification task;\n",
       "    for binary classification task you may use ``is_unbalance`` or ``scale_pos_weight`` parameters.\n",
       "    Note, that the usage of all these parameters will result in poor estimates of the individual class probabilities.\n",
       "    You may want to consider performing probability calibration\n",
       "    (https://scikit-learn.org/stable/modules/calibration.html) of your model.\n",
       "    The 'balanced' mode uses the values of y to automatically adjust weights\n",
       "    inversely proportional to class frequencies in the input data as ``n_samples / (n_classes * np.bincount(y))``.\n",
       "    If None, all classes are supposed to have weight one.\n",
       "    Note, that these weights will be multiplied with ``sample_weight`` (passed through the ``fit`` method)\n",
       "    if ``sample_weight`` is specified.\n",
       "min_split_gain : float, optional (default=0.)\n",
       "    Minimum loss reduction required to make a further partition on a leaf node of the tree.\n",
       "min_child_weight : float, optional (default=1e-3)\n",
       "    Minimum sum of instance weight (hessian) needed in a child (leaf).\n",
       "min_child_samples : int, optional (default=20)\n",
       "    Minimum number of data needed in a child (leaf).\n",
       "subsample : float, optional (default=1.)\n",
       "    Subsample ratio of the training instance.\n",
       "subsample_freq : int, optional (default=0)\n",
       "    Frequency of subsample, <=0 means no enable.\n",
       "colsample_bytree : float, optional (default=1.)\n",
       "    Subsample ratio of columns when constructing each tree.\n",
       "reg_alpha : float, optional (default=0.)\n",
       "    L1 regularization term on weights.\n",
       "reg_lambda : float, optional (default=0.)\n",
       "    L2 regularization term on weights.\n",
       "random_state : int, RandomState object or None, optional (default=None)\n",
       "    Random number seed.\n",
       "    If int, this number is used to seed the C++ code.\n",
       "    If RandomState object (numpy), a random integer is picked based on its state to seed the C++ code.\n",
       "    If None, default seeds in C++ code are used.\n",
       "n_jobs : int, optional (default=-1)\n",
       "    Number of parallel threads.\n",
       "silent : bool, optional (default=True)\n",
       "    Whether to print messages while running boosting.\n",
       "importance_type : str, optional (default='split')\n",
       "    The type of feature importance to be filled into ``feature_importances_``.\n",
       "    If 'split', result contains numbers of times the feature is used in a model.\n",
       "    If 'gain', result contains total gains of splits which use the feature.\n",
       "**kwargs\n",
       "    Other parameters for the model.\n",
       "    Check http://lightgbm.readthedocs.io/en/latest/Parameters.html for more parameters.\n",
       "\n",
       "    .. warning::\n",
       "\n",
       "        \\*\\*kwargs is not supported in sklearn, it may cause unexpected issues.\n",
       "\n",
       "Note\n",
       "----\n",
       "A custom objective function can be provided for the ``objective`` parameter.\n",
       "In this case, it should have the signature\n",
       "``objective(y_true, y_pred) -> grad, hess`` or\n",
       "``objective(y_true, y_pred, group) -> grad, hess``:\n",
       "\n",
       "    y_true : array-like of shape = [n_samples]\n",
       "        The target values.\n",
       "    y_pred : array-like of shape = [n_samples] or shape = [n_samples * n_classes] (for multi-class task)\n",
       "        The predicted values.\n",
       "        Predicted values are returned before any transformation,\n",
       "        e.g. they are raw margin instead of probability of positive class for binary task.\n",
       "    group : array-like\n",
       "        Group/query data.\n",
       "        Only used in the learning-to-rank task.\n",
       "        sum(group) = n_samples.\n",
       "        For example, if you have a 100-document dataset with ``group = [10, 20, 40, 10, 10, 10]``, that means that you have 6 groups,\n",
       "        where the first 10 records are in the first group, records 11-30 are in the second group, records 31-70 are in the third group, etc.\n",
       "    grad : array-like of shape = [n_samples] or shape = [n_samples * n_classes] (for multi-class task)\n",
       "        The value of the first order derivative (gradient) of the loss\n",
       "        with respect to the elements of y_pred for each sample point.\n",
       "    hess : array-like of shape = [n_samples] or shape = [n_samples * n_classes] (for multi-class task)\n",
       "        The value of the second order derivative (Hessian) of the loss\n",
       "        with respect to the elements of y_pred for each sample point.\n",
       "\n",
       "For multi-class task, the y_pred is group by class_id first, then group by row_id.\n",
       "If you want to get i-th row y_pred in j-th class, the access way is y_pred[j * num_data + i]\n",
       "and you should group grad and hess in this way as well.\n"
      ]
     },
     "metadata": {},
     "output_type": "display_data"
    }
   ],
   "source": [
    "?lgbm_model"
   ]
  },
  {
   "cell_type": "code",
   "execution_count": 10,
   "id": "8673d280-2b48-4502-958b-68cc87bf107d",
   "metadata": {},
   "outputs": [],
   "source": [
    "lgbm_params = {\n",
    "    'n_estimators': [100,500,1000,2000],\n",
    "    'subsample': [0.6,0.8,1.0],\n",
    "    'max_depth': [3,4,5,6],\n",
    "    'learning_rate': [0.1,0.01,0.02,0.05],\n",
    "    'min_child_samples': [5,10,20]\n",
    "}"
   ]
  },
  {
   "cell_type": "code",
   "execution_count": 11,
   "id": "2be44e73-f3ac-48a3-92d0-0c9d146f724b",
   "metadata": {},
   "outputs": [],
   "source": [
    "lgbm = LGBMClassifier()\n",
    "lgbm_cv_model = GridSearchCV(lgbm, lgbm_params,\n",
    "                             cv=10,\n",
    "                             n_jobs=-1,\n",
    "                             verbose=2)"
   ]
  },
  {
   "cell_type": "code",
   "execution_count": 12,
   "id": "f06ab76a-34e1-4c32-bc99-ab464f1a1f18",
   "metadata": {},
   "outputs": [
    {
     "name": "stdout",
     "output_type": "stream",
     "text": [
      "Fitting 10 folds for each of 576 candidates, totalling 5760 fits\n"
     ]
    },
    {
     "data": {
      "text/plain": [
       "GridSearchCV(cv=10, estimator=LGBMClassifier(), n_jobs=-1,\n",
       "             param_grid={'learning_rate': [0.1, 0.01, 0.02, 0.05],\n",
       "                         'max_depth': [3, 4, 5, 6],\n",
       "                         'min_child_samples': [5, 10, 20],\n",
       "                         'n_estimators': [100, 500, 1000, 2000],\n",
       "                         'subsample': [0.6, 0.8, 1.0]},\n",
       "             verbose=2)"
      ]
     },
     "execution_count": 12,
     "metadata": {},
     "output_type": "execute_result"
    }
   ],
   "source": [
    "lgbm_cv_model.fit(X_train, y_train)"
   ]
  },
  {
   "cell_type": "code",
   "execution_count": 13,
   "id": "6d070d22-009c-43fb-80bb-b46824abcb08",
   "metadata": {},
   "outputs": [
    {
     "data": {
      "text/plain": [
       "{'learning_rate': 0.05,\n",
       " 'max_depth': 3,\n",
       " 'min_child_samples': 20,\n",
       " 'n_estimators': 100,\n",
       " 'subsample': 0.6}"
      ]
     },
     "execution_count": 13,
     "metadata": {},
     "output_type": "execute_result"
    }
   ],
   "source": [
    "lgbm_cv_model.best_params_"
   ]
  },
  {
   "cell_type": "code",
   "execution_count": 15,
   "id": "e7e5fdca-964d-4f7c-a1f0-403afd6d8195",
   "metadata": {},
   "outputs": [],
   "source": [
    "lgbm = LGBMClassifier(learning_rate = 0.05,\n",
    "                     max_depth = 3,\n",
    "                     subsample = 0.6,\n",
    "                     n_estimators = 100,\n",
    "                     min_child_samples = 20)"
   ]
  },
  {
   "cell_type": "code",
   "execution_count": 16,
   "id": "78a8005f-e9bc-4fbb-b5bd-c7ffd05a8279",
   "metadata": {},
   "outputs": [],
   "source": [
    "lgbm_tuned = lgbm.fit(X_train, y_train)"
   ]
  },
  {
   "cell_type": "code",
   "execution_count": 17,
   "id": "9a079892-f7d9-4ce3-9236-f9b9551e076f",
   "metadata": {},
   "outputs": [
    {
     "data": {
      "text/plain": [
       "0.7489177489177489"
      ]
     },
     "execution_count": 17,
     "metadata": {},
     "output_type": "execute_result"
    }
   ],
   "source": [
    "y_pred = lgbm_tuned.predict(X_test)\n",
    "accuracy_score(y_test, y_pred)"
   ]
  },
  {
   "cell_type": "markdown",
   "id": "1afa3249-6fbd-4961-8b8e-0bc74a703019",
   "metadata": {},
   "source": [
    "## CatBoost"
   ]
  },
  {
   "cell_type": "markdown",
   "id": "f865ee7b-434e-496a-a0af-d28829ee6917",
   "metadata": {},
   "source": [
    "### Model & Tahmin"
   ]
  },
  {
   "cell_type": "code",
   "execution_count": 18,
   "id": "ca1cab78-fc30-4b01-898a-a1bbc9d32de5",
   "metadata": {},
   "outputs": [],
   "source": [
    "df = diabets.copy()\n",
    "df = df.dropna()\n",
    "y = df[\"Outcome\"]\n",
    "X = df.drop(['Outcome'], axis=1 )\n",
    "#X = df[\"Pregnancies\"]\n",
    "X = pd.DataFrame(X)\n",
    "X_train, X_test, y_train, y_test = train_test_split(X, y,\n",
    "                                                   test_size = 0.30,\n",
    "                                                   random_state = 42)\n"
   ]
  },
  {
   "cell_type": "code",
   "execution_count": 19,
   "id": "375828ff-eefd-4e80-bfaa-028979936474",
   "metadata": {},
   "outputs": [],
   "source": [
    "from catboost import CatBoostClassifier"
   ]
  },
  {
   "cell_type": "code",
   "execution_count": 20,
   "id": "715ec0ab-16b3-45af-872e-b3f13053a43e",
   "metadata": {
    "collapsed": true,
    "jupyter": {
     "outputs_hidden": true
    },
    "tags": []
   },
   "outputs": [
    {
     "name": "stdout",
     "output_type": "stream",
     "text": [
      "Learning rate set to 0.0079\n",
      "0:\tlearn: 0.6879744\ttotal: 438ms\tremaining: 7m 17s\n",
      "1:\tlearn: 0.6843414\ttotal: 442ms\tremaining: 3m 40s\n",
      "2:\tlearn: 0.6805760\ttotal: 446ms\tremaining: 2m 28s\n",
      "3:\tlearn: 0.6765782\ttotal: 449ms\tremaining: 1m 51s\n",
      "4:\tlearn: 0.6720829\ttotal: 453ms\tremaining: 1m 30s\n",
      "5:\tlearn: 0.6681617\ttotal: 457ms\tremaining: 1m 15s\n",
      "6:\tlearn: 0.6641912\ttotal: 460ms\tremaining: 1m 5s\n",
      "7:\tlearn: 0.6602881\ttotal: 463ms\tremaining: 57.4s\n",
      "8:\tlearn: 0.6562626\ttotal: 465ms\tremaining: 51.2s\n",
      "9:\tlearn: 0.6528483\ttotal: 467ms\tremaining: 46.2s\n",
      "10:\tlearn: 0.6487823\ttotal: 469ms\tremaining: 42.1s\n",
      "11:\tlearn: 0.6454980\ttotal: 471ms\tremaining: 38.7s\n",
      "12:\tlearn: 0.6418953\ttotal: 472ms\tremaining: 35.9s\n",
      "13:\tlearn: 0.6374431\ttotal: 474ms\tremaining: 33.4s\n",
      "14:\tlearn: 0.6339676\ttotal: 476ms\tremaining: 31.3s\n",
      "15:\tlearn: 0.6304252\ttotal: 478ms\tremaining: 29.4s\n",
      "16:\tlearn: 0.6266998\ttotal: 480ms\tremaining: 27.8s\n",
      "17:\tlearn: 0.6237660\ttotal: 482ms\tremaining: 26.3s\n",
      "18:\tlearn: 0.6204394\ttotal: 484ms\tremaining: 25s\n",
      "19:\tlearn: 0.6170129\ttotal: 486ms\tremaining: 23.8s\n",
      "20:\tlearn: 0.6133404\ttotal: 488ms\tremaining: 22.7s\n",
      "21:\tlearn: 0.6104932\ttotal: 490ms\tremaining: 21.8s\n",
      "22:\tlearn: 0.6069523\ttotal: 492ms\tremaining: 20.9s\n",
      "23:\tlearn: 0.6036467\ttotal: 494ms\tremaining: 20.1s\n",
      "24:\tlearn: 0.6005392\ttotal: 495ms\tremaining: 19.3s\n",
      "25:\tlearn: 0.5977520\ttotal: 498ms\tremaining: 18.6s\n",
      "26:\tlearn: 0.5948189\ttotal: 500ms\tremaining: 18s\n",
      "27:\tlearn: 0.5919831\ttotal: 502ms\tremaining: 17.4s\n",
      "28:\tlearn: 0.5885065\ttotal: 504ms\tremaining: 16.9s\n",
      "29:\tlearn: 0.5848273\ttotal: 506ms\tremaining: 16.3s\n",
      "30:\tlearn: 0.5822076\ttotal: 508ms\tremaining: 15.9s\n",
      "31:\tlearn: 0.5790604\ttotal: 510ms\tremaining: 15.4s\n",
      "32:\tlearn: 0.5762252\ttotal: 512ms\tremaining: 15s\n",
      "33:\tlearn: 0.5745338\ttotal: 514ms\tremaining: 14.6s\n",
      "34:\tlearn: 0.5719085\ttotal: 515ms\tremaining: 14.2s\n",
      "35:\tlearn: 0.5693365\ttotal: 517ms\tremaining: 13.8s\n",
      "36:\tlearn: 0.5665486\ttotal: 519ms\tremaining: 13.5s\n",
      "37:\tlearn: 0.5647413\ttotal: 521ms\tremaining: 13.2s\n",
      "38:\tlearn: 0.5622430\ttotal: 522ms\tremaining: 12.9s\n",
      "39:\tlearn: 0.5600038\ttotal: 524ms\tremaining: 12.6s\n",
      "40:\tlearn: 0.5579786\ttotal: 526ms\tremaining: 12.3s\n",
      "41:\tlearn: 0.5555817\ttotal: 528ms\tremaining: 12s\n",
      "42:\tlearn: 0.5533884\ttotal: 530ms\tremaining: 11.8s\n",
      "43:\tlearn: 0.5503718\ttotal: 532ms\tremaining: 11.5s\n",
      "44:\tlearn: 0.5482587\ttotal: 560ms\tremaining: 11.9s\n",
      "45:\tlearn: 0.5458783\ttotal: 566ms\tremaining: 11.7s\n",
      "46:\tlearn: 0.5441370\ttotal: 569ms\tremaining: 11.5s\n",
      "47:\tlearn: 0.5422492\ttotal: 574ms\tremaining: 11.4s\n",
      "48:\tlearn: 0.5397111\ttotal: 579ms\tremaining: 11.2s\n",
      "49:\tlearn: 0.5378482\ttotal: 582ms\tremaining: 11.1s\n",
      "50:\tlearn: 0.5355250\ttotal: 586ms\tremaining: 10.9s\n",
      "51:\tlearn: 0.5334717\ttotal: 595ms\tremaining: 10.9s\n",
      "52:\tlearn: 0.5308796\ttotal: 601ms\tremaining: 10.7s\n",
      "53:\tlearn: 0.5291891\ttotal: 606ms\tremaining: 10.6s\n",
      "54:\tlearn: 0.5273404\ttotal: 611ms\tremaining: 10.5s\n",
      "55:\tlearn: 0.5252025\ttotal: 615ms\tremaining: 10.4s\n",
      "56:\tlearn: 0.5232146\ttotal: 622ms\tremaining: 10.3s\n",
      "57:\tlearn: 0.5212394\ttotal: 626ms\tremaining: 10.2s\n",
      "58:\tlearn: 0.5188927\ttotal: 638ms\tremaining: 10.2s\n",
      "59:\tlearn: 0.5166496\ttotal: 641ms\tremaining: 10s\n",
      "60:\tlearn: 0.5151264\ttotal: 645ms\tremaining: 9.93s\n",
      "61:\tlearn: 0.5128109\ttotal: 649ms\tremaining: 9.81s\n",
      "62:\tlearn: 0.5114747\ttotal: 652ms\tremaining: 9.7s\n",
      "63:\tlearn: 0.5096208\ttotal: 656ms\tremaining: 9.59s\n",
      "64:\tlearn: 0.5072601\ttotal: 659ms\tremaining: 9.48s\n",
      "65:\tlearn: 0.5052770\ttotal: 662ms\tremaining: 9.36s\n",
      "66:\tlearn: 0.5036623\ttotal: 664ms\tremaining: 9.25s\n",
      "67:\tlearn: 0.5017328\ttotal: 667ms\tremaining: 9.14s\n",
      "68:\tlearn: 0.5005425\ttotal: 669ms\tremaining: 9.02s\n",
      "69:\tlearn: 0.4991695\ttotal: 671ms\tremaining: 8.91s\n",
      "70:\tlearn: 0.4976900\ttotal: 673ms\tremaining: 8.8s\n",
      "71:\tlearn: 0.4958907\ttotal: 675ms\tremaining: 8.69s\n",
      "72:\tlearn: 0.4944550\ttotal: 677ms\tremaining: 8.6s\n",
      "73:\tlearn: 0.4929501\ttotal: 679ms\tremaining: 8.5s\n",
      "74:\tlearn: 0.4913299\ttotal: 681ms\tremaining: 8.4s\n",
      "75:\tlearn: 0.4898798\ttotal: 685ms\tremaining: 8.32s\n",
      "76:\tlearn: 0.4882946\ttotal: 688ms\tremaining: 8.25s\n",
      "77:\tlearn: 0.4866733\ttotal: 692ms\tremaining: 8.18s\n",
      "78:\tlearn: 0.4849083\ttotal: 700ms\tremaining: 8.16s\n",
      "79:\tlearn: 0.4832344\ttotal: 703ms\tremaining: 8.08s\n",
      "80:\tlearn: 0.4822155\ttotal: 705ms\tremaining: 8s\n",
      "81:\tlearn: 0.4805651\ttotal: 707ms\tremaining: 7.92s\n",
      "82:\tlearn: 0.4789437\ttotal: 710ms\tremaining: 7.85s\n",
      "83:\tlearn: 0.4773680\ttotal: 713ms\tremaining: 7.77s\n",
      "84:\tlearn: 0.4759592\ttotal: 715ms\tremaining: 7.7s\n",
      "85:\tlearn: 0.4743296\ttotal: 718ms\tremaining: 7.63s\n",
      "86:\tlearn: 0.4733053\ttotal: 720ms\tremaining: 7.56s\n",
      "87:\tlearn: 0.4719029\ttotal: 723ms\tremaining: 7.49s\n",
      "88:\tlearn: 0.4704197\ttotal: 728ms\tremaining: 7.45s\n",
      "89:\tlearn: 0.4692434\ttotal: 730ms\tremaining: 7.38s\n",
      "90:\tlearn: 0.4676877\ttotal: 732ms\tremaining: 7.32s\n",
      "91:\tlearn: 0.4663135\ttotal: 734ms\tremaining: 7.25s\n",
      "92:\tlearn: 0.4648501\ttotal: 737ms\tremaining: 7.19s\n",
      "93:\tlearn: 0.4634104\ttotal: 741ms\tremaining: 7.14s\n",
      "94:\tlearn: 0.4622453\ttotal: 744ms\tremaining: 7.09s\n",
      "95:\tlearn: 0.4610022\ttotal: 746ms\tremaining: 7.02s\n",
      "96:\tlearn: 0.4596122\ttotal: 748ms\tremaining: 6.96s\n",
      "97:\tlearn: 0.4586478\ttotal: 750ms\tremaining: 6.9s\n",
      "98:\tlearn: 0.4574414\ttotal: 756ms\tremaining: 6.88s\n",
      "99:\tlearn: 0.4564241\ttotal: 758ms\tremaining: 6.83s\n",
      "100:\tlearn: 0.4550640\ttotal: 760ms\tremaining: 6.76s\n",
      "101:\tlearn: 0.4542409\ttotal: 762ms\tremaining: 6.71s\n",
      "102:\tlearn: 0.4532567\ttotal: 765ms\tremaining: 6.67s\n",
      "103:\tlearn: 0.4520656\ttotal: 773ms\tremaining: 6.66s\n",
      "104:\tlearn: 0.4507238\ttotal: 775ms\tremaining: 6.61s\n",
      "105:\tlearn: 0.4498366\ttotal: 777ms\tremaining: 6.55s\n",
      "106:\tlearn: 0.4487896\ttotal: 779ms\tremaining: 6.5s\n",
      "107:\tlearn: 0.4479770\ttotal: 783ms\tremaining: 6.46s\n",
      "108:\tlearn: 0.4470681\ttotal: 787ms\tremaining: 6.43s\n",
      "109:\tlearn: 0.4461679\ttotal: 789ms\tremaining: 6.38s\n",
      "110:\tlearn: 0.4449306\ttotal: 791ms\tremaining: 6.34s\n",
      "111:\tlearn: 0.4442033\ttotal: 793ms\tremaining: 6.29s\n",
      "112:\tlearn: 0.4431958\ttotal: 801ms\tremaining: 6.29s\n",
      "113:\tlearn: 0.4420872\ttotal: 805ms\tremaining: 6.25s\n",
      "114:\tlearn: 0.4411093\ttotal: 807ms\tremaining: 6.21s\n",
      "115:\tlearn: 0.4404177\ttotal: 808ms\tremaining: 6.16s\n",
      "116:\tlearn: 0.4393393\ttotal: 811ms\tremaining: 6.12s\n",
      "117:\tlearn: 0.4385459\ttotal: 815ms\tremaining: 6.09s\n",
      "118:\tlearn: 0.4376311\ttotal: 817ms\tremaining: 6.05s\n",
      "119:\tlearn: 0.4365919\ttotal: 819ms\tremaining: 6.01s\n",
      "120:\tlearn: 0.4356995\ttotal: 821ms\tremaining: 5.97s\n",
      "121:\tlearn: 0.4348411\ttotal: 823ms\tremaining: 5.92s\n",
      "122:\tlearn: 0.4339453\ttotal: 828ms\tremaining: 5.9s\n",
      "123:\tlearn: 0.4328034\ttotal: 830ms\tremaining: 5.87s\n",
      "124:\tlearn: 0.4319283\ttotal: 832ms\tremaining: 5.83s\n",
      "125:\tlearn: 0.4312557\ttotal: 834ms\tremaining: 5.79s\n",
      "126:\tlearn: 0.4304026\ttotal: 836ms\tremaining: 5.75s\n",
      "127:\tlearn: 0.4298280\ttotal: 838ms\tremaining: 5.71s\n",
      "128:\tlearn: 0.4289908\ttotal: 845ms\tremaining: 5.71s\n",
      "129:\tlearn: 0.4281060\ttotal: 848ms\tremaining: 5.67s\n",
      "130:\tlearn: 0.4274906\ttotal: 850ms\tremaining: 5.63s\n",
      "131:\tlearn: 0.4263412\ttotal: 851ms\tremaining: 5.6s\n",
      "132:\tlearn: 0.4253331\ttotal: 854ms\tremaining: 5.56s\n",
      "133:\tlearn: 0.4243619\ttotal: 860ms\tremaining: 5.55s\n",
      "134:\tlearn: 0.4236335\ttotal: 862ms\tremaining: 5.52s\n",
      "135:\tlearn: 0.4228861\ttotal: 864ms\tremaining: 5.49s\n",
      "136:\tlearn: 0.4221383\ttotal: 866ms\tremaining: 5.45s\n",
      "137:\tlearn: 0.4212787\ttotal: 868ms\tremaining: 5.42s\n",
      "138:\tlearn: 0.4205727\ttotal: 870ms\tremaining: 5.39s\n",
      "139:\tlearn: 0.4198398\ttotal: 872ms\tremaining: 5.36s\n",
      "140:\tlearn: 0.4190528\ttotal: 874ms\tremaining: 5.32s\n",
      "141:\tlearn: 0.4181762\ttotal: 876ms\tremaining: 5.29s\n",
      "142:\tlearn: 0.4177653\ttotal: 878ms\tremaining: 5.26s\n",
      "143:\tlearn: 0.4171131\ttotal: 880ms\tremaining: 5.23s\n",
      "144:\tlearn: 0.4165639\ttotal: 882ms\tremaining: 5.2s\n",
      "145:\tlearn: 0.4156471\ttotal: 883ms\tremaining: 5.17s\n",
      "146:\tlearn: 0.4153234\ttotal: 886ms\tremaining: 5.14s\n",
      "147:\tlearn: 0.4145420\ttotal: 888ms\tremaining: 5.11s\n",
      "148:\tlearn: 0.4139180\ttotal: 889ms\tremaining: 5.08s\n",
      "149:\tlearn: 0.4128167\ttotal: 891ms\tremaining: 5.05s\n",
      "150:\tlearn: 0.4120071\ttotal: 893ms\tremaining: 5.02s\n",
      "151:\tlearn: 0.4115050\ttotal: 895ms\tremaining: 4.99s\n",
      "152:\tlearn: 0.4103879\ttotal: 897ms\tremaining: 4.96s\n",
      "153:\tlearn: 0.4096975\ttotal: 898ms\tremaining: 4.93s\n",
      "154:\tlearn: 0.4090180\ttotal: 901ms\tremaining: 4.91s\n",
      "155:\tlearn: 0.4084361\ttotal: 902ms\tremaining: 4.88s\n",
      "156:\tlearn: 0.4075079\ttotal: 904ms\tremaining: 4.85s\n",
      "157:\tlearn: 0.4070229\ttotal: 906ms\tremaining: 4.83s\n",
      "158:\tlearn: 0.4060864\ttotal: 907ms\tremaining: 4.8s\n",
      "159:\tlearn: 0.4055216\ttotal: 909ms\tremaining: 4.77s\n",
      "160:\tlearn: 0.4049737\ttotal: 911ms\tremaining: 4.75s\n",
      "161:\tlearn: 0.4043031\ttotal: 913ms\tremaining: 4.72s\n",
      "162:\tlearn: 0.4037889\ttotal: 915ms\tremaining: 4.7s\n",
      "163:\tlearn: 0.4029969\ttotal: 917ms\tremaining: 4.67s\n",
      "164:\tlearn: 0.4019218\ttotal: 919ms\tremaining: 4.65s\n",
      "165:\tlearn: 0.4013294\ttotal: 920ms\tremaining: 4.62s\n",
      "166:\tlearn: 0.4007642\ttotal: 922ms\tremaining: 4.6s\n",
      "167:\tlearn: 0.4000706\ttotal: 924ms\tremaining: 4.58s\n",
      "168:\tlearn: 0.3996680\ttotal: 926ms\tremaining: 4.55s\n",
      "169:\tlearn: 0.3989467\ttotal: 928ms\tremaining: 4.53s\n",
      "170:\tlearn: 0.3983710\ttotal: 931ms\tremaining: 4.51s\n",
      "171:\tlearn: 0.3975278\ttotal: 934ms\tremaining: 4.5s\n",
      "172:\tlearn: 0.3969084\ttotal: 936ms\tremaining: 4.47s\n",
      "173:\tlearn: 0.3965347\ttotal: 939ms\tremaining: 4.46s\n",
      "174:\tlearn: 0.3956732\ttotal: 941ms\tremaining: 4.43s\n",
      "175:\tlearn: 0.3952873\ttotal: 943ms\tremaining: 4.41s\n",
      "176:\tlearn: 0.3945194\ttotal: 945ms\tremaining: 4.39s\n",
      "177:\tlearn: 0.3937662\ttotal: 947ms\tremaining: 4.37s\n",
      "178:\tlearn: 0.3930186\ttotal: 949ms\tremaining: 4.35s\n",
      "179:\tlearn: 0.3923731\ttotal: 951ms\tremaining: 4.33s\n",
      "180:\tlearn: 0.3918567\ttotal: 954ms\tremaining: 4.32s\n",
      "181:\tlearn: 0.3910109\ttotal: 956ms\tremaining: 4.3s\n",
      "182:\tlearn: 0.3904347\ttotal: 959ms\tremaining: 4.28s\n",
      "183:\tlearn: 0.3898631\ttotal: 961ms\tremaining: 4.26s\n",
      "184:\tlearn: 0.3889877\ttotal: 963ms\tremaining: 4.24s\n",
      "185:\tlearn: 0.3883860\ttotal: 965ms\tremaining: 4.22s\n",
      "186:\tlearn: 0.3876585\ttotal: 968ms\tremaining: 4.21s\n",
      "187:\tlearn: 0.3871096\ttotal: 970ms\tremaining: 4.19s\n",
      "188:\tlearn: 0.3866930\ttotal: 972ms\tremaining: 4.17s\n",
      "189:\tlearn: 0.3860056\ttotal: 974ms\tremaining: 4.15s\n",
      "190:\tlearn: 0.3854310\ttotal: 976ms\tremaining: 4.13s\n",
      "191:\tlearn: 0.3848506\ttotal: 978ms\tremaining: 4.12s\n",
      "192:\tlearn: 0.3842016\ttotal: 980ms\tremaining: 4.1s\n",
      "193:\tlearn: 0.3836819\ttotal: 982ms\tremaining: 4.08s\n",
      "194:\tlearn: 0.3830974\ttotal: 984ms\tremaining: 4.06s\n",
      "195:\tlearn: 0.3827259\ttotal: 985ms\tremaining: 4.04s\n",
      "196:\tlearn: 0.3822292\ttotal: 987ms\tremaining: 4.02s\n",
      "197:\tlearn: 0.3818127\ttotal: 990ms\tremaining: 4.01s\n",
      "198:\tlearn: 0.3813381\ttotal: 992ms\tremaining: 3.99s\n",
      "199:\tlearn: 0.3808627\ttotal: 994ms\tremaining: 3.98s\n",
      "200:\tlearn: 0.3802744\ttotal: 996ms\tremaining: 3.96s\n",
      "201:\tlearn: 0.3797151\ttotal: 998ms\tremaining: 3.94s\n",
      "202:\tlearn: 0.3792543\ttotal: 1000ms\tremaining: 3.92s\n",
      "203:\tlearn: 0.3787526\ttotal: 1s\tremaining: 3.91s\n",
      "204:\tlearn: 0.3783154\ttotal: 1s\tremaining: 3.9s\n",
      "205:\tlearn: 0.3778142\ttotal: 1.01s\tremaining: 3.88s\n",
      "206:\tlearn: 0.3770761\ttotal: 1.01s\tremaining: 3.86s\n",
      "207:\tlearn: 0.3766516\ttotal: 1.01s\tremaining: 3.85s\n",
      "208:\tlearn: 0.3760002\ttotal: 1.01s\tremaining: 3.83s\n",
      "209:\tlearn: 0.3753742\ttotal: 1.01s\tremaining: 3.81s\n",
      "210:\tlearn: 0.3748945\ttotal: 1.01s\tremaining: 3.8s\n",
      "211:\tlearn: 0.3741601\ttotal: 1.02s\tremaining: 3.78s\n",
      "212:\tlearn: 0.3737583\ttotal: 1.02s\tremaining: 3.78s\n",
      "213:\tlearn: 0.3731306\ttotal: 1.02s\tremaining: 3.77s\n",
      "214:\tlearn: 0.3725594\ttotal: 1.03s\tremaining: 3.75s\n",
      "215:\tlearn: 0.3717840\ttotal: 1.03s\tremaining: 3.74s\n",
      "216:\tlearn: 0.3712366\ttotal: 1.03s\tremaining: 3.72s\n",
      "217:\tlearn: 0.3706128\ttotal: 1.03s\tremaining: 3.71s\n",
      "218:\tlearn: 0.3701763\ttotal: 1.04s\tremaining: 3.7s\n",
      "219:\tlearn: 0.3696732\ttotal: 1.04s\tremaining: 3.69s\n",
      "220:\tlearn: 0.3694511\ttotal: 1.04s\tremaining: 3.67s\n",
      "221:\tlearn: 0.3691241\ttotal: 1.04s\tremaining: 3.65s\n",
      "222:\tlearn: 0.3685841\ttotal: 1.04s\tremaining: 3.64s\n",
      "223:\tlearn: 0.3680235\ttotal: 1.05s\tremaining: 3.62s\n",
      "224:\tlearn: 0.3674146\ttotal: 1.05s\tremaining: 3.61s\n",
      "225:\tlearn: 0.3669959\ttotal: 1.05s\tremaining: 3.61s\n",
      "226:\tlearn: 0.3664598\ttotal: 1.05s\tremaining: 3.59s\n",
      "227:\tlearn: 0.3660285\ttotal: 1.06s\tremaining: 3.58s\n",
      "228:\tlearn: 0.3656118\ttotal: 1.06s\tremaining: 3.56s\n",
      "229:\tlearn: 0.3653013\ttotal: 1.06s\tremaining: 3.55s\n",
      "230:\tlearn: 0.3648384\ttotal: 1.06s\tremaining: 3.54s\n",
      "231:\tlearn: 0.3645751\ttotal: 1.07s\tremaining: 3.54s\n",
      "232:\tlearn: 0.3642266\ttotal: 1.07s\tremaining: 3.52s\n",
      "233:\tlearn: 0.3638032\ttotal: 1.07s\tremaining: 3.51s\n",
      "234:\tlearn: 0.3634127\ttotal: 1.07s\tremaining: 3.5s\n",
      "235:\tlearn: 0.3628147\ttotal: 1.07s\tremaining: 3.48s\n",
      "236:\tlearn: 0.3624876\ttotal: 1.08s\tremaining: 3.47s\n",
      "237:\tlearn: 0.3621678\ttotal: 1.08s\tremaining: 3.46s\n",
      "238:\tlearn: 0.3617236\ttotal: 1.08s\tremaining: 3.45s\n",
      "239:\tlearn: 0.3613139\ttotal: 1.08s\tremaining: 3.43s\n",
      "240:\tlearn: 0.3608153\ttotal: 1.08s\tremaining: 3.42s\n",
      "241:\tlearn: 0.3605083\ttotal: 1.09s\tremaining: 3.41s\n",
      "242:\tlearn: 0.3600805\ttotal: 1.09s\tremaining: 3.39s\n",
      "243:\tlearn: 0.3598540\ttotal: 1.09s\tremaining: 3.38s\n",
      "244:\tlearn: 0.3594826\ttotal: 1.09s\tremaining: 3.37s\n",
      "245:\tlearn: 0.3589942\ttotal: 1.09s\tremaining: 3.36s\n",
      "246:\tlearn: 0.3580868\ttotal: 1.1s\tremaining: 3.35s\n",
      "247:\tlearn: 0.3577168\ttotal: 1.1s\tremaining: 3.34s\n",
      "248:\tlearn: 0.3572695\ttotal: 1.1s\tremaining: 3.33s\n",
      "249:\tlearn: 0.3569883\ttotal: 1.1s\tremaining: 3.32s\n",
      "250:\tlearn: 0.3564914\ttotal: 1.11s\tremaining: 3.3s\n",
      "251:\tlearn: 0.3563154\ttotal: 1.11s\tremaining: 3.3s\n",
      "252:\tlearn: 0.3559500\ttotal: 1.11s\tremaining: 3.29s\n",
      "253:\tlearn: 0.3556725\ttotal: 1.11s\tremaining: 3.27s\n",
      "254:\tlearn: 0.3554429\ttotal: 1.12s\tremaining: 3.26s\n",
      "255:\tlearn: 0.3550410\ttotal: 1.12s\tremaining: 3.25s\n",
      "256:\tlearn: 0.3544784\ttotal: 1.12s\tremaining: 3.24s\n",
      "257:\tlearn: 0.3541264\ttotal: 1.13s\tremaining: 3.24s\n",
      "258:\tlearn: 0.3534407\ttotal: 1.13s\tremaining: 3.23s\n",
      "259:\tlearn: 0.3531235\ttotal: 1.13s\tremaining: 3.22s\n",
      "260:\tlearn: 0.3527207\ttotal: 1.13s\tremaining: 3.21s\n",
      "261:\tlearn: 0.3523243\ttotal: 1.14s\tremaining: 3.2s\n",
      "262:\tlearn: 0.3520765\ttotal: 1.14s\tremaining: 3.19s\n",
      "263:\tlearn: 0.3515223\ttotal: 1.14s\tremaining: 3.18s\n",
      "264:\tlearn: 0.3511085\ttotal: 1.14s\tremaining: 3.17s\n",
      "265:\tlearn: 0.3507609\ttotal: 1.15s\tremaining: 3.16s\n",
      "266:\tlearn: 0.3505624\ttotal: 1.15s\tremaining: 3.15s\n",
      "267:\tlearn: 0.3502285\ttotal: 1.15s\tremaining: 3.14s\n",
      "268:\tlearn: 0.3497636\ttotal: 1.15s\tremaining: 3.13s\n",
      "269:\tlearn: 0.3493754\ttotal: 1.16s\tremaining: 3.13s\n",
      "270:\tlearn: 0.3490792\ttotal: 1.16s\tremaining: 3.12s\n",
      "271:\tlearn: 0.3487020\ttotal: 1.16s\tremaining: 3.11s\n",
      "272:\tlearn: 0.3483143\ttotal: 1.16s\tremaining: 3.1s\n",
      "273:\tlearn: 0.3478934\ttotal: 1.16s\tremaining: 3.08s\n",
      "274:\tlearn: 0.3475017\ttotal: 1.17s\tremaining: 3.07s\n",
      "275:\tlearn: 0.3471957\ttotal: 1.17s\tremaining: 3.06s\n",
      "276:\tlearn: 0.3468656\ttotal: 1.17s\tremaining: 3.06s\n",
      "277:\tlearn: 0.3464868\ttotal: 1.18s\tremaining: 3.05s\n",
      "278:\tlearn: 0.3462092\ttotal: 1.18s\tremaining: 3.04s\n",
      "279:\tlearn: 0.3460606\ttotal: 1.18s\tremaining: 3.03s\n",
      "280:\tlearn: 0.3455830\ttotal: 1.18s\tremaining: 3.02s\n",
      "281:\tlearn: 0.3453044\ttotal: 1.19s\tremaining: 3.02s\n",
      "282:\tlearn: 0.3444292\ttotal: 1.19s\tremaining: 3.01s\n",
      "283:\tlearn: 0.3440907\ttotal: 1.19s\tremaining: 3s\n",
      "284:\tlearn: 0.3435897\ttotal: 1.19s\tremaining: 2.99s\n",
      "285:\tlearn: 0.3432924\ttotal: 1.19s\tremaining: 2.98s\n",
      "286:\tlearn: 0.3429693\ttotal: 1.2s\tremaining: 2.97s\n",
      "287:\tlearn: 0.3423841\ttotal: 1.2s\tremaining: 2.96s\n",
      "288:\tlearn: 0.3419082\ttotal: 1.2s\tremaining: 2.95s\n",
      "289:\tlearn: 0.3417444\ttotal: 1.2s\tremaining: 2.94s\n",
      "290:\tlearn: 0.3413183\ttotal: 1.2s\tremaining: 2.93s\n",
      "291:\tlearn: 0.3410967\ttotal: 1.21s\tremaining: 2.92s\n",
      "292:\tlearn: 0.3405444\ttotal: 1.21s\tremaining: 2.91s\n",
      "293:\tlearn: 0.3400621\ttotal: 1.21s\tremaining: 2.9s\n",
      "294:\tlearn: 0.3397168\ttotal: 1.21s\tremaining: 2.89s\n",
      "295:\tlearn: 0.3393361\ttotal: 1.21s\tremaining: 2.88s\n",
      "296:\tlearn: 0.3390740\ttotal: 1.22s\tremaining: 2.88s\n",
      "297:\tlearn: 0.3385868\ttotal: 1.22s\tremaining: 2.87s\n",
      "298:\tlearn: 0.3383527\ttotal: 1.22s\tremaining: 2.86s\n",
      "299:\tlearn: 0.3381225\ttotal: 1.22s\tremaining: 2.85s\n",
      "300:\tlearn: 0.3377180\ttotal: 1.22s\tremaining: 2.84s\n",
      "301:\tlearn: 0.3373683\ttotal: 1.22s\tremaining: 2.83s\n",
      "302:\tlearn: 0.3369712\ttotal: 1.23s\tremaining: 2.82s\n",
      "303:\tlearn: 0.3365943\ttotal: 1.23s\tremaining: 2.82s\n",
      "304:\tlearn: 0.3361416\ttotal: 1.23s\tremaining: 2.81s\n",
      "305:\tlearn: 0.3357881\ttotal: 1.23s\tremaining: 2.8s\n",
      "306:\tlearn: 0.3355420\ttotal: 1.24s\tremaining: 2.79s\n",
      "307:\tlearn: 0.3353969\ttotal: 1.24s\tremaining: 2.78s\n",
      "308:\tlearn: 0.3350159\ttotal: 1.24s\tremaining: 2.77s\n",
      "309:\tlearn: 0.3347592\ttotal: 1.24s\tremaining: 2.77s\n",
      "310:\tlearn: 0.3344209\ttotal: 1.24s\tremaining: 2.76s\n",
      "311:\tlearn: 0.3340571\ttotal: 1.25s\tremaining: 2.75s\n",
      "312:\tlearn: 0.3337410\ttotal: 1.25s\tremaining: 2.74s\n",
      "313:\tlearn: 0.3335433\ttotal: 1.25s\tremaining: 2.73s\n",
      "314:\tlearn: 0.3331226\ttotal: 1.25s\tremaining: 2.73s\n",
      "315:\tlearn: 0.3326529\ttotal: 1.25s\tremaining: 2.72s\n",
      "316:\tlearn: 0.3324585\ttotal: 1.26s\tremaining: 2.71s\n",
      "317:\tlearn: 0.3319313\ttotal: 1.26s\tremaining: 2.7s\n",
      "318:\tlearn: 0.3317666\ttotal: 1.26s\tremaining: 2.7s\n",
      "319:\tlearn: 0.3316420\ttotal: 1.26s\tremaining: 2.69s\n",
      "320:\tlearn: 0.3313743\ttotal: 1.27s\tremaining: 2.68s\n",
      "321:\tlearn: 0.3311034\ttotal: 1.27s\tremaining: 2.67s\n",
      "322:\tlearn: 0.3308718\ttotal: 1.27s\tremaining: 2.67s\n",
      "323:\tlearn: 0.3305797\ttotal: 1.27s\tremaining: 2.66s\n",
      "324:\tlearn: 0.3303344\ttotal: 1.28s\tremaining: 2.65s\n",
      "325:\tlearn: 0.3299356\ttotal: 1.28s\tremaining: 2.64s\n",
      "326:\tlearn: 0.3297079\ttotal: 1.28s\tremaining: 2.64s\n",
      "327:\tlearn: 0.3293339\ttotal: 1.28s\tremaining: 2.63s\n",
      "328:\tlearn: 0.3289580\ttotal: 1.28s\tremaining: 2.62s\n",
      "329:\tlearn: 0.3285913\ttotal: 1.29s\tremaining: 2.62s\n",
      "330:\tlearn: 0.3282758\ttotal: 1.29s\tremaining: 2.61s\n",
      "331:\tlearn: 0.3279623\ttotal: 1.29s\tremaining: 2.6s\n",
      "332:\tlearn: 0.3274888\ttotal: 1.29s\tremaining: 2.59s\n",
      "333:\tlearn: 0.3271103\ttotal: 1.3s\tremaining: 2.59s\n",
      "334:\tlearn: 0.3266782\ttotal: 1.3s\tremaining: 2.58s\n",
      "335:\tlearn: 0.3263302\ttotal: 1.3s\tremaining: 2.57s\n",
      "336:\tlearn: 0.3260965\ttotal: 1.3s\tremaining: 2.56s\n",
      "337:\tlearn: 0.3259158\ttotal: 1.31s\tremaining: 2.56s\n",
      "338:\tlearn: 0.3258232\ttotal: 1.31s\tremaining: 2.55s\n",
      "339:\tlearn: 0.3256590\ttotal: 1.31s\tremaining: 2.54s\n",
      "340:\tlearn: 0.3251070\ttotal: 1.31s\tremaining: 2.54s\n",
      "341:\tlearn: 0.3248128\ttotal: 1.31s\tremaining: 2.53s\n",
      "342:\tlearn: 0.3245641\ttotal: 1.32s\tremaining: 2.52s\n",
      "343:\tlearn: 0.3244393\ttotal: 1.32s\tremaining: 2.52s\n",
      "344:\tlearn: 0.3239917\ttotal: 1.32s\tremaining: 2.51s\n",
      "345:\tlearn: 0.3236587\ttotal: 1.32s\tremaining: 2.5s\n",
      "346:\tlearn: 0.3232919\ttotal: 1.32s\tremaining: 2.49s\n",
      "347:\tlearn: 0.3229349\ttotal: 1.33s\tremaining: 2.48s\n",
      "348:\tlearn: 0.3227158\ttotal: 1.33s\tremaining: 2.48s\n",
      "349:\tlearn: 0.3222736\ttotal: 1.33s\tremaining: 2.47s\n",
      "350:\tlearn: 0.3219319\ttotal: 1.33s\tremaining: 2.46s\n",
      "351:\tlearn: 0.3216924\ttotal: 1.33s\tremaining: 2.46s\n",
      "352:\tlearn: 0.3214005\ttotal: 1.33s\tremaining: 2.45s\n",
      "353:\tlearn: 0.3212561\ttotal: 1.34s\tremaining: 2.44s\n",
      "354:\tlearn: 0.3210802\ttotal: 1.34s\tremaining: 2.43s\n",
      "355:\tlearn: 0.3208611\ttotal: 1.34s\tremaining: 2.42s\n",
      "356:\tlearn: 0.3207409\ttotal: 1.34s\tremaining: 2.42s\n",
      "357:\tlearn: 0.3204410\ttotal: 1.34s\tremaining: 2.41s\n",
      "358:\tlearn: 0.3201386\ttotal: 1.35s\tremaining: 2.4s\n",
      "359:\tlearn: 0.3199546\ttotal: 1.35s\tremaining: 2.4s\n",
      "360:\tlearn: 0.3196740\ttotal: 1.35s\tremaining: 2.39s\n",
      "361:\tlearn: 0.3193086\ttotal: 1.35s\tremaining: 2.38s\n",
      "362:\tlearn: 0.3190555\ttotal: 1.35s\tremaining: 2.38s\n",
      "363:\tlearn: 0.3186316\ttotal: 1.35s\tremaining: 2.37s\n",
      "364:\tlearn: 0.3182750\ttotal: 1.36s\tremaining: 2.36s\n",
      "365:\tlearn: 0.3179150\ttotal: 1.36s\tremaining: 2.35s\n",
      "366:\tlearn: 0.3176213\ttotal: 1.36s\tremaining: 2.35s\n",
      "367:\tlearn: 0.3174330\ttotal: 1.36s\tremaining: 2.34s\n",
      "368:\tlearn: 0.3170058\ttotal: 1.36s\tremaining: 2.33s\n",
      "369:\tlearn: 0.3167177\ttotal: 1.37s\tremaining: 2.33s\n",
      "370:\tlearn: 0.3165966\ttotal: 1.37s\tremaining: 2.32s\n",
      "371:\tlearn: 0.3163434\ttotal: 1.37s\tremaining: 2.31s\n",
      "372:\tlearn: 0.3158102\ttotal: 1.37s\tremaining: 2.31s\n",
      "373:\tlearn: 0.3156989\ttotal: 1.37s\tremaining: 2.3s\n",
      "374:\tlearn: 0.3153516\ttotal: 1.38s\tremaining: 2.29s\n",
      "375:\tlearn: 0.3151365\ttotal: 1.38s\tremaining: 2.29s\n",
      "376:\tlearn: 0.3148602\ttotal: 1.38s\tremaining: 2.28s\n",
      "377:\tlearn: 0.3146425\ttotal: 1.38s\tremaining: 2.27s\n",
      "378:\tlearn: 0.3140533\ttotal: 1.38s\tremaining: 2.27s\n",
      "379:\tlearn: 0.3138100\ttotal: 1.39s\tremaining: 2.26s\n",
      "380:\tlearn: 0.3134537\ttotal: 1.39s\tremaining: 2.25s\n",
      "381:\tlearn: 0.3131326\ttotal: 1.39s\tremaining: 2.25s\n",
      "382:\tlearn: 0.3127691\ttotal: 1.39s\tremaining: 2.24s\n",
      "383:\tlearn: 0.3123777\ttotal: 1.39s\tremaining: 2.23s\n",
      "384:\tlearn: 0.3120189\ttotal: 1.39s\tremaining: 2.23s\n",
      "385:\tlearn: 0.3117879\ttotal: 1.4s\tremaining: 2.22s\n",
      "386:\tlearn: 0.3117281\ttotal: 1.4s\tremaining: 2.21s\n",
      "387:\tlearn: 0.3114269\ttotal: 1.4s\tremaining: 2.21s\n",
      "388:\tlearn: 0.3111523\ttotal: 1.4s\tremaining: 2.2s\n",
      "389:\tlearn: 0.3107485\ttotal: 1.4s\tremaining: 2.2s\n",
      "390:\tlearn: 0.3104823\ttotal: 1.41s\tremaining: 2.19s\n",
      "391:\tlearn: 0.3102043\ttotal: 1.41s\tremaining: 2.18s\n",
      "392:\tlearn: 0.3100756\ttotal: 1.41s\tremaining: 2.18s\n",
      "393:\tlearn: 0.3096455\ttotal: 1.41s\tremaining: 2.17s\n",
      "394:\tlearn: 0.3094293\ttotal: 1.41s\tremaining: 2.17s\n",
      "395:\tlearn: 0.3091670\ttotal: 1.42s\tremaining: 2.16s\n",
      "396:\tlearn: 0.3089720\ttotal: 1.42s\tremaining: 2.15s\n",
      "397:\tlearn: 0.3087352\ttotal: 1.42s\tremaining: 2.15s\n",
      "398:\tlearn: 0.3083025\ttotal: 1.42s\tremaining: 2.14s\n",
      "399:\tlearn: 0.3080730\ttotal: 1.42s\tremaining: 2.13s\n",
      "400:\tlearn: 0.3075862\ttotal: 1.43s\tremaining: 2.13s\n",
      "401:\tlearn: 0.3072950\ttotal: 1.43s\tremaining: 2.12s\n",
      "402:\tlearn: 0.3069260\ttotal: 1.43s\tremaining: 2.12s\n",
      "403:\tlearn: 0.3066624\ttotal: 1.43s\tremaining: 2.11s\n",
      "404:\tlearn: 0.3064005\ttotal: 1.44s\tremaining: 2.11s\n",
      "405:\tlearn: 0.3062175\ttotal: 1.44s\tremaining: 2.1s\n",
      "406:\tlearn: 0.3059133\ttotal: 1.44s\tremaining: 2.1s\n",
      "407:\tlearn: 0.3056401\ttotal: 1.44s\tremaining: 2.09s\n",
      "408:\tlearn: 0.3053706\ttotal: 1.44s\tremaining: 2.08s\n",
      "409:\tlearn: 0.3051702\ttotal: 1.45s\tremaining: 2.08s\n",
      "410:\tlearn: 0.3047998\ttotal: 1.45s\tremaining: 2.07s\n",
      "411:\tlearn: 0.3044851\ttotal: 1.45s\tremaining: 2.07s\n",
      "412:\tlearn: 0.3041596\ttotal: 1.45s\tremaining: 2.06s\n",
      "413:\tlearn: 0.3039484\ttotal: 1.45s\tremaining: 2.06s\n",
      "414:\tlearn: 0.3035868\ttotal: 1.46s\tremaining: 2.05s\n",
      "415:\tlearn: 0.3034963\ttotal: 1.46s\tremaining: 2.05s\n",
      "416:\tlearn: 0.3032978\ttotal: 1.46s\tremaining: 2.04s\n",
      "417:\tlearn: 0.3029297\ttotal: 1.46s\tremaining: 2.04s\n",
      "418:\tlearn: 0.3026614\ttotal: 1.47s\tremaining: 2.03s\n",
      "419:\tlearn: 0.3025338\ttotal: 1.47s\tremaining: 2.03s\n",
      "420:\tlearn: 0.3023329\ttotal: 1.47s\tremaining: 2.02s\n",
      "421:\tlearn: 0.3020878\ttotal: 1.47s\tremaining: 2.02s\n",
      "422:\tlearn: 0.3018350\ttotal: 1.47s\tremaining: 2.01s\n",
      "423:\tlearn: 0.3016547\ttotal: 1.48s\tremaining: 2.01s\n",
      "424:\tlearn: 0.3013340\ttotal: 1.48s\tremaining: 2s\n",
      "425:\tlearn: 0.3012067\ttotal: 1.48s\tremaining: 2s\n",
      "426:\tlearn: 0.3010644\ttotal: 1.49s\tremaining: 1.99s\n",
      "427:\tlearn: 0.3008560\ttotal: 1.49s\tremaining: 1.99s\n",
      "428:\tlearn: 0.3007435\ttotal: 1.49s\tremaining: 1.98s\n",
      "429:\tlearn: 0.3005282\ttotal: 1.49s\tremaining: 1.98s\n",
      "430:\tlearn: 0.3002332\ttotal: 1.49s\tremaining: 1.97s\n",
      "431:\tlearn: 0.2999973\ttotal: 1.5s\tremaining: 1.97s\n",
      "432:\tlearn: 0.2998342\ttotal: 1.5s\tremaining: 1.96s\n",
      "433:\tlearn: 0.2995772\ttotal: 1.5s\tremaining: 1.96s\n",
      "434:\tlearn: 0.2994191\ttotal: 1.5s\tremaining: 1.95s\n",
      "435:\tlearn: 0.2992121\ttotal: 1.5s\tremaining: 1.95s\n",
      "436:\tlearn: 0.2990371\ttotal: 1.51s\tremaining: 1.94s\n",
      "437:\tlearn: 0.2988313\ttotal: 1.51s\tremaining: 1.94s\n",
      "438:\tlearn: 0.2986686\ttotal: 1.51s\tremaining: 1.93s\n",
      "439:\tlearn: 0.2985372\ttotal: 1.51s\tremaining: 1.93s\n",
      "440:\tlearn: 0.2982802\ttotal: 1.51s\tremaining: 1.92s\n",
      "441:\tlearn: 0.2978098\ttotal: 1.52s\tremaining: 1.91s\n",
      "442:\tlearn: 0.2975569\ttotal: 1.52s\tremaining: 1.91s\n",
      "443:\tlearn: 0.2974696\ttotal: 1.52s\tremaining: 1.9s\n",
      "444:\tlearn: 0.2971000\ttotal: 1.52s\tremaining: 1.9s\n",
      "445:\tlearn: 0.2968185\ttotal: 1.52s\tremaining: 1.89s\n",
      "446:\tlearn: 0.2965820\ttotal: 1.53s\tremaining: 1.89s\n",
      "447:\tlearn: 0.2963367\ttotal: 1.53s\tremaining: 1.88s\n",
      "448:\tlearn: 0.2962052\ttotal: 1.53s\tremaining: 1.88s\n",
      "449:\tlearn: 0.2958710\ttotal: 1.53s\tremaining: 1.87s\n",
      "450:\tlearn: 0.2957278\ttotal: 1.53s\tremaining: 1.87s\n",
      "451:\tlearn: 0.2954078\ttotal: 1.53s\tremaining: 1.86s\n",
      "452:\tlearn: 0.2950464\ttotal: 1.54s\tremaining: 1.86s\n",
      "453:\tlearn: 0.2943738\ttotal: 1.54s\tremaining: 1.85s\n",
      "454:\tlearn: 0.2940240\ttotal: 1.54s\tremaining: 1.85s\n",
      "455:\tlearn: 0.2937387\ttotal: 1.54s\tremaining: 1.84s\n",
      "456:\tlearn: 0.2932645\ttotal: 1.54s\tremaining: 1.83s\n",
      "457:\tlearn: 0.2930212\ttotal: 1.55s\tremaining: 1.83s\n",
      "458:\tlearn: 0.2927047\ttotal: 1.55s\tremaining: 1.82s\n",
      "459:\tlearn: 0.2925782\ttotal: 1.55s\tremaining: 1.82s\n",
      "460:\tlearn: 0.2923455\ttotal: 1.55s\tremaining: 1.81s\n",
      "461:\tlearn: 0.2921114\ttotal: 1.55s\tremaining: 1.81s\n",
      "462:\tlearn: 0.2918372\ttotal: 1.56s\tremaining: 1.8s\n",
      "463:\tlearn: 0.2916646\ttotal: 1.56s\tremaining: 1.8s\n",
      "464:\tlearn: 0.2914858\ttotal: 1.56s\tremaining: 1.79s\n",
      "465:\tlearn: 0.2913746\ttotal: 1.56s\tremaining: 1.79s\n",
      "466:\tlearn: 0.2911112\ttotal: 1.56s\tremaining: 1.78s\n",
      "467:\tlearn: 0.2909419\ttotal: 1.56s\tremaining: 1.78s\n",
      "468:\tlearn: 0.2907768\ttotal: 1.57s\tremaining: 1.77s\n",
      "469:\tlearn: 0.2905672\ttotal: 1.57s\tremaining: 1.77s\n",
      "470:\tlearn: 0.2902868\ttotal: 1.57s\tremaining: 1.76s\n",
      "471:\tlearn: 0.2901459\ttotal: 1.57s\tremaining: 1.76s\n",
      "472:\tlearn: 0.2895721\ttotal: 1.57s\tremaining: 1.75s\n",
      "473:\tlearn: 0.2893069\ttotal: 1.58s\tremaining: 1.75s\n",
      "474:\tlearn: 0.2892238\ttotal: 1.58s\tremaining: 1.74s\n",
      "475:\tlearn: 0.2890793\ttotal: 1.58s\tremaining: 1.74s\n",
      "476:\tlearn: 0.2888606\ttotal: 1.58s\tremaining: 1.73s\n",
      "477:\tlearn: 0.2885725\ttotal: 1.58s\tremaining: 1.73s\n",
      "478:\tlearn: 0.2884059\ttotal: 1.59s\tremaining: 1.73s\n",
      "479:\tlearn: 0.2881226\ttotal: 1.59s\tremaining: 1.72s\n",
      "480:\tlearn: 0.2878577\ttotal: 1.59s\tremaining: 1.72s\n",
      "481:\tlearn: 0.2876443\ttotal: 1.59s\tremaining: 1.71s\n",
      "482:\tlearn: 0.2872679\ttotal: 1.59s\tremaining: 1.71s\n",
      "483:\tlearn: 0.2869225\ttotal: 1.59s\tremaining: 1.7s\n",
      "484:\tlearn: 0.2867176\ttotal: 1.6s\tremaining: 1.7s\n",
      "485:\tlearn: 0.2863829\ttotal: 1.6s\tremaining: 1.69s\n",
      "486:\tlearn: 0.2862343\ttotal: 1.6s\tremaining: 1.69s\n",
      "487:\tlearn: 0.2860281\ttotal: 1.6s\tremaining: 1.68s\n",
      "488:\tlearn: 0.2858158\ttotal: 1.61s\tremaining: 1.68s\n",
      "489:\tlearn: 0.2857030\ttotal: 1.61s\tremaining: 1.67s\n",
      "490:\tlearn: 0.2853467\ttotal: 1.61s\tremaining: 1.67s\n",
      "491:\tlearn: 0.2852238\ttotal: 1.61s\tremaining: 1.67s\n",
      "492:\tlearn: 0.2848703\ttotal: 1.61s\tremaining: 1.66s\n",
      "493:\tlearn: 0.2847930\ttotal: 1.62s\tremaining: 1.66s\n",
      "494:\tlearn: 0.2844460\ttotal: 1.62s\tremaining: 1.65s\n",
      "495:\tlearn: 0.2842826\ttotal: 1.62s\tremaining: 1.65s\n",
      "496:\tlearn: 0.2840736\ttotal: 1.62s\tremaining: 1.64s\n",
      "497:\tlearn: 0.2838086\ttotal: 1.63s\tremaining: 1.64s\n",
      "498:\tlearn: 0.2836780\ttotal: 1.63s\tremaining: 1.64s\n",
      "499:\tlearn: 0.2835099\ttotal: 1.63s\tremaining: 1.63s\n",
      "500:\tlearn: 0.2833241\ttotal: 1.63s\tremaining: 1.63s\n",
      "501:\tlearn: 0.2831782\ttotal: 1.64s\tremaining: 1.62s\n",
      "502:\tlearn: 0.2829458\ttotal: 1.64s\tremaining: 1.62s\n",
      "503:\tlearn: 0.2824786\ttotal: 1.64s\tremaining: 1.61s\n",
      "504:\tlearn: 0.2823866\ttotal: 1.64s\tremaining: 1.61s\n",
      "505:\tlearn: 0.2821895\ttotal: 1.65s\tremaining: 1.61s\n",
      "506:\tlearn: 0.2817553\ttotal: 1.65s\tremaining: 1.6s\n",
      "507:\tlearn: 0.2815476\ttotal: 1.65s\tremaining: 1.6s\n",
      "508:\tlearn: 0.2813923\ttotal: 1.65s\tremaining: 1.59s\n",
      "509:\tlearn: 0.2812253\ttotal: 1.66s\tremaining: 1.59s\n",
      "510:\tlearn: 0.2811270\ttotal: 1.66s\tremaining: 1.59s\n",
      "511:\tlearn: 0.2809442\ttotal: 1.66s\tremaining: 1.58s\n",
      "512:\tlearn: 0.2806583\ttotal: 1.66s\tremaining: 1.58s\n",
      "513:\tlearn: 0.2804053\ttotal: 1.67s\tremaining: 1.58s\n",
      "514:\tlearn: 0.2802933\ttotal: 1.67s\tremaining: 1.57s\n",
      "515:\tlearn: 0.2802130\ttotal: 1.67s\tremaining: 1.57s\n",
      "516:\tlearn: 0.2800198\ttotal: 1.67s\tremaining: 1.56s\n",
      "517:\tlearn: 0.2797297\ttotal: 1.67s\tremaining: 1.56s\n",
      "518:\tlearn: 0.2792613\ttotal: 1.68s\tremaining: 1.55s\n",
      "519:\tlearn: 0.2791178\ttotal: 1.68s\tremaining: 1.55s\n",
      "520:\tlearn: 0.2787684\ttotal: 1.68s\tremaining: 1.54s\n",
      "521:\tlearn: 0.2785238\ttotal: 1.68s\tremaining: 1.54s\n",
      "522:\tlearn: 0.2784354\ttotal: 1.68s\tremaining: 1.53s\n",
      "523:\tlearn: 0.2782083\ttotal: 1.69s\tremaining: 1.53s\n",
      "524:\tlearn: 0.2779862\ttotal: 1.69s\tremaining: 1.53s\n",
      "525:\tlearn: 0.2778577\ttotal: 1.69s\tremaining: 1.52s\n",
      "526:\tlearn: 0.2776799\ttotal: 1.69s\tremaining: 1.52s\n",
      "527:\tlearn: 0.2774047\ttotal: 1.69s\tremaining: 1.51s\n",
      "528:\tlearn: 0.2770705\ttotal: 1.7s\tremaining: 1.51s\n",
      "529:\tlearn: 0.2767879\ttotal: 1.7s\tremaining: 1.5s\n",
      "530:\tlearn: 0.2765573\ttotal: 1.7s\tremaining: 1.5s\n",
      "531:\tlearn: 0.2762926\ttotal: 1.7s\tremaining: 1.5s\n",
      "532:\tlearn: 0.2760226\ttotal: 1.7s\tremaining: 1.49s\n",
      "533:\tlearn: 0.2759634\ttotal: 1.71s\tremaining: 1.49s\n",
      "534:\tlearn: 0.2755854\ttotal: 1.71s\tremaining: 1.48s\n",
      "535:\tlearn: 0.2753839\ttotal: 1.71s\tremaining: 1.48s\n",
      "536:\tlearn: 0.2748993\ttotal: 1.71s\tremaining: 1.48s\n",
      "537:\tlearn: 0.2747174\ttotal: 1.71s\tremaining: 1.47s\n",
      "538:\tlearn: 0.2745669\ttotal: 1.72s\tremaining: 1.47s\n",
      "539:\tlearn: 0.2742959\ttotal: 1.72s\tremaining: 1.47s\n",
      "540:\tlearn: 0.2740799\ttotal: 1.72s\tremaining: 1.46s\n",
      "541:\tlearn: 0.2739597\ttotal: 1.72s\tremaining: 1.46s\n",
      "542:\tlearn: 0.2737468\ttotal: 1.73s\tremaining: 1.45s\n",
      "543:\tlearn: 0.2736213\ttotal: 1.73s\tremaining: 1.45s\n",
      "544:\tlearn: 0.2734265\ttotal: 1.73s\tremaining: 1.44s\n",
      "545:\tlearn: 0.2731554\ttotal: 1.73s\tremaining: 1.44s\n",
      "546:\tlearn: 0.2730985\ttotal: 1.73s\tremaining: 1.44s\n",
      "547:\tlearn: 0.2727592\ttotal: 1.74s\tremaining: 1.43s\n",
      "548:\tlearn: 0.2725759\ttotal: 1.74s\tremaining: 1.43s\n",
      "549:\tlearn: 0.2723701\ttotal: 1.74s\tremaining: 1.42s\n",
      "550:\tlearn: 0.2720963\ttotal: 1.74s\tremaining: 1.42s\n",
      "551:\tlearn: 0.2717838\ttotal: 1.74s\tremaining: 1.41s\n",
      "552:\tlearn: 0.2716459\ttotal: 1.75s\tremaining: 1.41s\n",
      "553:\tlearn: 0.2714241\ttotal: 1.75s\tremaining: 1.41s\n",
      "554:\tlearn: 0.2710796\ttotal: 1.75s\tremaining: 1.4s\n",
      "555:\tlearn: 0.2708530\ttotal: 1.75s\tremaining: 1.4s\n",
      "556:\tlearn: 0.2707057\ttotal: 1.75s\tremaining: 1.39s\n",
      "557:\tlearn: 0.2702598\ttotal: 1.75s\tremaining: 1.39s\n",
      "558:\tlearn: 0.2701429\ttotal: 1.76s\tremaining: 1.39s\n",
      "559:\tlearn: 0.2699466\ttotal: 1.76s\tremaining: 1.38s\n",
      "560:\tlearn: 0.2697293\ttotal: 1.76s\tremaining: 1.38s\n",
      "561:\tlearn: 0.2694486\ttotal: 1.76s\tremaining: 1.37s\n",
      "562:\tlearn: 0.2690466\ttotal: 1.77s\tremaining: 1.37s\n",
      "563:\tlearn: 0.2689248\ttotal: 1.77s\tremaining: 1.37s\n",
      "564:\tlearn: 0.2686948\ttotal: 1.77s\tremaining: 1.36s\n",
      "565:\tlearn: 0.2685619\ttotal: 1.77s\tremaining: 1.36s\n",
      "566:\tlearn: 0.2683828\ttotal: 1.78s\tremaining: 1.36s\n",
      "567:\tlearn: 0.2679790\ttotal: 1.78s\tremaining: 1.35s\n",
      "568:\tlearn: 0.2678450\ttotal: 1.78s\tremaining: 1.35s\n",
      "569:\tlearn: 0.2676119\ttotal: 1.79s\tremaining: 1.35s\n",
      "570:\tlearn: 0.2673814\ttotal: 1.79s\tremaining: 1.34s\n",
      "571:\tlearn: 0.2672294\ttotal: 1.8s\tremaining: 1.34s\n",
      "572:\tlearn: 0.2669753\ttotal: 1.8s\tremaining: 1.34s\n",
      "573:\tlearn: 0.2668201\ttotal: 1.8s\tremaining: 1.34s\n",
      "574:\tlearn: 0.2663744\ttotal: 1.8s\tremaining: 1.33s\n",
      "575:\tlearn: 0.2663089\ttotal: 1.81s\tremaining: 1.33s\n",
      "576:\tlearn: 0.2661984\ttotal: 1.81s\tremaining: 1.33s\n",
      "577:\tlearn: 0.2657423\ttotal: 1.81s\tremaining: 1.32s\n",
      "578:\tlearn: 0.2655906\ttotal: 1.82s\tremaining: 1.32s\n",
      "579:\tlearn: 0.2652973\ttotal: 1.82s\tremaining: 1.32s\n",
      "580:\tlearn: 0.2651702\ttotal: 1.82s\tremaining: 1.31s\n",
      "581:\tlearn: 0.2649804\ttotal: 1.82s\tremaining: 1.31s\n",
      "582:\tlearn: 0.2648733\ttotal: 1.82s\tremaining: 1.3s\n",
      "583:\tlearn: 0.2645161\ttotal: 1.83s\tremaining: 1.3s\n",
      "584:\tlearn: 0.2643629\ttotal: 1.83s\tremaining: 1.3s\n",
      "585:\tlearn: 0.2640424\ttotal: 1.83s\tremaining: 1.29s\n",
      "586:\tlearn: 0.2639059\ttotal: 1.83s\tremaining: 1.29s\n",
      "587:\tlearn: 0.2635783\ttotal: 1.84s\tremaining: 1.29s\n",
      "588:\tlearn: 0.2633252\ttotal: 1.84s\tremaining: 1.28s\n",
      "589:\tlearn: 0.2631536\ttotal: 1.84s\tremaining: 1.28s\n",
      "590:\tlearn: 0.2629800\ttotal: 1.84s\tremaining: 1.27s\n",
      "591:\tlearn: 0.2626833\ttotal: 1.84s\tremaining: 1.27s\n",
      "592:\tlearn: 0.2624857\ttotal: 1.85s\tremaining: 1.27s\n",
      "593:\tlearn: 0.2622796\ttotal: 1.85s\tremaining: 1.26s\n",
      "594:\tlearn: 0.2619838\ttotal: 1.85s\tremaining: 1.26s\n",
      "595:\tlearn: 0.2618002\ttotal: 1.85s\tremaining: 1.26s\n",
      "596:\tlearn: 0.2615721\ttotal: 1.86s\tremaining: 1.25s\n",
      "597:\tlearn: 0.2615152\ttotal: 1.86s\tremaining: 1.25s\n",
      "598:\tlearn: 0.2613501\ttotal: 1.86s\tremaining: 1.25s\n",
      "599:\tlearn: 0.2611080\ttotal: 1.86s\tremaining: 1.24s\n",
      "600:\tlearn: 0.2609645\ttotal: 1.87s\tremaining: 1.24s\n",
      "601:\tlearn: 0.2606897\ttotal: 1.87s\tremaining: 1.24s\n",
      "602:\tlearn: 0.2602639\ttotal: 1.87s\tremaining: 1.23s\n",
      "603:\tlearn: 0.2599329\ttotal: 1.87s\tremaining: 1.23s\n",
      "604:\tlearn: 0.2597957\ttotal: 1.88s\tremaining: 1.23s\n",
      "605:\tlearn: 0.2595943\ttotal: 1.88s\tremaining: 1.22s\n",
      "606:\tlearn: 0.2593111\ttotal: 1.88s\tremaining: 1.22s\n",
      "607:\tlearn: 0.2591161\ttotal: 1.88s\tremaining: 1.21s\n",
      "608:\tlearn: 0.2588429\ttotal: 1.89s\tremaining: 1.21s\n",
      "609:\tlearn: 0.2586168\ttotal: 1.89s\tremaining: 1.21s\n",
      "610:\tlearn: 0.2583814\ttotal: 1.89s\tremaining: 1.2s\n",
      "611:\tlearn: 0.2582859\ttotal: 1.89s\tremaining: 1.2s\n",
      "612:\tlearn: 0.2581228\ttotal: 1.9s\tremaining: 1.2s\n",
      "613:\tlearn: 0.2576821\ttotal: 1.9s\tremaining: 1.19s\n",
      "614:\tlearn: 0.2573665\ttotal: 1.9s\tremaining: 1.19s\n",
      "615:\tlearn: 0.2571712\ttotal: 1.91s\tremaining: 1.19s\n",
      "616:\tlearn: 0.2569123\ttotal: 1.91s\tremaining: 1.18s\n",
      "617:\tlearn: 0.2567421\ttotal: 1.91s\tremaining: 1.18s\n",
      "618:\tlearn: 0.2565468\ttotal: 1.91s\tremaining: 1.18s\n",
      "619:\tlearn: 0.2560903\ttotal: 1.91s\tremaining: 1.17s\n",
      "620:\tlearn: 0.2558848\ttotal: 1.92s\tremaining: 1.17s\n",
      "621:\tlearn: 0.2557082\ttotal: 1.92s\tremaining: 1.17s\n",
      "622:\tlearn: 0.2555673\ttotal: 1.92s\tremaining: 1.16s\n",
      "623:\tlearn: 0.2553104\ttotal: 1.92s\tremaining: 1.16s\n",
      "624:\tlearn: 0.2551517\ttotal: 1.93s\tremaining: 1.16s\n",
      "625:\tlearn: 0.2548730\ttotal: 1.93s\tremaining: 1.15s\n",
      "626:\tlearn: 0.2547001\ttotal: 1.93s\tremaining: 1.15s\n",
      "627:\tlearn: 0.2545593\ttotal: 1.93s\tremaining: 1.15s\n",
      "628:\tlearn: 0.2543065\ttotal: 1.94s\tremaining: 1.14s\n",
      "629:\tlearn: 0.2541924\ttotal: 1.94s\tremaining: 1.14s\n",
      "630:\tlearn: 0.2540412\ttotal: 1.94s\tremaining: 1.14s\n",
      "631:\tlearn: 0.2540272\ttotal: 1.95s\tremaining: 1.13s\n",
      "632:\tlearn: 0.2538574\ttotal: 1.95s\tremaining: 1.13s\n",
      "633:\tlearn: 0.2535445\ttotal: 1.95s\tremaining: 1.13s\n",
      "634:\tlearn: 0.2533613\ttotal: 1.95s\tremaining: 1.12s\n",
      "635:\tlearn: 0.2532291\ttotal: 1.96s\tremaining: 1.12s\n",
      "636:\tlearn: 0.2529860\ttotal: 1.96s\tremaining: 1.12s\n",
      "637:\tlearn: 0.2529107\ttotal: 1.96s\tremaining: 1.11s\n",
      "638:\tlearn: 0.2528306\ttotal: 1.96s\tremaining: 1.11s\n",
      "639:\tlearn: 0.2527318\ttotal: 1.97s\tremaining: 1.11s\n",
      "640:\tlearn: 0.2526089\ttotal: 1.97s\tremaining: 1.1s\n",
      "641:\tlearn: 0.2523294\ttotal: 1.97s\tremaining: 1.1s\n",
      "642:\tlearn: 0.2521745\ttotal: 1.97s\tremaining: 1.1s\n",
      "643:\tlearn: 0.2520903\ttotal: 1.98s\tremaining: 1.09s\n",
      "644:\tlearn: 0.2518111\ttotal: 1.98s\tremaining: 1.09s\n",
      "645:\tlearn: 0.2517013\ttotal: 1.98s\tremaining: 1.09s\n",
      "646:\tlearn: 0.2513785\ttotal: 1.98s\tremaining: 1.08s\n",
      "647:\tlearn: 0.2510264\ttotal: 1.99s\tremaining: 1.08s\n",
      "648:\tlearn: 0.2509075\ttotal: 1.99s\tremaining: 1.08s\n",
      "649:\tlearn: 0.2507789\ttotal: 1.99s\tremaining: 1.07s\n",
      "650:\tlearn: 0.2505793\ttotal: 1.99s\tremaining: 1.07s\n",
      "651:\tlearn: 0.2504598\ttotal: 2s\tremaining: 1.06s\n",
      "652:\tlearn: 0.2502472\ttotal: 2s\tremaining: 1.06s\n",
      "653:\tlearn: 0.2501631\ttotal: 2s\tremaining: 1.06s\n",
      "654:\tlearn: 0.2500554\ttotal: 2s\tremaining: 1.05s\n",
      "655:\tlearn: 0.2499953\ttotal: 2s\tremaining: 1.05s\n",
      "656:\tlearn: 0.2497997\ttotal: 2.01s\tremaining: 1.05s\n",
      "657:\tlearn: 0.2496228\ttotal: 2.01s\tremaining: 1.04s\n",
      "658:\tlearn: 0.2493790\ttotal: 2.01s\tremaining: 1.04s\n",
      "659:\tlearn: 0.2490870\ttotal: 2.01s\tremaining: 1.04s\n",
      "660:\tlearn: 0.2489131\ttotal: 2.02s\tremaining: 1.03s\n",
      "661:\tlearn: 0.2487822\ttotal: 2.02s\tremaining: 1.03s\n",
      "662:\tlearn: 0.2486344\ttotal: 2.02s\tremaining: 1.03s\n",
      "663:\tlearn: 0.2485112\ttotal: 2.02s\tremaining: 1.02s\n",
      "664:\tlearn: 0.2483456\ttotal: 2.02s\tremaining: 1.02s\n",
      "665:\tlearn: 0.2478812\ttotal: 2.03s\tremaining: 1.02s\n",
      "666:\tlearn: 0.2477720\ttotal: 2.03s\tremaining: 1.01s\n",
      "667:\tlearn: 0.2476856\ttotal: 2.03s\tremaining: 1.01s\n",
      "668:\tlearn: 0.2473703\ttotal: 2.03s\tremaining: 1s\n",
      "669:\tlearn: 0.2469242\ttotal: 2.03s\tremaining: 1s\n",
      "670:\tlearn: 0.2468015\ttotal: 2.04s\tremaining: 998ms\n",
      "671:\tlearn: 0.2464829\ttotal: 2.04s\tremaining: 995ms\n",
      "672:\tlearn: 0.2462695\ttotal: 2.04s\tremaining: 991ms\n",
      "673:\tlearn: 0.2460049\ttotal: 2.04s\tremaining: 988ms\n",
      "674:\tlearn: 0.2459397\ttotal: 2.05s\tremaining: 985ms\n",
      "675:\tlearn: 0.2457831\ttotal: 2.05s\tremaining: 982ms\n",
      "676:\tlearn: 0.2456189\ttotal: 2.05s\tremaining: 978ms\n",
      "677:\tlearn: 0.2453592\ttotal: 2.05s\tremaining: 974ms\n",
      "678:\tlearn: 0.2450781\ttotal: 2.05s\tremaining: 971ms\n",
      "679:\tlearn: 0.2449079\ttotal: 2.05s\tremaining: 967ms\n",
      "680:\tlearn: 0.2447622\ttotal: 2.06s\tremaining: 964ms\n",
      "681:\tlearn: 0.2446009\ttotal: 2.06s\tremaining: 961ms\n",
      "682:\tlearn: 0.2444911\ttotal: 2.06s\tremaining: 957ms\n",
      "683:\tlearn: 0.2442647\ttotal: 2.06s\tremaining: 954ms\n",
      "684:\tlearn: 0.2439881\ttotal: 2.06s\tremaining: 950ms\n",
      "685:\tlearn: 0.2438743\ttotal: 2.07s\tremaining: 947ms\n",
      "686:\tlearn: 0.2436232\ttotal: 2.07s\tremaining: 943ms\n",
      "687:\tlearn: 0.2432542\ttotal: 2.07s\tremaining: 940ms\n",
      "688:\tlearn: 0.2430422\ttotal: 2.07s\tremaining: 937ms\n",
      "689:\tlearn: 0.2427875\ttotal: 2.08s\tremaining: 933ms\n",
      "690:\tlearn: 0.2426080\ttotal: 2.08s\tremaining: 930ms\n",
      "691:\tlearn: 0.2423995\ttotal: 2.08s\tremaining: 926ms\n",
      "692:\tlearn: 0.2422839\ttotal: 2.08s\tremaining: 922ms\n",
      "693:\tlearn: 0.2419745\ttotal: 2.08s\tremaining: 919ms\n",
      "694:\tlearn: 0.2419342\ttotal: 2.09s\tremaining: 916ms\n",
      "695:\tlearn: 0.2417488\ttotal: 2.09s\tremaining: 912ms\n",
      "696:\tlearn: 0.2416767\ttotal: 2.09s\tremaining: 909ms\n",
      "697:\tlearn: 0.2415790\ttotal: 2.09s\tremaining: 905ms\n",
      "698:\tlearn: 0.2412939\ttotal: 2.09s\tremaining: 901ms\n",
      "699:\tlearn: 0.2411213\ttotal: 2.1s\tremaining: 898ms\n",
      "700:\tlearn: 0.2408446\ttotal: 2.1s\tremaining: 895ms\n",
      "701:\tlearn: 0.2405587\ttotal: 2.1s\tremaining: 892ms\n",
      "702:\tlearn: 0.2403313\ttotal: 2.1s\tremaining: 888ms\n",
      "703:\tlearn: 0.2401492\ttotal: 2.1s\tremaining: 885ms\n",
      "704:\tlearn: 0.2398918\ttotal: 2.11s\tremaining: 882ms\n",
      "705:\tlearn: 0.2396047\ttotal: 2.11s\tremaining: 878ms\n",
      "706:\tlearn: 0.2395006\ttotal: 2.11s\tremaining: 875ms\n",
      "707:\tlearn: 0.2394055\ttotal: 2.11s\tremaining: 871ms\n",
      "708:\tlearn: 0.2392352\ttotal: 2.11s\tremaining: 868ms\n",
      "709:\tlearn: 0.2390019\ttotal: 2.12s\tremaining: 865ms\n",
      "710:\tlearn: 0.2388457\ttotal: 2.12s\tremaining: 861ms\n",
      "711:\tlearn: 0.2386594\ttotal: 2.12s\tremaining: 858ms\n",
      "712:\tlearn: 0.2385861\ttotal: 2.12s\tremaining: 854ms\n",
      "713:\tlearn: 0.2383764\ttotal: 2.12s\tremaining: 851ms\n",
      "714:\tlearn: 0.2382499\ttotal: 2.13s\tremaining: 848ms\n",
      "715:\tlearn: 0.2380496\ttotal: 2.13s\tremaining: 844ms\n",
      "716:\tlearn: 0.2377915\ttotal: 2.13s\tremaining: 841ms\n",
      "717:\tlearn: 0.2376989\ttotal: 2.13s\tremaining: 838ms\n",
      "718:\tlearn: 0.2375933\ttotal: 2.13s\tremaining: 835ms\n",
      "719:\tlearn: 0.2374398\ttotal: 2.14s\tremaining: 831ms\n",
      "720:\tlearn: 0.2372318\ttotal: 2.14s\tremaining: 828ms\n",
      "721:\tlearn: 0.2370847\ttotal: 2.14s\tremaining: 825ms\n",
      "722:\tlearn: 0.2367496\ttotal: 2.14s\tremaining: 821ms\n",
      "723:\tlearn: 0.2363787\ttotal: 2.15s\tremaining: 818ms\n",
      "724:\tlearn: 0.2362295\ttotal: 2.15s\tremaining: 815ms\n",
      "725:\tlearn: 0.2361886\ttotal: 2.15s\tremaining: 812ms\n",
      "726:\tlearn: 0.2360077\ttotal: 2.15s\tremaining: 808ms\n",
      "727:\tlearn: 0.2358936\ttotal: 2.15s\tremaining: 805ms\n",
      "728:\tlearn: 0.2357625\ttotal: 2.16s\tremaining: 802ms\n",
      "729:\tlearn: 0.2356657\ttotal: 2.16s\tremaining: 799ms\n",
      "730:\tlearn: 0.2355083\ttotal: 2.16s\tremaining: 796ms\n",
      "731:\tlearn: 0.2354345\ttotal: 2.17s\tremaining: 793ms\n",
      "732:\tlearn: 0.2353153\ttotal: 2.17s\tremaining: 790ms\n",
      "733:\tlearn: 0.2352290\ttotal: 2.17s\tremaining: 787ms\n",
      "734:\tlearn: 0.2351001\ttotal: 2.17s\tremaining: 783ms\n",
      "735:\tlearn: 0.2349968\ttotal: 2.18s\tremaining: 782ms\n",
      "736:\tlearn: 0.2349104\ttotal: 2.18s\tremaining: 778ms\n",
      "737:\tlearn: 0.2348057\ttotal: 2.18s\tremaining: 775ms\n",
      "738:\tlearn: 0.2346429\ttotal: 2.19s\tremaining: 772ms\n",
      "739:\tlearn: 0.2344062\ttotal: 2.19s\tremaining: 769ms\n",
      "740:\tlearn: 0.2343251\ttotal: 2.19s\tremaining: 765ms\n",
      "741:\tlearn: 0.2339286\ttotal: 2.19s\tremaining: 763ms\n",
      "742:\tlearn: 0.2337558\ttotal: 2.2s\tremaining: 760ms\n",
      "743:\tlearn: 0.2336824\ttotal: 2.2s\tremaining: 757ms\n",
      "744:\tlearn: 0.2336136\ttotal: 2.2s\tremaining: 753ms\n",
      "745:\tlearn: 0.2334585\ttotal: 2.2s\tremaining: 750ms\n",
      "746:\tlearn: 0.2330439\ttotal: 2.21s\tremaining: 748ms\n",
      "747:\tlearn: 0.2327640\ttotal: 2.21s\tremaining: 744ms\n",
      "748:\tlearn: 0.2325958\ttotal: 2.21s\tremaining: 741ms\n",
      "749:\tlearn: 0.2323885\ttotal: 2.21s\tremaining: 738ms\n",
      "750:\tlearn: 0.2321622\ttotal: 2.21s\tremaining: 734ms\n",
      "751:\tlearn: 0.2320129\ttotal: 2.22s\tremaining: 731ms\n",
      "752:\tlearn: 0.2319447\ttotal: 2.22s\tremaining: 729ms\n",
      "753:\tlearn: 0.2318012\ttotal: 2.22s\tremaining: 725ms\n",
      "754:\tlearn: 0.2316776\ttotal: 2.23s\tremaining: 722ms\n",
      "755:\tlearn: 0.2315503\ttotal: 2.23s\tremaining: 719ms\n",
      "756:\tlearn: 0.2313964\ttotal: 2.23s\tremaining: 716ms\n",
      "757:\tlearn: 0.2313403\ttotal: 2.23s\tremaining: 712ms\n",
      "758:\tlearn: 0.2311582\ttotal: 2.23s\tremaining: 709ms\n",
      "759:\tlearn: 0.2309643\ttotal: 2.24s\tremaining: 706ms\n",
      "760:\tlearn: 0.2308683\ttotal: 2.24s\tremaining: 703ms\n",
      "761:\tlearn: 0.2306519\ttotal: 2.24s\tremaining: 700ms\n",
      "762:\tlearn: 0.2304512\ttotal: 2.24s\tremaining: 697ms\n",
      "763:\tlearn: 0.2303585\ttotal: 2.24s\tremaining: 693ms\n",
      "764:\tlearn: 0.2301186\ttotal: 2.25s\tremaining: 690ms\n",
      "765:\tlearn: 0.2299520\ttotal: 2.25s\tremaining: 687ms\n",
      "766:\tlearn: 0.2298211\ttotal: 2.25s\tremaining: 684ms\n",
      "767:\tlearn: 0.2296461\ttotal: 2.25s\tremaining: 681ms\n",
      "768:\tlearn: 0.2294316\ttotal: 2.25s\tremaining: 678ms\n",
      "769:\tlearn: 0.2292530\ttotal: 2.26s\tremaining: 674ms\n",
      "770:\tlearn: 0.2290728\ttotal: 2.26s\tremaining: 671ms\n",
      "771:\tlearn: 0.2288433\ttotal: 2.26s\tremaining: 668ms\n",
      "772:\tlearn: 0.2287000\ttotal: 2.26s\tremaining: 665ms\n",
      "773:\tlearn: 0.2284832\ttotal: 2.27s\tremaining: 662ms\n",
      "774:\tlearn: 0.2283585\ttotal: 2.27s\tremaining: 659ms\n",
      "775:\tlearn: 0.2282229\ttotal: 2.27s\tremaining: 656ms\n",
      "776:\tlearn: 0.2281303\ttotal: 2.27s\tremaining: 653ms\n",
      "777:\tlearn: 0.2279449\ttotal: 2.28s\tremaining: 650ms\n",
      "778:\tlearn: 0.2277649\ttotal: 2.28s\tremaining: 647ms\n",
      "779:\tlearn: 0.2276696\ttotal: 2.28s\tremaining: 644ms\n",
      "780:\tlearn: 0.2274767\ttotal: 2.28s\tremaining: 640ms\n",
      "781:\tlearn: 0.2272327\ttotal: 2.29s\tremaining: 637ms\n",
      "782:\tlearn: 0.2270917\ttotal: 2.29s\tremaining: 634ms\n",
      "783:\tlearn: 0.2269343\ttotal: 2.29s\tremaining: 632ms\n",
      "784:\tlearn: 0.2266742\ttotal: 2.29s\tremaining: 628ms\n",
      "785:\tlearn: 0.2264986\ttotal: 2.3s\tremaining: 625ms\n",
      "786:\tlearn: 0.2263188\ttotal: 2.3s\tremaining: 622ms\n",
      "787:\tlearn: 0.2261086\ttotal: 2.3s\tremaining: 619ms\n",
      "788:\tlearn: 0.2258824\ttotal: 2.3s\tremaining: 616ms\n",
      "789:\tlearn: 0.2256495\ttotal: 2.31s\tremaining: 613ms\n",
      "790:\tlearn: 0.2253640\ttotal: 2.31s\tremaining: 610ms\n",
      "791:\tlearn: 0.2253015\ttotal: 2.31s\tremaining: 607ms\n",
      "792:\tlearn: 0.2251932\ttotal: 2.31s\tremaining: 603ms\n",
      "793:\tlearn: 0.2250610\ttotal: 2.31s\tremaining: 600ms\n",
      "794:\tlearn: 0.2249378\ttotal: 2.31s\tremaining: 597ms\n",
      "795:\tlearn: 0.2247418\ttotal: 2.32s\tremaining: 594ms\n",
      "796:\tlearn: 0.2243590\ttotal: 2.32s\tremaining: 591ms\n",
      "797:\tlearn: 0.2241881\ttotal: 2.32s\tremaining: 588ms\n",
      "798:\tlearn: 0.2239846\ttotal: 2.32s\tremaining: 585ms\n",
      "799:\tlearn: 0.2238098\ttotal: 2.33s\tremaining: 582ms\n",
      "800:\tlearn: 0.2237013\ttotal: 2.33s\tremaining: 579ms\n",
      "801:\tlearn: 0.2235843\ttotal: 2.33s\tremaining: 575ms\n",
      "802:\tlearn: 0.2234171\ttotal: 2.33s\tremaining: 572ms\n",
      "803:\tlearn: 0.2232202\ttotal: 2.33s\tremaining: 569ms\n",
      "804:\tlearn: 0.2230832\ttotal: 2.34s\tremaining: 566ms\n",
      "805:\tlearn: 0.2229630\ttotal: 2.34s\tremaining: 563ms\n",
      "806:\tlearn: 0.2227556\ttotal: 2.34s\tremaining: 560ms\n",
      "807:\tlearn: 0.2225513\ttotal: 2.34s\tremaining: 557ms\n",
      "808:\tlearn: 0.2224407\ttotal: 2.35s\tremaining: 554ms\n",
      "809:\tlearn: 0.2223815\ttotal: 2.35s\tremaining: 551ms\n",
      "810:\tlearn: 0.2221158\ttotal: 2.35s\tremaining: 548ms\n",
      "811:\tlearn: 0.2218880\ttotal: 2.35s\tremaining: 545ms\n",
      "812:\tlearn: 0.2217191\ttotal: 2.36s\tremaining: 542ms\n",
      "813:\tlearn: 0.2216216\ttotal: 2.36s\tremaining: 539ms\n",
      "814:\tlearn: 0.2214471\ttotal: 2.36s\tremaining: 536ms\n",
      "815:\tlearn: 0.2212460\ttotal: 2.36s\tremaining: 533ms\n",
      "816:\tlearn: 0.2210716\ttotal: 2.36s\tremaining: 530ms\n",
      "817:\tlearn: 0.2207700\ttotal: 2.37s\tremaining: 527ms\n",
      "818:\tlearn: 0.2206518\ttotal: 2.37s\tremaining: 523ms\n",
      "819:\tlearn: 0.2205547\ttotal: 2.37s\tremaining: 520ms\n",
      "820:\tlearn: 0.2202621\ttotal: 2.37s\tremaining: 517ms\n",
      "821:\tlearn: 0.2200709\ttotal: 2.37s\tremaining: 514ms\n",
      "822:\tlearn: 0.2199827\ttotal: 2.38s\tremaining: 511ms\n",
      "823:\tlearn: 0.2198117\ttotal: 2.38s\tremaining: 508ms\n",
      "824:\tlearn: 0.2196338\ttotal: 2.38s\tremaining: 505ms\n",
      "825:\tlearn: 0.2193833\ttotal: 2.38s\tremaining: 502ms\n",
      "826:\tlearn: 0.2191040\ttotal: 2.39s\tremaining: 499ms\n",
      "827:\tlearn: 0.2188188\ttotal: 2.39s\tremaining: 496ms\n",
      "828:\tlearn: 0.2186232\ttotal: 2.39s\tremaining: 493ms\n",
      "829:\tlearn: 0.2184637\ttotal: 2.39s\tremaining: 490ms\n",
      "830:\tlearn: 0.2183447\ttotal: 2.4s\tremaining: 488ms\n",
      "831:\tlearn: 0.2181185\ttotal: 2.4s\tremaining: 485ms\n",
      "832:\tlearn: 0.2179230\ttotal: 2.4s\tremaining: 482ms\n",
      "833:\tlearn: 0.2177289\ttotal: 2.4s\tremaining: 479ms\n",
      "834:\tlearn: 0.2174576\ttotal: 2.41s\tremaining: 476ms\n",
      "835:\tlearn: 0.2173258\ttotal: 2.41s\tremaining: 473ms\n",
      "836:\tlearn: 0.2171739\ttotal: 2.41s\tremaining: 470ms\n",
      "837:\tlearn: 0.2169270\ttotal: 2.42s\tremaining: 467ms\n",
      "838:\tlearn: 0.2166864\ttotal: 2.42s\tremaining: 464ms\n",
      "839:\tlearn: 0.2164157\ttotal: 2.42s\tremaining: 461ms\n",
      "840:\tlearn: 0.2163378\ttotal: 2.42s\tremaining: 458ms\n",
      "841:\tlearn: 0.2162199\ttotal: 2.42s\tremaining: 455ms\n",
      "842:\tlearn: 0.2158899\ttotal: 2.43s\tremaining: 452ms\n",
      "843:\tlearn: 0.2158699\ttotal: 2.43s\tremaining: 449ms\n",
      "844:\tlearn: 0.2157586\ttotal: 2.43s\tremaining: 446ms\n",
      "845:\tlearn: 0.2155410\ttotal: 2.44s\tremaining: 443ms\n",
      "846:\tlearn: 0.2153727\ttotal: 2.44s\tremaining: 440ms\n",
      "847:\tlearn: 0.2151920\ttotal: 2.44s\tremaining: 438ms\n",
      "848:\tlearn: 0.2148853\ttotal: 2.44s\tremaining: 435ms\n",
      "849:\tlearn: 0.2148101\ttotal: 2.45s\tremaining: 432ms\n",
      "850:\tlearn: 0.2146415\ttotal: 2.45s\tremaining: 429ms\n",
      "851:\tlearn: 0.2144046\ttotal: 2.45s\tremaining: 426ms\n",
      "852:\tlearn: 0.2143299\ttotal: 2.46s\tremaining: 423ms\n",
      "853:\tlearn: 0.2141792\ttotal: 2.46s\tremaining: 420ms\n",
      "854:\tlearn: 0.2141206\ttotal: 2.46s\tremaining: 417ms\n",
      "855:\tlearn: 0.2139337\ttotal: 2.46s\tremaining: 414ms\n",
      "856:\tlearn: 0.2136557\ttotal: 2.46s\tremaining: 411ms\n",
      "857:\tlearn: 0.2134691\ttotal: 2.47s\tremaining: 409ms\n",
      "858:\tlearn: 0.2132437\ttotal: 2.47s\tremaining: 406ms\n",
      "859:\tlearn: 0.2130466\ttotal: 2.47s\tremaining: 403ms\n",
      "860:\tlearn: 0.2129277\ttotal: 2.48s\tremaining: 400ms\n",
      "861:\tlearn: 0.2125050\ttotal: 2.48s\tremaining: 397ms\n",
      "862:\tlearn: 0.2122203\ttotal: 2.48s\tremaining: 394ms\n",
      "863:\tlearn: 0.2121312\ttotal: 2.49s\tremaining: 391ms\n",
      "864:\tlearn: 0.2120307\ttotal: 2.49s\tremaining: 388ms\n",
      "865:\tlearn: 0.2118465\ttotal: 2.49s\tremaining: 386ms\n",
      "866:\tlearn: 0.2117302\ttotal: 2.49s\tremaining: 383ms\n",
      "867:\tlearn: 0.2114227\ttotal: 2.5s\tremaining: 379ms\n",
      "868:\tlearn: 0.2113260\ttotal: 2.5s\tremaining: 377ms\n",
      "869:\tlearn: 0.2111942\ttotal: 2.5s\tremaining: 374ms\n",
      "870:\tlearn: 0.2110035\ttotal: 2.5s\tremaining: 371ms\n",
      "871:\tlearn: 0.2107816\ttotal: 2.51s\tremaining: 368ms\n",
      "872:\tlearn: 0.2104724\ttotal: 2.51s\tremaining: 365ms\n",
      "873:\tlearn: 0.2102684\ttotal: 2.52s\tremaining: 363ms\n",
      "874:\tlearn: 0.2101032\ttotal: 2.52s\tremaining: 360ms\n",
      "875:\tlearn: 0.2099989\ttotal: 2.52s\tremaining: 357ms\n",
      "876:\tlearn: 0.2099035\ttotal: 2.52s\tremaining: 354ms\n",
      "877:\tlearn: 0.2097173\ttotal: 2.53s\tremaining: 352ms\n",
      "878:\tlearn: 0.2095486\ttotal: 2.53s\tremaining: 349ms\n",
      "879:\tlearn: 0.2093830\ttotal: 2.54s\tremaining: 346ms\n",
      "880:\tlearn: 0.2092829\ttotal: 2.54s\tremaining: 343ms\n",
      "881:\tlearn: 0.2089713\ttotal: 2.54s\tremaining: 340ms\n",
      "882:\tlearn: 0.2087959\ttotal: 2.54s\tremaining: 337ms\n",
      "883:\tlearn: 0.2087119\ttotal: 2.55s\tremaining: 334ms\n",
      "884:\tlearn: 0.2086137\ttotal: 2.55s\tremaining: 331ms\n",
      "885:\tlearn: 0.2084851\ttotal: 2.55s\tremaining: 329ms\n",
      "886:\tlearn: 0.2082519\ttotal: 2.56s\tremaining: 326ms\n",
      "887:\tlearn: 0.2082281\ttotal: 2.56s\tremaining: 323ms\n",
      "888:\tlearn: 0.2080446\ttotal: 2.56s\tremaining: 320ms\n",
      "889:\tlearn: 0.2079331\ttotal: 2.56s\tremaining: 317ms\n",
      "890:\tlearn: 0.2076840\ttotal: 2.57s\tremaining: 314ms\n",
      "891:\tlearn: 0.2074361\ttotal: 2.57s\tremaining: 311ms\n",
      "892:\tlearn: 0.2072691\ttotal: 2.57s\tremaining: 308ms\n",
      "893:\tlearn: 0.2071863\ttotal: 2.58s\tremaining: 306ms\n",
      "894:\tlearn: 0.2070482\ttotal: 2.58s\tremaining: 303ms\n",
      "895:\tlearn: 0.2068719\ttotal: 2.58s\tremaining: 300ms\n",
      "896:\tlearn: 0.2068010\ttotal: 2.58s\tremaining: 297ms\n",
      "897:\tlearn: 0.2066289\ttotal: 2.59s\tremaining: 294ms\n",
      "898:\tlearn: 0.2065124\ttotal: 2.59s\tremaining: 291ms\n",
      "899:\tlearn: 0.2063746\ttotal: 2.59s\tremaining: 288ms\n",
      "900:\tlearn: 0.2060329\ttotal: 2.6s\tremaining: 285ms\n",
      "901:\tlearn: 0.2059134\ttotal: 2.6s\tremaining: 282ms\n",
      "902:\tlearn: 0.2056670\ttotal: 2.6s\tremaining: 280ms\n",
      "903:\tlearn: 0.2055800\ttotal: 2.61s\tremaining: 277ms\n",
      "904:\tlearn: 0.2054935\ttotal: 2.61s\tremaining: 274ms\n",
      "905:\tlearn: 0.2054216\ttotal: 2.61s\tremaining: 271ms\n",
      "906:\tlearn: 0.2053141\ttotal: 2.62s\tremaining: 268ms\n",
      "907:\tlearn: 0.2051578\ttotal: 2.62s\tremaining: 266ms\n",
      "908:\tlearn: 0.2051277\ttotal: 2.62s\tremaining: 263ms\n",
      "909:\tlearn: 0.2049773\ttotal: 2.63s\tremaining: 260ms\n",
      "910:\tlearn: 0.2049041\ttotal: 2.63s\tremaining: 257ms\n",
      "911:\tlearn: 0.2048033\ttotal: 2.63s\tremaining: 254ms\n",
      "912:\tlearn: 0.2046646\ttotal: 2.63s\tremaining: 251ms\n",
      "913:\tlearn: 0.2045087\ttotal: 2.64s\tremaining: 248ms\n",
      "914:\tlearn: 0.2043556\ttotal: 2.64s\tremaining: 246ms\n",
      "915:\tlearn: 0.2042029\ttotal: 2.65s\tremaining: 243ms\n",
      "916:\tlearn: 0.2041374\ttotal: 2.65s\tremaining: 240ms\n",
      "917:\tlearn: 0.2039668\ttotal: 2.65s\tremaining: 237ms\n",
      "918:\tlearn: 0.2038225\ttotal: 2.66s\tremaining: 235ms\n",
      "919:\tlearn: 0.2037351\ttotal: 2.67s\tremaining: 232ms\n",
      "920:\tlearn: 0.2035562\ttotal: 2.68s\tremaining: 230ms\n",
      "921:\tlearn: 0.2033158\ttotal: 2.68s\tremaining: 227ms\n",
      "922:\tlearn: 0.2031272\ttotal: 2.68s\tremaining: 224ms\n",
      "923:\tlearn: 0.2028653\ttotal: 2.69s\tremaining: 221ms\n",
      "924:\tlearn: 0.2027730\ttotal: 2.69s\tremaining: 218ms\n",
      "925:\tlearn: 0.2025642\ttotal: 2.7s\tremaining: 216ms\n",
      "926:\tlearn: 0.2025182\ttotal: 2.7s\tremaining: 213ms\n",
      "927:\tlearn: 0.2023242\ttotal: 2.71s\tremaining: 210ms\n",
      "928:\tlearn: 0.2021505\ttotal: 2.71s\tremaining: 207ms\n",
      "929:\tlearn: 0.2019405\ttotal: 2.71s\tremaining: 204ms\n",
      "930:\tlearn: 0.2018581\ttotal: 2.71s\tremaining: 201ms\n",
      "931:\tlearn: 0.2015040\ttotal: 2.72s\tremaining: 198ms\n",
      "932:\tlearn: 0.2012963\ttotal: 2.73s\tremaining: 196ms\n",
      "933:\tlearn: 0.2011157\ttotal: 2.73s\tremaining: 193ms\n",
      "934:\tlearn: 0.2010048\ttotal: 2.73s\tremaining: 190ms\n",
      "935:\tlearn: 0.2008797\ttotal: 2.73s\tremaining: 187ms\n",
      "936:\tlearn: 0.2006119\ttotal: 2.74s\tremaining: 184ms\n",
      "937:\tlearn: 0.2003997\ttotal: 2.74s\tremaining: 181ms\n",
      "938:\tlearn: 0.2002994\ttotal: 2.75s\tremaining: 179ms\n",
      "939:\tlearn: 0.2001781\ttotal: 2.75s\tremaining: 176ms\n",
      "940:\tlearn: 0.2001108\ttotal: 2.75s\tremaining: 173ms\n",
      "941:\tlearn: 0.1998029\ttotal: 2.76s\tremaining: 170ms\n",
      "942:\tlearn: 0.1996730\ttotal: 2.76s\tremaining: 167ms\n",
      "943:\tlearn: 0.1996001\ttotal: 2.77s\tremaining: 164ms\n",
      "944:\tlearn: 0.1995043\ttotal: 2.77s\tremaining: 161ms\n",
      "945:\tlearn: 0.1993791\ttotal: 2.77s\tremaining: 158ms\n",
      "946:\tlearn: 0.1993067\ttotal: 2.78s\tremaining: 155ms\n",
      "947:\tlearn: 0.1991825\ttotal: 2.78s\tremaining: 153ms\n",
      "948:\tlearn: 0.1991477\ttotal: 2.78s\tremaining: 150ms\n",
      "949:\tlearn: 0.1989893\ttotal: 2.79s\tremaining: 147ms\n",
      "950:\tlearn: 0.1989476\ttotal: 2.79s\tremaining: 144ms\n",
      "951:\tlearn: 0.1988571\ttotal: 2.79s\tremaining: 141ms\n",
      "952:\tlearn: 0.1987463\ttotal: 2.8s\tremaining: 138ms\n",
      "953:\tlearn: 0.1985914\ttotal: 2.8s\tremaining: 135ms\n",
      "954:\tlearn: 0.1984601\ttotal: 2.8s\tremaining: 132ms\n",
      "955:\tlearn: 0.1983558\ttotal: 2.81s\tremaining: 129ms\n",
      "956:\tlearn: 0.1981887\ttotal: 2.81s\tremaining: 126ms\n",
      "957:\tlearn: 0.1979755\ttotal: 2.81s\tremaining: 123ms\n",
      "958:\tlearn: 0.1978122\ttotal: 2.81s\tremaining: 120ms\n",
      "959:\tlearn: 0.1976791\ttotal: 2.82s\tremaining: 118ms\n",
      "960:\tlearn: 0.1976331\ttotal: 2.83s\tremaining: 115ms\n",
      "961:\tlearn: 0.1974878\ttotal: 2.83s\tremaining: 112ms\n",
      "962:\tlearn: 0.1973825\ttotal: 2.83s\tremaining: 109ms\n",
      "963:\tlearn: 0.1973230\ttotal: 2.84s\tremaining: 106ms\n",
      "964:\tlearn: 0.1970565\ttotal: 2.84s\tremaining: 103ms\n",
      "965:\tlearn: 0.1969765\ttotal: 2.84s\tremaining: 100ms\n",
      "966:\tlearn: 0.1967186\ttotal: 2.84s\tremaining: 97.1ms\n",
      "967:\tlearn: 0.1965649\ttotal: 2.85s\tremaining: 94.3ms\n",
      "968:\tlearn: 0.1964461\ttotal: 2.85s\tremaining: 91.3ms\n",
      "969:\tlearn: 0.1962676\ttotal: 2.86s\tremaining: 88.3ms\n",
      "970:\tlearn: 0.1961347\ttotal: 2.86s\tremaining: 85.4ms\n",
      "971:\tlearn: 0.1960023\ttotal: 2.86s\tremaining: 82.4ms\n",
      "972:\tlearn: 0.1958286\ttotal: 2.86s\tremaining: 79.5ms\n",
      "973:\tlearn: 0.1956880\ttotal: 2.87s\tremaining: 76.6ms\n",
      "974:\tlearn: 0.1955273\ttotal: 2.87s\tremaining: 73.6ms\n",
      "975:\tlearn: 0.1954718\ttotal: 2.87s\tremaining: 70.6ms\n",
      "976:\tlearn: 0.1954058\ttotal: 2.87s\tremaining: 67.7ms\n",
      "977:\tlearn: 0.1953148\ttotal: 2.88s\tremaining: 64.7ms\n",
      "978:\tlearn: 0.1951338\ttotal: 2.88s\tremaining: 61.8ms\n",
      "979:\tlearn: 0.1950429\ttotal: 2.88s\tremaining: 58.8ms\n",
      "980:\tlearn: 0.1950004\ttotal: 2.88s\tremaining: 55.9ms\n",
      "981:\tlearn: 0.1948226\ttotal: 2.89s\tremaining: 52.9ms\n",
      "982:\tlearn: 0.1946439\ttotal: 2.89s\tremaining: 50ms\n",
      "983:\tlearn: 0.1945826\ttotal: 2.9s\tremaining: 47.1ms\n",
      "984:\tlearn: 0.1944658\ttotal: 2.9s\tremaining: 44.2ms\n",
      "985:\tlearn: 0.1943315\ttotal: 2.9s\tremaining: 41.2ms\n",
      "986:\tlearn: 0.1941699\ttotal: 2.9s\tremaining: 38.3ms\n",
      "987:\tlearn: 0.1939214\ttotal: 2.91s\tremaining: 35.3ms\n",
      "988:\tlearn: 0.1937600\ttotal: 2.91s\tremaining: 32.4ms\n",
      "989:\tlearn: 0.1936543\ttotal: 2.92s\tremaining: 29.4ms\n",
      "990:\tlearn: 0.1935242\ttotal: 2.92s\tremaining: 26.5ms\n",
      "991:\tlearn: 0.1933722\ttotal: 2.92s\tremaining: 23.5ms\n",
      "992:\tlearn: 0.1932137\ttotal: 2.93s\tremaining: 20.6ms\n",
      "993:\tlearn: 0.1931190\ttotal: 2.93s\tremaining: 17.7ms\n",
      "994:\tlearn: 0.1930025\ttotal: 2.93s\tremaining: 14.7ms\n",
      "995:\tlearn: 0.1929036\ttotal: 2.93s\tremaining: 11.8ms\n",
      "996:\tlearn: 0.1927199\ttotal: 2.94s\tremaining: 8.84ms\n",
      "997:\tlearn: 0.1927060\ttotal: 2.94s\tremaining: 5.89ms\n",
      "998:\tlearn: 0.1926449\ttotal: 2.94s\tremaining: 2.94ms\n",
      "999:\tlearn: 0.1925922\ttotal: 2.94s\tremaining: 0us\n"
     ]
    }
   ],
   "source": [
    "cat_model = CatBoostClassifier().fit(X_train, y_train)"
   ]
  },
  {
   "cell_type": "code",
   "execution_count": 21,
   "id": "88f80f97-33c8-4431-8383-e57e43dd4832",
   "metadata": {},
   "outputs": [
    {
     "data": {
      "text/plain": [
       "0.7402597402597403"
      ]
     },
     "execution_count": 21,
     "metadata": {},
     "output_type": "execute_result"
    }
   ],
   "source": [
    "y_pred = cat_model.predict(X_test)\n",
    "accuracy_score(y_test, y_pred)"
   ]
  },
  {
   "cell_type": "markdown",
   "id": "cadfb0f7-67fd-4577-ace4-c1bb0bf650e0",
   "metadata": {},
   "source": [
    "### Model Tuning"
   ]
  },
  {
   "cell_type": "code",
   "execution_count": 22,
   "id": "6b357c50-797a-4553-b848-ba55652c1852",
   "metadata": {},
   "outputs": [],
   "source": [
    "catb_params = {\n",
    "    'iterations': [200,500],\n",
    "    'learning_rate': [0.01,0.05,0.1],\n",
    "    'depth': [3,5,8]\n",
    "}"
   ]
  },
  {
   "cell_type": "code",
   "execution_count": 23,
   "id": "cc72693b-9eb6-4148-b0f7-17ad87b10507",
   "metadata": {
    "collapsed": true,
    "jupyter": {
     "outputs_hidden": true
    },
    "tags": []
   },
   "outputs": [
    {
     "name": "stdout",
     "output_type": "stream",
     "text": [
      "Fitting 10 folds for each of 18 candidates, totalling 180 fits\n",
      "0:\tlearn: 0.6863312\ttotal: 5.15ms\tremaining: 1.02s\n",
      "1:\tlearn: 0.6811157\ttotal: 9.2ms\tremaining: 910ms\n",
      "2:\tlearn: 0.6752970\ttotal: 13.3ms\tremaining: 872ms\n",
      "3:\tlearn: 0.6697432\ttotal: 17.2ms\tremaining: 845ms\n",
      "4:\tlearn: 0.6641758\ttotal: 21.9ms\tremaining: 854ms\n",
      "5:\tlearn: 0.6576656\ttotal: 26ms\tremaining: 841ms\n",
      "6:\tlearn: 0.6521870\ttotal: 30.1ms\tremaining: 830ms\n",
      "7:\tlearn: 0.6465564\ttotal: 34.4ms\tremaining: 826ms\n",
      "8:\tlearn: 0.6407595\ttotal: 38.6ms\tremaining: 819ms\n",
      "9:\tlearn: 0.6357725\ttotal: 42.9ms\tremaining: 815ms\n",
      "10:\tlearn: 0.6299942\ttotal: 47.2ms\tremaining: 811ms\n",
      "11:\tlearn: 0.6240480\ttotal: 51.5ms\tremaining: 807ms\n",
      "12:\tlearn: 0.6196095\ttotal: 55.6ms\tremaining: 800ms\n",
      "13:\tlearn: 0.6148715\ttotal: 59.5ms\tremaining: 791ms\n",
      "14:\tlearn: 0.6092626\ttotal: 63.7ms\tremaining: 786ms\n",
      "15:\tlearn: 0.6046764\ttotal: 67.9ms\tremaining: 780ms\n",
      "16:\tlearn: 0.6012725\ttotal: 71.7ms\tremaining: 772ms\n",
      "17:\tlearn: 0.5958121\ttotal: 75.7ms\tremaining: 766ms\n",
      "18:\tlearn: 0.5903243\ttotal: 79.7ms\tremaining: 759ms\n",
      "19:\tlearn: 0.5866024\ttotal: 83.9ms\tremaining: 755ms\n",
      "20:\tlearn: 0.5831390\ttotal: 88.1ms\tremaining: 751ms\n",
      "21:\tlearn: 0.5787381\ttotal: 92.2ms\tremaining: 746ms\n",
      "22:\tlearn: 0.5749016\ttotal: 96.1ms\tremaining: 740ms\n",
      "23:\tlearn: 0.5703199\ttotal: 102ms\tremaining: 748ms\n",
      "24:\tlearn: 0.5662368\ttotal: 108ms\tremaining: 754ms\n",
      "25:\tlearn: 0.5628682\ttotal: 112ms\tremaining: 753ms\n",
      "26:\tlearn: 0.5589082\ttotal: 118ms\tremaining: 757ms\n",
      "27:\tlearn: 0.5543910\ttotal: 123ms\tremaining: 756ms\n",
      "28:\tlearn: 0.5503864\ttotal: 128ms\tremaining: 753ms\n",
      "29:\tlearn: 0.5470574\ttotal: 133ms\tremaining: 753ms\n",
      "30:\tlearn: 0.5441267\ttotal: 137ms\tremaining: 748ms\n",
      "31:\tlearn: 0.5396280\ttotal: 142ms\tremaining: 745ms\n",
      "32:\tlearn: 0.5356242\ttotal: 148ms\tremaining: 748ms\n",
      "33:\tlearn: 0.5315397\ttotal: 152ms\tremaining: 742ms\n",
      "34:\tlearn: 0.5279847\ttotal: 156ms\tremaining: 736ms\n",
      "35:\tlearn: 0.5248380\ttotal: 160ms\tremaining: 729ms\n",
      "36:\tlearn: 0.5223885\ttotal: 165ms\tremaining: 725ms\n",
      "37:\tlearn: 0.5198269\ttotal: 169ms\tremaining: 720ms\n",
      "38:\tlearn: 0.5167431\ttotal: 173ms\tremaining: 714ms\n",
      "39:\tlearn: 0.5138833\ttotal: 179ms\tremaining: 716ms\n",
      "40:\tlearn: 0.5101494\ttotal: 184ms\tremaining: 713ms\n",
      "41:\tlearn: 0.5066102\ttotal: 189ms\tremaining: 710ms\n",
      "42:\tlearn: 0.5033714\ttotal: 193ms\tremaining: 706ms\n",
      "43:\tlearn: 0.5005898\ttotal: 198ms\tremaining: 702ms\n",
      "44:\tlearn: 0.4980703\ttotal: 205ms\tremaining: 707ms\n",
      "45:\tlearn: 0.4959251\ttotal: 210ms\tremaining: 705ms\n",
      "46:\tlearn: 0.4933987\ttotal: 215ms\tremaining: 699ms\n",
      "47:\tlearn: 0.4906194\ttotal: 219ms\tremaining: 692ms\n",
      "48:\tlearn: 0.4878359\ttotal: 223ms\tremaining: 686ms\n",
      "49:\tlearn: 0.4850755\ttotal: 227ms\tremaining: 682ms\n",
      "50:\tlearn: 0.4825927\ttotal: 232ms\tremaining: 676ms\n",
      "51:\tlearn: 0.4798298\ttotal: 235ms\tremaining: 670ms\n",
      "52:\tlearn: 0.4776108\ttotal: 240ms\tremaining: 665ms\n",
      "53:\tlearn: 0.4754405\ttotal: 244ms\tremaining: 658ms\n",
      "54:\tlearn: 0.4733501\ttotal: 248ms\tremaining: 653ms\n",
      "55:\tlearn: 0.4706076\ttotal: 252ms\tremaining: 647ms\n",
      "56:\tlearn: 0.4677355\ttotal: 256ms\tremaining: 642ms\n",
      "57:\tlearn: 0.4656740\ttotal: 260ms\tremaining: 636ms\n",
      "58:\tlearn: 0.4637413\ttotal: 264ms\tremaining: 631ms\n",
      "59:\tlearn: 0.4615248\ttotal: 268ms\tremaining: 625ms\n",
      "60:\tlearn: 0.4599759\ttotal: 272ms\tremaining: 620ms\n",
      "61:\tlearn: 0.4583985\ttotal: 273ms\tremaining: 608ms\n",
      "62:\tlearn: 0.4567064\ttotal: 277ms\tremaining: 603ms\n",
      "63:\tlearn: 0.4540942\ttotal: 281ms\tremaining: 597ms\n",
      "64:\tlearn: 0.4529822\ttotal: 282ms\tremaining: 586ms\n",
      "65:\tlearn: 0.4512090\ttotal: 286ms\tremaining: 581ms\n",
      "66:\tlearn: 0.4486739\ttotal: 290ms\tremaining: 576ms\n",
      "67:\tlearn: 0.4467865\ttotal: 294ms\tremaining: 571ms\n",
      "68:\tlearn: 0.4449614\ttotal: 298ms\tremaining: 566ms\n",
      "69:\tlearn: 0.4426120\ttotal: 303ms\tremaining: 563ms\n",
      "70:\tlearn: 0.4401612\ttotal: 308ms\tremaining: 559ms\n",
      "71:\tlearn: 0.4380696\ttotal: 312ms\tremaining: 554ms\n",
      "72:\tlearn: 0.4367153\ttotal: 316ms\tremaining: 550ms\n",
      "73:\tlearn: 0.4353223\ttotal: 320ms\tremaining: 545ms\n",
      "74:\tlearn: 0.4339943\ttotal: 324ms\tremaining: 540ms\n",
      "75:\tlearn: 0.4315641\ttotal: 328ms\tremaining: 536ms\n",
      "76:\tlearn: 0.4298680\ttotal: 332ms\tremaining: 531ms\n",
      "77:\tlearn: 0.4285275\ttotal: 336ms\tremaining: 526ms\n",
      "78:\tlearn: 0.4265791\ttotal: 341ms\tremaining: 522ms\n",
      "79:\tlearn: 0.4244024\ttotal: 345ms\tremaining: 517ms\n",
      "80:\tlearn: 0.4228361\ttotal: 349ms\tremaining: 512ms\n",
      "81:\tlearn: 0.4214212\ttotal: 356ms\tremaining: 513ms\n",
      "82:\tlearn: 0.4200602\ttotal: 362ms\tremaining: 511ms\n",
      "83:\tlearn: 0.4184320\ttotal: 367ms\tremaining: 507ms\n",
      "84:\tlearn: 0.4167986\ttotal: 372ms\tremaining: 503ms\n",
      "85:\tlearn: 0.4156404\ttotal: 377ms\tremaining: 499ms\n",
      "86:\tlearn: 0.4140656\ttotal: 382ms\tremaining: 497ms\n",
      "87:\tlearn: 0.4124223\ttotal: 387ms\tremaining: 493ms\n",
      "88:\tlearn: 0.4107329\ttotal: 391ms\tremaining: 488ms\n",
      "89:\tlearn: 0.4090922\ttotal: 395ms\tremaining: 483ms\n",
      "90:\tlearn: 0.4075416\ttotal: 400ms\tremaining: 480ms\n",
      "91:\tlearn: 0.4062399\ttotal: 404ms\tremaining: 475ms\n",
      "92:\tlearn: 0.4044658\ttotal: 408ms\tremaining: 470ms\n",
      "93:\tlearn: 0.4030179\ttotal: 413ms\tremaining: 465ms\n",
      "94:\tlearn: 0.4012034\ttotal: 417ms\tremaining: 460ms\n",
      "95:\tlearn: 0.3994677\ttotal: 421ms\tremaining: 456ms\n",
      "96:\tlearn: 0.3983236\ttotal: 425ms\tremaining: 451ms\n",
      "97:\tlearn: 0.3969830\ttotal: 429ms\tremaining: 447ms\n",
      "98:\tlearn: 0.3955620\ttotal: 433ms\tremaining: 442ms\n",
      "99:\tlearn: 0.3946122\ttotal: 437ms\tremaining: 437ms\n",
      "100:\tlearn: 0.3932345\ttotal: 441ms\tremaining: 433ms\n",
      "101:\tlearn: 0.3920746\ttotal: 445ms\tremaining: 428ms\n",
      "102:\tlearn: 0.3911707\ttotal: 450ms\tremaining: 424ms\n",
      "103:\tlearn: 0.3895752\ttotal: 454ms\tremaining: 419ms\n",
      "104:\tlearn: 0.3880976\ttotal: 458ms\tremaining: 414ms\n",
      "105:\tlearn: 0.3867508\ttotal: 462ms\tremaining: 409ms\n",
      "106:\tlearn: 0.3855281\ttotal: 466ms\tremaining: 405ms\n",
      "107:\tlearn: 0.3841015\ttotal: 470ms\tremaining: 400ms\n",
      "108:\tlearn: 0.3829276\ttotal: 474ms\tremaining: 396ms\n",
      "109:\tlearn: 0.3818795\ttotal: 478ms\tremaining: 391ms\n",
      "110:\tlearn: 0.3809667\ttotal: 482ms\tremaining: 386ms\n",
      "111:\tlearn: 0.3790017\ttotal: 486ms\tremaining: 382ms\n",
      "112:\tlearn: 0.3774333\ttotal: 490ms\tremaining: 377ms\n",
      "113:\tlearn: 0.3762372\ttotal: 494ms\tremaining: 373ms\n",
      "114:\tlearn: 0.3750418\ttotal: 498ms\tremaining: 368ms\n",
      "115:\tlearn: 0.3735203\ttotal: 502ms\tremaining: 364ms\n",
      "116:\tlearn: 0.3727671\ttotal: 506ms\tremaining: 359ms\n",
      "117:\tlearn: 0.3713847\ttotal: 510ms\tremaining: 354ms\n",
      "118:\tlearn: 0.3705588\ttotal: 514ms\tremaining: 350ms\n",
      "119:\tlearn: 0.3694386\ttotal: 518ms\tremaining: 346ms\n",
      "120:\tlearn: 0.3687438\ttotal: 522ms\tremaining: 341ms\n",
      "121:\tlearn: 0.3679429\ttotal: 526ms\tremaining: 337ms\n",
      "122:\tlearn: 0.3666192\ttotal: 532ms\tremaining: 333ms\n",
      "123:\tlearn: 0.3654787\ttotal: 536ms\tremaining: 329ms\n",
      "124:\tlearn: 0.3643185\ttotal: 541ms\tremaining: 325ms\n",
      "125:\tlearn: 0.3636195\ttotal: 547ms\tremaining: 321ms\n",
      "126:\tlearn: 0.3625184\ttotal: 552ms\tremaining: 317ms\n",
      "127:\tlearn: 0.3609778\ttotal: 557ms\tremaining: 313ms\n",
      "128:\tlearn: 0.3595979\ttotal: 562ms\tremaining: 309ms\n",
      "129:\tlearn: 0.3583702\ttotal: 568ms\tremaining: 306ms\n",
      "130:\tlearn: 0.3569225\ttotal: 573ms\tremaining: 302ms\n",
      "131:\tlearn: 0.3558535\ttotal: 577ms\tremaining: 297ms\n",
      "132:\tlearn: 0.3548312\ttotal: 581ms\tremaining: 293ms\n",
      "133:\tlearn: 0.3533459\ttotal: 586ms\tremaining: 289ms\n",
      "134:\tlearn: 0.3524239\ttotal: 590ms\tremaining: 284ms\n",
      "135:\tlearn: 0.3517958\ttotal: 594ms\tremaining: 280ms\n",
      "136:\tlearn: 0.3504984\ttotal: 599ms\tremaining: 276ms\n",
      "137:\tlearn: 0.3497339\ttotal: 604ms\tremaining: 271ms\n",
      "138:\tlearn: 0.3488643\ttotal: 608ms\tremaining: 267ms\n",
      "139:\tlearn: 0.3482265\ttotal: 613ms\tremaining: 263ms\n",
      "140:\tlearn: 0.3470774\ttotal: 619ms\tremaining: 259ms\n",
      "141:\tlearn: 0.3458237\ttotal: 625ms\tremaining: 255ms\n",
      "142:\tlearn: 0.3445470\ttotal: 629ms\tremaining: 251ms\n",
      "143:\tlearn: 0.3436377\ttotal: 633ms\tremaining: 246ms\n",
      "144:\tlearn: 0.3426585\ttotal: 637ms\tremaining: 242ms\n",
      "145:\tlearn: 0.3417233\ttotal: 642ms\tremaining: 237ms\n",
      "146:\tlearn: 0.3407541\ttotal: 646ms\tremaining: 233ms\n",
      "147:\tlearn: 0.3397798\ttotal: 650ms\tremaining: 228ms\n",
      "148:\tlearn: 0.3390128\ttotal: 654ms\tremaining: 224ms\n",
      "149:\tlearn: 0.3381272\ttotal: 659ms\tremaining: 220ms\n",
      "150:\tlearn: 0.3374740\ttotal: 663ms\tremaining: 215ms\n",
      "151:\tlearn: 0.3365500\ttotal: 667ms\tremaining: 211ms\n",
      "152:\tlearn: 0.3358489\ttotal: 671ms\tremaining: 206ms\n",
      "153:\tlearn: 0.3346096\ttotal: 675ms\tremaining: 202ms\n",
      "154:\tlearn: 0.3335622\ttotal: 679ms\tremaining: 197ms\n",
      "155:\tlearn: 0.3330435\ttotal: 684ms\tremaining: 193ms\n",
      "156:\tlearn: 0.3323843\ttotal: 688ms\tremaining: 188ms\n",
      "157:\tlearn: 0.3312172\ttotal: 692ms\tremaining: 184ms\n",
      "158:\tlearn: 0.3299437\ttotal: 695ms\tremaining: 179ms\n",
      "159:\tlearn: 0.3286515\ttotal: 700ms\tremaining: 175ms\n",
      "160:\tlearn: 0.3275885\ttotal: 704ms\tremaining: 170ms\n",
      "161:\tlearn: 0.3266739\ttotal: 709ms\tremaining: 166ms\n",
      "162:\tlearn: 0.3258986\ttotal: 714ms\tremaining: 162ms\n",
      "163:\tlearn: 0.3249133\ttotal: 718ms\tremaining: 158ms\n",
      "164:\tlearn: 0.3241480\ttotal: 724ms\tremaining: 153ms\n",
      "165:\tlearn: 0.3237404\ttotal: 728ms\tremaining: 149ms\n",
      "166:\tlearn: 0.3228217\ttotal: 733ms\tremaining: 145ms\n",
      "167:\tlearn: 0.3218088\ttotal: 738ms\tremaining: 140ms\n",
      "168:\tlearn: 0.3209179\ttotal: 743ms\tremaining: 136ms\n",
      "169:\tlearn: 0.3200101\ttotal: 747ms\tremaining: 132ms\n",
      "170:\tlearn: 0.3188984\ttotal: 751ms\tremaining: 127ms\n",
      "171:\tlearn: 0.3178642\ttotal: 755ms\tremaining: 123ms\n",
      "172:\tlearn: 0.3172455\ttotal: 760ms\tremaining: 119ms\n",
      "173:\tlearn: 0.3166261\ttotal: 765ms\tremaining: 114ms\n",
      "174:\tlearn: 0.3157320\ttotal: 769ms\tremaining: 110ms\n",
      "175:\tlearn: 0.3149761\ttotal: 773ms\tremaining: 105ms\n",
      "176:\tlearn: 0.3142430\ttotal: 778ms\tremaining: 101ms\n",
      "177:\tlearn: 0.3138263\ttotal: 782ms\tremaining: 96.6ms\n",
      "178:\tlearn: 0.3133229\ttotal: 786ms\tremaining: 92.2ms\n",
      "179:\tlearn: 0.3124656\ttotal: 790ms\tremaining: 87.8ms\n",
      "180:\tlearn: 0.3114844\ttotal: 794ms\tremaining: 83.4ms\n",
      "181:\tlearn: 0.3109799\ttotal: 798ms\tremaining: 79ms\n",
      "182:\tlearn: 0.3105137\ttotal: 802ms\tremaining: 74.5ms\n",
      "183:\tlearn: 0.3094123\ttotal: 807ms\tremaining: 70.1ms\n",
      "184:\tlearn: 0.3087045\ttotal: 811ms\tremaining: 65.7ms\n",
      "185:\tlearn: 0.3079423\ttotal: 815ms\tremaining: 61.3ms\n",
      "186:\tlearn: 0.3071831\ttotal: 819ms\tremaining: 56.9ms\n",
      "187:\tlearn: 0.3061123\ttotal: 823ms\tremaining: 52.5ms\n",
      "188:\tlearn: 0.3054302\ttotal: 828ms\tremaining: 48.2ms\n",
      "189:\tlearn: 0.3048047\ttotal: 832ms\tremaining: 43.8ms\n",
      "190:\tlearn: 0.3042241\ttotal: 836ms\tremaining: 39.4ms\n",
      "191:\tlearn: 0.3036602\ttotal: 840ms\tremaining: 35ms\n",
      "192:\tlearn: 0.3028507\ttotal: 844ms\tremaining: 30.6ms\n",
      "193:\tlearn: 0.3019733\ttotal: 848ms\tremaining: 26.2ms\n",
      "194:\tlearn: 0.3009586\ttotal: 852ms\tremaining: 21.9ms\n",
      "195:\tlearn: 0.3001835\ttotal: 856ms\tremaining: 17.5ms\n",
      "196:\tlearn: 0.2999266\ttotal: 859ms\tremaining: 13.1ms\n",
      "197:\tlearn: 0.2993811\ttotal: 863ms\tremaining: 8.71ms\n",
      "198:\tlearn: 0.2986293\ttotal: 867ms\tremaining: 4.36ms\n",
      "199:\tlearn: 0.2980044\ttotal: 871ms\tremaining: 0us\n"
     ]
    },
    {
     "data": {
      "text/plain": [
       "{'depth': 8, 'iterations': 200, 'learning_rate': 0.01}"
      ]
     },
     "execution_count": 23,
     "metadata": {},
     "output_type": "execute_result"
    }
   ],
   "source": [
    "catb = CatBoostClassifier()\n",
    "catb_cv_model = GridSearchCV(catb, catb_params, cv=10, n_jobs=-1, verbose=2)\n",
    "catb_cv_model.fit(X_train, y_train)\n",
    "catb_cv_model.best_params_"
   ]
  },
  {
   "cell_type": "code",
   "execution_count": 24,
   "id": "d7ed5845-0133-4944-b6c7-ec5b0032227b",
   "metadata": {},
   "outputs": [
    {
     "data": {
      "text/plain": [
       "{'depth': 8, 'iterations': 200, 'learning_rate': 0.01}"
      ]
     },
     "execution_count": 24,
     "metadata": {},
     "output_type": "execute_result"
    }
   ],
   "source": [
    "catb_cv_model.best_params_"
   ]
  },
  {
   "cell_type": "code",
   "execution_count": 25,
   "id": "94d05a3a-5d12-475d-8941-52515b63417c",
   "metadata": {
    "collapsed": true,
    "jupyter": {
     "outputs_hidden": true
    },
    "tags": []
   },
   "outputs": [
    {
     "name": "stdout",
     "output_type": "stream",
     "text": [
      "0:\tlearn: 0.6863312\ttotal: 6.65ms\tremaining: 1.32s\n",
      "1:\tlearn: 0.6811157\ttotal: 11.9ms\tremaining: 1.18s\n",
      "2:\tlearn: 0.6752970\ttotal: 20.5ms\tremaining: 1.35s\n",
      "3:\tlearn: 0.6697432\ttotal: 26.5ms\tremaining: 1.3s\n",
      "4:\tlearn: 0.6641758\ttotal: 32.3ms\tremaining: 1.26s\n",
      "5:\tlearn: 0.6576656\ttotal: 36.7ms\tremaining: 1.19s\n",
      "6:\tlearn: 0.6521870\ttotal: 40.9ms\tremaining: 1.13s\n",
      "7:\tlearn: 0.6465564\ttotal: 44.7ms\tremaining: 1.07s\n",
      "8:\tlearn: 0.6407595\ttotal: 49.4ms\tremaining: 1.05s\n",
      "9:\tlearn: 0.6357725\ttotal: 53.3ms\tremaining: 1.01s\n",
      "10:\tlearn: 0.6299942\ttotal: 57.3ms\tremaining: 984ms\n",
      "11:\tlearn: 0.6240480\ttotal: 61.3ms\tremaining: 961ms\n",
      "12:\tlearn: 0.6196095\ttotal: 66.2ms\tremaining: 952ms\n",
      "13:\tlearn: 0.6148715\ttotal: 70.3ms\tremaining: 934ms\n",
      "14:\tlearn: 0.6092626\ttotal: 74.1ms\tremaining: 914ms\n",
      "15:\tlearn: 0.6046764\ttotal: 78.7ms\tremaining: 905ms\n",
      "16:\tlearn: 0.6012725\ttotal: 82.7ms\tremaining: 891ms\n",
      "17:\tlearn: 0.5958121\ttotal: 86.6ms\tremaining: 876ms\n",
      "18:\tlearn: 0.5903243\ttotal: 90.7ms\tremaining: 864ms\n",
      "19:\tlearn: 0.5866024\ttotal: 94.9ms\tremaining: 854ms\n",
      "20:\tlearn: 0.5831390\ttotal: 99.4ms\tremaining: 848ms\n",
      "21:\tlearn: 0.5787381\ttotal: 104ms\tremaining: 841ms\n",
      "22:\tlearn: 0.5749016\ttotal: 108ms\tremaining: 831ms\n",
      "23:\tlearn: 0.5703199\ttotal: 112ms\tremaining: 824ms\n",
      "24:\tlearn: 0.5662368\ttotal: 117ms\tremaining: 816ms\n",
      "25:\tlearn: 0.5628682\ttotal: 121ms\tremaining: 810ms\n",
      "26:\tlearn: 0.5589082\ttotal: 126ms\tremaining: 810ms\n",
      "27:\tlearn: 0.5543910\ttotal: 131ms\tremaining: 807ms\n",
      "28:\tlearn: 0.5503864\ttotal: 139ms\tremaining: 822ms\n",
      "29:\tlearn: 0.5470574\ttotal: 145ms\tremaining: 820ms\n",
      "30:\tlearn: 0.5441267\ttotal: 150ms\tremaining: 816ms\n",
      "31:\tlearn: 0.5396280\ttotal: 154ms\tremaining: 809ms\n",
      "32:\tlearn: 0.5356242\ttotal: 159ms\tremaining: 804ms\n",
      "33:\tlearn: 0.5315397\ttotal: 163ms\tremaining: 795ms\n",
      "34:\tlearn: 0.5279847\ttotal: 167ms\tremaining: 787ms\n",
      "35:\tlearn: 0.5248380\ttotal: 171ms\tremaining: 779ms\n",
      "36:\tlearn: 0.5223885\ttotal: 178ms\tremaining: 782ms\n",
      "37:\tlearn: 0.5198269\ttotal: 185ms\tremaining: 788ms\n",
      "38:\tlearn: 0.5167431\ttotal: 192ms\tremaining: 792ms\n",
      "39:\tlearn: 0.5138833\ttotal: 198ms\tremaining: 793ms\n",
      "40:\tlearn: 0.5101494\ttotal: 203ms\tremaining: 787ms\n",
      "41:\tlearn: 0.5066102\ttotal: 208ms\tremaining: 784ms\n",
      "42:\tlearn: 0.5033714\ttotal: 213ms\tremaining: 779ms\n",
      "43:\tlearn: 0.5005898\ttotal: 219ms\tremaining: 775ms\n",
      "44:\tlearn: 0.4980703\ttotal: 225ms\tremaining: 774ms\n",
      "45:\tlearn: 0.4959251\ttotal: 229ms\tremaining: 766ms\n",
      "46:\tlearn: 0.4933987\ttotal: 233ms\tremaining: 759ms\n",
      "47:\tlearn: 0.4906194\ttotal: 239ms\tremaining: 755ms\n",
      "48:\tlearn: 0.4878359\ttotal: 243ms\tremaining: 748ms\n",
      "49:\tlearn: 0.4850755\ttotal: 247ms\tremaining: 740ms\n",
      "50:\tlearn: 0.4825927\ttotal: 251ms\tremaining: 733ms\n",
      "51:\tlearn: 0.4798298\ttotal: 255ms\tremaining: 727ms\n",
      "52:\tlearn: 0.4776108\ttotal: 260ms\tremaining: 722ms\n",
      "53:\tlearn: 0.4754405\ttotal: 265ms\tremaining: 715ms\n",
      "54:\tlearn: 0.4733501\ttotal: 269ms\tremaining: 710ms\n",
      "55:\tlearn: 0.4706076\ttotal: 274ms\tremaining: 703ms\n",
      "56:\tlearn: 0.4677355\ttotal: 278ms\tremaining: 696ms\n",
      "57:\tlearn: 0.4656740\ttotal: 282ms\tremaining: 690ms\n",
      "58:\tlearn: 0.4637413\ttotal: 286ms\tremaining: 685ms\n",
      "59:\tlearn: 0.4615248\ttotal: 290ms\tremaining: 678ms\n",
      "60:\tlearn: 0.4599759\ttotal: 294ms\tremaining: 671ms\n",
      "61:\tlearn: 0.4583985\ttotal: 296ms\tremaining: 658ms\n",
      "62:\tlearn: 0.4567064\ttotal: 300ms\tremaining: 652ms\n",
      "63:\tlearn: 0.4540942\ttotal: 304ms\tremaining: 646ms\n",
      "64:\tlearn: 0.4529822\ttotal: 305ms\tremaining: 634ms\n",
      "65:\tlearn: 0.4512090\ttotal: 309ms\tremaining: 628ms\n",
      "66:\tlearn: 0.4486739\ttotal: 313ms\tremaining: 621ms\n",
      "67:\tlearn: 0.4467865\ttotal: 318ms\tremaining: 617ms\n",
      "68:\tlearn: 0.4449614\ttotal: 322ms\tremaining: 611ms\n",
      "69:\tlearn: 0.4426120\ttotal: 326ms\tremaining: 606ms\n",
      "70:\tlearn: 0.4401612\ttotal: 331ms\tremaining: 601ms\n",
      "71:\tlearn: 0.4380696\ttotal: 336ms\tremaining: 597ms\n",
      "72:\tlearn: 0.4367153\ttotal: 341ms\tremaining: 592ms\n",
      "73:\tlearn: 0.4353223\ttotal: 345ms\tremaining: 588ms\n",
      "74:\tlearn: 0.4339943\ttotal: 351ms\tremaining: 584ms\n",
      "75:\tlearn: 0.4315641\ttotal: 357ms\tremaining: 583ms\n",
      "76:\tlearn: 0.4298680\ttotal: 362ms\tremaining: 578ms\n",
      "77:\tlearn: 0.4285275\ttotal: 368ms\tremaining: 575ms\n",
      "78:\tlearn: 0.4265791\ttotal: 374ms\tremaining: 572ms\n",
      "79:\tlearn: 0.4244024\ttotal: 380ms\tremaining: 570ms\n",
      "80:\tlearn: 0.4228361\ttotal: 389ms\tremaining: 571ms\n",
      "81:\tlearn: 0.4214212\ttotal: 394ms\tremaining: 567ms\n",
      "82:\tlearn: 0.4200602\ttotal: 399ms\tremaining: 562ms\n",
      "83:\tlearn: 0.4184320\ttotal: 403ms\tremaining: 556ms\n",
      "84:\tlearn: 0.4167986\ttotal: 407ms\tremaining: 551ms\n",
      "85:\tlearn: 0.4156404\ttotal: 412ms\tremaining: 547ms\n",
      "86:\tlearn: 0.4140656\ttotal: 416ms\tremaining: 541ms\n",
      "87:\tlearn: 0.4124223\ttotal: 421ms\tremaining: 535ms\n",
      "88:\tlearn: 0.4107329\ttotal: 425ms\tremaining: 530ms\n",
      "89:\tlearn: 0.4090922\ttotal: 431ms\tremaining: 526ms\n",
      "90:\tlearn: 0.4075416\ttotal: 436ms\tremaining: 522ms\n",
      "91:\tlearn: 0.4062399\ttotal: 441ms\tremaining: 517ms\n",
      "92:\tlearn: 0.4044658\ttotal: 445ms\tremaining: 512ms\n",
      "93:\tlearn: 0.4030179\ttotal: 449ms\tremaining: 506ms\n",
      "94:\tlearn: 0.4012034\ttotal: 453ms\tremaining: 501ms\n",
      "95:\tlearn: 0.3994677\ttotal: 458ms\tremaining: 497ms\n",
      "96:\tlearn: 0.3983236\ttotal: 462ms\tremaining: 491ms\n",
      "97:\tlearn: 0.3969830\ttotal: 466ms\tremaining: 485ms\n",
      "98:\tlearn: 0.3955620\ttotal: 470ms\tremaining: 480ms\n",
      "99:\tlearn: 0.3946122\ttotal: 475ms\tremaining: 475ms\n",
      "100:\tlearn: 0.3932345\ttotal: 479ms\tremaining: 470ms\n",
      "101:\tlearn: 0.3920746\ttotal: 483ms\tremaining: 464ms\n",
      "102:\tlearn: 0.3911707\ttotal: 487ms\tremaining: 459ms\n",
      "103:\tlearn: 0.3895752\ttotal: 491ms\tremaining: 453ms\n",
      "104:\tlearn: 0.3880976\ttotal: 496ms\tremaining: 449ms\n",
      "105:\tlearn: 0.3867508\ttotal: 501ms\tremaining: 445ms\n",
      "106:\tlearn: 0.3855281\ttotal: 507ms\tremaining: 441ms\n",
      "107:\tlearn: 0.3841015\ttotal: 511ms\tremaining: 435ms\n",
      "108:\tlearn: 0.3829276\ttotal: 515ms\tremaining: 430ms\n",
      "109:\tlearn: 0.3818795\ttotal: 519ms\tremaining: 425ms\n",
      "110:\tlearn: 0.3809667\ttotal: 523ms\tremaining: 420ms\n",
      "111:\tlearn: 0.3790017\ttotal: 527ms\tremaining: 414ms\n",
      "112:\tlearn: 0.3774333\ttotal: 533ms\tremaining: 411ms\n",
      "113:\tlearn: 0.3762372\ttotal: 539ms\tremaining: 406ms\n",
      "114:\tlearn: 0.3750418\ttotal: 544ms\tremaining: 402ms\n",
      "115:\tlearn: 0.3735203\ttotal: 549ms\tremaining: 397ms\n",
      "116:\tlearn: 0.3727671\ttotal: 554ms\tremaining: 393ms\n",
      "117:\tlearn: 0.3713847\ttotal: 559ms\tremaining: 388ms\n",
      "118:\tlearn: 0.3705588\ttotal: 563ms\tremaining: 383ms\n",
      "119:\tlearn: 0.3694386\ttotal: 571ms\tremaining: 381ms\n",
      "120:\tlearn: 0.3687438\ttotal: 575ms\tremaining: 376ms\n",
      "121:\tlearn: 0.3679429\ttotal: 579ms\tremaining: 370ms\n",
      "122:\tlearn: 0.3666192\ttotal: 584ms\tremaining: 366ms\n",
      "123:\tlearn: 0.3654787\ttotal: 589ms\tremaining: 361ms\n",
      "124:\tlearn: 0.3643185\ttotal: 593ms\tremaining: 356ms\n",
      "125:\tlearn: 0.3636195\ttotal: 597ms\tremaining: 351ms\n",
      "126:\tlearn: 0.3625184\ttotal: 602ms\tremaining: 346ms\n",
      "127:\tlearn: 0.3609778\ttotal: 606ms\tremaining: 341ms\n",
      "128:\tlearn: 0.3595979\ttotal: 611ms\tremaining: 336ms\n",
      "129:\tlearn: 0.3583702\ttotal: 616ms\tremaining: 332ms\n",
      "130:\tlearn: 0.3569225\ttotal: 620ms\tremaining: 327ms\n",
      "131:\tlearn: 0.3558535\ttotal: 624ms\tremaining: 321ms\n",
      "132:\tlearn: 0.3548312\ttotal: 628ms\tremaining: 316ms\n",
      "133:\tlearn: 0.3533459\ttotal: 635ms\tremaining: 313ms\n",
      "134:\tlearn: 0.3524239\ttotal: 639ms\tremaining: 308ms\n",
      "135:\tlearn: 0.3517958\ttotal: 643ms\tremaining: 303ms\n",
      "136:\tlearn: 0.3504984\ttotal: 649ms\tremaining: 298ms\n",
      "137:\tlearn: 0.3497339\ttotal: 653ms\tremaining: 293ms\n",
      "138:\tlearn: 0.3488643\ttotal: 657ms\tremaining: 288ms\n",
      "139:\tlearn: 0.3482265\ttotal: 661ms\tremaining: 283ms\n",
      "140:\tlearn: 0.3470774\ttotal: 666ms\tremaining: 279ms\n",
      "141:\tlearn: 0.3458237\ttotal: 670ms\tremaining: 274ms\n",
      "142:\tlearn: 0.3445470\ttotal: 674ms\tremaining: 269ms\n",
      "143:\tlearn: 0.3436377\ttotal: 679ms\tremaining: 264ms\n",
      "144:\tlearn: 0.3426585\ttotal: 684ms\tremaining: 259ms\n",
      "145:\tlearn: 0.3417233\ttotal: 688ms\tremaining: 254ms\n",
      "146:\tlearn: 0.3407541\ttotal: 692ms\tremaining: 250ms\n",
      "147:\tlearn: 0.3397798\ttotal: 697ms\tremaining: 245ms\n",
      "148:\tlearn: 0.3390128\ttotal: 701ms\tremaining: 240ms\n",
      "149:\tlearn: 0.3381272\ttotal: 705ms\tremaining: 235ms\n",
      "150:\tlearn: 0.3374740\ttotal: 712ms\tremaining: 231ms\n",
      "151:\tlearn: 0.3365500\ttotal: 716ms\tremaining: 226ms\n",
      "152:\tlearn: 0.3358489\ttotal: 721ms\tremaining: 221ms\n",
      "153:\tlearn: 0.3346096\ttotal: 726ms\tremaining: 217ms\n",
      "154:\tlearn: 0.3335622\ttotal: 731ms\tremaining: 212ms\n",
      "155:\tlearn: 0.3330435\ttotal: 738ms\tremaining: 208ms\n",
      "156:\tlearn: 0.3323843\ttotal: 745ms\tremaining: 204ms\n",
      "157:\tlearn: 0.3312172\ttotal: 749ms\tremaining: 199ms\n",
      "158:\tlearn: 0.3299437\ttotal: 754ms\tremaining: 194ms\n",
      "159:\tlearn: 0.3286515\ttotal: 760ms\tremaining: 190ms\n",
      "160:\tlearn: 0.3275885\ttotal: 765ms\tremaining: 185ms\n",
      "161:\tlearn: 0.3266739\ttotal: 769ms\tremaining: 180ms\n",
      "162:\tlearn: 0.3258986\ttotal: 775ms\tremaining: 176ms\n",
      "163:\tlearn: 0.3249133\ttotal: 779ms\tremaining: 171ms\n",
      "164:\tlearn: 0.3241480\ttotal: 784ms\tremaining: 166ms\n",
      "165:\tlearn: 0.3237404\ttotal: 790ms\tremaining: 162ms\n",
      "166:\tlearn: 0.3228217\ttotal: 794ms\tremaining: 157ms\n",
      "167:\tlearn: 0.3218088\ttotal: 799ms\tremaining: 152ms\n",
      "168:\tlearn: 0.3209179\ttotal: 804ms\tremaining: 147ms\n",
      "169:\tlearn: 0.3200101\ttotal: 808ms\tremaining: 143ms\n",
      "170:\tlearn: 0.3188984\ttotal: 812ms\tremaining: 138ms\n",
      "171:\tlearn: 0.3178642\ttotal: 817ms\tremaining: 133ms\n",
      "172:\tlearn: 0.3172455\ttotal: 823ms\tremaining: 128ms\n",
      "173:\tlearn: 0.3166261\ttotal: 828ms\tremaining: 124ms\n",
      "174:\tlearn: 0.3157320\ttotal: 832ms\tremaining: 119ms\n",
      "175:\tlearn: 0.3149761\ttotal: 838ms\tremaining: 114ms\n",
      "176:\tlearn: 0.3142430\ttotal: 843ms\tremaining: 110ms\n",
      "177:\tlearn: 0.3138263\ttotal: 848ms\tremaining: 105ms\n",
      "178:\tlearn: 0.3133229\ttotal: 854ms\tremaining: 100ms\n",
      "179:\tlearn: 0.3124656\ttotal: 859ms\tremaining: 95.4ms\n",
      "180:\tlearn: 0.3114844\ttotal: 864ms\tremaining: 90.7ms\n",
      "181:\tlearn: 0.3109799\ttotal: 870ms\tremaining: 86.1ms\n",
      "182:\tlearn: 0.3105137\ttotal: 876ms\tremaining: 81.3ms\n",
      "183:\tlearn: 0.3094123\ttotal: 881ms\tremaining: 76.6ms\n",
      "184:\tlearn: 0.3087045\ttotal: 888ms\tremaining: 72ms\n",
      "185:\tlearn: 0.3079423\ttotal: 892ms\tremaining: 67.1ms\n",
      "186:\tlearn: 0.3071831\ttotal: 896ms\tremaining: 62.3ms\n",
      "187:\tlearn: 0.3061123\ttotal: 901ms\tremaining: 57.5ms\n",
      "188:\tlearn: 0.3054302\ttotal: 906ms\tremaining: 52.7ms\n",
      "189:\tlearn: 0.3048047\ttotal: 911ms\tremaining: 47.9ms\n",
      "190:\tlearn: 0.3042241\ttotal: 917ms\tremaining: 43.2ms\n",
      "191:\tlearn: 0.3036602\ttotal: 921ms\tremaining: 38.4ms\n",
      "192:\tlearn: 0.3028507\ttotal: 926ms\tremaining: 33.6ms\n",
      "193:\tlearn: 0.3019733\ttotal: 932ms\tremaining: 28.8ms\n",
      "194:\tlearn: 0.3009586\ttotal: 939ms\tremaining: 24.1ms\n",
      "195:\tlearn: 0.3001835\ttotal: 946ms\tremaining: 19.3ms\n",
      "196:\tlearn: 0.2999266\ttotal: 949ms\tremaining: 14.4ms\n",
      "197:\tlearn: 0.2993811\ttotal: 953ms\tremaining: 9.62ms\n",
      "198:\tlearn: 0.2986293\ttotal: 957ms\tremaining: 4.81ms\n",
      "199:\tlearn: 0.2980044\ttotal: 962ms\tremaining: 0us\n"
     ]
    }
   ],
   "source": [
    "catb = CatBoostClassifier(iterations = 200,\n",
    "                         learning_rate = 0.01,\n",
    "                         depth = 8)\n",
    "catb_tuned = catb.fit(X_train, y_train)\n",
    "y_pred = catb_tuned.predict(X_test)"
   ]
  },
  {
   "cell_type": "code",
   "execution_count": 26,
   "id": "f221eba0-d66e-4732-aa7c-bae9c0a94d0d",
   "metadata": {},
   "outputs": [
    {
     "data": {
      "text/plain": [
       "0.7532467532467533"
      ]
     },
     "execution_count": 26,
     "metadata": {},
     "output_type": "execute_result"
    }
   ],
   "source": [
    "y_pred = catb_tuned.predict(X_test)\n",
    "accuracy_score(y_test, y_pred)"
   ]
  },
  {
   "cell_type": "code",
   "execution_count": null,
   "id": "d845a16f-8a20-4029-8151-58dac5ce3f73",
   "metadata": {},
   "outputs": [],
   "source": []
  }
 ],
 "metadata": {
  "kernelspec": {
   "display_name": "Python 3",
   "language": "python",
   "name": "python3"
  },
  "language_info": {
   "codemirror_mode": {
    "name": "ipython",
    "version": 3
   },
   "file_extension": ".py",
   "mimetype": "text/x-python",
   "name": "python",
   "nbconvert_exporter": "python",
   "pygments_lexer": "ipython3",
   "version": "3.8.8"
  }
 },
 "nbformat": 4,
 "nbformat_minor": 5
}
